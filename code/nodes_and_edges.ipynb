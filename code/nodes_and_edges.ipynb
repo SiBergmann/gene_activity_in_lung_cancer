{
 "cells": [
  {
   "metadata": {
    "ExecuteTime": {
     "end_time": "2024-10-26T10:15:31.498598Z",
     "start_time": "2024-10-26T10:15:31.483530Z"
    }
   },
   "cell_type": "code",
   "source": [
    "import pandas as pd\n",
    "import dataframe_image as dfi"
   ],
   "id": "de17c831ebfe57de",
   "outputs": [],
   "execution_count": 25
  },
  {
   "metadata": {},
   "cell_type": "markdown",
   "source": "## Import data",
   "id": "46927e43fe43848a"
  },
  {
   "metadata": {
    "ExecuteTime": {
     "end_time": "2024-10-26T10:15:31.679106Z",
     "start_time": "2024-10-26T10:15:31.590367Z"
    }
   },
   "cell_type": "code",
   "source": "df_nodes_genes = pd.read_csv('../processed_data/nodes_genes.csv')",
   "id": "initial_id",
   "outputs": [],
   "execution_count": 26
  },
  {
   "metadata": {},
   "cell_type": "markdown",
   "source": [
    "# Edges: Protein-Gene Connection\n",
    "File from: https://www.ensembl.org/biomart/martview/\n",
    "\n",
    "Ensembl Genes 112 > Human Genes (GRCh38.p14)\n",
    "\n",
    "Columns: Gene stable ID, Protein stable ID"
   ],
   "id": "6c33380c3ec9d25c"
  },
  {
   "metadata": {
    "ExecuteTime": {
     "end_time": "2024-10-26T10:15:31.907496Z",
     "start_time": "2024-10-26T10:15:31.679106Z"
    }
   },
   "cell_type": "code",
   "source": [
    "df_edges_protein_gene = pd.read_csv('../import_data/ENSEMBLE/biomart_gene_protein.txt',  sep='\\t')\n",
    "df_edges_protein_gene.rename(columns={'Gene stable ID': 'Gene ID', 'Protein stable ID': 'Protein ID'}, inplace=True)\n",
    "\n",
    "# filter for genes in nodes\n",
    "df_edges_protein_gene = df_edges_protein_gene[df_edges_protein_gene['Gene ID'].isin(df_nodes_genes['Gene ID'])]\n",
    "\n",
    "# drop genes without protein\n",
    "df_edges_protein_gene.dropna(subset=['Protein ID'], inplace=True)\n",
    "\n",
    "df_edges_protein_gene"
   ],
   "id": "a36caeb96100b45",
   "outputs": [
    {
     "data": {
      "text/plain": [
       "                Gene ID       Protein ID\n",
       "5       ENSG00000198888  ENSP00000354687\n",
       "9       ENSG00000198763  ENSP00000355046\n",
       "15      ENSG00000198804  ENSP00000354499\n",
       "18      ENSG00000198712  ENSP00000354876\n",
       "20      ENSG00000228253  ENSP00000355265\n",
       "...                 ...              ...\n",
       "185320  ENSG00000143520  ENSP00000373370\n",
       "185321  ENSG00000143507  ENSP00000355866\n",
       "185322  ENSG00000143507  ENSP00000483812\n",
       "185323  ENSG00000143507  ENSP00000482935\n",
       "185324  ENSG00000143507  ENSP00000480008\n",
       "\n",
       "[101731 rows x 2 columns]"
      ],
      "text/html": [
       "<div>\n",
       "<style scoped>\n",
       "    .dataframe tbody tr th:only-of-type {\n",
       "        vertical-align: middle;\n",
       "    }\n",
       "\n",
       "    .dataframe tbody tr th {\n",
       "        vertical-align: top;\n",
       "    }\n",
       "\n",
       "    .dataframe thead th {\n",
       "        text-align: right;\n",
       "    }\n",
       "</style>\n",
       "<table border=\"1\" class=\"dataframe\">\n",
       "  <thead>\n",
       "    <tr style=\"text-align: right;\">\n",
       "      <th></th>\n",
       "      <th>Gene ID</th>\n",
       "      <th>Protein ID</th>\n",
       "    </tr>\n",
       "  </thead>\n",
       "  <tbody>\n",
       "    <tr>\n",
       "      <th>5</th>\n",
       "      <td>ENSG00000198888</td>\n",
       "      <td>ENSP00000354687</td>\n",
       "    </tr>\n",
       "    <tr>\n",
       "      <th>9</th>\n",
       "      <td>ENSG00000198763</td>\n",
       "      <td>ENSP00000355046</td>\n",
       "    </tr>\n",
       "    <tr>\n",
       "      <th>15</th>\n",
       "      <td>ENSG00000198804</td>\n",
       "      <td>ENSP00000354499</td>\n",
       "    </tr>\n",
       "    <tr>\n",
       "      <th>18</th>\n",
       "      <td>ENSG00000198712</td>\n",
       "      <td>ENSP00000354876</td>\n",
       "    </tr>\n",
       "    <tr>\n",
       "      <th>20</th>\n",
       "      <td>ENSG00000228253</td>\n",
       "      <td>ENSP00000355265</td>\n",
       "    </tr>\n",
       "    <tr>\n",
       "      <th>...</th>\n",
       "      <td>...</td>\n",
       "      <td>...</td>\n",
       "    </tr>\n",
       "    <tr>\n",
       "      <th>185320</th>\n",
       "      <td>ENSG00000143520</td>\n",
       "      <td>ENSP00000373370</td>\n",
       "    </tr>\n",
       "    <tr>\n",
       "      <th>185321</th>\n",
       "      <td>ENSG00000143507</td>\n",
       "      <td>ENSP00000355866</td>\n",
       "    </tr>\n",
       "    <tr>\n",
       "      <th>185322</th>\n",
       "      <td>ENSG00000143507</td>\n",
       "      <td>ENSP00000483812</td>\n",
       "    </tr>\n",
       "    <tr>\n",
       "      <th>185323</th>\n",
       "      <td>ENSG00000143507</td>\n",
       "      <td>ENSP00000482935</td>\n",
       "    </tr>\n",
       "    <tr>\n",
       "      <th>185324</th>\n",
       "      <td>ENSG00000143507</td>\n",
       "      <td>ENSP00000480008</td>\n",
       "    </tr>\n",
       "  </tbody>\n",
       "</table>\n",
       "<p>101731 rows × 2 columns</p>\n",
       "</div>"
      ]
     },
     "execution_count": 27,
     "metadata": {},
     "output_type": "execute_result"
    }
   ],
   "execution_count": 27
  },
  {
   "metadata": {},
   "cell_type": "markdown",
   "source": [
    "# Edges: Protein-Protein Interaction\n",
    "STRING Data as Interaction"
   ],
   "id": "554d37780ad5e73f"
  },
  {
   "metadata": {
    "ExecuteTime": {
     "end_time": "2024-10-26T10:16:05.283951Z",
     "start_time": "2024-10-26T10:15:31.907496Z"
    }
   },
   "cell_type": "code",
   "source": [
    "filepath = '../import_data/STRING/protein.links.full.v12.0.txt'\n",
    "df_edges_protein = pd.read_csv(filepath, sep=' ', usecols=[0, 1])\n",
    "\n",
    "print('Length of STRING Links Dataset: ', len(df_edges_protein))\n",
    "\n",
    "df_edges_protein.rename(columns={'protein1': 'left Protein ID', 'protein2': 'right Protein ID'}, inplace=True)\n",
    "\n",
    "df_edges_protein['left Protein ID'] = df_edges_protein['left Protein ID'].apply(lambda x: x.split('.')[1])\n",
    "df_edges_protein['right Protein ID'] = df_edges_protein['right Protein ID'].apply(lambda x: x.split('.')[1])\n",
    "\n",
    "\n",
    "df_edges_protein"
   ],
   "id": "681c60eea90ce9c2",
   "outputs": [
    {
     "name": "stdout",
     "output_type": "stream",
     "text": [
      "Length of STRING Links Dataset:  13715404\n"
     ]
    },
    {
     "data": {
      "text/plain": [
       "          left Protein ID right Protein ID\n",
       "0         ENSP00000000233  ENSP00000356607\n",
       "1         ENSP00000000233  ENSP00000427567\n",
       "2         ENSP00000000233  ENSP00000253413\n",
       "3         ENSP00000000233  ENSP00000493357\n",
       "4         ENSP00000000233  ENSP00000324127\n",
       "...                   ...              ...\n",
       "13715399  ENSP00000501317  ENSP00000475489\n",
       "13715400  ENSP00000501317  ENSP00000370447\n",
       "13715401  ENSP00000501317  ENSP00000312272\n",
       "13715402  ENSP00000501317  ENSP00000402092\n",
       "13715403  ENSP00000501317  ENSP00000404074\n",
       "\n",
       "[13715404 rows x 2 columns]"
      ],
      "text/html": [
       "<div>\n",
       "<style scoped>\n",
       "    .dataframe tbody tr th:only-of-type {\n",
       "        vertical-align: middle;\n",
       "    }\n",
       "\n",
       "    .dataframe tbody tr th {\n",
       "        vertical-align: top;\n",
       "    }\n",
       "\n",
       "    .dataframe thead th {\n",
       "        text-align: right;\n",
       "    }\n",
       "</style>\n",
       "<table border=\"1\" class=\"dataframe\">\n",
       "  <thead>\n",
       "    <tr style=\"text-align: right;\">\n",
       "      <th></th>\n",
       "      <th>left Protein ID</th>\n",
       "      <th>right Protein ID</th>\n",
       "    </tr>\n",
       "  </thead>\n",
       "  <tbody>\n",
       "    <tr>\n",
       "      <th>0</th>\n",
       "      <td>ENSP00000000233</td>\n",
       "      <td>ENSP00000356607</td>\n",
       "    </tr>\n",
       "    <tr>\n",
       "      <th>1</th>\n",
       "      <td>ENSP00000000233</td>\n",
       "      <td>ENSP00000427567</td>\n",
       "    </tr>\n",
       "    <tr>\n",
       "      <th>2</th>\n",
       "      <td>ENSP00000000233</td>\n",
       "      <td>ENSP00000253413</td>\n",
       "    </tr>\n",
       "    <tr>\n",
       "      <th>3</th>\n",
       "      <td>ENSP00000000233</td>\n",
       "      <td>ENSP00000493357</td>\n",
       "    </tr>\n",
       "    <tr>\n",
       "      <th>4</th>\n",
       "      <td>ENSP00000000233</td>\n",
       "      <td>ENSP00000324127</td>\n",
       "    </tr>\n",
       "    <tr>\n",
       "      <th>...</th>\n",
       "      <td>...</td>\n",
       "      <td>...</td>\n",
       "    </tr>\n",
       "    <tr>\n",
       "      <th>13715399</th>\n",
       "      <td>ENSP00000501317</td>\n",
       "      <td>ENSP00000475489</td>\n",
       "    </tr>\n",
       "    <tr>\n",
       "      <th>13715400</th>\n",
       "      <td>ENSP00000501317</td>\n",
       "      <td>ENSP00000370447</td>\n",
       "    </tr>\n",
       "    <tr>\n",
       "      <th>13715401</th>\n",
       "      <td>ENSP00000501317</td>\n",
       "      <td>ENSP00000312272</td>\n",
       "    </tr>\n",
       "    <tr>\n",
       "      <th>13715402</th>\n",
       "      <td>ENSP00000501317</td>\n",
       "      <td>ENSP00000402092</td>\n",
       "    </tr>\n",
       "    <tr>\n",
       "      <th>13715403</th>\n",
       "      <td>ENSP00000501317</td>\n",
       "      <td>ENSP00000404074</td>\n",
       "    </tr>\n",
       "  </tbody>\n",
       "</table>\n",
       "<p>13715404 rows × 2 columns</p>\n",
       "</div>"
      ]
     },
     "execution_count": 28,
     "metadata": {},
     "output_type": "execute_result"
    }
   ],
   "execution_count": 28
  },
  {
   "metadata": {},
   "cell_type": "markdown",
   "source": [
    "### Filter for Proteins from Nodes\n",
    "Leads to only direct connections between proteins that are connected to genes\n",
    "\n",
    "→ Gene - Protein - Protein - Gene\n",
    "\n",
    "\n",
    "But we also want to include proteins that are not connected to a gene\n",
    "\n",
    "→ Gene - Protein - $Protein$ - Protein - Gene\n"
   ],
   "id": "6f5da69f4a5fd07c"
  },
  {
   "metadata": {
    "ExecuteTime": {
     "end_time": "2024-10-26T10:16:05.305240Z",
     "start_time": "2024-10-26T10:16:05.283951Z"
    }
   },
   "cell_type": "code",
   "source": [
    "\"\"\"df_edges_protein = df_edges_protein[df_edges_protein['protein1'].isin(df_nodes_protein)]\n",
    "df_edges_protein = df_edges_protein[df_edges_protein['protein2'].isin(df_nodes_protein)]\n",
    "\n",
    "df_edges_protein\"\"\""
   ],
   "id": "aa6bcf4d543622cc",
   "outputs": [
    {
     "data": {
      "text/plain": [
       "\"df_edges_protein = df_edges_protein[df_edges_protein['protein1'].isin(df_nodes_protein)]\\ndf_edges_protein = df_edges_protein[df_edges_protein['protein2'].isin(df_nodes_protein)]\\n\\ndf_edges_protein\""
      ]
     },
     "execution_count": 29,
     "metadata": {},
     "output_type": "execute_result"
    }
   ],
   "execution_count": 29
  },
  {
   "metadata": {},
   "cell_type": "markdown",
   "source": [
    "# Nodes: Protein\n",
    "\n"
   ],
   "id": "4d154f07da1daba6"
  },
  {
   "metadata": {
    "ExecuteTime": {
     "end_time": "2024-10-26T10:16:05.352465Z",
     "start_time": "2024-10-26T10:16:05.305240Z"
    }
   },
   "cell_type": "code",
   "source": [
    "# Proteins that are connected to genes\n",
    "df_nodes_protein1 = df_edges_protein_gene.copy()\n",
    "df_nodes_protein1 = df_nodes_protein1['Protein ID']\n",
    "\n",
    "df_nodes_protein1 = df_nodes_protein1.drop_duplicates()\n",
    "\n",
    "df_nodes_protein1"
   ],
   "id": "3eb0422fe2814828",
   "outputs": [
    {
     "data": {
      "text/plain": [
       "5         ENSP00000354687\n",
       "9         ENSP00000355046\n",
       "15        ENSP00000354499\n",
       "18        ENSP00000354876\n",
       "20        ENSP00000355265\n",
       "               ...       \n",
       "185320    ENSP00000373370\n",
       "185321    ENSP00000355866\n",
       "185322    ENSP00000483812\n",
       "185323    ENSP00000482935\n",
       "185324    ENSP00000480008\n",
       "Name: Protein ID, Length: 101731, dtype: object"
      ]
     },
     "execution_count": 30,
     "metadata": {},
     "output_type": "execute_result"
    }
   ],
   "execution_count": 30
  },
  {
   "metadata": {
    "ExecuteTime": {
     "end_time": "2024-10-26T10:16:11.817828Z",
     "start_time": "2024-10-26T10:16:05.352465Z"
    }
   },
   "cell_type": "code",
   "source": [
    "# proteins that are connected to other proteins\n",
    "df_nodes_protein2 = pd.concat([df_edges_protein['left Protein ID'], df_edges_protein['right Protein ID']], ignore_index=True)\n",
    "df_nodes_protein2 = df_nodes_protein2.drop_duplicates()\n",
    "df_nodes_protein2.rename('Protein ID', inplace=True)\n",
    "\n",
    "df_nodes_protein2"
   ],
   "id": "83f1c44a4d5937d7",
   "outputs": [
    {
     "data": {
      "text/plain": [
       "0           ENSP00000000233\n",
       "1301        ENSP00000000412\n",
       "1667        ENSP00000001008\n",
       "3113        ENSP00000001146\n",
       "4274        ENSP00000002125\n",
       "                 ...       \n",
       "13711347    ENSP00000501254\n",
       "13712993    ENSP00000501259\n",
       "13713530    ENSP00000501265\n",
       "13714311    ENSP00000501277\n",
       "13715044    ENSP00000501317\n",
       "Name: Protein ID, Length: 19622, dtype: object"
      ]
     },
     "execution_count": 31,
     "metadata": {},
     "output_type": "execute_result"
    }
   ],
   "execution_count": 31
  },
  {
   "metadata": {
    "ExecuteTime": {
     "end_time": "2024-10-26T10:16:11.852569Z",
     "start_time": "2024-10-26T10:16:11.817828Z"
    }
   },
   "cell_type": "code",
   "source": [
    "# combine both\n",
    "df_nodes_protein = pd.concat([df_nodes_protein1, df_nodes_protein2], ignore_index=True)\n",
    "df_nodes_protein = df_nodes_protein.drop_duplicates()\n",
    "\n",
    "df_nodes_protein"
   ],
   "id": "de0d073c44bf740a",
   "outputs": [
    {
     "data": {
      "text/plain": [
       "0         ENSP00000354687\n",
       "1         ENSP00000355046\n",
       "2         ENSP00000354499\n",
       "3         ENSP00000354876\n",
       "4         ENSP00000355265\n",
       "               ...       \n",
       "121335    ENSP00000501085\n",
       "121336    ENSP00000501088\n",
       "121337    ENSP00000501092\n",
       "121339    ENSP00000501111\n",
       "121352    ENSP00000501317\n",
       "Name: Protein ID, Length: 104235, dtype: object"
      ]
     },
     "execution_count": 32,
     "metadata": {},
     "output_type": "execute_result"
    }
   ],
   "execution_count": 32
  },
  {
   "metadata": {},
   "cell_type": "markdown",
   "source": "# Export Data",
   "id": "a7c449732d96a18c"
  },
  {
   "metadata": {
    "ExecuteTime": {
     "end_time": "2024-10-26T10:16:29.286069Z",
     "start_time": "2024-10-26T10:16:11.853582Z"
    }
   },
   "cell_type": "code",
   "source": [
    "df_nodes_protein.to_csv('../processed_data/nodes_protein.csv', index=False)\n",
    "df_edges_protein.to_csv('../processed_data/edges_protein.csv', index=False)\n",
    "df_edges_protein_gene.to_csv('../processed_data/edges_protein_gene.csv', index=False)"
   ],
   "id": "3643344b702567c5",
   "outputs": [],
   "execution_count": 33
  },
  {
   "metadata": {
    "ExecuteTime": {
     "end_time": "2024-10-26T10:16:29.301788Z",
     "start_time": "2024-10-26T10:16:29.286069Z"
    }
   },
   "cell_type": "code",
   "source": [
    "print(f\"There are {len(df_nodes_protein)} Protein Nodes\")\n",
    "print(f\"There are {len(df_edges_protein)} Protein-Protein Edges\")\n",
    "print(f\"There are {len(df_edges_protein_gene)} Protein-Gene Edges\")"
   ],
   "id": "1d8c26ed7555f723",
   "outputs": [
    {
     "name": "stdout",
     "output_type": "stream",
     "text": [
      "There are 104235 Protein Nodes\n",
      "There are 13715404 Protein-Protein Edges\n",
      "There are 101731 Protein-Gene Edges\n"
     ]
    }
   ],
   "execution_count": 34
  },
  {
   "metadata": {
    "ExecuteTime": {
     "end_time": "2024-10-26T10:16:30.837300Z",
     "start_time": "2024-10-26T10:16:29.301788Z"
    }
   },
   "cell_type": "code",
   "source": [
    "df_edges_protein_plot = df_edges_protein.reset_index(drop=True)\n",
    "df_edges_protein_gene_plot = df_edges_protein_gene.reset_index(drop=True)\n",
    "df_nodes_protein_plot = df_nodes_protein.reset_index()\n",
    "\n",
    "df_nodes_protein_plot\n",
    "# lib cant plot single columns"
   ],
   "id": "4a719b5ae1f90dba",
   "outputs": [
    {
     "data": {
      "text/plain": [
       "         index       Protein ID\n",
       "0            0  ENSP00000354687\n",
       "1            1  ENSP00000355046\n",
       "2            2  ENSP00000354499\n",
       "3            3  ENSP00000354876\n",
       "4            4  ENSP00000355265\n",
       "...        ...              ...\n",
       "104230  121335  ENSP00000501085\n",
       "104231  121336  ENSP00000501088\n",
       "104232  121337  ENSP00000501092\n",
       "104233  121339  ENSP00000501111\n",
       "104234  121352  ENSP00000501317\n",
       "\n",
       "[104235 rows x 2 columns]"
      ],
      "text/html": [
       "<div>\n",
       "<style scoped>\n",
       "    .dataframe tbody tr th:only-of-type {\n",
       "        vertical-align: middle;\n",
       "    }\n",
       "\n",
       "    .dataframe tbody tr th {\n",
       "        vertical-align: top;\n",
       "    }\n",
       "\n",
       "    .dataframe thead th {\n",
       "        text-align: right;\n",
       "    }\n",
       "</style>\n",
       "<table border=\"1\" class=\"dataframe\">\n",
       "  <thead>\n",
       "    <tr style=\"text-align: right;\">\n",
       "      <th></th>\n",
       "      <th>index</th>\n",
       "      <th>Protein ID</th>\n",
       "    </tr>\n",
       "  </thead>\n",
       "  <tbody>\n",
       "    <tr>\n",
       "      <th>0</th>\n",
       "      <td>0</td>\n",
       "      <td>ENSP00000354687</td>\n",
       "    </tr>\n",
       "    <tr>\n",
       "      <th>1</th>\n",
       "      <td>1</td>\n",
       "      <td>ENSP00000355046</td>\n",
       "    </tr>\n",
       "    <tr>\n",
       "      <th>2</th>\n",
       "      <td>2</td>\n",
       "      <td>ENSP00000354499</td>\n",
       "    </tr>\n",
       "    <tr>\n",
       "      <th>3</th>\n",
       "      <td>3</td>\n",
       "      <td>ENSP00000354876</td>\n",
       "    </tr>\n",
       "    <tr>\n",
       "      <th>4</th>\n",
       "      <td>4</td>\n",
       "      <td>ENSP00000355265</td>\n",
       "    </tr>\n",
       "    <tr>\n",
       "      <th>...</th>\n",
       "      <td>...</td>\n",
       "      <td>...</td>\n",
       "    </tr>\n",
       "    <tr>\n",
       "      <th>104230</th>\n",
       "      <td>121335</td>\n",
       "      <td>ENSP00000501085</td>\n",
       "    </tr>\n",
       "    <tr>\n",
       "      <th>104231</th>\n",
       "      <td>121336</td>\n",
       "      <td>ENSP00000501088</td>\n",
       "    </tr>\n",
       "    <tr>\n",
       "      <th>104232</th>\n",
       "      <td>121337</td>\n",
       "      <td>ENSP00000501092</td>\n",
       "    </tr>\n",
       "    <tr>\n",
       "      <th>104233</th>\n",
       "      <td>121339</td>\n",
       "      <td>ENSP00000501111</td>\n",
       "    </tr>\n",
       "    <tr>\n",
       "      <th>104234</th>\n",
       "      <td>121352</td>\n",
       "      <td>ENSP00000501317</td>\n",
       "    </tr>\n",
       "  </tbody>\n",
       "</table>\n",
       "<p>104235 rows × 2 columns</p>\n",
       "</div>"
      ]
     },
     "execution_count": 35,
     "metadata": {},
     "output_type": "execute_result"
    }
   ],
   "execution_count": 35
  },
  {
   "metadata": {
    "ExecuteTime": {
     "end_time": "2024-10-26T10:16:34.407477Z",
     "start_time": "2024-10-26T10:16:30.837300Z"
    }
   },
   "cell_type": "code",
   "source": [
    "dfi.export(df_edges_protein_plot.head(5), '../tex/figures/03_02_protein_edges.png')\n",
    "dfi.export(df_edges_protein_gene_plot.head(5), '../tex/figures/03_02_gene_protein_edges.png')\n",
    "dfi.export(df_nodes_protein_plot.head(5), '../tex/figures/03_02_protein_nodes.png')"
   ],
   "id": "468846d3d61aa5b7",
   "outputs": [],
   "execution_count": 36
  }
 ],
 "metadata": {
  "kernelspec": {
   "display_name": "Python 3",
   "language": "python",
   "name": "python3"
  },
  "language_info": {
   "codemirror_mode": {
    "name": "ipython",
    "version": 2
   },
   "file_extension": ".py",
   "mimetype": "text/x-python",
   "name": "python",
   "nbconvert_exporter": "python",
   "pygments_lexer": "ipython2",
   "version": "2.7.6"
  }
 },
 "nbformat": 4,
 "nbformat_minor": 5
}
