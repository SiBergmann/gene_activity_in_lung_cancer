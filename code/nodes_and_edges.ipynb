{
 "cells": [
  {
   "metadata": {
    "ExecuteTime": {
     "end_time": "2024-12-05T16:21:44.810784Z",
     "start_time": "2024-12-05T16:21:43.249893Z"
    }
   },
   "cell_type": "code",
   "source": [
    "import pandas as pd\n",
    "import dataframe_image as dfi"
   ],
   "id": "de17c831ebfe57de",
   "outputs": [],
   "execution_count": 1
  },
  {
   "metadata": {},
   "cell_type": "markdown",
   "source": "## Import data",
   "id": "46927e43fe43848a"
  },
  {
   "metadata": {
    "ExecuteTime": {
     "end_time": "2024-12-05T16:21:44.864903Z",
     "start_time": "2024-12-05T16:21:44.824800Z"
    }
   },
   "cell_type": "code",
   "source": "df_nodes_genes = pd.read_csv('../processed_data/nodes_genes.csv')",
   "id": "initial_id",
   "outputs": [],
   "execution_count": 2
  },
  {
   "metadata": {},
   "cell_type": "markdown",
   "source": [
    "# Edges: Protein-Gene Connection\n",
    "File from: https://www.ensembl.org/biomart/martview/\n",
    "\n",
    "Ensembl Genes 112 > Human Genes (GRCh38.p14)\n",
    "\n",
    "Columns: Gene stable ID, Protein stable ID"
   ],
   "id": "6c33380c3ec9d25c"
  },
  {
   "metadata": {
    "ExecuteTime": {
     "end_time": "2024-12-05T16:21:45.138526Z",
     "start_time": "2024-12-05T16:21:45.040763Z"
    }
   },
   "cell_type": "code",
   "source": [
    "df_edges_protein_gene = pd.read_csv('../import_data/ENSEMBLE/biomart_gene_protein.txt',  sep='\\t')\n",
    "df_edges_protein_gene.rename(columns={'Gene stable ID': 'Gene ID', 'Protein stable ID': 'Protein ID'}, inplace=True)\n",
    "\n",
    "print(f\"There are {len(df_edges_protein_gene)} rows in the imported dataset.\")"
   ],
   "id": "76e44ce6b8e9d423",
   "outputs": [
    {
     "name": "stdout",
     "output_type": "stream",
     "text": [
      "There are 185330 rows in the imported dataset.\n"
     ]
    }
   ],
   "execution_count": 3
  },
  {
   "metadata": {
    "ExecuteTime": {
     "end_time": "2024-12-05T16:21:45.192638Z",
     "start_time": "2024-12-05T16:21:45.153693Z"
    }
   },
   "cell_type": "code",
   "source": [
    "# drop genes without gene or protein\n",
    "df_edges_protein_gene.dropna(inplace=True)\n",
    "\n",
    "# filter for genes in nodes\n",
    "df_edges_protein_gene = df_edges_protein_gene[df_edges_protein_gene['Gene ID'].isin(df_nodes_genes['Gene ID'])]\n",
    "\n",
    "\n",
    "print(f\"There are {len(df_edges_protein_gene)} rows in the filtered dataset.\")\n",
    "df_edges_protein_gene.head(10)"
   ],
   "id": "a36caeb96100b45",
   "outputs": [
    {
     "name": "stdout",
     "output_type": "stream",
     "text": [
      "There are 101731 rows in the filtered dataset.\n"
     ]
    },
    {
     "data": {
      "text/plain": [
       "            Gene ID       Protein ID\n",
       "5   ENSG00000198888  ENSP00000354687\n",
       "9   ENSG00000198763  ENSP00000355046\n",
       "15  ENSG00000198804  ENSP00000354499\n",
       "18  ENSG00000198712  ENSP00000354876\n",
       "20  ENSG00000228253  ENSP00000355265\n",
       "21  ENSG00000198899  ENSP00000354632\n",
       "22  ENSG00000198938  ENSP00000354982\n",
       "24  ENSG00000198840  ENSP00000355206\n",
       "26  ENSG00000212907  ENSP00000354728\n",
       "27  ENSG00000198886  ENSP00000354961"
      ],
      "text/html": [
       "<div>\n",
       "<style scoped>\n",
       "    .dataframe tbody tr th:only-of-type {\n",
       "        vertical-align: middle;\n",
       "    }\n",
       "\n",
       "    .dataframe tbody tr th {\n",
       "        vertical-align: top;\n",
       "    }\n",
       "\n",
       "    .dataframe thead th {\n",
       "        text-align: right;\n",
       "    }\n",
       "</style>\n",
       "<table border=\"1\" class=\"dataframe\">\n",
       "  <thead>\n",
       "    <tr style=\"text-align: right;\">\n",
       "      <th></th>\n",
       "      <th>Gene ID</th>\n",
       "      <th>Protein ID</th>\n",
       "    </tr>\n",
       "  </thead>\n",
       "  <tbody>\n",
       "    <tr>\n",
       "      <th>5</th>\n",
       "      <td>ENSG00000198888</td>\n",
       "      <td>ENSP00000354687</td>\n",
       "    </tr>\n",
       "    <tr>\n",
       "      <th>9</th>\n",
       "      <td>ENSG00000198763</td>\n",
       "      <td>ENSP00000355046</td>\n",
       "    </tr>\n",
       "    <tr>\n",
       "      <th>15</th>\n",
       "      <td>ENSG00000198804</td>\n",
       "      <td>ENSP00000354499</td>\n",
       "    </tr>\n",
       "    <tr>\n",
       "      <th>18</th>\n",
       "      <td>ENSG00000198712</td>\n",
       "      <td>ENSP00000354876</td>\n",
       "    </tr>\n",
       "    <tr>\n",
       "      <th>20</th>\n",
       "      <td>ENSG00000228253</td>\n",
       "      <td>ENSP00000355265</td>\n",
       "    </tr>\n",
       "    <tr>\n",
       "      <th>21</th>\n",
       "      <td>ENSG00000198899</td>\n",
       "      <td>ENSP00000354632</td>\n",
       "    </tr>\n",
       "    <tr>\n",
       "      <th>22</th>\n",
       "      <td>ENSG00000198938</td>\n",
       "      <td>ENSP00000354982</td>\n",
       "    </tr>\n",
       "    <tr>\n",
       "      <th>24</th>\n",
       "      <td>ENSG00000198840</td>\n",
       "      <td>ENSP00000355206</td>\n",
       "    </tr>\n",
       "    <tr>\n",
       "      <th>26</th>\n",
       "      <td>ENSG00000212907</td>\n",
       "      <td>ENSP00000354728</td>\n",
       "    </tr>\n",
       "    <tr>\n",
       "      <th>27</th>\n",
       "      <td>ENSG00000198886</td>\n",
       "      <td>ENSP00000354961</td>\n",
       "    </tr>\n",
       "  </tbody>\n",
       "</table>\n",
       "</div>"
      ]
     },
     "execution_count": 4,
     "metadata": {},
     "output_type": "execute_result"
    }
   ],
   "execution_count": 4
  },
  {
   "metadata": {},
   "cell_type": "markdown",
   "source": [
    "# Edges: Protein-Protein Interaction\n",
    "STRING Data as Interaction"
   ],
   "id": "554d37780ad5e73f"
  },
  {
   "metadata": {
    "jupyter": {
     "is_executing": true
    },
    "ExecuteTime": {
     "start_time": "2024-12-05T16:21:45.238478Z"
    }
   },
   "cell_type": "code",
   "source": [
    "filepath = '../import_data/STRING/protein.links.full.v12.0.txt'\n",
    "df_edges_protein = pd.read_csv(filepath, sep=' ', usecols=[0, 1])\n",
    "\n",
    "print('Length of STRING Links Dataset: ', len(df_edges_protein))\n",
    "\n",
    "df_edges_protein.rename(columns={'protein1': 'left Protein ID', 'protein2': 'right Protein ID'}, inplace=True)\n",
    "\n",
    "df_edges_protein['left Protein ID'] = df_edges_protein['left Protein ID'].apply(lambda x: x.split('.')[1])\n",
    "df_edges_protein['right Protein ID'] = df_edges_protein['right Protein ID'].apply(lambda x: x.split('.')[1])\n",
    "\n",
    "print(f\"There are {len(df_edges_protein)} rows in the dataset.\")\n",
    "df_edges_protein.head()"
   ],
   "id": "681c60eea90ce9c2",
   "outputs": [],
   "execution_count": null
  },
  {
   "metadata": {},
   "cell_type": "markdown",
   "source": [
    "### Filter for Proteins from Nodes\n",
    "Leads to only direct connections between proteins that are connected to genes\n",
    "\n",
    "→ Gene - Protein - Protein - Gene\n",
    "\n",
    "\n",
    "But we also want to include proteins that are not connected to a gene\n",
    "\n",
    "→ Gene - Protein - $Protein$ - Protein - Gene\n"
   ],
   "id": "6f5da69f4a5fd07c"
  },
  {
   "metadata": {
    "ExecuteTime": {
     "end_time": "2024-12-05T16:03:14.102265Z",
     "start_time": "2024-12-05T16:03:14.096219Z"
    }
   },
   "cell_type": "code",
   "source": [
    "\"\"\"df_edges_protein = df_edges_protein[df_edges_protein['protein1'].isin(df_nodes_protein)]\n",
    "df_edges_protein = df_edges_protein[df_edges_protein['protein2'].isin(df_nodes_protein)]\n",
    "\n",
    "df_edges_protein\"\"\""
   ],
   "id": "aa6bcf4d543622cc",
   "outputs": [
    {
     "data": {
      "text/plain": [
       "\"df_edges_protein = df_edges_protein[df_edges_protein['protein1'].isin(df_nodes_protein)]\\ndf_edges_protein = df_edges_protein[df_edges_protein['protein2'].isin(df_nodes_protein)]\\n\\ndf_edges_protein\""
      ]
     },
     "execution_count": 16,
     "metadata": {},
     "output_type": "execute_result"
    }
   ],
   "execution_count": 16
  },
  {
   "metadata": {},
   "cell_type": "markdown",
   "source": [
    "# Nodes: Protein\n",
    "\n"
   ],
   "id": "4d154f07da1daba6"
  },
  {
   "metadata": {
    "ExecuteTime": {
     "end_time": "2024-12-05T16:05:06.383067Z",
     "start_time": "2024-12-05T16:05:06.354460Z"
    }
   },
   "cell_type": "code",
   "source": [
    "# Proteins that are connected to genes\n",
    "df_nodes_protein1 = df_edges_protein_gene.copy()\n",
    "df_nodes_protein1 = df_nodes_protein1['Protein ID']\n",
    "\n",
    "df_nodes_protein1 = df_nodes_protein1.drop_duplicates().reset_index(drop=True)\n",
    "\n",
    "df_nodes_protein1"
   ],
   "id": "3eb0422fe2814828",
   "outputs": [
    {
     "data": {
      "text/plain": [
       "0         ENSP00000354687\n",
       "1         ENSP00000355046\n",
       "2         ENSP00000354499\n",
       "3         ENSP00000354876\n",
       "4         ENSP00000355265\n",
       "               ...       \n",
       "101726    ENSP00000373370\n",
       "101727    ENSP00000355866\n",
       "101728    ENSP00000483812\n",
       "101729    ENSP00000482935\n",
       "101730    ENSP00000480008\n",
       "Name: Protein ID, Length: 101731, dtype: object"
      ]
     },
     "execution_count": 25,
     "metadata": {},
     "output_type": "execute_result"
    }
   ],
   "execution_count": 25
  },
  {
   "metadata": {
    "ExecuteTime": {
     "end_time": "2024-12-05T16:05:20.030028Z",
     "start_time": "2024-12-05T16:05:18.262362Z"
    }
   },
   "cell_type": "code",
   "source": [
    "# proteins that are connected to other proteins\n",
    "df_nodes_protein2 = pd.concat([df_edges_protein['left Protein ID'], df_edges_protein['right Protein ID']], ignore_index=True)\n",
    "df_nodes_protein2 = df_nodes_protein2.drop_duplicates().reset_index(drop=True)\n",
    "df_nodes_protein2.rename('Protein ID', inplace=True)\n",
    "\n",
    "df_nodes_protein2"
   ],
   "id": "83f1c44a4d5937d7",
   "outputs": [
    {
     "data": {
      "text/plain": [
       "0        ENSP00000000233\n",
       "1        ENSP00000000412\n",
       "2        ENSP00000001008\n",
       "3        ENSP00000001146\n",
       "4        ENSP00000002125\n",
       "              ...       \n",
       "19617    ENSP00000501254\n",
       "19618    ENSP00000501259\n",
       "19619    ENSP00000501265\n",
       "19620    ENSP00000501277\n",
       "19621    ENSP00000501317\n",
       "Name: Protein ID, Length: 19622, dtype: object"
      ]
     },
     "execution_count": 27,
     "metadata": {},
     "output_type": "execute_result"
    }
   ],
   "execution_count": 27
  },
  {
   "metadata": {
    "ExecuteTime": {
     "end_time": "2024-12-05T16:03:17.500489Z",
     "start_time": "2024-12-05T16:03:17.483089Z"
    }
   },
   "cell_type": "code",
   "source": [
    "# combine both\n",
    "df_nodes_protein = pd.concat([df_nodes_protein1, df_nodes_protein2], ignore_index=True)\n",
    "df_nodes_protein = df_nodes_protein.drop_duplicates()\n",
    "\n",
    "df_nodes_protein"
   ],
   "id": "de0d073c44bf740a",
   "outputs": [
    {
     "data": {
      "text/plain": [
       "0         ENSP00000354687\n",
       "1         ENSP00000355046\n",
       "2         ENSP00000354499\n",
       "3         ENSP00000354876\n",
       "4         ENSP00000355265\n",
       "               ...       \n",
       "121335    ENSP00000501085\n",
       "121336    ENSP00000501088\n",
       "121337    ENSP00000501092\n",
       "121339    ENSP00000501111\n",
       "121352    ENSP00000501317\n",
       "Name: Protein ID, Length: 104235, dtype: object"
      ]
     },
     "execution_count": 20,
     "metadata": {},
     "output_type": "execute_result"
    }
   ],
   "execution_count": 20
  },
  {
   "metadata": {},
   "cell_type": "markdown",
   "source": "# Export Data",
   "id": "a7c449732d96a18c"
  },
  {
   "metadata": {
    "ExecuteTime": {
     "end_time": "2024-12-05T16:03:26.153289Z",
     "start_time": "2024-12-05T16:03:17.611399Z"
    }
   },
   "cell_type": "code",
   "source": [
    "df_nodes_protein.to_csv('../processed_data/nodes_protein.csv', index=False)\n",
    "df_edges_protein.to_csv('../processed_data/edges_protein.csv', index=False)\n",
    "df_edges_protein_gene.to_csv('../processed_data/edges_protein_gene.csv', index=False)"
   ],
   "id": "3643344b702567c5",
   "outputs": [],
   "execution_count": 21
  },
  {
   "metadata": {
    "ExecuteTime": {
     "end_time": "2024-12-05T16:03:26.220138Z",
     "start_time": "2024-12-05T16:03:26.215360Z"
    }
   },
   "cell_type": "code",
   "source": [
    "print(f\"There are {len(df_nodes_protein)} Protein Nodes\")\n",
    "print(f\"There are {len(df_edges_protein)} Protein-Protein Edges\")\n",
    "print(f\"There are {len(df_edges_protein_gene)} Protein-Gene Edges\")"
   ],
   "id": "1d8c26ed7555f723",
   "outputs": [
    {
     "name": "stdout",
     "output_type": "stream",
     "text": [
      "There are 104235 Protein Nodes\n",
      "There are 13715404 Protein-Protein Edges\n",
      "There are 101731 Protein-Gene Edges\n"
     ]
    }
   ],
   "execution_count": 22
  },
  {
   "metadata": {
    "ExecuteTime": {
     "end_time": "2024-12-05T16:11:28.182192Z",
     "start_time": "2024-12-05T16:11:25.615906Z"
    }
   },
   "cell_type": "code",
   "source": [
    "df_edges_protein_plot = df_edges_protein.reset_index(drop=True)\n",
    "df_edges_protein_gene_plot = df_edges_protein_gene.reset_index(drop=True)\n",
    "df_nodes_protein_plot = df_nodes_protein.reset_index(drop=True)\n",
    "\n",
    "df_nodes_protein_plot\n",
    "# lib cant plot single columns"
   ],
   "id": "4a719b5ae1f90dba",
   "outputs": [
    {
     "data": {
      "text/plain": [
       "0         ENSP00000354687\n",
       "1         ENSP00000355046\n",
       "2         ENSP00000354499\n",
       "3         ENSP00000354876\n",
       "4         ENSP00000355265\n",
       "               ...       \n",
       "104230    ENSP00000501085\n",
       "104231    ENSP00000501088\n",
       "104232    ENSP00000501092\n",
       "104233    ENSP00000501111\n",
       "104234    ENSP00000501317\n",
       "Name: Protein ID, Length: 104235, dtype: object"
      ]
     },
     "execution_count": 32,
     "metadata": {},
     "output_type": "execute_result"
    }
   ],
   "execution_count": 32
  },
  {
   "metadata": {
    "ExecuteTime": {
     "end_time": "2024-12-05T16:15:46.278652Z",
     "start_time": "2024-12-05T16:15:46.263532Z"
    }
   },
   "cell_type": "code",
   "source": [
    "print(df_edges_protein_plot.head(5).data)\n",
    "print(df_nodes_protein_plot.head(5).data)"
   ],
   "id": "e668edc1420c3ae4",
   "outputs": [
    {
     "ename": "AttributeError",
     "evalue": "'Series' object has no attribute 'data'",
     "output_type": "error",
     "traceback": [
      "\u001B[1;31m---------------------------------------------------------------------------\u001B[0m",
      "\u001B[1;31mAttributeError\u001B[0m                            Traceback (most recent call last)",
      "\u001B[1;32m~\\AppData\\Local\\Temp\\ipykernel_23664\\928020888.py\u001B[0m in \u001B[0;36m?\u001B[1;34m()\u001B[0m\n\u001B[1;32m----> 1\u001B[1;33m \u001B[0mprint\u001B[0m\u001B[1;33m(\u001B[0m\u001B[0mdf_nodes_protein_plot\u001B[0m\u001B[1;33m.\u001B[0m\u001B[0mhead\u001B[0m\u001B[1;33m(\u001B[0m\u001B[1;36m5\u001B[0m\u001B[1;33m)\u001B[0m\u001B[1;33m.\u001B[0m\u001B[0mdata\u001B[0m\u001B[1;33m)\u001B[0m\u001B[1;33m\u001B[0m\u001B[1;33m\u001B[0m\u001B[0m\n\u001B[0m\u001B[0;32m      2\u001B[0m \u001B[0mprint\u001B[0m\u001B[1;33m(\u001B[0m\u001B[0mdf_edges_protein_plot\u001B[0m\u001B[1;33m.\u001B[0m\u001B[0mhead\u001B[0m\u001B[1;33m(\u001B[0m\u001B[1;36m5\u001B[0m\u001B[1;33m)\u001B[0m\u001B[1;33m.\u001B[0m\u001B[0mdata\u001B[0m\u001B[1;33m)\u001B[0m\u001B[1;33m\u001B[0m\u001B[1;33m\u001B[0m\u001B[0m\n\u001B[0;32m      3\u001B[0m \u001B[1;33m\u001B[0m\u001B[0m\n",
      "\u001B[1;32m~\\anaconda3\\envs\\env_Bachelor_Thesis\\Lib\\site-packages\\pandas\\core\\generic.py\u001B[0m in \u001B[0;36m?\u001B[1;34m(self, name)\u001B[0m\n\u001B[0;32m   6289\u001B[0m             \u001B[1;32mand\u001B[0m \u001B[0mname\u001B[0m \u001B[1;32mnot\u001B[0m \u001B[1;32min\u001B[0m \u001B[0mself\u001B[0m\u001B[1;33m.\u001B[0m\u001B[0m_accessors\u001B[0m\u001B[1;33m\u001B[0m\u001B[1;33m\u001B[0m\u001B[0m\n\u001B[0;32m   6290\u001B[0m             \u001B[1;32mand\u001B[0m \u001B[0mself\u001B[0m\u001B[1;33m.\u001B[0m\u001B[0m_info_axis\u001B[0m\u001B[1;33m.\u001B[0m\u001B[0m_can_hold_identifiers_and_holds_name\u001B[0m\u001B[1;33m(\u001B[0m\u001B[0mname\u001B[0m\u001B[1;33m)\u001B[0m\u001B[1;33m\u001B[0m\u001B[1;33m\u001B[0m\u001B[0m\n\u001B[0;32m   6291\u001B[0m         ):\n\u001B[0;32m   6292\u001B[0m             \u001B[1;32mreturn\u001B[0m \u001B[0mself\u001B[0m\u001B[1;33m[\u001B[0m\u001B[0mname\u001B[0m\u001B[1;33m]\u001B[0m\u001B[1;33m\u001B[0m\u001B[1;33m\u001B[0m\u001B[0m\n\u001B[1;32m-> 6293\u001B[1;33m         \u001B[1;32mreturn\u001B[0m \u001B[0mobject\u001B[0m\u001B[1;33m.\u001B[0m\u001B[0m__getattribute__\u001B[0m\u001B[1;33m(\u001B[0m\u001B[0mself\u001B[0m\u001B[1;33m,\u001B[0m \u001B[0mname\u001B[0m\u001B[1;33m)\u001B[0m\u001B[1;33m\u001B[0m\u001B[1;33m\u001B[0m\u001B[0m\n\u001B[0m",
      "\u001B[1;31mAttributeError\u001B[0m: 'Series' object has no attribute 'data'"
     ]
    }
   ],
   "execution_count": 37
  },
  {
   "metadata": {
    "ExecuteTime": {
     "end_time": "2024-12-05T16:14:25.988014Z",
     "start_time": "2024-12-05T16:14:25.118161Z"
    }
   },
   "cell_type": "code",
   "source": [
    "dfi.export(df_edges_protein_plot.head(5), '../tex/figures/03_02_protein_edges.png')\n",
    "dfi.export(df_edges_protein_gene_plot.head(5), '../tex/figures/03_02_gene_protein_edges.png')"
   ],
   "id": "468846d3d61aa5b7",
   "outputs": [
    {
     "ename": "IndexError",
     "evalue": "tuple index out of range",
     "output_type": "error",
     "traceback": [
      "\u001B[1;31m---------------------------------------------------------------------------\u001B[0m",
      "\u001B[1;31mIndexError\u001B[0m                                Traceback (most recent call last)",
      "Cell \u001B[1;32mIn[35], line 5\u001B[0m\n\u001B[0;32m      1\u001B[0m dfi\u001B[38;5;241m.\u001B[39mexport(df_edges_protein_plot\u001B[38;5;241m.\u001B[39mhead(\u001B[38;5;241m5\u001B[39m), \u001B[38;5;124m'\u001B[39m\u001B[38;5;124m../tex/figures/03_02_protein_edges.png\u001B[39m\u001B[38;5;124m'\u001B[39m)\n\u001B[0;32m      2\u001B[0m dfi\u001B[38;5;241m.\u001B[39mexport(df_edges_protein_gene_plot\u001B[38;5;241m.\u001B[39mhead(\u001B[38;5;241m5\u001B[39m), \u001B[38;5;124m'\u001B[39m\u001B[38;5;124m../tex/figures/03_02_gene_protein_edges.png\u001B[39m\u001B[38;5;124m'\u001B[39m)\n\u001B[1;32m----> 5\u001B[0m dfi\u001B[38;5;241m.\u001B[39mexport(df_nodes_protein_plot\u001B[38;5;241m.\u001B[39mhead(\u001B[38;5;241m5\u001B[39m), \u001B[38;5;124m'\u001B[39m\u001B[38;5;124m../tex/figures/03_02_protein_nodes.png\u001B[39m\u001B[38;5;124m'\u001B[39m, max_cols\u001B[38;5;241m=\u001B[39m\u001B[38;5;241m10\u001B[39m, max_rows\u001B[38;5;241m=\u001B[39m\u001B[38;5;241m10\u001B[39m)\n",
      "File \u001B[1;32m~\\anaconda3\\envs\\env_Bachelor_Thesis\\Lib\\site-packages\\dataframe_image\\_pandas_accessor.py:202\u001B[0m, in \u001B[0;36mexport\u001B[1;34m(obj, filename, fontsize, max_rows, max_cols, table_conversion, chrome_path, dpi, use_mathjax)\u001B[0m\n\u001B[0;32m    179\u001B[0m \u001B[38;5;28;01mdef\u001B[39;00m \u001B[38;5;21mexport\u001B[39m(\n\u001B[0;32m    180\u001B[0m     obj: pd\u001B[38;5;241m.\u001B[39mDataFrame,\n\u001B[0;32m    181\u001B[0m     filename,\n\u001B[1;32m   (...)\u001B[0m\n\u001B[0;32m    190\u001B[0m     use_mathjax\u001B[38;5;241m=\u001B[39m\u001B[38;5;28;01mFalse\u001B[39;00m,\n\u001B[0;32m    191\u001B[0m ):\n\u001B[0;32m    192\u001B[0m     converter \u001B[38;5;241m=\u001B[39m prepare_converter(\n\u001B[0;32m    193\u001B[0m         filename,\n\u001B[0;32m    194\u001B[0m         fontsize,\n\u001B[1;32m   (...)\u001B[0m\n\u001B[0;32m    200\u001B[0m         use_mathjax,\n\u001B[0;32m    201\u001B[0m     )\n\u001B[1;32m--> 202\u001B[0m     html \u001B[38;5;241m=\u001B[39m generate_html(obj, filename, max_rows, max_cols)\n\u001B[0;32m    204\u001B[0m     \u001B[38;5;28;01mwith\u001B[39;00m disable_max_image_pixels():\n\u001B[0;32m    205\u001B[0m         img_str \u001B[38;5;241m=\u001B[39m converter(html)\n",
      "File \u001B[1;32m~\\anaconda3\\envs\\env_Bachelor_Thesis\\Lib\\site-packages\\dataframe_image\\_pandas_accessor.py:138\u001B[0m, in \u001B[0;36mgenerate_html\u001B[1;34m(obj, filename, max_rows, max_cols)\u001B[0m\n\u001B[0;32m    129\u001B[0m         error_msg \u001B[38;5;241m=\u001B[39m (\n\u001B[0;32m    130\u001B[0m             \u001B[38;5;124mf\u001B[39m\u001B[38;5;124m\"\u001B[39m\u001B[38;5;124mYour Styled DataFrame has more than \u001B[39m\u001B[38;5;132;01m{\u001B[39;00mMAX_ROWS\u001B[38;5;132;01m}\u001B[39;00m\u001B[38;5;124m rows and will produce \u001B[39m\u001B[38;5;124m\"\u001B[39m\n\u001B[0;32m    131\u001B[0m             \u001B[38;5;124m\"\u001B[39m\u001B[38;5;124ma huge image file, possibly causing your computer to crash. Override \u001B[39m\u001B[38;5;124m\"\u001B[39m\n\u001B[1;32m   (...)\u001B[0m\n\u001B[0;32m    134\u001B[0m             \u001B[38;5;124m\"\u001B[39m\u001B[38;5;124mand therefore do not work with the `max_rows` and `max_cols` parameters\u001B[39m\u001B[38;5;124m\"\u001B[39m\n\u001B[0;32m    135\u001B[0m         )\n\u001B[0;32m    136\u001B[0m     \u001B[38;5;28;01mraise\u001B[39;00m \u001B[38;5;167;01mValueError\u001B[39;00m(error_msg)\n\u001B[1;32m--> 138\u001B[0m \u001B[38;5;28;01mif\u001B[39;00m df\u001B[38;5;241m.\u001B[39mshape[\u001B[38;5;241m1\u001B[39m] \u001B[38;5;241m>\u001B[39m MAX_COLS \u001B[38;5;129;01mand\u001B[39;00m max_cols \u001B[38;5;129;01mis\u001B[39;00m \u001B[38;5;28;01mNone\u001B[39;00m:\n\u001B[0;32m    139\u001B[0m     error_msg \u001B[38;5;241m=\u001B[39m (\n\u001B[0;32m    140\u001B[0m         \u001B[38;5;124mf\u001B[39m\u001B[38;5;124m\"\u001B[39m\u001B[38;5;124mYour DataFrame has more than \u001B[39m\u001B[38;5;132;01m{\u001B[39;00mMAX_COLS\u001B[38;5;132;01m}\u001B[39;00m\u001B[38;5;124m columns and will produce a huge \u001B[39m\u001B[38;5;124m\"\u001B[39m\n\u001B[0;32m    141\u001B[0m         \u001B[38;5;124m\"\u001B[39m\u001B[38;5;124mimage file, possibly causing your computer to crash. Override this error \u001B[39m\u001B[38;5;124m\"\u001B[39m\n\u001B[0;32m    142\u001B[0m         \u001B[38;5;124m\"\u001B[39m\u001B[38;5;124mby explicitly setting `max_cols`. Use -1 for all columns.\u001B[39m\u001B[38;5;124m\"\u001B[39m\n\u001B[0;32m    143\u001B[0m     )\n\u001B[0;32m    144\u001B[0m     \u001B[38;5;28;01mif\u001B[39;00m is_styler:\n",
      "\u001B[1;31mIndexError\u001B[0m: tuple index out of range"
     ]
    }
   ],
   "execution_count": 35
  },
  {
   "metadata": {
    "ExecuteTime": {
     "end_time": "2024-12-05T16:17:42.170943Z",
     "start_time": "2024-12-05T16:17:42.140963Z"
    }
   },
   "cell_type": "code",
   "source": "dfi.export(df_nodes_protein_plot.head(5), '../tex/figures/03_02_protein_nodes.png', max_cols=10, max_rows=10)",
   "id": "17d4f14e999ed7c",
   "outputs": [
    {
     "ename": "IndexError",
     "evalue": "tuple index out of range",
     "output_type": "error",
     "traceback": [
      "\u001B[1;31m---------------------------------------------------------------------------\u001B[0m",
      "\u001B[1;31mIndexError\u001B[0m                                Traceback (most recent call last)",
      "Cell \u001B[1;32mIn[41], line 1\u001B[0m\n\u001B[1;32m----> 1\u001B[0m dfi\u001B[38;5;241m.\u001B[39mexport(df_nodes_protein_plot\u001B[38;5;241m.\u001B[39mhead(\u001B[38;5;241m5\u001B[39m), \u001B[38;5;124m'\u001B[39m\u001B[38;5;124m../tex/figures/03_02_protein_nodes.png\u001B[39m\u001B[38;5;124m'\u001B[39m, max_cols\u001B[38;5;241m=\u001B[39m\u001B[38;5;241m10\u001B[39m, max_rows\u001B[38;5;241m=\u001B[39m\u001B[38;5;241m10\u001B[39m)\n",
      "File \u001B[1;32m~\\anaconda3\\envs\\env_Bachelor_Thesis\\Lib\\site-packages\\dataframe_image\\_pandas_accessor.py:202\u001B[0m, in \u001B[0;36mexport\u001B[1;34m(obj, filename, fontsize, max_rows, max_cols, table_conversion, chrome_path, dpi, use_mathjax)\u001B[0m\n\u001B[0;32m    179\u001B[0m \u001B[38;5;28;01mdef\u001B[39;00m \u001B[38;5;21mexport\u001B[39m(\n\u001B[0;32m    180\u001B[0m     obj: pd\u001B[38;5;241m.\u001B[39mDataFrame,\n\u001B[0;32m    181\u001B[0m     filename,\n\u001B[1;32m   (...)\u001B[0m\n\u001B[0;32m    190\u001B[0m     use_mathjax\u001B[38;5;241m=\u001B[39m\u001B[38;5;28;01mFalse\u001B[39;00m,\n\u001B[0;32m    191\u001B[0m ):\n\u001B[0;32m    192\u001B[0m     converter \u001B[38;5;241m=\u001B[39m prepare_converter(\n\u001B[0;32m    193\u001B[0m         filename,\n\u001B[0;32m    194\u001B[0m         fontsize,\n\u001B[1;32m   (...)\u001B[0m\n\u001B[0;32m    200\u001B[0m         use_mathjax,\n\u001B[0;32m    201\u001B[0m     )\n\u001B[1;32m--> 202\u001B[0m     html \u001B[38;5;241m=\u001B[39m generate_html(obj, filename, max_rows, max_cols)\n\u001B[0;32m    204\u001B[0m     \u001B[38;5;28;01mwith\u001B[39;00m disable_max_image_pixels():\n\u001B[0;32m    205\u001B[0m         img_str \u001B[38;5;241m=\u001B[39m converter(html)\n",
      "File \u001B[1;32m~\\anaconda3\\envs\\env_Bachelor_Thesis\\Lib\\site-packages\\dataframe_image\\_pandas_accessor.py:138\u001B[0m, in \u001B[0;36mgenerate_html\u001B[1;34m(obj, filename, max_rows, max_cols)\u001B[0m\n\u001B[0;32m    129\u001B[0m         error_msg \u001B[38;5;241m=\u001B[39m (\n\u001B[0;32m    130\u001B[0m             \u001B[38;5;124mf\u001B[39m\u001B[38;5;124m\"\u001B[39m\u001B[38;5;124mYour Styled DataFrame has more than \u001B[39m\u001B[38;5;132;01m{\u001B[39;00mMAX_ROWS\u001B[38;5;132;01m}\u001B[39;00m\u001B[38;5;124m rows and will produce \u001B[39m\u001B[38;5;124m\"\u001B[39m\n\u001B[0;32m    131\u001B[0m             \u001B[38;5;124m\"\u001B[39m\u001B[38;5;124ma huge image file, possibly causing your computer to crash. Override \u001B[39m\u001B[38;5;124m\"\u001B[39m\n\u001B[1;32m   (...)\u001B[0m\n\u001B[0;32m    134\u001B[0m             \u001B[38;5;124m\"\u001B[39m\u001B[38;5;124mand therefore do not work with the `max_rows` and `max_cols` parameters\u001B[39m\u001B[38;5;124m\"\u001B[39m\n\u001B[0;32m    135\u001B[0m         )\n\u001B[0;32m    136\u001B[0m     \u001B[38;5;28;01mraise\u001B[39;00m \u001B[38;5;167;01mValueError\u001B[39;00m(error_msg)\n\u001B[1;32m--> 138\u001B[0m \u001B[38;5;28;01mif\u001B[39;00m df\u001B[38;5;241m.\u001B[39mshape[\u001B[38;5;241m1\u001B[39m] \u001B[38;5;241m>\u001B[39m MAX_COLS \u001B[38;5;129;01mand\u001B[39;00m max_cols \u001B[38;5;129;01mis\u001B[39;00m \u001B[38;5;28;01mNone\u001B[39;00m:\n\u001B[0;32m    139\u001B[0m     error_msg \u001B[38;5;241m=\u001B[39m (\n\u001B[0;32m    140\u001B[0m         \u001B[38;5;124mf\u001B[39m\u001B[38;5;124m\"\u001B[39m\u001B[38;5;124mYour DataFrame has more than \u001B[39m\u001B[38;5;132;01m{\u001B[39;00mMAX_COLS\u001B[38;5;132;01m}\u001B[39;00m\u001B[38;5;124m columns and will produce a huge \u001B[39m\u001B[38;5;124m\"\u001B[39m\n\u001B[0;32m    141\u001B[0m         \u001B[38;5;124m\"\u001B[39m\u001B[38;5;124mimage file, possibly causing your computer to crash. Override this error \u001B[39m\u001B[38;5;124m\"\u001B[39m\n\u001B[0;32m    142\u001B[0m         \u001B[38;5;124m\"\u001B[39m\u001B[38;5;124mby explicitly setting `max_cols`. Use -1 for all columns.\u001B[39m\u001B[38;5;124m\"\u001B[39m\n\u001B[0;32m    143\u001B[0m     )\n\u001B[0;32m    144\u001B[0m     \u001B[38;5;28;01mif\u001B[39;00m is_styler:\n",
      "\u001B[1;31mIndexError\u001B[0m: tuple index out of range"
     ]
    }
   ],
   "execution_count": 41
  }
 ],
 "metadata": {
  "kernelspec": {
   "display_name": "Python 3",
   "language": "python",
   "name": "python3"
  },
  "language_info": {
   "codemirror_mode": {
    "name": "ipython",
    "version": 2
   },
   "file_extension": ".py",
   "mimetype": "text/x-python",
   "name": "python",
   "nbconvert_exporter": "python",
   "pygments_lexer": "ipython2",
   "version": "2.7.6"
  }
 },
 "nbformat": 4,
 "nbformat_minor": 5
}
