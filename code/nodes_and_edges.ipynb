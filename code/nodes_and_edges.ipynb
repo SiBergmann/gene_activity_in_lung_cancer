{
 "cells": [
  {
   "metadata": {
    "ExecuteTime": {
     "end_time": "2024-10-24T11:59:47.340652Z",
     "start_time": "2024-10-24T11:59:47.328468Z"
    }
   },
   "cell_type": "code",
   "source": [
    "import pandas as pd\n",
    "import dataframe_image as dfi"
   ],
   "id": "de17c831ebfe57de",
   "outputs": [],
   "execution_count": 57
  },
  {
   "metadata": {},
   "cell_type": "markdown",
   "source": "## Import data",
   "id": "46927e43fe43848a"
  },
  {
   "metadata": {
    "ExecuteTime": {
     "end_time": "2024-10-24T11:59:47.458613Z",
     "start_time": "2024-10-24T11:59:47.391258Z"
    }
   },
   "cell_type": "code",
   "source": "df_nodes_genes = pd.read_csv('../processed_data/nodes_genes.csv')",
   "id": "initial_id",
   "outputs": [],
   "execution_count": 58
  },
  {
   "metadata": {},
   "cell_type": "markdown",
   "source": [
    "# Edges: Protein-Gene Connection\n",
    "File from: https://www.ensembl.org/biomart/martview/\n",
    "\n",
    "Ensembl Genes 112 > Human Genes (GRCh38.p14)\n",
    "\n",
    "Columns: Gene stable ID, Protein stable ID"
   ],
   "id": "6c33380c3ec9d25c"
  },
  {
   "metadata": {
    "ExecuteTime": {
     "end_time": "2024-10-24T11:59:47.678070Z",
     "start_time": "2024-10-24T11:59:47.458613Z"
    }
   },
   "cell_type": "code",
   "source": [
    "df_edges_protein_gene = pd.read_csv('../import_data/ENSEMBLE/biomart_gene_protein.txt',  sep='\\t')\n",
    "df_edges_protein_gene.rename(columns={'Gene stable ID': 'Gene ID', 'Protein stable ID': 'Protein ID'}, inplace=True)\n",
    "\n",
    "# filter for genes in nodes\n",
    "df_edges_protein_gene = df_edges_protein_gene[df_edges_protein_gene['Gene ID'].isin(df_nodes_genes['Gene ID'])]\n",
    "\n",
    "# drop genes without protein\n",
    "df_edges_protein_gene.dropna(subset=['Protein ID'], inplace=True)\n",
    "\n",
    "df_edges_protein_gene"
   ],
   "id": "a36caeb96100b45",
   "outputs": [
    {
     "data": {
      "text/plain": [
       "                Gene ID       Protein ID\n",
       "5       ENSG00000198888  ENSP00000354687\n",
       "9       ENSG00000198763  ENSP00000355046\n",
       "15      ENSG00000198804  ENSP00000354499\n",
       "18      ENSG00000198712  ENSP00000354876\n",
       "20      ENSG00000228253  ENSP00000355265\n",
       "...                 ...              ...\n",
       "185320  ENSG00000143520  ENSP00000373370\n",
       "185321  ENSG00000143507  ENSP00000355866\n",
       "185322  ENSG00000143507  ENSP00000483812\n",
       "185323  ENSG00000143507  ENSP00000482935\n",
       "185324  ENSG00000143507  ENSP00000480008\n",
       "\n",
       "[101731 rows x 2 columns]"
      ],
      "text/html": [
       "<div>\n",
       "<style scoped>\n",
       "    .dataframe tbody tr th:only-of-type {\n",
       "        vertical-align: middle;\n",
       "    }\n",
       "\n",
       "    .dataframe tbody tr th {\n",
       "        vertical-align: top;\n",
       "    }\n",
       "\n",
       "    .dataframe thead th {\n",
       "        text-align: right;\n",
       "    }\n",
       "</style>\n",
       "<table border=\"1\" class=\"dataframe\">\n",
       "  <thead>\n",
       "    <tr style=\"text-align: right;\">\n",
       "      <th></th>\n",
       "      <th>Gene ID</th>\n",
       "      <th>Protein ID</th>\n",
       "    </tr>\n",
       "  </thead>\n",
       "  <tbody>\n",
       "    <tr>\n",
       "      <th>5</th>\n",
       "      <td>ENSG00000198888</td>\n",
       "      <td>ENSP00000354687</td>\n",
       "    </tr>\n",
       "    <tr>\n",
       "      <th>9</th>\n",
       "      <td>ENSG00000198763</td>\n",
       "      <td>ENSP00000355046</td>\n",
       "    </tr>\n",
       "    <tr>\n",
       "      <th>15</th>\n",
       "      <td>ENSG00000198804</td>\n",
       "      <td>ENSP00000354499</td>\n",
       "    </tr>\n",
       "    <tr>\n",
       "      <th>18</th>\n",
       "      <td>ENSG00000198712</td>\n",
       "      <td>ENSP00000354876</td>\n",
       "    </tr>\n",
       "    <tr>\n",
       "      <th>20</th>\n",
       "      <td>ENSG00000228253</td>\n",
       "      <td>ENSP00000355265</td>\n",
       "    </tr>\n",
       "    <tr>\n",
       "      <th>...</th>\n",
       "      <td>...</td>\n",
       "      <td>...</td>\n",
       "    </tr>\n",
       "    <tr>\n",
       "      <th>185320</th>\n",
       "      <td>ENSG00000143520</td>\n",
       "      <td>ENSP00000373370</td>\n",
       "    </tr>\n",
       "    <tr>\n",
       "      <th>185321</th>\n",
       "      <td>ENSG00000143507</td>\n",
       "      <td>ENSP00000355866</td>\n",
       "    </tr>\n",
       "    <tr>\n",
       "      <th>185322</th>\n",
       "      <td>ENSG00000143507</td>\n",
       "      <td>ENSP00000483812</td>\n",
       "    </tr>\n",
       "    <tr>\n",
       "      <th>185323</th>\n",
       "      <td>ENSG00000143507</td>\n",
       "      <td>ENSP00000482935</td>\n",
       "    </tr>\n",
       "    <tr>\n",
       "      <th>185324</th>\n",
       "      <td>ENSG00000143507</td>\n",
       "      <td>ENSP00000480008</td>\n",
       "    </tr>\n",
       "  </tbody>\n",
       "</table>\n",
       "<p>101731 rows × 2 columns</p>\n",
       "</div>"
      ]
     },
     "execution_count": 59,
     "metadata": {},
     "output_type": "execute_result"
    }
   ],
   "execution_count": 59
  },
  {
   "metadata": {},
   "cell_type": "markdown",
   "source": "# Nodes: Protein\n",
   "id": "4d154f07da1daba6"
  },
  {
   "metadata": {
    "ExecuteTime": {
     "end_time": "2024-10-24T11:59:47.708941Z",
     "start_time": "2024-10-24T11:59:47.678675Z"
    }
   },
   "cell_type": "code",
   "source": [
    "df_nodes_protein = df_edges_protein_gene.copy()\n",
    "df_nodes_protein = df_nodes_protein['Protein ID']\n",
    "\n",
    "df_nodes_protein = df_nodes_protein.drop_duplicates()\n",
    "\n",
    "df_nodes_protein"
   ],
   "id": "3eb0422fe2814828",
   "outputs": [
    {
     "data": {
      "text/plain": [
       "5         ENSP00000354687\n",
       "9         ENSP00000355046\n",
       "15        ENSP00000354499\n",
       "18        ENSP00000354876\n",
       "20        ENSP00000355265\n",
       "               ...       \n",
       "185320    ENSP00000373370\n",
       "185321    ENSP00000355866\n",
       "185322    ENSP00000483812\n",
       "185323    ENSP00000482935\n",
       "185324    ENSP00000480008\n",
       "Name: Protein ID, Length: 101731, dtype: object"
      ]
     },
     "execution_count": 60,
     "metadata": {},
     "output_type": "execute_result"
    }
   ],
   "execution_count": 60
  },
  {
   "metadata": {},
   "cell_type": "markdown",
   "source": [
    "# Edges: Protein-Protein Interaction\n",
    "STRING Data as Interaction"
   ],
   "id": "554d37780ad5e73f"
  },
  {
   "metadata": {
    "ExecuteTime": {
     "end_time": "2024-10-24T12:00:19.163757Z",
     "start_time": "2024-10-24T11:59:47.708941Z"
    }
   },
   "cell_type": "code",
   "source": [
    "filepath = '../import_data/STRING/protein.links.full.v12.0.txt'\n",
    "df_edges_protein = pd.read_csv(filepath, sep=' ', usecols=[0, 1])\n",
    "\n",
    "print('Length of STRING Links Dataset: ', len(df_edges_protein))\n",
    "\n",
    "df_edges_protein.rename(columns={'protein1': 'left Protein ID', 'protein2': 'right Protein ID'}, inplace=True)\n",
    "\n",
    "df_edges_protein['left Protein ID'] = df_edges_protein['left Protein ID'].apply(lambda x: x.split('.')[1])\n",
    "df_edges_protein['right Protein ID'] = df_edges_protein['right Protein ID'].apply(lambda x: x.split('.')[1])\n",
    "\n",
    "#drop duplicates\n",
    "df_edges_protein = df_edges_protein.drop_duplicates()\n",
    "\n",
    "df_edges_protein"
   ],
   "id": "681c60eea90ce9c2",
   "outputs": [
    {
     "name": "stdout",
     "output_type": "stream",
     "text": [
      "Length of STRING Links Dataset:  13715404\n"
     ]
    },
    {
     "data": {
      "text/plain": [
       "          left Protein ID right Protein ID\n",
       "0         ENSP00000000233  ENSP00000356607\n",
       "1         ENSP00000000233  ENSP00000427567\n",
       "2         ENSP00000000233  ENSP00000253413\n",
       "3         ENSP00000000233  ENSP00000493357\n",
       "4         ENSP00000000233  ENSP00000324127\n",
       "...                   ...              ...\n",
       "13715399  ENSP00000501317  ENSP00000475489\n",
       "13715400  ENSP00000501317  ENSP00000370447\n",
       "13715401  ENSP00000501317  ENSP00000312272\n",
       "13715402  ENSP00000501317  ENSP00000402092\n",
       "13715403  ENSP00000501317  ENSP00000404074\n",
       "\n",
       "[13715404 rows x 2 columns]"
      ],
      "text/html": [
       "<div>\n",
       "<style scoped>\n",
       "    .dataframe tbody tr th:only-of-type {\n",
       "        vertical-align: middle;\n",
       "    }\n",
       "\n",
       "    .dataframe tbody tr th {\n",
       "        vertical-align: top;\n",
       "    }\n",
       "\n",
       "    .dataframe thead th {\n",
       "        text-align: right;\n",
       "    }\n",
       "</style>\n",
       "<table border=\"1\" class=\"dataframe\">\n",
       "  <thead>\n",
       "    <tr style=\"text-align: right;\">\n",
       "      <th></th>\n",
       "      <th>left Protein ID</th>\n",
       "      <th>right Protein ID</th>\n",
       "    </tr>\n",
       "  </thead>\n",
       "  <tbody>\n",
       "    <tr>\n",
       "      <th>0</th>\n",
       "      <td>ENSP00000000233</td>\n",
       "      <td>ENSP00000356607</td>\n",
       "    </tr>\n",
       "    <tr>\n",
       "      <th>1</th>\n",
       "      <td>ENSP00000000233</td>\n",
       "      <td>ENSP00000427567</td>\n",
       "    </tr>\n",
       "    <tr>\n",
       "      <th>2</th>\n",
       "      <td>ENSP00000000233</td>\n",
       "      <td>ENSP00000253413</td>\n",
       "    </tr>\n",
       "    <tr>\n",
       "      <th>3</th>\n",
       "      <td>ENSP00000000233</td>\n",
       "      <td>ENSP00000493357</td>\n",
       "    </tr>\n",
       "    <tr>\n",
       "      <th>4</th>\n",
       "      <td>ENSP00000000233</td>\n",
       "      <td>ENSP00000324127</td>\n",
       "    </tr>\n",
       "    <tr>\n",
       "      <th>...</th>\n",
       "      <td>...</td>\n",
       "      <td>...</td>\n",
       "    </tr>\n",
       "    <tr>\n",
       "      <th>13715399</th>\n",
       "      <td>ENSP00000501317</td>\n",
       "      <td>ENSP00000475489</td>\n",
       "    </tr>\n",
       "    <tr>\n",
       "      <th>13715400</th>\n",
       "      <td>ENSP00000501317</td>\n",
       "      <td>ENSP00000370447</td>\n",
       "    </tr>\n",
       "    <tr>\n",
       "      <th>13715401</th>\n",
       "      <td>ENSP00000501317</td>\n",
       "      <td>ENSP00000312272</td>\n",
       "    </tr>\n",
       "    <tr>\n",
       "      <th>13715402</th>\n",
       "      <td>ENSP00000501317</td>\n",
       "      <td>ENSP00000402092</td>\n",
       "    </tr>\n",
       "    <tr>\n",
       "      <th>13715403</th>\n",
       "      <td>ENSP00000501317</td>\n",
       "      <td>ENSP00000404074</td>\n",
       "    </tr>\n",
       "  </tbody>\n",
       "</table>\n",
       "<p>13715404 rows × 2 columns</p>\n",
       "</div>"
      ]
     },
     "execution_count": 61,
     "metadata": {},
     "output_type": "execute_result"
    }
   ],
   "execution_count": 61
  },
  {
   "metadata": {},
   "cell_type": "markdown",
   "source": [
    "### Filter for Proteins from Nodes\n",
    "Leads to only direct connections between proteins that are connected to genes\n",
    "\n",
    "→ Gene - Protein - Protein - Gene\n",
    "\n",
    "\n",
    "But we also want to include proteins that are not connected to a gene\n",
    "\n",
    "→ Gene - Protein - $Protein$ - Protein - Gene\n"
   ],
   "id": "6f5da69f4a5fd07c"
  },
  {
   "metadata": {
    "ExecuteTime": {
     "end_time": "2024-10-24T12:00:19.177643Z",
     "start_time": "2024-10-24T12:00:19.167878Z"
    }
   },
   "cell_type": "code",
   "source": [
    "\"\"\"df_edges_protein = df_edges_protein[df_edges_protein['protein1'].isin(df_nodes_protein)]\n",
    "df_edges_protein = df_edges_protein[df_edges_protein['protein2'].isin(df_nodes_protein)]\n",
    "\n",
    "df_edges_protein\"\"\""
   ],
   "id": "aa6bcf4d543622cc",
   "outputs": [
    {
     "data": {
      "text/plain": [
       "\"df_edges_protein = df_edges_protein[df_edges_protein['protein1'].isin(df_nodes_protein)]\\ndf_edges_protein = df_edges_protein[df_edges_protein['protein2'].isin(df_nodes_protein)]\\n\\ndf_edges_protein\""
      ]
     },
     "execution_count": 62,
     "metadata": {},
     "output_type": "execute_result"
    }
   ],
   "execution_count": 62
  },
  {
   "metadata": {},
   "cell_type": "markdown",
   "source": [
    "FROM LATEX:\n",
    "\n",
    "not every protein is connected to another one \n",
    "\n",
    "→ but since every gene could have multiple proteins, the connected gene may have a connection to another protein\n",
    "\n",
    "TODO: are those genes that are not connected to another gene relevant for the analysis?"
   ],
   "id": "f4a0ef8a9d2292f2"
  },
  {
   "metadata": {
    "ExecuteTime": {
     "end_time": "2024-10-24T12:00:19.186399Z",
     "start_time": "2024-10-24T12:00:19.177643Z"
    }
   },
   "cell_type": "code",
   "source": [
    "# TODO find genes that are not connected to another gene\n",
    "\n"
   ],
   "id": "adc476e668878756",
   "outputs": [],
   "execution_count": 63
  },
  {
   "metadata": {},
   "cell_type": "markdown",
   "source": "# Export Data",
   "id": "a7c449732d96a18c"
  },
  {
   "metadata": {
    "ExecuteTime": {
     "end_time": "2024-10-24T12:00:35.728235Z",
     "start_time": "2024-10-24T12:00:19.186399Z"
    }
   },
   "cell_type": "code",
   "source": [
    "df_nodes_protein.to_csv('../processed_data/nodes_protein.csv', index=False)\n",
    "df_edges_protein.to_csv('../processed_data/edges_protein.csv', index=False)\n",
    "df_edges_protein_gene.to_csv('../processed_data/edges_protein_gene.csv', index=False)"
   ],
   "id": "3643344b702567c5",
   "outputs": [],
   "execution_count": 64
  },
  {
   "metadata": {
    "ExecuteTime": {
     "end_time": "2024-10-24T12:00:35.742511Z",
     "start_time": "2024-10-24T12:00:35.728235Z"
    }
   },
   "cell_type": "code",
   "source": [
    "print(f\"There are {len(df_nodes_protein)} Protein Nodes\")\n",
    "print(f\"There are {len(df_edges_protein)} Protein-Protein Edges\")\n",
    "print(f\"There are {len(df_edges_protein_gene)} Protein-Gene Edges\")"
   ],
   "id": "1d8c26ed7555f723",
   "outputs": [
    {
     "name": "stdout",
     "output_type": "stream",
     "text": [
      "There are 101731 Protein Nodes\n",
      "There are 13715404 Protein-Protein Edges\n",
      "There are 101731 Protein-Gene Edges\n"
     ]
    }
   ],
   "execution_count": 65
  },
  {
   "metadata": {
    "ExecuteTime": {
     "end_time": "2024-10-24T12:10:19.030330Z",
     "start_time": "2024-10-24T12:10:18.249738Z"
    }
   },
   "cell_type": "code",
   "source": [
    "df_edges_protein_plot = df_edges_protein.reset_index(drop=True)\n",
    "df_edges_protein_gene_plot = df_edges_protein_gene.reset_index(drop=True)\n",
    "df_nodes_protein_plot = df_nodes_protein.reset_index()\n",
    "\n",
    "df_nodes_protein_plot\n",
    "# lib cant plot single columns"
   ],
   "id": "4a719b5ae1f90dba",
   "outputs": [
    {
     "data": {
      "text/plain": [
       "         index       Protein ID\n",
       "0            5  ENSP00000354687\n",
       "1            9  ENSP00000355046\n",
       "2           15  ENSP00000354499\n",
       "3           18  ENSP00000354876\n",
       "4           20  ENSP00000355265\n",
       "...        ...              ...\n",
       "101726  185320  ENSP00000373370\n",
       "101727  185321  ENSP00000355866\n",
       "101728  185322  ENSP00000483812\n",
       "101729  185323  ENSP00000482935\n",
       "101730  185324  ENSP00000480008\n",
       "\n",
       "[101731 rows x 2 columns]"
      ],
      "text/html": [
       "<div>\n",
       "<style scoped>\n",
       "    .dataframe tbody tr th:only-of-type {\n",
       "        vertical-align: middle;\n",
       "    }\n",
       "\n",
       "    .dataframe tbody tr th {\n",
       "        vertical-align: top;\n",
       "    }\n",
       "\n",
       "    .dataframe thead th {\n",
       "        text-align: right;\n",
       "    }\n",
       "</style>\n",
       "<table border=\"1\" class=\"dataframe\">\n",
       "  <thead>\n",
       "    <tr style=\"text-align: right;\">\n",
       "      <th></th>\n",
       "      <th>index</th>\n",
       "      <th>Protein ID</th>\n",
       "    </tr>\n",
       "  </thead>\n",
       "  <tbody>\n",
       "    <tr>\n",
       "      <th>0</th>\n",
       "      <td>5</td>\n",
       "      <td>ENSP00000354687</td>\n",
       "    </tr>\n",
       "    <tr>\n",
       "      <th>1</th>\n",
       "      <td>9</td>\n",
       "      <td>ENSP00000355046</td>\n",
       "    </tr>\n",
       "    <tr>\n",
       "      <th>2</th>\n",
       "      <td>15</td>\n",
       "      <td>ENSP00000354499</td>\n",
       "    </tr>\n",
       "    <tr>\n",
       "      <th>3</th>\n",
       "      <td>18</td>\n",
       "      <td>ENSP00000354876</td>\n",
       "    </tr>\n",
       "    <tr>\n",
       "      <th>4</th>\n",
       "      <td>20</td>\n",
       "      <td>ENSP00000355265</td>\n",
       "    </tr>\n",
       "    <tr>\n",
       "      <th>...</th>\n",
       "      <td>...</td>\n",
       "      <td>...</td>\n",
       "    </tr>\n",
       "    <tr>\n",
       "      <th>101726</th>\n",
       "      <td>185320</td>\n",
       "      <td>ENSP00000373370</td>\n",
       "    </tr>\n",
       "    <tr>\n",
       "      <th>101727</th>\n",
       "      <td>185321</td>\n",
       "      <td>ENSP00000355866</td>\n",
       "    </tr>\n",
       "    <tr>\n",
       "      <th>101728</th>\n",
       "      <td>185322</td>\n",
       "      <td>ENSP00000483812</td>\n",
       "    </tr>\n",
       "    <tr>\n",
       "      <th>101729</th>\n",
       "      <td>185323</td>\n",
       "      <td>ENSP00000482935</td>\n",
       "    </tr>\n",
       "    <tr>\n",
       "      <th>101730</th>\n",
       "      <td>185324</td>\n",
       "      <td>ENSP00000480008</td>\n",
       "    </tr>\n",
       "  </tbody>\n",
       "</table>\n",
       "<p>101731 rows × 2 columns</p>\n",
       "</div>"
      ]
     },
     "execution_count": 77,
     "metadata": {},
     "output_type": "execute_result"
    }
   ],
   "execution_count": 77
  },
  {
   "metadata": {
    "ExecuteTime": {
     "end_time": "2024-10-24T12:09:56.819455Z",
     "start_time": "2024-10-24T12:09:53.732809Z"
    }
   },
   "cell_type": "code",
   "source": [
    "dfi.export(df_edges_protein_plot.head(5), '../tex/figures/03_02_protein_edges.png')\n",
    "dfi.export(df_edges_protein_gene_plot.head(5), '../tex/figures/03_02_gene_protein_edges.png')\n",
    "dfi.export(df_nodes_protein_plot.head(5), '../tex/figures/03_02_protein_nodes.png')"
   ],
   "id": "468846d3d61aa5b7",
   "outputs": [
    {
     "ename": "IndexError",
     "evalue": "tuple index out of range",
     "output_type": "error",
     "traceback": [
      "\u001B[1;31m---------------------------------------------------------------------------\u001B[0m",
      "\u001B[1;31mIndexError\u001B[0m                                Traceback (most recent call last)",
      "Cell \u001B[1;32mIn[75], line 3\u001B[0m\n\u001B[0;32m      1\u001B[0m dfi\u001B[38;5;241m.\u001B[39mexport(df_edges_protein_plot\u001B[38;5;241m.\u001B[39mhead(\u001B[38;5;241m5\u001B[39m), \u001B[38;5;124m'\u001B[39m\u001B[38;5;124m../tex/figures/03_02_protein_edges.png\u001B[39m\u001B[38;5;124m'\u001B[39m)\n\u001B[0;32m      2\u001B[0m dfi\u001B[38;5;241m.\u001B[39mexport(df_edges_protein_gene_plot\u001B[38;5;241m.\u001B[39mhead(\u001B[38;5;241m5\u001B[39m), \u001B[38;5;124m'\u001B[39m\u001B[38;5;124m../tex/figures/03_02_gene_protein_edges.png\u001B[39m\u001B[38;5;124m'\u001B[39m)\n\u001B[1;32m----> 3\u001B[0m dfi\u001B[38;5;241m.\u001B[39mexport(df_nodes_protein_plot\u001B[38;5;241m.\u001B[39mhead(\u001B[38;5;241m5\u001B[39m), \u001B[38;5;124m'\u001B[39m\u001B[38;5;124m../tex/figures/03_02_protein_nodes.png\u001B[39m\u001B[38;5;124m'\u001B[39m)\n",
      "File \u001B[1;32m~\\anaconda3\\envs\\env_Bachelor_Thesis\\Lib\\site-packages\\dataframe_image\\_pandas_accessor.py:202\u001B[0m, in \u001B[0;36mexport\u001B[1;34m(obj, filename, fontsize, max_rows, max_cols, table_conversion, chrome_path, dpi, use_mathjax)\u001B[0m\n\u001B[0;32m    179\u001B[0m \u001B[38;5;28;01mdef\u001B[39;00m \u001B[38;5;21mexport\u001B[39m(\n\u001B[0;32m    180\u001B[0m     obj: pd\u001B[38;5;241m.\u001B[39mDataFrame,\n\u001B[0;32m    181\u001B[0m     filename,\n\u001B[1;32m   (...)\u001B[0m\n\u001B[0;32m    190\u001B[0m     use_mathjax\u001B[38;5;241m=\u001B[39m\u001B[38;5;28;01mFalse\u001B[39;00m,\n\u001B[0;32m    191\u001B[0m ):\n\u001B[0;32m    192\u001B[0m     converter \u001B[38;5;241m=\u001B[39m prepare_converter(\n\u001B[0;32m    193\u001B[0m         filename,\n\u001B[0;32m    194\u001B[0m         fontsize,\n\u001B[1;32m   (...)\u001B[0m\n\u001B[0;32m    200\u001B[0m         use_mathjax,\n\u001B[0;32m    201\u001B[0m     )\n\u001B[1;32m--> 202\u001B[0m     html \u001B[38;5;241m=\u001B[39m generate_html(obj, filename, max_rows, max_cols)\n\u001B[0;32m    204\u001B[0m     \u001B[38;5;28;01mwith\u001B[39;00m disable_max_image_pixels():\n\u001B[0;32m    205\u001B[0m         img_str \u001B[38;5;241m=\u001B[39m converter(html)\n",
      "File \u001B[1;32m~\\anaconda3\\envs\\env_Bachelor_Thesis\\Lib\\site-packages\\dataframe_image\\_pandas_accessor.py:138\u001B[0m, in \u001B[0;36mgenerate_html\u001B[1;34m(obj, filename, max_rows, max_cols)\u001B[0m\n\u001B[0;32m    129\u001B[0m         error_msg \u001B[38;5;241m=\u001B[39m (\n\u001B[0;32m    130\u001B[0m             \u001B[38;5;124mf\u001B[39m\u001B[38;5;124m\"\u001B[39m\u001B[38;5;124mYour Styled DataFrame has more than \u001B[39m\u001B[38;5;132;01m{\u001B[39;00mMAX_ROWS\u001B[38;5;132;01m}\u001B[39;00m\u001B[38;5;124m rows and will produce \u001B[39m\u001B[38;5;124m\"\u001B[39m\n\u001B[0;32m    131\u001B[0m             \u001B[38;5;124m\"\u001B[39m\u001B[38;5;124ma huge image file, possibly causing your computer to crash. Override \u001B[39m\u001B[38;5;124m\"\u001B[39m\n\u001B[1;32m   (...)\u001B[0m\n\u001B[0;32m    134\u001B[0m             \u001B[38;5;124m\"\u001B[39m\u001B[38;5;124mand therefore do not work with the `max_rows` and `max_cols` parameters\u001B[39m\u001B[38;5;124m\"\u001B[39m\n\u001B[0;32m    135\u001B[0m         )\n\u001B[0;32m    136\u001B[0m     \u001B[38;5;28;01mraise\u001B[39;00m \u001B[38;5;167;01mValueError\u001B[39;00m(error_msg)\n\u001B[1;32m--> 138\u001B[0m \u001B[38;5;28;01mif\u001B[39;00m df\u001B[38;5;241m.\u001B[39mshape[\u001B[38;5;241m1\u001B[39m] \u001B[38;5;241m>\u001B[39m MAX_COLS \u001B[38;5;129;01mand\u001B[39;00m max_cols \u001B[38;5;129;01mis\u001B[39;00m \u001B[38;5;28;01mNone\u001B[39;00m:\n\u001B[0;32m    139\u001B[0m     error_msg \u001B[38;5;241m=\u001B[39m (\n\u001B[0;32m    140\u001B[0m         \u001B[38;5;124mf\u001B[39m\u001B[38;5;124m\"\u001B[39m\u001B[38;5;124mYour DataFrame has more than \u001B[39m\u001B[38;5;132;01m{\u001B[39;00mMAX_COLS\u001B[38;5;132;01m}\u001B[39;00m\u001B[38;5;124m columns and will produce a huge \u001B[39m\u001B[38;5;124m\"\u001B[39m\n\u001B[0;32m    141\u001B[0m         \u001B[38;5;124m\"\u001B[39m\u001B[38;5;124mimage file, possibly causing your computer to crash. Override this error \u001B[39m\u001B[38;5;124m\"\u001B[39m\n\u001B[0;32m    142\u001B[0m         \u001B[38;5;124m\"\u001B[39m\u001B[38;5;124mby explicitly setting `max_cols`. Use -1 for all columns.\u001B[39m\u001B[38;5;124m\"\u001B[39m\n\u001B[0;32m    143\u001B[0m     )\n\u001B[0;32m    144\u001B[0m     \u001B[38;5;28;01mif\u001B[39;00m is_styler:\n",
      "\u001B[1;31mIndexError\u001B[0m: tuple index out of range"
     ]
    }
   ],
   "execution_count": 75
  },
  {
   "metadata": {
    "ExecuteTime": {
     "end_time": "2024-10-24T12:00:36.622242Z",
     "start_time": "2024-10-24T12:00:36.622242Z"
    }
   },
   "cell_type": "code",
   "source": "",
   "id": "29eac651f7a40504",
   "outputs": [],
   "execution_count": null
  }
 ],
 "metadata": {
  "kernelspec": {
   "display_name": "Python 3",
   "language": "python",
   "name": "python3"
  },
  "language_info": {
   "codemirror_mode": {
    "name": "ipython",
    "version": 2
   },
   "file_extension": ".py",
   "mimetype": "text/x-python",
   "name": "python",
   "nbconvert_exporter": "python",
   "pygments_lexer": "ipython2",
   "version": "2.7.6"
  }
 },
 "nbformat": 4,
 "nbformat_minor": 5
}
