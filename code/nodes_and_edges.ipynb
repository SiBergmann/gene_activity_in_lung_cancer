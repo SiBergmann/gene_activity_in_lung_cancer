{
 "cells": [
  {
   "metadata": {
    "ExecuteTime": {
     "end_time": "2024-10-22T15:11:07.963016Z",
     "start_time": "2024-10-22T15:11:05.627754Z"
    }
   },
   "cell_type": "code",
   "source": [
    "import pandas as pd\n",
    "import dataframe_image as dfi"
   ],
   "id": "de17c831ebfe57de",
   "outputs": [],
   "execution_count": 1
  },
  {
   "metadata": {},
   "cell_type": "markdown",
   "source": "## Import data",
   "id": "46927e43fe43848a"
  },
  {
   "metadata": {
    "ExecuteTime": {
     "end_time": "2024-10-22T15:11:08.018760Z",
     "start_time": "2024-10-22T15:11:07.963781Z"
    }
   },
   "cell_type": "code",
   "source": "df_nodes_genes = pd.read_csv('../processed_data/nodes_genes.csv')",
   "id": "initial_id",
   "outputs": [],
   "execution_count": 2
  },
  {
   "metadata": {},
   "cell_type": "markdown",
   "source": [
    "# Edges: Protein-Gene Connection\n",
    "File from: https://www.ensembl.org/biomart/martview/\n",
    "\n",
    "Ensembl Genes 112 > Human Genes (GRCh38.p14)\n",
    "\n",
    "Columns: Gene stable ID, Protein stable ID"
   ],
   "id": "6c33380c3ec9d25c"
  },
  {
   "metadata": {
    "ExecuteTime": {
     "end_time": "2024-10-22T15:11:08.266890Z",
     "start_time": "2024-10-22T15:11:08.018760Z"
    }
   },
   "cell_type": "code",
   "source": [
    "df_edges_protein_gene = pd.read_csv('../import_data/ENSEMBLE/biomart_gene_protein.txt',  sep='\\t')\n",
    "\n",
    "# filter for genes in nodes\n",
    "df_edges_protein_gene = df_edges_protein_gene[df_edges_protein_gene['Gene stable ID'].isin(df_nodes_genes['id'])]\n",
    "\n",
    "# drop genes without protein\n",
    "df_edges_protein_gene.dropna(subset=['Protein stable ID'], inplace=True)\n",
    "\n",
    "df_edges_protein_gene"
   ],
   "id": "a36caeb96100b45",
   "outputs": [
    {
     "data": {
      "text/plain": [
       "         Gene stable ID Protein stable ID\n",
       "5       ENSG00000198888   ENSP00000354687\n",
       "9       ENSG00000198763   ENSP00000355046\n",
       "15      ENSG00000198804   ENSP00000354499\n",
       "18      ENSG00000198712   ENSP00000354876\n",
       "20      ENSG00000228253   ENSP00000355265\n",
       "...                 ...               ...\n",
       "185320  ENSG00000143520   ENSP00000373370\n",
       "185321  ENSG00000143507   ENSP00000355866\n",
       "185322  ENSG00000143507   ENSP00000483812\n",
       "185323  ENSG00000143507   ENSP00000482935\n",
       "185324  ENSG00000143507   ENSP00000480008\n",
       "\n",
       "[101731 rows x 2 columns]"
      ],
      "text/html": [
       "<div>\n",
       "<style scoped>\n",
       "    .dataframe tbody tr th:only-of-type {\n",
       "        vertical-align: middle;\n",
       "    }\n",
       "\n",
       "    .dataframe tbody tr th {\n",
       "        vertical-align: top;\n",
       "    }\n",
       "\n",
       "    .dataframe thead th {\n",
       "        text-align: right;\n",
       "    }\n",
       "</style>\n",
       "<table border=\"1\" class=\"dataframe\">\n",
       "  <thead>\n",
       "    <tr style=\"text-align: right;\">\n",
       "      <th></th>\n",
       "      <th>Gene stable ID</th>\n",
       "      <th>Protein stable ID</th>\n",
       "    </tr>\n",
       "  </thead>\n",
       "  <tbody>\n",
       "    <tr>\n",
       "      <th>5</th>\n",
       "      <td>ENSG00000198888</td>\n",
       "      <td>ENSP00000354687</td>\n",
       "    </tr>\n",
       "    <tr>\n",
       "      <th>9</th>\n",
       "      <td>ENSG00000198763</td>\n",
       "      <td>ENSP00000355046</td>\n",
       "    </tr>\n",
       "    <tr>\n",
       "      <th>15</th>\n",
       "      <td>ENSG00000198804</td>\n",
       "      <td>ENSP00000354499</td>\n",
       "    </tr>\n",
       "    <tr>\n",
       "      <th>18</th>\n",
       "      <td>ENSG00000198712</td>\n",
       "      <td>ENSP00000354876</td>\n",
       "    </tr>\n",
       "    <tr>\n",
       "      <th>20</th>\n",
       "      <td>ENSG00000228253</td>\n",
       "      <td>ENSP00000355265</td>\n",
       "    </tr>\n",
       "    <tr>\n",
       "      <th>...</th>\n",
       "      <td>...</td>\n",
       "      <td>...</td>\n",
       "    </tr>\n",
       "    <tr>\n",
       "      <th>185320</th>\n",
       "      <td>ENSG00000143520</td>\n",
       "      <td>ENSP00000373370</td>\n",
       "    </tr>\n",
       "    <tr>\n",
       "      <th>185321</th>\n",
       "      <td>ENSG00000143507</td>\n",
       "      <td>ENSP00000355866</td>\n",
       "    </tr>\n",
       "    <tr>\n",
       "      <th>185322</th>\n",
       "      <td>ENSG00000143507</td>\n",
       "      <td>ENSP00000483812</td>\n",
       "    </tr>\n",
       "    <tr>\n",
       "      <th>185323</th>\n",
       "      <td>ENSG00000143507</td>\n",
       "      <td>ENSP00000482935</td>\n",
       "    </tr>\n",
       "    <tr>\n",
       "      <th>185324</th>\n",
       "      <td>ENSG00000143507</td>\n",
       "      <td>ENSP00000480008</td>\n",
       "    </tr>\n",
       "  </tbody>\n",
       "</table>\n",
       "<p>101731 rows × 2 columns</p>\n",
       "</div>"
      ]
     },
     "execution_count": 3,
     "metadata": {},
     "output_type": "execute_result"
    }
   ],
   "execution_count": 3
  },
  {
   "metadata": {},
   "cell_type": "markdown",
   "source": "# Nodes: Protein\n",
   "id": "4d154f07da1daba6"
  },
  {
   "metadata": {
    "ExecuteTime": {
     "end_time": "2024-10-22T15:11:08.297720Z",
     "start_time": "2024-10-22T15:11:08.266890Z"
    }
   },
   "cell_type": "code",
   "source": [
    "df_nodes_protein = df_edges_protein_gene.copy()\n",
    "df_nodes_protein = df_nodes_protein['Protein stable ID']\n",
    "\n",
    "df_nodes_protein = df_nodes_protein.drop_duplicates()\n",
    "\n",
    "df_nodes_protein"
   ],
   "id": "3eb0422fe2814828",
   "outputs": [
    {
     "data": {
      "text/plain": [
       "5         ENSP00000354687\n",
       "9         ENSP00000355046\n",
       "15        ENSP00000354499\n",
       "18        ENSP00000354876\n",
       "20        ENSP00000355265\n",
       "               ...       \n",
       "185320    ENSP00000373370\n",
       "185321    ENSP00000355866\n",
       "185322    ENSP00000483812\n",
       "185323    ENSP00000482935\n",
       "185324    ENSP00000480008\n",
       "Name: Protein stable ID, Length: 101731, dtype: object"
      ]
     },
     "execution_count": 4,
     "metadata": {},
     "output_type": "execute_result"
    }
   ],
   "execution_count": 4
  },
  {
   "metadata": {},
   "cell_type": "markdown",
   "source": [
    "# Edges: Protein-Protein Interaction\n",
    "STRING Data as Interaction"
   ],
   "id": "554d37780ad5e73f"
  },
  {
   "metadata": {
    "ExecuteTime": {
     "end_time": "2024-10-22T15:11:51.306551Z",
     "start_time": "2024-10-22T15:11:08.298780Z"
    }
   },
   "cell_type": "code",
   "source": [
    "filepath = '../import_data/STRING/protein.links.full.v12.0.txt'\n",
    "df_edges_protein = pd.read_csv(filepath, sep=' ')\n",
    "\n",
    "print('Length of STRING Links Dataset: ', len(df_edges_protein))\n",
    "\n",
    "df_edges_protein = df_edges_protein[['protein1', 'protein2']]\n",
    "\n",
    "df_edges_protein['protein1'] = df_edges_protein['protein1'].apply(lambda x: x.split('.')[1])\n",
    "df_edges_protein['protein2'] = df_edges_protein['protein2'].apply(lambda x: x.split('.')[1])\n",
    "\n",
    "#drop duplicates\n",
    "df_edges_protein = df_edges_protein.drop_duplicates()\n",
    "\n",
    "df_edges_protein"
   ],
   "id": "681c60eea90ce9c2",
   "outputs": [
    {
     "name": "stdout",
     "output_type": "stream",
     "text": [
      "Length of STRING Links Dataset:  13715404\n"
     ]
    },
    {
     "data": {
      "text/plain": [
       "                 protein1         protein2\n",
       "0         ENSP00000000233  ENSP00000356607\n",
       "1         ENSP00000000233  ENSP00000427567\n",
       "2         ENSP00000000233  ENSP00000253413\n",
       "3         ENSP00000000233  ENSP00000493357\n",
       "4         ENSP00000000233  ENSP00000324127\n",
       "...                   ...              ...\n",
       "13715399  ENSP00000501317  ENSP00000475489\n",
       "13715400  ENSP00000501317  ENSP00000370447\n",
       "13715401  ENSP00000501317  ENSP00000312272\n",
       "13715402  ENSP00000501317  ENSP00000402092\n",
       "13715403  ENSP00000501317  ENSP00000404074\n",
       "\n",
       "[13715404 rows x 2 columns]"
      ],
      "text/html": [
       "<div>\n",
       "<style scoped>\n",
       "    .dataframe tbody tr th:only-of-type {\n",
       "        vertical-align: middle;\n",
       "    }\n",
       "\n",
       "    .dataframe tbody tr th {\n",
       "        vertical-align: top;\n",
       "    }\n",
       "\n",
       "    .dataframe thead th {\n",
       "        text-align: right;\n",
       "    }\n",
       "</style>\n",
       "<table border=\"1\" class=\"dataframe\">\n",
       "  <thead>\n",
       "    <tr style=\"text-align: right;\">\n",
       "      <th></th>\n",
       "      <th>protein1</th>\n",
       "      <th>protein2</th>\n",
       "    </tr>\n",
       "  </thead>\n",
       "  <tbody>\n",
       "    <tr>\n",
       "      <th>0</th>\n",
       "      <td>ENSP00000000233</td>\n",
       "      <td>ENSP00000356607</td>\n",
       "    </tr>\n",
       "    <tr>\n",
       "      <th>1</th>\n",
       "      <td>ENSP00000000233</td>\n",
       "      <td>ENSP00000427567</td>\n",
       "    </tr>\n",
       "    <tr>\n",
       "      <th>2</th>\n",
       "      <td>ENSP00000000233</td>\n",
       "      <td>ENSP00000253413</td>\n",
       "    </tr>\n",
       "    <tr>\n",
       "      <th>3</th>\n",
       "      <td>ENSP00000000233</td>\n",
       "      <td>ENSP00000493357</td>\n",
       "    </tr>\n",
       "    <tr>\n",
       "      <th>4</th>\n",
       "      <td>ENSP00000000233</td>\n",
       "      <td>ENSP00000324127</td>\n",
       "    </tr>\n",
       "    <tr>\n",
       "      <th>...</th>\n",
       "      <td>...</td>\n",
       "      <td>...</td>\n",
       "    </tr>\n",
       "    <tr>\n",
       "      <th>13715399</th>\n",
       "      <td>ENSP00000501317</td>\n",
       "      <td>ENSP00000475489</td>\n",
       "    </tr>\n",
       "    <tr>\n",
       "      <th>13715400</th>\n",
       "      <td>ENSP00000501317</td>\n",
       "      <td>ENSP00000370447</td>\n",
       "    </tr>\n",
       "    <tr>\n",
       "      <th>13715401</th>\n",
       "      <td>ENSP00000501317</td>\n",
       "      <td>ENSP00000312272</td>\n",
       "    </tr>\n",
       "    <tr>\n",
       "      <th>13715402</th>\n",
       "      <td>ENSP00000501317</td>\n",
       "      <td>ENSP00000402092</td>\n",
       "    </tr>\n",
       "    <tr>\n",
       "      <th>13715403</th>\n",
       "      <td>ENSP00000501317</td>\n",
       "      <td>ENSP00000404074</td>\n",
       "    </tr>\n",
       "  </tbody>\n",
       "</table>\n",
       "<p>13715404 rows × 2 columns</p>\n",
       "</div>"
      ]
     },
     "execution_count": 5,
     "metadata": {},
     "output_type": "execute_result"
    }
   ],
   "execution_count": 5
  },
  {
   "metadata": {},
   "cell_type": "markdown",
   "source": [
    "### Filter for Proteins from Nodes\n",
    "Leads to only direct connections between proteins that are connected to genes\n",
    "\n",
    "→ Gene - Protein - Protein - Gene\n",
    "\n",
    "\n",
    "But we also want to include proteins that are not connected to a gene\n",
    "\n",
    "→ Gene - Protein - $Protein$ - Protein - Gene\n"
   ],
   "id": "6f5da69f4a5fd07c"
  },
  {
   "metadata": {
    "ExecuteTime": {
     "end_time": "2024-10-22T15:11:51.336216Z",
     "start_time": "2024-10-22T15:11:51.315060Z"
    }
   },
   "cell_type": "code",
   "source": [
    "\"\"\"df_edges_protein = df_edges_protein[df_edges_protein['protein1'].isin(df_nodes_protein)]\n",
    "df_edges_protein = df_edges_protein[df_edges_protein['protein2'].isin(df_nodes_protein)]\n",
    "\n",
    "df_edges_protein\"\"\""
   ],
   "id": "aa6bcf4d543622cc",
   "outputs": [
    {
     "data": {
      "text/plain": [
       "\"df_edges_protein = df_edges_protein[df_edges_protein['protein1'].isin(df_nodes_protein)]\\ndf_edges_protein = df_edges_protein[df_edges_protein['protein2'].isin(df_nodes_protein)]\\n\\ndf_edges_protein\""
      ]
     },
     "execution_count": 6,
     "metadata": {},
     "output_type": "execute_result"
    }
   ],
   "execution_count": 6
  },
  {
   "metadata": {},
   "cell_type": "markdown",
   "source": [
    "FROM LATEX:\n",
    "\n",
    "not every protein is connected to another one \n",
    "\n",
    "→ but since every gene could have multiple proteins, the connected gene may have a connection to another protein\n",
    "\n",
    "TODO: are those genes that are not connected to another gene relevant for the analysis?"
   ],
   "id": "f4a0ef8a9d2292f2"
  },
  {
   "metadata": {
    "ExecuteTime": {
     "end_time": "2024-10-22T15:11:51.343950Z",
     "start_time": "2024-10-22T15:11:51.336216Z"
    }
   },
   "cell_type": "code",
   "source": [
    "# TODO find genes that are not connected to another gene\n",
    "\n"
   ],
   "id": "adc476e668878756",
   "outputs": [],
   "execution_count": 7
  },
  {
   "metadata": {},
   "cell_type": "markdown",
   "source": "# Export Data",
   "id": "a7c449732d96a18c"
  },
  {
   "metadata": {
    "ExecuteTime": {
     "end_time": "2024-10-22T15:12:08.843318Z",
     "start_time": "2024-10-22T15:11:51.346458Z"
    }
   },
   "cell_type": "code",
   "source": [
    "df_nodes_protein.to_csv('../processed_data/nodes_protein.csv', index=False)\n",
    "\n",
    "df_edges_protein.to_csv('../processed_data/edges_protein.csv', index=False)\n",
    "\n",
    "df_edges_protein_gene.to_csv('../processed_data/edges_protein_gene.csv', index=False)"
   ],
   "id": "3643344b702567c5",
   "outputs": [],
   "execution_count": 8
  },
  {
   "metadata": {
    "ExecuteTime": {
     "end_time": "2024-10-22T15:12:08.854181Z",
     "start_time": "2024-10-22T15:12:08.843318Z"
    }
   },
   "cell_type": "code",
   "source": [
    "print(f\"There are {len(df_nodes_protein)} Protein Nodes\")\n",
    "print(f\"There are {len(df_edges_protein)} Protein-Protein Edges\")\n",
    "print(f\"There are {len(df_edges_protein_gene)} Protein-Gene Edges\")"
   ],
   "id": "1d8c26ed7555f723",
   "outputs": [
    {
     "name": "stdout",
     "output_type": "stream",
     "text": [
      "There are 101731 Protein Nodes\n",
      "There are 13715404 Protein-Protein Edges\n",
      "There are 101731 Protein-Gene Edges\n"
     ]
    }
   ],
   "execution_count": 9
  },
  {
   "metadata": {
    "ExecuteTime": {
     "end_time": "2024-10-22T15:12:12.668877Z",
     "start_time": "2024-10-22T15:12:08.858913Z"
    }
   },
   "cell_type": "code",
   "source": [
    "dfi.export(df_nodes_protein.reset_index(drop=True).head(5), '../tex/figures/03_02_protein_nodes.png')\n",
    "dfi.export(df_edges_protein.reset_index(drop=True).head(5), '../tex/figures/03_02_protein_edges.png')\n",
    "dfi.export(df_edges_protein_gene.reset_index(drop=True).head(5), '../tex/figures/03_02_gene_protein_edges.png')"
   ],
   "id": "468846d3d61aa5b7",
   "outputs": [],
   "execution_count": 10
  }
 ],
 "metadata": {
  "kernelspec": {
   "display_name": "Python 3",
   "language": "python",
   "name": "python3"
  },
  "language_info": {
   "codemirror_mode": {
    "name": "ipython",
    "version": 2
   },
   "file_extension": ".py",
   "mimetype": "text/x-python",
   "name": "python",
   "nbconvert_exporter": "python",
   "pygments_lexer": "ipython2",
   "version": "2.7.6"
  }
 },
 "nbformat": 4,
 "nbformat_minor": 5
}
