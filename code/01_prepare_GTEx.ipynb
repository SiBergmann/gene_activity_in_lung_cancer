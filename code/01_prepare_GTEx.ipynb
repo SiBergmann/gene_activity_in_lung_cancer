{
 "cells": [
  {
   "metadata": {},
   "cell_type": "markdown",
   "source": [
    "# Data from GTEx\n",
    "Link: https://www.gtexportal.org/home/downloads/adult-gtex/bulk_tissue_expression\n",
    "\n",
    "\n",
    "**Bulk-Tissue-Expression:**\n",
    "\n",
    "Contains the gene expression in *healthy* tissue samples from adults. For each gene, the transcription value for each tissue is listed.\n",
    "\n",
    "**Output file format:**\n",
    "* Ensemble ID\n",
    "* TPM value"
   ],
   "id": "c61097af660cd39"
  },
  {
   "metadata": {},
   "cell_type": "markdown",
   "source": [
    "## Load Data and melt down to long format\n",
    "→ takes 20 minutes with 3000 rows per chunk\n",
    "\n",
    "The format of the input file is a column per tissue.\n",
    "We load the data in chunks and melt it down to a long format with columns for the gene name, tissue and TPM value.\n"
   ],
   "id": "888769a39c83248e"
  },
  {
   "metadata": {},
   "cell_type": "code",
   "source": [
    "import pandas as pd\n",
    "import dataframe_image as dfi\n",
    "import gzip\n",
    "\n",
    "import gc\n",
    "import time\n",
    "import os\n",
    "import urllib.request"
   ],
   "id": "518bd896c871130",
   "outputs": [],
   "execution_count": null
  },
  {
   "metadata": {},
   "cell_type": "code",
   "source": [
    "# Function to analyze the dataset\n",
    "def dataset_analysis(df):\n",
    "    global missing_values, min_tpm, max_tpm\n",
    "    \n",
    "    missing_values =+ df.isnull().sum()\n",
    "     \n",
    "    if df['tpm'].min() < min_tpm:\n",
    "        min_tpm = df['tpm'].min()\n",
    "        \n",
    "    if df['tpm'].max() > max_tpm:\n",
    "        max_tpm = df['tpm'].max()"
   ],
   "id": "1af4b9f2c4443152",
   "outputs": [],
   "execution_count": null
  },
  {
   "metadata": {},
   "cell_type": "code",
   "source": [
    "# download the data\n",
    "url = \"https://storage.googleapis.com/adult-gtex/bulk-gex/v8/rna-seq/GTEx_Analysis_2017-06-05_v8_RNASeQCv1.1.9_gene_tpm.gct.gz\"\n",
    "\n",
    "zip_file_name = \"../import_data/GTEx/GTEx_Analysis_2017-06-05_v8_RNASeQCv1.1.9_gene_tpm.gct.gz\"\n",
    "\n",
    "file_name = \"../import_data/GTEx/GTEx_Analysis_2017-06-05_v8_RNASeQCv1.1.9_gene_tpm.gct\"\n",
    "\n",
    "os.makedirs(\"../import_data\", exist_ok=True)\n",
    "os.makedirs(\"../import_data/GTEx\", exist_ok=True)\n",
    "\n",
    "\n",
    "if not os.path.exists(zip_file_name):\n",
    "    urllib.request.urlretrieve(url, zip_file_name)\n",
    "\n",
    "if not os.path.exists(file_name):\n",
    "    with gzip.open(zip_file_name, 'rb') as f_in:\n",
    "        with open(file_name, 'wb') as f_out:\n",
    "            f_out.write(f_in.read())"
   ],
   "id": "8dca31e366eef810",
   "outputs": [],
   "execution_count": null
  },
  {
   "metadata": {},
   "cell_type": "code",
   "source": [
    "output_file = \"../processed_data/GTEX_healthy.csv\"\n",
    "\n",
    "os.makedirs(\"../processed_data\", exist_ok=True)\n",
    "\n",
    "# Initialize an output file and overwrite if already exists\n",
    "with open(output_file, 'w') as f_out:\n",
    "    f_out.write(\"id,tissue,tpm\\n\")\n",
    "\n",
    "missing_values = 0\n",
    "min_tpm = float('+inf')\n",
    "max_tpm = float('-inf')\n",
    "\n",
    "chunksize = 2000\n",
    "save_threshold = 10000\n",
    "\n",
    "output_chunks = []\n",
    "outputrows = 0\n",
    "\n",
    "with pd.read_csv(file_name, delimiter=\"\\t\", skiprows=2, chunksize=chunksize) as reader:\n",
    "    counter = 0\n",
    "\n",
    "    for df_chunk in reader:\n",
    "        start_time = time.time()\n",
    "        df_list = []\n",
    "        \n",
    "        # cleanup\n",
    "        df_chunk = df_chunk.drop(columns=['Description'])\n",
    "        df_chunk.rename(columns={'Name':'id'}, inplace=True)\n",
    "        df_chunk['id'] = df_chunk['id'].str.split('.').str[0]\n",
    "        \n",
    "        df_long = pd.melt(df_chunk, id_vars=['id'], var_name='tissue', value_name='tpm', ignore_index=True)\n",
    "\n",
    "\n",
    "        df_long[\"tpm\"] = df_long[\"tpm\"].astype(float)\n",
    "        \n",
    "        output_chunks.append(df_long)\n",
    "        outputrows += df_long.shape[0]\n",
    "        \n",
    "        dataset_analysis(df_long)\n",
    "        \n",
    "        if outputrows >= save_threshold:\n",
    "            pd.concat(output_chunks).to_csv(output_file, mode='a', header=False, index=False)\n",
    "            output_chunks.clear()\n",
    "        \n",
    "        # Clear memory\n",
    "        del df_long\n",
    "        \n",
    "        end_time = time.time()\n",
    "        duration = end_time - start_time        \n",
    "        print(f\"{counter} / 56200 processed in {duration:.2f} seconds\")\n",
    "        \n",
    "        counter += chunksize\n",
    "        \n",
    "if output_chunks:\n",
    "    pd.concat(output_chunks).to_csv(output_file, mode='a', header=False, index=False)\n",
    "        \n",
    "print(f\"Output file contains {outputrows} rows\")"
   ],
   "id": "a56f88bb71eb16f4",
   "outputs": [],
   "execution_count": null
  },
  {
   "metadata": {},
   "cell_type": "markdown",
   "source": "### Analyze the dataset",
   "id": "b0a9862eeef3957e"
  },
  {
   "metadata": {},
   "cell_type": "code",
   "source": [
    "print(f\"Missing values:\\n\"\n",
    "      f\"{missing_values}\\n\")\n",
    "print(f\"Min TPM: {min_tpm}\")\n",
    "print(f\"Max TPM: {max_tpm}\")"
   ],
   "id": "f69b10e5a76aeea1",
   "outputs": [],
   "execution_count": null
  },
  {
   "metadata": {},
   "cell_type": "markdown",
   "source": "## Save grouped data",
   "id": "3fd646174a512c"
  },
  {
   "metadata": {
    "jupyter": {
     "is_executing": true
    }
   },
   "cell_type": "code",
   "source": [
    "file = \"../processed_data/GTEX_healthy.csv\"\n",
    "output_file = \"../processed_data/GTEX_healthy_temp.csv\"\n",
    "\n",
    "#chunksize = 200000000\n",
    "chunksize = 20000000\n",
    "\n",
    "# Initialize output file and overwrite if already exists\n",
    "with open(output_file, 'w') as f_out:\n",
    "    f_out.write(\"id,tmp sum,tmp count\\n\")\n",
    "    \n",
    "with (pd.read_csv(file, chunksize=chunksize) as reader):\n",
    "    for df_chunk in reader:\n",
    "        start_time = time.time()\n",
    "        df_mean = df_chunk.drop(columns=[\"tissue\"])\n",
    "        df_mean = df_mean.groupby('id').agg(['sum','count'])\n",
    "        df_mean.to_csv(output_file, mode='a', header=False, index=True)\n",
    "\n",
    "        end_time = time.time()\n",
    "        duration = end_time - start_time\n",
    "        print(f\"{df_mean.shape[0]} rows processed in {duration:.2f} seconds\")\n",
    "\n",
    "        del df_mean\n",
    "        gc.collect()"
   ],
   "id": "78ba3d08379b4dfa",
   "outputs": [],
   "execution_count": null
  },
  {
   "metadata": {},
   "cell_type": "markdown",
   "source": "## Load temp file to calculate mean TPM",
   "id": "5f81dfabf6b26900"
  },
  {
   "metadata": {},
   "cell_type": "code",
   "source": [
    "df_mean = pd.read_csv(\"../processed_data/GTEX_healthy_temp.csv\")\n",
    "df_mean = df_mean.groupby('id').sum()\n",
    "df_mean['tpm'] = df_mean['tmp sum']/df_mean['tmp count']\n",
    "df_mean"
   ],
   "id": "32643736f566c7ea",
   "outputs": [],
   "execution_count": null
  },
  {
   "metadata": {},
   "cell_type": "markdown",
   "source": "## Clean up",
   "id": "84729111802caf77"
  },
  {
   "metadata": {},
   "cell_type": "code",
   "source": [
    "df_mean = df_mean.drop(columns=['tmp sum', 'tmp count'])\n",
    "\n",
    "df_mean.reset_index(inplace=True)\n",
    "\n",
    "df_mean.rename(columns={'tpm':'healthy TPM',\n",
    "                        'id': 'Gene ID'}, inplace=True)\n",
    "\n",
    "# reorder columns\n",
    "df_mean = df_mean[['Gene ID', 'healthy TPM']]"
   ],
   "id": "97d24d291058c269",
   "outputs": [],
   "execution_count": null
  },
  {
   "metadata": {},
   "cell_type": "code",
   "source": "df_mean",
   "id": "ef3aae2170d931d0",
   "outputs": [],
   "execution_count": null
  },
  {
   "metadata": {},
   "cell_type": "markdown",
   "source": "## Save final file",
   "id": "37c954afab5aab4a"
  },
  {
   "metadata": {},
   "cell_type": "code",
   "source": [
    "df_mean.to_csv(\"../processed_data/GTEX_healthy_mean.csv\")\n",
    "print(f'There are {df_mean.shape[0]} genes in the final file')"
   ],
   "id": "848869f23fb845ec",
   "outputs": [],
   "execution_count": null
  },
  {
   "metadata": {},
   "cell_type": "code",
   "source": "dfi.export(df_mean.head(5), \"../tex/figures/03_01_GTEX_healthy_mean.png\")",
   "id": "f44ded1a523df2b",
   "outputs": [],
   "execution_count": null
  }
 ],
 "metadata": {
  "kernelspec": {
   "display_name": "Python 3",
   "language": "python",
   "name": "python3"
  },
  "language_info": {
   "codemirror_mode": {
    "name": "ipython",
    "version": 2
   },
   "file_extension": ".py",
   "mimetype": "text/x-python",
   "name": "python",
   "nbconvert_exporter": "python",
   "pygments_lexer": "ipython2",
   "version": "2.7.6"
  }
 },
 "nbformat": 4,
 "nbformat_minor": 5
}
