{
 "cells": [
  {
   "metadata": {},
   "cell_type": "code",
   "source": [
    "import pandas as pd\n",
    "import dataframe_image as dfi\n",
    "import zipfile as zf\n",
    "\n",
    "import os\n",
    "import urllib.request"
   ],
   "id": "fbc121e30a2defb3",
   "outputs": [],
   "execution_count": null
  },
  {
   "metadata": {},
   "cell_type": "markdown",
   "source": [
    "# Data from Cell Modell Passport\n",
    "Link: https://cellmodelpassports.sanger.ac.uk/downloads\n",
    "\n",
    "## Model infos for cancer type\n",
    "loaded from Model Annotation → list of all annotated models\n",
    "\n",
    "Needed for filtering `all data` for lung cancer"
   ],
   "id": "7b236dfa41d3952"
  },
  {
   "metadata": {},
   "cell_type": "code",
   "source": [
    "# download the data\n",
    "\n",
    "url_model_info = \"https://cog.sanger.ac.uk/cmp/download/model_list_20241120.csv\"\n",
    "model_info_name = \"../import_data/CMP/model_list_20240110.csv\"\n",
    "\n",
    "url_cmp_file = \"https://cog.sanger.ac.uk/cmp/download/rnaseq_all_20220624.zip\"\n",
    "cmp_zip_file_name = \"../import_data/CMP/rnaseq_all_20220624.zip\"\n",
    "cmp_file_name = \"../import_data/CMP/rnaseq_all_data_20220624.csv\"\n",
    "\n",
    "os.makedirs(\"../import_data/CMP\", exist_ok=True)\n",
    "\n",
    "\n",
    "if not os.path.exists(model_info_name):\n",
    "    urllib.request.urlretrieve(url_model_info, model_info_name)\n",
    "\n",
    "if not os.path.exists(cmp_zip_file_name):\n",
    "    urllib.request.urlretrieve(url_cmp_file, cmp_zip_file_name)\n",
    "\n",
    "if not os.path.exists(cmp_file_name):\n",
    "    zip_file = zf.ZipFile(cmp_zip_file_name)\n",
    "    zip_file.extractall(\"../import_data/CMP\")\n",
    "    zip_file.close()\n"
   ],
   "id": "362931523dcfb3a7",
   "outputs": [],
   "execution_count": null
  },
  {
   "metadata": {},
   "cell_type": "code",
   "source": [
    "# load data\n",
    "df_model_info = pd.read_csv(model_info_name, delimiter=',', usecols=['model_id', 'tissue', 'cancer_type', 'tissue_status', 'cancer_type_detail'])\n",
    "\n",
    "\n",
    "# filter for lung cancer\n",
    "lung_cancer = ['Small Cell Lung Carcinoma', 'Non-Small Cell Lung Carcinoma', 'Squamous Cell Lung Carcinoma']\n",
    "df_model_info_lung = df_model_info.where(df_model_info[\"cancer_type\"].isin(lung_cancer)).dropna()\n",
    "\n",
    "df_model_info_lung.head(5)"
   ],
   "id": "e949a7a6a1475a15",
   "outputs": [],
   "execution_count": null
  },
  {
   "metadata": {},
   "cell_type": "code",
   "source": [
    "# List of model_ids with lung cancer\n",
    "model_ids_lung = df_model_info_lung[\"model_id\"].to_list()"
   ],
   "id": "2f28a35e615c6a9f",
   "outputs": [],
   "execution_count": null
  },
  {
   "metadata": {},
   "cell_type": "markdown",
   "source": [
    "## Expression data\n",
    "Expression Data → all RNA Seq processed Data\n",
    "\n",
    "All tissues are cancer tissues. We need to filter for lung cancer.\n",
    "**Output file format:**\n",
    "* Ensemble ID\n",
    "* Gene Name\n",
    "* TPM value"
   ],
   "id": "c61097af660cd39"
  },
  {
   "metadata": {},
   "cell_type": "code",
   "source": [
    "# read in the data\n",
    "model_info_file = \"../import_data/CMP/rnaseq_all_data_20220624.csv\"\n",
    "df_cmp_all = pd.read_csv(model_info_file, delimiter=\",\", usecols=[\"gene_id\", \"gene_symbol\", \"model_id\", \"tpm\"])\n",
    "\n",
    "print(\"There are {} rows in the import_data.\".format(df_cmp_all.shape[0]))\n",
    "\n",
    "df_cmp_all.head()"
   ],
   "id": "ed884db44821827d",
   "outputs": [],
   "execution_count": null
  },
  {
   "metadata": {},
   "cell_type": "markdown",
   "source": "### Clean Dataframe",
   "id": "4f4dc1006d9d177c"
  },
  {
   "metadata": {},
   "cell_type": "code",
   "source": "df_cmp_all.rename(columns={\"gene_symbol\": \"gene_name\"}, inplace=True)",
   "id": "3d72528b1f8d56c3",
   "outputs": [],
   "execution_count": null
  },
  {
   "metadata": {},
   "cell_type": "code",
   "source": [
    "# filter rows with lung cancer model ids\n",
    "df_cmp_all = df_cmp_all.where(df_cmp_all[\"model_id\"].isin(model_ids_lung)).dropna()\n",
    "\n",
    "print(\"There are {} rows with lung cancer data.\".format(df_cmp_all.shape[0]))"
   ],
   "id": "f2624694764ecc04",
   "outputs": [],
   "execution_count": null
  },
  {
   "metadata": {},
   "cell_type": "markdown",
   "source": "### Analyze Dataset",
   "id": "c7cd133489e07e31"
  },
  {
   "metadata": {},
   "cell_type": "code",
   "source": [
    "# check for missing values\n",
    "missing_values = df_cmp_all.isnull().sum()\n",
    "\n",
    "# TPM Ranges\n",
    "min_tpm = df_cmp_all[\"tpm\"].min()\n",
    "max_tpm = df_cmp_all[\"tpm\"].max()\n",
    "\n",
    "# genes\n",
    "n_genes = df_cmp_all[\"gene_name\"].nunique()\n",
    "\n",
    "# tissues\n",
    "n_tissues = df_cmp_all[\"model_id\"].nunique()\n",
    "df_cmp_all.drop(columns=[\"model_id\"], inplace=True)\n",
    "\n",
    "print(f\"Missing values:\\n\"\n",
    "      f\"{missing_values}\\n\")\n",
    "\n",
    "print(f\"Min TPM: {min_tpm}\")\n",
    "print(f\"Max TPM: {max_tpm}\\n\")\n",
    "\n",
    "print(f\"Number of genes: {n_genes}\")\n",
    "print(f\"Number of tissues: {n_tissues}\")"
   ],
   "id": "19121f7cf4c7c7ed",
   "outputs": [],
   "execution_count": null
  },
  {
   "metadata": {},
   "cell_type": "markdown",
   "source": [
    "\n",
    "We then merged this file with our CMP data on the gene names to retrieve the ENS IDs for each gene.\n",
    "\n",
    "After merging the data, we found that 3,760 genes had no ENS ID associated with them.\n",
    "Since these genes were likely duplicates or did not exist in the Ensemble file, we removed them from our dataset to ensure consistency and accuracy of our analysis.\n",
    "### Group Data to mean values"
   ],
   "id": "5c2db4873a5476c3"
  },
  {
   "metadata": {},
   "cell_type": "code",
   "source": [
    "df_cmp_group = df_cmp_all.groupby([\"gene_name\", \"gene_id\"]).mean().reset_index()\n",
    "\n",
    "print(\"There are {} rows in the grouped dataset.\".format(df_cmp_group.shape[0]))\n",
    "df_cmp_group"
   ],
   "id": "70d8a4ca5dacc3c",
   "outputs": [],
   "execution_count": null
  },
  {
   "metadata": {},
   "cell_type": "markdown",
   "source": [
    "## Ensemble Dataset\n",
    "Downloaded via Biomart\n",
    "\n"
   ],
   "id": "75c60cc04429ffa7"
  },
  {
   "metadata": {},
   "cell_type": "code",
   "source": [
    "df_ensembl = pd.read_csv(\"../import_data/ENSEMBLE/ensemble_gene_id.txt\", delimiter=\"\\t\")\n",
    "df_ensembl.rename(columns={\"gene_symbol\": \"gene_name\"}, inplace=True)\n",
    "\n",
    "# drop rows without gene_symbol\n",
    "df_ensembl.drop(df_ensembl[df_ensembl[\"gene_name\"].isnull()].index, inplace=True)\n",
    "\n",
    "df_ensembl"
   ],
   "id": "feb44ab516036fd3",
   "outputs": [],
   "execution_count": null
  },
  {
   "metadata": {},
   "cell_type": "code",
   "source": [
    "duplicate_names = df_ensembl[\"gene_name\"].duplicated(keep=False).sum()\n",
    "rows = df_ensembl.shape[0]\n",
    "print(f'{duplicate_names} from {rows} do not have a unique gene names in ENS Dataset')"
   ],
   "id": "79719a3b651c065d",
   "outputs": [],
   "execution_count": null
  },
  {
   "metadata": {},
   "cell_type": "markdown",
   "source": [
    "PROBLEM: There are gene names that are not unique.\n",
    "\n",
    "→ If the names are not unique, we cannot merge the data on the gene names with our dataset."
   ],
   "id": "eb3e5c58c0904417"
  },
  {
   "metadata": {},
   "cell_type": "code",
   "source": [
    "# delete all rows with not unique gene names\n",
    "df_ensembl_unique = df_ensembl.drop_duplicates(subset=[\"gene_name\"], keep=False)\n",
    "\n",
    "df_ensembl_unique"
   ],
   "id": "9f864813a950325e",
   "outputs": [],
   "execution_count": null
  },
  {
   "metadata": {},
   "cell_type": "markdown",
   "source": "## Merge Data",
   "id": "c49a278c68a0e917"
  },
  {
   "metadata": {},
   "cell_type": "code",
   "source": [
    "df_cmp_ens = pd.merge(df_cmp_group, df_ensembl_unique, on=\"gene_name\", how=\"left\")\n",
    "df_cmp_ens"
   ],
   "id": "86e0f123518f5f7",
   "outputs": [],
   "execution_count": null
  },
  {
   "metadata": {},
   "cell_type": "code",
   "source": [
    "# check Data with missing ENS\n",
    "missing_ens = df_cmp_ens[df_cmp_ens[\"Gene_stable_ID\"].isnull()]\n",
    "\n",
    "print(len(missing_ens), \"/\",len(df_cmp_ens),  \"still have no ENS ID\")\n",
    "missing_ens"
   ],
   "id": "38ad11c60a1c34b4",
   "outputs": [],
   "execution_count": null
  },
  {
   "metadata": {},
   "cell_type": "code",
   "source": [
    "# show rows with duplicate names in df_cmp_ens\n",
    "df_cmp_ens[df_cmp_ens[\"gene_name\"].duplicated(keep=False)]"
   ],
   "id": "2ccd81be19e68cd9",
   "outputs": [],
   "execution_count": null
  },
  {
   "metadata": {},
   "cell_type": "markdown",
   "source": "### Clean up",
   "id": "ab3e2e3ceceb6fcd"
  },
  {
   "metadata": {},
   "cell_type": "code",
   "source": [
    "df_cmp_ens.dropna(subset=[\"Gene_stable_ID\"], inplace=True)\n",
    "df_cmp_ens.rename(columns={\"Gene_stable_ID\": \"Gene ID\", \n",
    "                           \"tpm\":\"cancerous TPM\", \n",
    "                           \"gene_name\": \"Gene Name\" }, inplace=True)\n",
    "\n",
    "# reorder columns\n",
    "df_cmp = df_cmp_ens[['Gene ID', 'Gene Name', 'cancerous TPM']]\n",
    "\n",
    "df_cmp"
   ],
   "id": "d7ebbc994e9fb544",
   "outputs": [],
   "execution_count": null
  },
  {
   "metadata": {},
   "cell_type": "markdown",
   "source": "### Save Data",
   "id": "f6139e1923b4cce9"
  },
  {
   "metadata": {},
   "cell_type": "code",
   "source": [
    "df_cmp.to_csv(\"../processed_data/CMP_cancer_mean.csv\", index=False)\n",
    "print(f'There are {df_cmp.shape[0]} rows/genes in the saved dataset.')"
   ],
   "id": "97faad750e622768",
   "outputs": [],
   "execution_count": null
  },
  {
   "metadata": {},
   "cell_type": "code",
   "source": "dfi.export(df_cmp.head(5), \"../tex/figures/03_01_CMP_cancer_mean.png\")",
   "id": "a822ffebd2b73fee",
   "outputs": [],
   "execution_count": null
  }
 ],
 "metadata": {
  "kernelspec": {
   "display_name": "Python 3",
   "language": "python",
   "name": "python3"
  },
  "language_info": {
   "codemirror_mode": {
    "name": "ipython",
    "version": 2
   },
   "file_extension": ".py",
   "mimetype": "text/x-python",
   "name": "python",
   "nbconvert_exporter": "python",
   "pygments_lexer": "ipython2",
   "version": "2.7.6"
  }
 },
 "nbformat": 4,
 "nbformat_minor": 5
}
