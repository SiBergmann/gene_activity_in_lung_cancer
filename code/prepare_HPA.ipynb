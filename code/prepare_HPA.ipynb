{
 "cells": [
  {
   "metadata": {},
   "cell_type": "markdown",
   "source": [
    "# Data from Human Protein Atlas\n",
    "LINK: https://www.proteinatlas.org/about/download\n",
    "\n",
    "**RNA HPA cell line cancer gene data**\n",
    "* Ensembl gene identifier (\"Gene\")\n",
    "* analyzed sample (\"Cancer\")\n",
    "* transcripts per million (\"TPM\")\n",
    "* protein-coding transcripts per million (\"pTPM\")\n",
    "* normalized expression (\"nTPM\")\n",
    "\n",
    "Contains per gene and cancer type the TPM values.\n",
    "TPM is a value that represents the activity of a gene in a sample.\n",
    "\n",
    "**Output file format**\n",
    "* Gene\n",
    "* Gene name\n",
    "* TPM"
   ],
   "id": "c61097af660cd39"
  },
  {
   "metadata": {},
   "cell_type": "markdown",
   "source": "## Load data",
   "id": "ebfe051b79b92406"
  },
  {
   "metadata": {
    "ExecuteTime": {
     "end_time": "2024-09-11T13:27:48.584917Z",
     "start_time": "2024-09-11T13:27:48.240621Z"
    }
   },
   "cell_type": "code",
   "source": "import pandas as pd",
   "id": "fbc121e30a2defb3",
   "outputs": [],
   "execution_count": 1
  },
  {
   "metadata": {
    "ExecuteTime": {
     "end_time": "2024-09-11T13:27:48.796594Z",
     "start_time": "2024-09-11T13:27:48.584917Z"
    }
   },
   "cell_type": "code",
   "source": [
    "file = \"../import_data/HPA/rna_celline_cancer.tsv\"\n",
    "df_hpa = pd.read_csv(file, delimiter=\"\\t\")\n",
    "\n",
    "df_hpa"
   ],
   "id": "ed884db44821827d",
   "outputs": [
    {
     "data": {
      "text/plain": [
       "                   Gene Gene name                 Cancer   TPM  pTPM  nTPM\n",
       "0       ENSG00000000003    TSPAN6  Adrenocortical cancer  17.5  21.7  20.4\n",
       "1       ENSG00000000003    TSPAN6       Bile duct cancer  20.9  26.5  34.4\n",
       "2       ENSG00000000003    TSPAN6         Bladder cancer  27.8  35.6  36.8\n",
       "3       ENSG00000000003    TSPAN6            Bone cancer  15.9  20.6  17.6\n",
       "4       ENSG00000000003    TSPAN6           Brain cancer  15.0  19.1  17.1\n",
       "...                 ...       ...                    ...   ...   ...   ...\n",
       "604855  ENSG00000291317   TMEM276            skin cancer  11.9  15.0  14.8\n",
       "604856  ENSG00000291317   TMEM276          testis cancer   4.7   5.8   4.7\n",
       "604857  ENSG00000291317   TMEM276         thyroid cancer  15.9  20.2  18.3\n",
       "604858  ENSG00000291317   TMEM276          Uncategorized  12.3  15.2  14.4\n",
       "604859  ENSG00000291317   TMEM276         Uterine cancer  13.6  17.6  16.9\n",
       "\n",
       "[604860 rows x 6 columns]"
      ],
      "text/html": [
       "<div>\n",
       "<style scoped>\n",
       "    .dataframe tbody tr th:only-of-type {\n",
       "        vertical-align: middle;\n",
       "    }\n",
       "\n",
       "    .dataframe tbody tr th {\n",
       "        vertical-align: top;\n",
       "    }\n",
       "\n",
       "    .dataframe thead th {\n",
       "        text-align: right;\n",
       "    }\n",
       "</style>\n",
       "<table border=\"1\" class=\"dataframe\">\n",
       "  <thead>\n",
       "    <tr style=\"text-align: right;\">\n",
       "      <th></th>\n",
       "      <th>Gene</th>\n",
       "      <th>Gene name</th>\n",
       "      <th>Cancer</th>\n",
       "      <th>TPM</th>\n",
       "      <th>pTPM</th>\n",
       "      <th>nTPM</th>\n",
       "    </tr>\n",
       "  </thead>\n",
       "  <tbody>\n",
       "    <tr>\n",
       "      <th>0</th>\n",
       "      <td>ENSG00000000003</td>\n",
       "      <td>TSPAN6</td>\n",
       "      <td>Adrenocortical cancer</td>\n",
       "      <td>17.5</td>\n",
       "      <td>21.7</td>\n",
       "      <td>20.4</td>\n",
       "    </tr>\n",
       "    <tr>\n",
       "      <th>1</th>\n",
       "      <td>ENSG00000000003</td>\n",
       "      <td>TSPAN6</td>\n",
       "      <td>Bile duct cancer</td>\n",
       "      <td>20.9</td>\n",
       "      <td>26.5</td>\n",
       "      <td>34.4</td>\n",
       "    </tr>\n",
       "    <tr>\n",
       "      <th>2</th>\n",
       "      <td>ENSG00000000003</td>\n",
       "      <td>TSPAN6</td>\n",
       "      <td>Bladder cancer</td>\n",
       "      <td>27.8</td>\n",
       "      <td>35.6</td>\n",
       "      <td>36.8</td>\n",
       "    </tr>\n",
       "    <tr>\n",
       "      <th>3</th>\n",
       "      <td>ENSG00000000003</td>\n",
       "      <td>TSPAN6</td>\n",
       "      <td>Bone cancer</td>\n",
       "      <td>15.9</td>\n",
       "      <td>20.6</td>\n",
       "      <td>17.6</td>\n",
       "    </tr>\n",
       "    <tr>\n",
       "      <th>4</th>\n",
       "      <td>ENSG00000000003</td>\n",
       "      <td>TSPAN6</td>\n",
       "      <td>Brain cancer</td>\n",
       "      <td>15.0</td>\n",
       "      <td>19.1</td>\n",
       "      <td>17.1</td>\n",
       "    </tr>\n",
       "    <tr>\n",
       "      <th>...</th>\n",
       "      <td>...</td>\n",
       "      <td>...</td>\n",
       "      <td>...</td>\n",
       "      <td>...</td>\n",
       "      <td>...</td>\n",
       "      <td>...</td>\n",
       "    </tr>\n",
       "    <tr>\n",
       "      <th>604855</th>\n",
       "      <td>ENSG00000291317</td>\n",
       "      <td>TMEM276</td>\n",
       "      <td>skin cancer</td>\n",
       "      <td>11.9</td>\n",
       "      <td>15.0</td>\n",
       "      <td>14.8</td>\n",
       "    </tr>\n",
       "    <tr>\n",
       "      <th>604856</th>\n",
       "      <td>ENSG00000291317</td>\n",
       "      <td>TMEM276</td>\n",
       "      <td>testis cancer</td>\n",
       "      <td>4.7</td>\n",
       "      <td>5.8</td>\n",
       "      <td>4.7</td>\n",
       "    </tr>\n",
       "    <tr>\n",
       "      <th>604857</th>\n",
       "      <td>ENSG00000291317</td>\n",
       "      <td>TMEM276</td>\n",
       "      <td>thyroid cancer</td>\n",
       "      <td>15.9</td>\n",
       "      <td>20.2</td>\n",
       "      <td>18.3</td>\n",
       "    </tr>\n",
       "    <tr>\n",
       "      <th>604858</th>\n",
       "      <td>ENSG00000291317</td>\n",
       "      <td>TMEM276</td>\n",
       "      <td>Uncategorized</td>\n",
       "      <td>12.3</td>\n",
       "      <td>15.2</td>\n",
       "      <td>14.4</td>\n",
       "    </tr>\n",
       "    <tr>\n",
       "      <th>604859</th>\n",
       "      <td>ENSG00000291317</td>\n",
       "      <td>TMEM276</td>\n",
       "      <td>Uterine cancer</td>\n",
       "      <td>13.6</td>\n",
       "      <td>17.6</td>\n",
       "      <td>16.9</td>\n",
       "    </tr>\n",
       "  </tbody>\n",
       "</table>\n",
       "<p>604860 rows × 6 columns</p>\n",
       "</div>"
      ]
     },
     "execution_count": 2,
     "metadata": {},
     "output_type": "execute_result"
    }
   ],
   "execution_count": 2
  },
  {
   "metadata": {},
   "cell_type": "markdown",
   "source": "## Filter for lung cancer",
   "id": "f822c99775be9d34"
  },
  {
   "metadata": {
    "ExecuteTime": {
     "end_time": "2024-09-11T13:27:48.821152Z",
     "start_time": "2024-09-11T13:27:48.796594Z"
    }
   },
   "cell_type": "code",
   "source": "df_hpa['Cancer'].unique()",
   "id": "e43a4ead1868183c",
   "outputs": [
    {
     "data": {
      "text/plain": [
       "array(['Adrenocortical cancer', 'Bile duct cancer', 'Bladder cancer',\n",
       "       'Bone cancer', 'Brain cancer', 'breast cancer', 'cervical cancer',\n",
       "       'colorectal cancer', 'Esophageal cancer', 'Gallbladder cancer',\n",
       "       'Gastric cancer', 'head and neck cancer', 'Kidney cancer',\n",
       "       'Leukemia', 'liver cancer', 'lung cancer', 'lymphoma', 'Myeloma',\n",
       "       'Neuroblastoma', 'Non-cancerous', 'ovarian cancer',\n",
       "       'pancreatic cancer', 'prostate cancer', 'Rhabdoid', 'Sarcoma',\n",
       "       'skin cancer', 'testis cancer', 'thyroid cancer', 'Uncategorized',\n",
       "       'Uterine cancer'], dtype=object)"
      ]
     },
     "execution_count": 3,
     "metadata": {},
     "output_type": "execute_result"
    }
   ],
   "execution_count": 3
  },
  {
   "metadata": {
    "ExecuteTime": {
     "end_time": "2024-09-11T13:27:48.849509Z",
     "start_time": "2024-09-11T13:27:48.821152Z"
    }
   },
   "cell_type": "code",
   "source": "print(\"Number of unique genes is\", len(df_hpa['Gene'].unique()))",
   "id": "b365c22b44a9303a",
   "outputs": [
    {
     "name": "stdout",
     "output_type": "stream",
     "text": [
      "Number of unique genes is 20162\n"
     ]
    }
   ],
   "execution_count": 4
  },
  {
   "metadata": {
    "ExecuteTime": {
     "end_time": "2024-09-11T13:27:48.885139Z",
     "start_time": "2024-09-11T13:27:48.850518Z"
    }
   },
   "cell_type": "code",
   "source": [
    "df_lung = df_hpa[df_hpa['Cancer'] == 'lung cancer']\n",
    "df_lung = df_lung.drop(columns=['pTPM', 'nTPM', 'Cancer'])\n",
    "df_lung = df_lung.rename(columns={'Gene': 'id', 'Gene name':'name', 'TPM': 'tpm'})\n",
    "\n",
    "df_lung"
   ],
   "id": "59c1f7e11c27b69",
   "outputs": [
    {
     "data": {
      "text/plain": [
       "                     id             name   tpm\n",
       "15      ENSG00000000003           TSPAN6  17.5\n",
       "45      ENSG00000000005             TNMD   0.0\n",
       "75      ENSG00000000419             DPM1  77.3\n",
       "105     ENSG00000000457            SCYL3   5.4\n",
       "135     ENSG00000000460         C1orf112  14.4\n",
       "...                 ...              ...   ...\n",
       "604725  ENSG00000291313  ENSG00000291313   7.9\n",
       "604755  ENSG00000291314  ENSG00000291314   0.2\n",
       "604785  ENSG00000291315  ENSG00000291315   0.0\n",
       "604815  ENSG00000291316  ENSG00000291316   8.9\n",
       "604845  ENSG00000291317          TMEM276  13.4\n",
       "\n",
       "[20162 rows x 3 columns]"
      ],
      "text/html": [
       "<div>\n",
       "<style scoped>\n",
       "    .dataframe tbody tr th:only-of-type {\n",
       "        vertical-align: middle;\n",
       "    }\n",
       "\n",
       "    .dataframe tbody tr th {\n",
       "        vertical-align: top;\n",
       "    }\n",
       "\n",
       "    .dataframe thead th {\n",
       "        text-align: right;\n",
       "    }\n",
       "</style>\n",
       "<table border=\"1\" class=\"dataframe\">\n",
       "  <thead>\n",
       "    <tr style=\"text-align: right;\">\n",
       "      <th></th>\n",
       "      <th>id</th>\n",
       "      <th>name</th>\n",
       "      <th>tpm</th>\n",
       "    </tr>\n",
       "  </thead>\n",
       "  <tbody>\n",
       "    <tr>\n",
       "      <th>15</th>\n",
       "      <td>ENSG00000000003</td>\n",
       "      <td>TSPAN6</td>\n",
       "      <td>17.5</td>\n",
       "    </tr>\n",
       "    <tr>\n",
       "      <th>45</th>\n",
       "      <td>ENSG00000000005</td>\n",
       "      <td>TNMD</td>\n",
       "      <td>0.0</td>\n",
       "    </tr>\n",
       "    <tr>\n",
       "      <th>75</th>\n",
       "      <td>ENSG00000000419</td>\n",
       "      <td>DPM1</td>\n",
       "      <td>77.3</td>\n",
       "    </tr>\n",
       "    <tr>\n",
       "      <th>105</th>\n",
       "      <td>ENSG00000000457</td>\n",
       "      <td>SCYL3</td>\n",
       "      <td>5.4</td>\n",
       "    </tr>\n",
       "    <tr>\n",
       "      <th>135</th>\n",
       "      <td>ENSG00000000460</td>\n",
       "      <td>C1orf112</td>\n",
       "      <td>14.4</td>\n",
       "    </tr>\n",
       "    <tr>\n",
       "      <th>...</th>\n",
       "      <td>...</td>\n",
       "      <td>...</td>\n",
       "      <td>...</td>\n",
       "    </tr>\n",
       "    <tr>\n",
       "      <th>604725</th>\n",
       "      <td>ENSG00000291313</td>\n",
       "      <td>ENSG00000291313</td>\n",
       "      <td>7.9</td>\n",
       "    </tr>\n",
       "    <tr>\n",
       "      <th>604755</th>\n",
       "      <td>ENSG00000291314</td>\n",
       "      <td>ENSG00000291314</td>\n",
       "      <td>0.2</td>\n",
       "    </tr>\n",
       "    <tr>\n",
       "      <th>604785</th>\n",
       "      <td>ENSG00000291315</td>\n",
       "      <td>ENSG00000291315</td>\n",
       "      <td>0.0</td>\n",
       "    </tr>\n",
       "    <tr>\n",
       "      <th>604815</th>\n",
       "      <td>ENSG00000291316</td>\n",
       "      <td>ENSG00000291316</td>\n",
       "      <td>8.9</td>\n",
       "    </tr>\n",
       "    <tr>\n",
       "      <th>604845</th>\n",
       "      <td>ENSG00000291317</td>\n",
       "      <td>TMEM276</td>\n",
       "      <td>13.4</td>\n",
       "    </tr>\n",
       "  </tbody>\n",
       "</table>\n",
       "<p>20162 rows × 3 columns</p>\n",
       "</div>"
      ]
     },
     "execution_count": 5,
     "metadata": {},
     "output_type": "execute_result"
    }
   ],
   "execution_count": 5
  },
  {
   "metadata": {},
   "cell_type": "markdown",
   "source": "## Save the data to a csv file",
   "id": "4557b03f9b125e57"
  },
  {
   "metadata": {
    "ExecuteTime": {
     "end_time": "2024-09-11T13:27:48.910623Z",
     "start_time": "2024-09-11T13:27:48.886144Z"
    }
   },
   "cell_type": "code",
   "source": [
    "df_lung.to_csv(\"../processed_data/HPA_lung_cancer.csv\", index=False)\n",
    "\n",
    "print(f'There are {df_lung.shape[0]} rows/genes in the saved dataset.')"
   ],
   "id": "3f6cd95dbca6cd0f",
   "outputs": [],
   "execution_count": 6
  }
 ],
 "metadata": {
  "kernelspec": {
   "display_name": "Python 3",
   "language": "python",
   "name": "python3"
  },
  "language_info": {
   "codemirror_mode": {
    "name": "ipython",
    "version": 2
   },
   "file_extension": ".py",
   "mimetype": "text/x-python",
   "name": "python",
   "nbconvert_exporter": "python",
   "pygments_lexer": "ipython2",
   "version": "2.7.6"
  }
 },
 "nbformat": 4,
 "nbformat_minor": 5
}
