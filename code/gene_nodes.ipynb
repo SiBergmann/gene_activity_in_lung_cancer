{
 "cells": [
  {
   "metadata": {
    "ExecuteTime": {
     "end_time": "2024-09-20T11:18:12.486046Z",
     "start_time": "2024-09-20T11:18:12.474559Z"
    }
   },
   "cell_type": "code",
   "source": [
    "import pandas as pd\n",
    "import numpy as np\n",
    "import matplotlib.pyplot as plt\n",
    "from scipy.stats import zscore"
   ],
   "id": "de17c831ebfe57de",
   "outputs": [],
   "execution_count": 14
  },
  {
   "metadata": {},
   "cell_type": "markdown",
   "source": [
    "# Gene Nodes\n",
    "\n",
    "Putting together the Information for the nodes and save them as a csv file.\n",
    "\n",
    "Nodes are genes with the following information:\n",
    "- Gene ID\n",
    "- Gene Name\n",
    "- TPM value for lung cancer\n",
    "- TPM value for healthy lung tissue\n",
    "- TMP difference between cancer and healthy tissue"
   ],
   "id": "46927e43fe43848a"
  },
  {
   "metadata": {
    "ExecuteTime": {
     "end_time": "2024-09-20T11:18:12.874403Z",
     "start_time": "2024-09-20T11:18:12.767689Z"
    }
   },
   "cell_type": "code",
   "source": [
    "df_gtex = pd.read_csv('../processed_data/GTEX_healthy_mean.csv')\n",
    "df_cmp = pd.read_csv('../processed_data/CMP_cancer_mean.csv')"
   ],
   "id": "initial_id",
   "outputs": [],
   "execution_count": 15
  },
  {
   "metadata": {
    "ExecuteTime": {
     "end_time": "2024-09-20T11:18:12.885083Z",
     "start_time": "2024-09-20T11:18:12.878412Z"
    }
   },
   "cell_type": "code",
   "source": [
    "# rename columns\n",
    "df_gtex.rename(columns={'tpm': 'healthy tpm'}, inplace=True)\n",
    "df_cmp.rename(columns={'name': 'name',\n",
    "                       'tpm': 'cancerous tpm'}, inplace=True)"
   ],
   "id": "420ccf519dfc95e9",
   "outputs": [],
   "execution_count": 16
  },
  {
   "metadata": {},
   "cell_type": "markdown",
   "source": "## Cancer Datasets",
   "id": "870fdaab3f5991d9"
  },
  {
   "metadata": {
    "ExecuteTime": {
     "end_time": "2024-09-20T11:18:12.905738Z",
     "start_time": "2024-09-20T11:18:12.888092Z"
    }
   },
   "cell_type": "code",
   "source": [
    "df_nodes_cancer = df_cmp.copy()\n",
    "print(f\"There are {df_nodes_cancer.shape[0]} rows in the cancer dataset.\")\n",
    "df_nodes_cancer"
   ],
   "id": "46c2ba53eb22c1b7",
   "outputs": [
    {
     "name": "stdout",
     "output_type": "stream",
     "text": [
      "There are 33502 rows in the cancer dataset.\n"
     ]
    },
    {
     "data": {
      "text/plain": [
       "           name  cancerous tpm               id\n",
       "0          A1BG       0.827192  ENSG00000121410\n",
       "1      A1BG-AS1       4.676305  ENSG00000268895\n",
       "2          A1CF       1.355369  ENSG00000148584\n",
       "3           A2M       1.669212  ENSG00000175899\n",
       "4       A2M-AS1       1.033596  ENSG00000245105\n",
       "...         ...            ...              ...\n",
       "33497  ZYG11AP1       0.000887  ENSG00000232242\n",
       "33498    ZYG11B      21.124039  ENSG00000162378\n",
       "33499     ZYXP1       0.000000  ENSG00000274572\n",
       "33500     ZZEF1      17.697980  ENSG00000074755\n",
       "33501      ZZZ3      26.655271  ENSG00000036549\n",
       "\n",
       "[33502 rows x 3 columns]"
      ],
      "text/html": [
       "<div>\n",
       "<style scoped>\n",
       "    .dataframe tbody tr th:only-of-type {\n",
       "        vertical-align: middle;\n",
       "    }\n",
       "\n",
       "    .dataframe tbody tr th {\n",
       "        vertical-align: top;\n",
       "    }\n",
       "\n",
       "    .dataframe thead th {\n",
       "        text-align: right;\n",
       "    }\n",
       "</style>\n",
       "<table border=\"1\" class=\"dataframe\">\n",
       "  <thead>\n",
       "    <tr style=\"text-align: right;\">\n",
       "      <th></th>\n",
       "      <th>name</th>\n",
       "      <th>cancerous tpm</th>\n",
       "      <th>id</th>\n",
       "    </tr>\n",
       "  </thead>\n",
       "  <tbody>\n",
       "    <tr>\n",
       "      <th>0</th>\n",
       "      <td>A1BG</td>\n",
       "      <td>0.827192</td>\n",
       "      <td>ENSG00000121410</td>\n",
       "    </tr>\n",
       "    <tr>\n",
       "      <th>1</th>\n",
       "      <td>A1BG-AS1</td>\n",
       "      <td>4.676305</td>\n",
       "      <td>ENSG00000268895</td>\n",
       "    </tr>\n",
       "    <tr>\n",
       "      <th>2</th>\n",
       "      <td>A1CF</td>\n",
       "      <td>1.355369</td>\n",
       "      <td>ENSG00000148584</td>\n",
       "    </tr>\n",
       "    <tr>\n",
       "      <th>3</th>\n",
       "      <td>A2M</td>\n",
       "      <td>1.669212</td>\n",
       "      <td>ENSG00000175899</td>\n",
       "    </tr>\n",
       "    <tr>\n",
       "      <th>4</th>\n",
       "      <td>A2M-AS1</td>\n",
       "      <td>1.033596</td>\n",
       "      <td>ENSG00000245105</td>\n",
       "    </tr>\n",
       "    <tr>\n",
       "      <th>...</th>\n",
       "      <td>...</td>\n",
       "      <td>...</td>\n",
       "      <td>...</td>\n",
       "    </tr>\n",
       "    <tr>\n",
       "      <th>33497</th>\n",
       "      <td>ZYG11AP1</td>\n",
       "      <td>0.000887</td>\n",
       "      <td>ENSG00000232242</td>\n",
       "    </tr>\n",
       "    <tr>\n",
       "      <th>33498</th>\n",
       "      <td>ZYG11B</td>\n",
       "      <td>21.124039</td>\n",
       "      <td>ENSG00000162378</td>\n",
       "    </tr>\n",
       "    <tr>\n",
       "      <th>33499</th>\n",
       "      <td>ZYXP1</td>\n",
       "      <td>0.000000</td>\n",
       "      <td>ENSG00000274572</td>\n",
       "    </tr>\n",
       "    <tr>\n",
       "      <th>33500</th>\n",
       "      <td>ZZEF1</td>\n",
       "      <td>17.697980</td>\n",
       "      <td>ENSG00000074755</td>\n",
       "    </tr>\n",
       "    <tr>\n",
       "      <th>33501</th>\n",
       "      <td>ZZZ3</td>\n",
       "      <td>26.655271</td>\n",
       "      <td>ENSG00000036549</td>\n",
       "    </tr>\n",
       "  </tbody>\n",
       "</table>\n",
       "<p>33502 rows × 3 columns</p>\n",
       "</div>"
      ]
     },
     "execution_count": 17,
     "metadata": {},
     "output_type": "execute_result"
    }
   ],
   "execution_count": 17
  },
  {
   "metadata": {},
   "cell_type": "markdown",
   "source": "## Merge with healthy",
   "id": "f3bc42b1e8dd575f"
  },
  {
   "metadata": {
    "ExecuteTime": {
     "end_time": "2024-09-20T11:18:12.956026Z",
     "start_time": "2024-09-20T11:18:12.908748Z"
    }
   },
   "cell_type": "code",
   "source": [
    "df_nodes_healthy = df_gtex.copy()\n",
    "\n",
    "df_nodes_genes = df_nodes_cancer.merge(df_nodes_healthy, on='id', how='inner')\n",
    "\n",
    "print(f\"There are {df_nodes_genes.shape[0]} rows in the merged dataset. All have a healthy and a cancer tpm value.\")\n",
    "\n",
    "df_nodes_genes"
   ],
   "id": "aea44d6e056078d1",
   "outputs": [
    {
     "name": "stdout",
     "output_type": "stream",
     "text": [
      "There are 32865 rows in the merged dataset. All have a healthy and a cancer tpm value.\n"
     ]
    },
    {
     "data": {
      "text/plain": [
       "           name  cancerous tpm               id  healthy tpm\n",
       "0          A1BG       0.827192  ENSG00000121410     9.456192\n",
       "1      A1BG-AS1       4.676305  ENSG00000268895     2.553894\n",
       "2          A1CF       1.355369  ENSG00000148584     0.832690\n",
       "3           A2M       1.669212  ENSG00000175899   473.357464\n",
       "4       A2M-AS1       1.033596  ENSG00000245105     4.633371\n",
       "...         ...            ...              ...          ...\n",
       "32860  ZYG11AP1       0.000887  ENSG00000232242     0.000608\n",
       "32861    ZYG11B      21.124039  ENSG00000162378    13.677842\n",
       "32862     ZYXP1       0.000000  ENSG00000274572     0.000104\n",
       "32863     ZZEF1      17.697980  ENSG00000074755    18.714613\n",
       "32864      ZZZ3      26.655271  ENSG00000036549     9.139015\n",
       "\n",
       "[32865 rows x 4 columns]"
      ],
      "text/html": [
       "<div>\n",
       "<style scoped>\n",
       "    .dataframe tbody tr th:only-of-type {\n",
       "        vertical-align: middle;\n",
       "    }\n",
       "\n",
       "    .dataframe tbody tr th {\n",
       "        vertical-align: top;\n",
       "    }\n",
       "\n",
       "    .dataframe thead th {\n",
       "        text-align: right;\n",
       "    }\n",
       "</style>\n",
       "<table border=\"1\" class=\"dataframe\">\n",
       "  <thead>\n",
       "    <tr style=\"text-align: right;\">\n",
       "      <th></th>\n",
       "      <th>name</th>\n",
       "      <th>cancerous tpm</th>\n",
       "      <th>id</th>\n",
       "      <th>healthy tpm</th>\n",
       "    </tr>\n",
       "  </thead>\n",
       "  <tbody>\n",
       "    <tr>\n",
       "      <th>0</th>\n",
       "      <td>A1BG</td>\n",
       "      <td>0.827192</td>\n",
       "      <td>ENSG00000121410</td>\n",
       "      <td>9.456192</td>\n",
       "    </tr>\n",
       "    <tr>\n",
       "      <th>1</th>\n",
       "      <td>A1BG-AS1</td>\n",
       "      <td>4.676305</td>\n",
       "      <td>ENSG00000268895</td>\n",
       "      <td>2.553894</td>\n",
       "    </tr>\n",
       "    <tr>\n",
       "      <th>2</th>\n",
       "      <td>A1CF</td>\n",
       "      <td>1.355369</td>\n",
       "      <td>ENSG00000148584</td>\n",
       "      <td>0.832690</td>\n",
       "    </tr>\n",
       "    <tr>\n",
       "      <th>3</th>\n",
       "      <td>A2M</td>\n",
       "      <td>1.669212</td>\n",
       "      <td>ENSG00000175899</td>\n",
       "      <td>473.357464</td>\n",
       "    </tr>\n",
       "    <tr>\n",
       "      <th>4</th>\n",
       "      <td>A2M-AS1</td>\n",
       "      <td>1.033596</td>\n",
       "      <td>ENSG00000245105</td>\n",
       "      <td>4.633371</td>\n",
       "    </tr>\n",
       "    <tr>\n",
       "      <th>...</th>\n",
       "      <td>...</td>\n",
       "      <td>...</td>\n",
       "      <td>...</td>\n",
       "      <td>...</td>\n",
       "    </tr>\n",
       "    <tr>\n",
       "      <th>32860</th>\n",
       "      <td>ZYG11AP1</td>\n",
       "      <td>0.000887</td>\n",
       "      <td>ENSG00000232242</td>\n",
       "      <td>0.000608</td>\n",
       "    </tr>\n",
       "    <tr>\n",
       "      <th>32861</th>\n",
       "      <td>ZYG11B</td>\n",
       "      <td>21.124039</td>\n",
       "      <td>ENSG00000162378</td>\n",
       "      <td>13.677842</td>\n",
       "    </tr>\n",
       "    <tr>\n",
       "      <th>32862</th>\n",
       "      <td>ZYXP1</td>\n",
       "      <td>0.000000</td>\n",
       "      <td>ENSG00000274572</td>\n",
       "      <td>0.000104</td>\n",
       "    </tr>\n",
       "    <tr>\n",
       "      <th>32863</th>\n",
       "      <td>ZZEF1</td>\n",
       "      <td>17.697980</td>\n",
       "      <td>ENSG00000074755</td>\n",
       "      <td>18.714613</td>\n",
       "    </tr>\n",
       "    <tr>\n",
       "      <th>32864</th>\n",
       "      <td>ZZZ3</td>\n",
       "      <td>26.655271</td>\n",
       "      <td>ENSG00000036549</td>\n",
       "      <td>9.139015</td>\n",
       "    </tr>\n",
       "  </tbody>\n",
       "</table>\n",
       "<p>32865 rows × 4 columns</p>\n",
       "</div>"
      ]
     },
     "execution_count": 18,
     "metadata": {},
     "output_type": "execute_result"
    }
   ],
   "execution_count": 18
  },
  {
   "metadata": {},
   "cell_type": "markdown",
   "source": [
    "## Normalize TPM Values\n",
    "TPM values are normalized to a range between 0 and 1 to make them easier comparable."
   ],
   "id": "34eb8285d56af98"
  },
  {
   "metadata": {
    "ExecuteTime": {
     "end_time": "2024-09-20T11:18:12.964815Z",
     "start_time": "2024-09-20T11:18:12.959035Z"
    }
   },
   "cell_type": "code",
   "source": [
    "# logarithmic scaling with normalization [0, 1]\n",
    "def log_norm_scaling(column, min_tpm, max_tpm):\n",
    "    column_log = np.log1p(column)\n",
    "    \n",
    "    min_log = np.log1p(min_tpm)\n",
    "    max_log = np.log1p(max_tpm)\n",
    "    \n",
    "    column = (column_log - min_log) / (max_log - min_log)\n",
    "    return column"
   ],
   "id": "3d228c9eac522cba",
   "outputs": [],
   "execution_count": 19
  },
  {
   "metadata": {
    "ExecuteTime": {
     "end_time": "2024-09-20T11:18:12.984022Z",
     "start_time": "2024-09-20T11:18:12.975823Z"
    }
   },
   "cell_type": "code",
   "source": [
    "# Min\n",
    "print(f\"Min Healthy TPM:\\t{df_nodes_genes['healthy tpm'].min().round(3)}\")\n",
    "print(f\"Min cmp TPM:\\t\\t{df_nodes_genes['cancerous tpm'].min().round(3)}\\n\")\n",
    "\n",
    "# Max\n",
    "print(f\"Max Healthy TPM:\\t{df_nodes_genes['healthy tpm'].max().round(3)}\")\n",
    "print(f\"Max cmp TPM:\\t\\t{df_nodes_genes['cancerous tpm'].max().round(3)}\")"
   ],
   "id": "9a52be6530859a4a",
   "outputs": [
    {
     "name": "stdout",
     "output_type": "stream",
     "text": [
      "Min Healthy TPM:\t0.0\n",
      "Min cmp TPM:\t\t0.0\n",
      "\n",
      "Max Healthy TPM:\t36200.774\n",
      "Max cmp TPM:\t\t41173.932\n"
     ]
    }
   ],
   "execution_count": 20
  },
  {
   "metadata": {
    "ExecuteTime": {
     "end_time": "2024-09-20T11:18:13.073815Z",
     "start_time": "2024-09-20T11:18:13.061029Z"
    }
   },
   "cell_type": "code",
   "source": [
    "# min and max over all 3 datasets\n",
    "min_tpm = min(df_nodes_genes['healthy tpm'].min(), \n",
    "              df_nodes_genes['cancerous tpm'].min()\n",
    "              )\n",
    "max_tpm = max(df_nodes_genes['healthy tpm'].max(), \n",
    "              df_nodes_genes['cancerous tpm'].max()\n",
    "              ) \n",
    "\n",
    "# perform log normalization\n",
    "df_nodes_genes['norm healthy tpm'] = log_norm_scaling(df_nodes_genes['healthy tpm'], min_tpm, max_tpm)\n",
    "df_nodes_genes['norm cancerous tpm'] = log_norm_scaling(df_nodes_genes['cancerous tpm'], min_tpm, max_tpm)"
   ],
   "id": "4b9ee6a1fc8e408d",
   "outputs": [],
   "execution_count": 21
  },
  {
   "metadata": {
    "ExecuteTime": {
     "end_time": "2024-09-20T11:18:13.573679Z",
     "start_time": "2024-09-20T11:18:13.102274Z"
    }
   },
   "cell_type": "code",
   "source": [
    "# healthy tpm\n",
    "plt.figure(figsize=(20, 5))\n",
    "plt.subplot(1, 2, 1)\n",
    "plt.hist(df_nodes_genes['norm healthy tpm'], bins=100)\n",
    "plt.title('normalized healthy TPM')\n",
    "\n",
    "# cmp tpm\n",
    "plt.subplot(1, 2, 2)\n",
    "plt.hist(df_nodes_genes['norm cancerous tpm'], bins=100)\n",
    "plt.title('normalized cancerous TPM')\n",
    "\n",
    "plt.show()"
   ],
   "id": "a8e2b3b69ab02a08",
   "outputs": [
    {
     "data": {
      "text/plain": [
       "<Figure size 2000x500 with 2 Axes>"
      ],
      "image/png": "[encoded data removed]"
     },
     "metadata": {},
     "output_type": "display_data"
    }
   ],
   "execution_count": 22
  },
  {
   "metadata": {
    "ExecuteTime": {
     "end_time": "2024-09-20T11:18:13.598916Z",
     "start_time": "2024-09-20T11:18:13.577691Z"
    }
   },
   "cell_type": "code",
   "source": [
    "df_nodes_genes.drop(columns=['healthy tpm', \n",
    "                             'cancerous tpm'\n",
    "                             ], inplace=True)\n",
    "df_nodes_genes"
   ],
   "id": "6070eb584bf75997",
   "outputs": [
    {
     "data": {
      "text/plain": [
       "           name               id  norm healthy tpm  norm cancerous tpm\n",
       "0          A1BG  ENSG00000121410          0.220900            0.056729\n",
       "1      A1BG-AS1  ENSG00000268895          0.119339            0.163408\n",
       "2          A1CF  ENSG00000148584          0.057012            0.080626\n",
       "3           A2M  ENSG00000175899          0.579917            0.092398\n",
       "4       A2M-AS1  ENSG00000245105          0.162693            0.066802\n",
       "...         ...              ...               ...                 ...\n",
       "32860  ZYG11AP1  ENSG00000232242          0.000057            0.000083\n",
       "32861    ZYG11B  ENSG00000162378          0.252818            0.291435\n",
       "32862     ZYXP1  ENSG00000274572          0.000010            0.000000\n",
       "32863     ZZEF1  ENSG00000074755          0.280583            0.275600\n",
       "32864      ZZZ3  ENSG00000036549          0.218001            0.312436\n",
       "\n",
       "[32865 rows x 4 columns]"
      ],
      "text/html": [
       "<div>\n",
       "<style scoped>\n",
       "    .dataframe tbody tr th:only-of-type {\n",
       "        vertical-align: middle;\n",
       "    }\n",
       "\n",
       "    .dataframe tbody tr th {\n",
       "        vertical-align: top;\n",
       "    }\n",
       "\n",
       "    .dataframe thead th {\n",
       "        text-align: right;\n",
       "    }\n",
       "</style>\n",
       "<table border=\"1\" class=\"dataframe\">\n",
       "  <thead>\n",
       "    <tr style=\"text-align: right;\">\n",
       "      <th></th>\n",
       "      <th>name</th>\n",
       "      <th>id</th>\n",
       "      <th>norm healthy tpm</th>\n",
       "      <th>norm cancerous tpm</th>\n",
       "    </tr>\n",
       "  </thead>\n",
       "  <tbody>\n",
       "    <tr>\n",
       "      <th>0</th>\n",
       "      <td>A1BG</td>\n",
       "      <td>ENSG00000121410</td>\n",
       "      <td>0.220900</td>\n",
       "      <td>0.056729</td>\n",
       "    </tr>\n",
       "    <tr>\n",
       "      <th>1</th>\n",
       "      <td>A1BG-AS1</td>\n",
       "      <td>ENSG00000268895</td>\n",
       "      <td>0.119339</td>\n",
       "      <td>0.163408</td>\n",
       "    </tr>\n",
       "    <tr>\n",
       "      <th>2</th>\n",
       "      <td>A1CF</td>\n",
       "      <td>ENSG00000148584</td>\n",
       "      <td>0.057012</td>\n",
       "      <td>0.080626</td>\n",
       "    </tr>\n",
       "    <tr>\n",
       "      <th>3</th>\n",
       "      <td>A2M</td>\n",
       "      <td>ENSG00000175899</td>\n",
       "      <td>0.579917</td>\n",
       "      <td>0.092398</td>\n",
       "    </tr>\n",
       "    <tr>\n",
       "      <th>4</th>\n",
       "      <td>A2M-AS1</td>\n",
       "      <td>ENSG00000245105</td>\n",
       "      <td>0.162693</td>\n",
       "      <td>0.066802</td>\n",
       "    </tr>\n",
       "    <tr>\n",
       "      <th>...</th>\n",
       "      <td>...</td>\n",
       "      <td>...</td>\n",
       "      <td>...</td>\n",
       "      <td>...</td>\n",
       "    </tr>\n",
       "    <tr>\n",
       "      <th>32860</th>\n",
       "      <td>ZYG11AP1</td>\n",
       "      <td>ENSG00000232242</td>\n",
       "      <td>0.000057</td>\n",
       "      <td>0.000083</td>\n",
       "    </tr>\n",
       "    <tr>\n",
       "      <th>32861</th>\n",
       "      <td>ZYG11B</td>\n",
       "      <td>ENSG00000162378</td>\n",
       "      <td>0.252818</td>\n",
       "      <td>0.291435</td>\n",
       "    </tr>\n",
       "    <tr>\n",
       "      <th>32862</th>\n",
       "      <td>ZYXP1</td>\n",
       "      <td>ENSG00000274572</td>\n",
       "      <td>0.000010</td>\n",
       "      <td>0.000000</td>\n",
       "    </tr>\n",
       "    <tr>\n",
       "      <th>32863</th>\n",
       "      <td>ZZEF1</td>\n",
       "      <td>ENSG00000074755</td>\n",
       "      <td>0.280583</td>\n",
       "      <td>0.275600</td>\n",
       "    </tr>\n",
       "    <tr>\n",
       "      <th>32864</th>\n",
       "      <td>ZZZ3</td>\n",
       "      <td>ENSG00000036549</td>\n",
       "      <td>0.218001</td>\n",
       "      <td>0.312436</td>\n",
       "    </tr>\n",
       "  </tbody>\n",
       "</table>\n",
       "<p>32865 rows × 4 columns</p>\n",
       "</div>"
      ]
     },
     "execution_count": 23,
     "metadata": {},
     "output_type": "execute_result"
    }
   ],
   "execution_count": 23
  },
  {
   "metadata": {},
   "cell_type": "markdown",
   "source": [
    "## Calculate `delta tpm`\n",
    "\n",
    "value of the difference between the normalized cancerous tpm and normalized healthy tpm"
   ],
   "id": "7262c9cfab841860"
  },
  {
   "metadata": {
    "ExecuteTime": {
     "end_time": "2024-09-20T11:18:13.628092Z",
     "start_time": "2024-09-20T11:18:13.601415Z"
    }
   },
   "cell_type": "code",
   "source": [
    "df_nodes_genes['delta tpm'] = df_nodes_genes['norm cancerous tpm'] - df_nodes_genes['norm healthy tpm']\n",
    "df_nodes_genes['delta type'] = np.where(df_nodes_genes['delta tpm'] > 0, 'increase', 'decrease')\n",
    "\n",
    "df_nodes_genes"
   ],
   "id": "9907c87d13cbaab4",
   "outputs": [
    {
     "data": {
      "text/plain": [
       "           name               id  norm healthy tpm  norm cancerous tpm  \\\n",
       "0          A1BG  ENSG00000121410          0.220900            0.056729   \n",
       "1      A1BG-AS1  ENSG00000268895          0.119339            0.163408   \n",
       "2          A1CF  ENSG00000148584          0.057012            0.080626   \n",
       "3           A2M  ENSG00000175899          0.579917            0.092398   \n",
       "4       A2M-AS1  ENSG00000245105          0.162693            0.066802   \n",
       "...         ...              ...               ...                 ...   \n",
       "32860  ZYG11AP1  ENSG00000232242          0.000057            0.000083   \n",
       "32861    ZYG11B  ENSG00000162378          0.252818            0.291435   \n",
       "32862     ZYXP1  ENSG00000274572          0.000010            0.000000   \n",
       "32863     ZZEF1  ENSG00000074755          0.280583            0.275600   \n",
       "32864      ZZZ3  ENSG00000036549          0.218001            0.312436   \n",
       "\n",
       "       delta tpm delta type  \n",
       "0      -0.164171   decrease  \n",
       "1       0.044069   increase  \n",
       "2       0.023614   increase  \n",
       "3      -0.487519   decrease  \n",
       "4      -0.095891   decrease  \n",
       "...          ...        ...  \n",
       "32860   0.000026   increase  \n",
       "32861   0.038617   increase  \n",
       "32862  -0.000010   decrease  \n",
       "32863  -0.004983   decrease  \n",
       "32864   0.094435   increase  \n",
       "\n",
       "[32865 rows x 6 columns]"
      ],
      "text/html": [
       "<div>\n",
       "<style scoped>\n",
       "    .dataframe tbody tr th:only-of-type {\n",
       "        vertical-align: middle;\n",
       "    }\n",
       "\n",
       "    .dataframe tbody tr th {\n",
       "        vertical-align: top;\n",
       "    }\n",
       "\n",
       "    .dataframe thead th {\n",
       "        text-align: right;\n",
       "    }\n",
       "</style>\n",
       "<table border=\"1\" class=\"dataframe\">\n",
       "  <thead>\n",
       "    <tr style=\"text-align: right;\">\n",
       "      <th></th>\n",
       "      <th>name</th>\n",
       "      <th>id</th>\n",
       "      <th>norm healthy tpm</th>\n",
       "      <th>norm cancerous tpm</th>\n",
       "      <th>delta tpm</th>\n",
       "      <th>delta type</th>\n",
       "    </tr>\n",
       "  </thead>\n",
       "  <tbody>\n",
       "    <tr>\n",
       "      <th>0</th>\n",
       "      <td>A1BG</td>\n",
       "      <td>ENSG00000121410</td>\n",
       "      <td>0.220900</td>\n",
       "      <td>0.056729</td>\n",
       "      <td>-0.164171</td>\n",
       "      <td>decrease</td>\n",
       "    </tr>\n",
       "    <tr>\n",
       "      <th>1</th>\n",
       "      <td>A1BG-AS1</td>\n",
       "      <td>ENSG00000268895</td>\n",
       "      <td>0.119339</td>\n",
       "      <td>0.163408</td>\n",
       "      <td>0.044069</td>\n",
       "      <td>increase</td>\n",
       "    </tr>\n",
       "    <tr>\n",
       "      <th>2</th>\n",
       "      <td>A1CF</td>\n",
       "      <td>ENSG00000148584</td>\n",
       "      <td>0.057012</td>\n",
       "      <td>0.080626</td>\n",
       "      <td>0.023614</td>\n",
       "      <td>increase</td>\n",
       "    </tr>\n",
       "    <tr>\n",
       "      <th>3</th>\n",
       "      <td>A2M</td>\n",
       "      <td>ENSG00000175899</td>\n",
       "      <td>0.579917</td>\n",
       "      <td>0.092398</td>\n",
       "      <td>-0.487519</td>\n",
       "      <td>decrease</td>\n",
       "    </tr>\n",
       "    <tr>\n",
       "      <th>4</th>\n",
       "      <td>A2M-AS1</td>\n",
       "      <td>ENSG00000245105</td>\n",
       "      <td>0.162693</td>\n",
       "      <td>0.066802</td>\n",
       "      <td>-0.095891</td>\n",
       "      <td>decrease</td>\n",
       "    </tr>\n",
       "    <tr>\n",
       "      <th>...</th>\n",
       "      <td>...</td>\n",
       "      <td>...</td>\n",
       "      <td>...</td>\n",
       "      <td>...</td>\n",
       "      <td>...</td>\n",
       "      <td>...</td>\n",
       "    </tr>\n",
       "    <tr>\n",
       "      <th>32860</th>\n",
       "      <td>ZYG11AP1</td>\n",
       "      <td>ENSG00000232242</td>\n",
       "      <td>0.000057</td>\n",
       "      <td>0.000083</td>\n",
       "      <td>0.000026</td>\n",
       "      <td>increase</td>\n",
       "    </tr>\n",
       "    <tr>\n",
       "      <th>32861</th>\n",
       "      <td>ZYG11B</td>\n",
       "      <td>ENSG00000162378</td>\n",
       "      <td>0.252818</td>\n",
       "      <td>0.291435</td>\n",
       "      <td>0.038617</td>\n",
       "      <td>increase</td>\n",
       "    </tr>\n",
       "    <tr>\n",
       "      <th>32862</th>\n",
       "      <td>ZYXP1</td>\n",
       "      <td>ENSG00000274572</td>\n",
       "      <td>0.000010</td>\n",
       "      <td>0.000000</td>\n",
       "      <td>-0.000010</td>\n",
       "      <td>decrease</td>\n",
       "    </tr>\n",
       "    <tr>\n",
       "      <th>32863</th>\n",
       "      <td>ZZEF1</td>\n",
       "      <td>ENSG00000074755</td>\n",
       "      <td>0.280583</td>\n",
       "      <td>0.275600</td>\n",
       "      <td>-0.004983</td>\n",
       "      <td>decrease</td>\n",
       "    </tr>\n",
       "    <tr>\n",
       "      <th>32864</th>\n",
       "      <td>ZZZ3</td>\n",
       "      <td>ENSG00000036549</td>\n",
       "      <td>0.218001</td>\n",
       "      <td>0.312436</td>\n",
       "      <td>0.094435</td>\n",
       "      <td>increase</td>\n",
       "    </tr>\n",
       "  </tbody>\n",
       "</table>\n",
       "<p>32865 rows × 6 columns</p>\n",
       "</div>"
      ]
     },
     "execution_count": 24,
     "metadata": {},
     "output_type": "execute_result"
    }
   ],
   "execution_count": 24
  },
  {
   "metadata": {
    "ExecuteTime": {
     "end_time": "2024-09-20T11:18:15.122530Z",
     "start_time": "2024-09-20T11:18:13.630103Z"
    }
   },
   "cell_type": "code",
   "source": [
    "plt.hist(df_nodes_genes['delta tpm'], bins=1000)\n",
    "plt.title('delta TPM')\n",
    "plt.show()"
   ],
   "id": "247d0e18920f773f",
   "outputs": [
    {
     "data": {
      "text/plain": [
       "<Figure size 640x480 with 1 Axes>"
      ],
      "image/png": "[encoded data removed]"
     },
     "metadata": {},
     "output_type": "display_data"
    }
   ],
   "execution_count": 25
  },
  {
   "metadata": {
    "ExecuteTime": {
     "end_time": "2024-09-20T11:18:15.131044Z",
     "start_time": "2024-09-20T11:18:15.125539Z"
    }
   },
   "cell_type": "code",
   "source": "# df_nodes_genes['delta tpm'] = np.abs(df_nodes_genes['delta tpm'])",
   "id": "760c391e74637b36",
   "outputs": [],
   "execution_count": 26
  },
  {
   "metadata": {},
   "cell_type": "markdown",
   "source": [
    "## Calculate `delta_tpm_relevant` with z score\n",
    "Add a column that indicates if the change in the gene activity is relevant between cancer and healthy tissue.\n",
    "\n",
    "\n",
    "Z Score of the delta TPM values is calculated and used to determine if the gene is relevant for cancer.\n",
    "This z score means how many standard deviations the delta tpm value is away from the mean.\n"
   ],
   "id": "7a1d70cf376f8fef"
  },
  {
   "metadata": {
    "ExecuteTime": {
     "end_time": "2024-09-20T11:18:15.174409Z",
     "start_time": "2024-09-20T11:18:15.133095Z"
    }
   },
   "cell_type": "code",
   "source": [
    "\n",
    "df_nodes_genes['z score'] = zscore(df_nodes_genes['delta tpm'])\n",
    "\n",
    "# 1.96 für die größten 5 % der Abweichungen\n",
    "z_threshold = 1.96\n",
    "df_nodes_genes['delta tpm relevant'] = df_nodes_genes['z score'].abs() > z_threshold\n",
    "\n",
    "df_nodes_genes"
   ],
   "id": "e758354910fabe5d",
   "outputs": [
    {
     "data": {
      "text/plain": [
       "           name               id  norm healthy tpm  norm cancerous tpm  \\\n",
       "0          A1BG  ENSG00000121410          0.220900            0.056729   \n",
       "1      A1BG-AS1  ENSG00000268895          0.119339            0.163408   \n",
       "2          A1CF  ENSG00000148584          0.057012            0.080626   \n",
       "3           A2M  ENSG00000175899          0.579917            0.092398   \n",
       "4       A2M-AS1  ENSG00000245105          0.162693            0.066802   \n",
       "...         ...              ...               ...                 ...   \n",
       "32860  ZYG11AP1  ENSG00000232242          0.000057            0.000083   \n",
       "32861    ZYG11B  ENSG00000162378          0.252818            0.291435   \n",
       "32862     ZYXP1  ENSG00000274572          0.000010            0.000000   \n",
       "32863     ZZEF1  ENSG00000074755          0.280583            0.275600   \n",
       "32864      ZZZ3  ENSG00000036549          0.218001            0.312436   \n",
       "\n",
       "       delta tpm delta type   z score  delta tpm relevant  \n",
       "0      -0.164171   decrease -2.084790                True  \n",
       "1       0.044069   increase  0.438113               False  \n",
       "2       0.023614   increase  0.190296               False  \n",
       "3      -0.487519   decrease -6.002273                True  \n",
       "4      -0.095891   decrease -1.257556               False  \n",
       "...          ...        ...       ...                 ...  \n",
       "32860   0.000026   increase -0.095479               False  \n",
       "32861   0.038617   increase  0.372060               False  \n",
       "32862  -0.000010   decrease -0.095916               False  \n",
       "32863  -0.004983   decrease -0.156164               False  \n",
       "32864   0.094435   increase  1.048317               False  \n",
       "\n",
       "[32865 rows x 8 columns]"
      ],
      "text/html": [
       "<div>\n",
       "<style scoped>\n",
       "    .dataframe tbody tr th:only-of-type {\n",
       "        vertical-align: middle;\n",
       "    }\n",
       "\n",
       "    .dataframe tbody tr th {\n",
       "        vertical-align: top;\n",
       "    }\n",
       "\n",
       "    .dataframe thead th {\n",
       "        text-align: right;\n",
       "    }\n",
       "</style>\n",
       "<table border=\"1\" class=\"dataframe\">\n",
       "  <thead>\n",
       "    <tr style=\"text-align: right;\">\n",
       "      <th></th>\n",
       "      <th>name</th>\n",
       "      <th>id</th>\n",
       "      <th>norm healthy tpm</th>\n",
       "      <th>norm cancerous tpm</th>\n",
       "      <th>delta tpm</th>\n",
       "      <th>delta type</th>\n",
       "      <th>z score</th>\n",
       "      <th>delta tpm relevant</th>\n",
       "    </tr>\n",
       "  </thead>\n",
       "  <tbody>\n",
       "    <tr>\n",
       "      <th>0</th>\n",
       "      <td>A1BG</td>\n",
       "      <td>ENSG00000121410</td>\n",
       "      <td>0.220900</td>\n",
       "      <td>0.056729</td>\n",
       "      <td>-0.164171</td>\n",
       "      <td>decrease</td>\n",
       "      <td>-2.084790</td>\n",
       "      <td>True</td>\n",
       "    </tr>\n",
       "    <tr>\n",
       "      <th>1</th>\n",
       "      <td>A1BG-AS1</td>\n",
       "      <td>ENSG00000268895</td>\n",
       "      <td>0.119339</td>\n",
       "      <td>0.163408</td>\n",
       "      <td>0.044069</td>\n",
       "      <td>increase</td>\n",
       "      <td>0.438113</td>\n",
       "      <td>False</td>\n",
       "    </tr>\n",
       "    <tr>\n",
       "      <th>2</th>\n",
       "      <td>A1CF</td>\n",
       "      <td>ENSG00000148584</td>\n",
       "      <td>0.057012</td>\n",
       "      <td>0.080626</td>\n",
       "      <td>0.023614</td>\n",
       "      <td>increase</td>\n",
       "      <td>0.190296</td>\n",
       "      <td>False</td>\n",
       "    </tr>\n",
       "    <tr>\n",
       "      <th>3</th>\n",
       "      <td>A2M</td>\n",
       "      <td>ENSG00000175899</td>\n",
       "      <td>0.579917</td>\n",
       "      <td>0.092398</td>\n",
       "      <td>-0.487519</td>\n",
       "      <td>decrease</td>\n",
       "      <td>-6.002273</td>\n",
       "      <td>True</td>\n",
       "    </tr>\n",
       "    <tr>\n",
       "      <th>4</th>\n",
       "      <td>A2M-AS1</td>\n",
       "      <td>ENSG00000245105</td>\n",
       "      <td>0.162693</td>\n",
       "      <td>0.066802</td>\n",
       "      <td>-0.095891</td>\n",
       "      <td>decrease</td>\n",
       "      <td>-1.257556</td>\n",
       "      <td>False</td>\n",
       "    </tr>\n",
       "    <tr>\n",
       "      <th>...</th>\n",
       "      <td>...</td>\n",
       "      <td>...</td>\n",
       "      <td>...</td>\n",
       "      <td>...</td>\n",
       "      <td>...</td>\n",
       "      <td>...</td>\n",
       "      <td>...</td>\n",
       "      <td>...</td>\n",
       "    </tr>\n",
       "    <tr>\n",
       "      <th>32860</th>\n",
       "      <td>ZYG11AP1</td>\n",
       "      <td>ENSG00000232242</td>\n",
       "      <td>0.000057</td>\n",
       "      <td>0.000083</td>\n",
       "      <td>0.000026</td>\n",
       "      <td>increase</td>\n",
       "      <td>-0.095479</td>\n",
       "      <td>False</td>\n",
       "    </tr>\n",
       "    <tr>\n",
       "      <th>32861</th>\n",
       "      <td>ZYG11B</td>\n",
       "      <td>ENSG00000162378</td>\n",
       "      <td>0.252818</td>\n",
       "      <td>0.291435</td>\n",
       "      <td>0.038617</td>\n",
       "      <td>increase</td>\n",
       "      <td>0.372060</td>\n",
       "      <td>False</td>\n",
       "    </tr>\n",
       "    <tr>\n",
       "      <th>32862</th>\n",
       "      <td>ZYXP1</td>\n",
       "      <td>ENSG00000274572</td>\n",
       "      <td>0.000010</td>\n",
       "      <td>0.000000</td>\n",
       "      <td>-0.000010</td>\n",
       "      <td>decrease</td>\n",
       "      <td>-0.095916</td>\n",
       "      <td>False</td>\n",
       "    </tr>\n",
       "    <tr>\n",
       "      <th>32863</th>\n",
       "      <td>ZZEF1</td>\n",
       "      <td>ENSG00000074755</td>\n",
       "      <td>0.280583</td>\n",
       "      <td>0.275600</td>\n",
       "      <td>-0.004983</td>\n",
       "      <td>decrease</td>\n",
       "      <td>-0.156164</td>\n",
       "      <td>False</td>\n",
       "    </tr>\n",
       "    <tr>\n",
       "      <th>32864</th>\n",
       "      <td>ZZZ3</td>\n",
       "      <td>ENSG00000036549</td>\n",
       "      <td>0.218001</td>\n",
       "      <td>0.312436</td>\n",
       "      <td>0.094435</td>\n",
       "      <td>increase</td>\n",
       "      <td>1.048317</td>\n",
       "      <td>False</td>\n",
       "    </tr>\n",
       "  </tbody>\n",
       "</table>\n",
       "<p>32865 rows × 8 columns</p>\n",
       "</div>"
      ]
     },
     "execution_count": 27,
     "metadata": {},
     "output_type": "execute_result"
    }
   ],
   "execution_count": 27
  },
  {
   "metadata": {},
   "cell_type": "markdown",
   "source": "## Save",
   "id": "a7c449732d96a18c"
  },
  {
   "metadata": {
    "ExecuteTime": {
     "end_time": "2024-09-20T11:18:15.466328Z",
     "start_time": "2024-09-20T11:18:15.178422Z"
    }
   },
   "cell_type": "code",
   "source": "df_nodes_genes.to_csv('../processed_data/nodes_genes.csv', index=False)",
   "id": "3643344b702567c5",
   "outputs": [],
   "execution_count": 28
  },
  {
   "metadata": {
    "ExecuteTime": {
     "end_time": "2024-09-20T11:18:15.474362Z",
     "start_time": "2024-09-20T11:18:15.468985Z"
    }
   },
   "cell_type": "code",
   "source": "print(f\"There are {df_nodes_genes.shape[0]} rows as gene nodes.\")",
   "id": "49277d4df228ae59",
   "outputs": [
    {
     "name": "stdout",
     "output_type": "stream",
     "text": [
      "There are 32865 rows as gene nodes.\n"
     ]
    }
   ],
   "execution_count": 29
  }
 ],
 "metadata": {
  "kernelspec": {
   "display_name": "Python 3",
   "language": "python",
   "name": "python3"
  },
  "language_info": {
   "codemirror_mode": {
    "name": "ipython",
    "version": 2
   },
   "file_extension": ".py",
   "mimetype": "text/x-python",
   "name": "python",
   "nbconvert_exporter": "python",
   "pygments_lexer": "ipython2",
   "version": "2.7.6"
  }
 },
 "nbformat": 4,
 "nbformat_minor": 5
}
