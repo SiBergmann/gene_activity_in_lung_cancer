{
 "cells": [
  {
   "metadata": {
    "ExecuteTime": {
     "end_time": "2024-10-22T14:33:34.968653Z",
     "start_time": "2024-10-22T14:33:30.079231Z"
    }
   },
   "cell_type": "code",
   "source": [
    "import pandas as pd\n",
    "import numpy as np\n",
    "import matplotlib.pyplot as plt\n",
    "from scipy.stats import zscore"
   ],
   "id": "73b37dc9fcba222c",
   "outputs": [],
   "execution_count": 9
  },
  {
   "metadata": {},
   "cell_type": "markdown",
   "source": [
    "# Gene Nodes\n",
    "\n",
    "Putting together the Information for the nodes and save them as a csv file.\n",
    "\n",
    "Nodes are genes with the following information:\n",
    "- Gene ID\n",
    "- Gene Name\n",
    "- TPM value for lung cancer\n",
    "- TPM value for healthy lung tissue\n",
    "- TMP difference between cancer and healthy tissue"
   ],
   "id": "46927e43fe43848a"
  },
  {
   "metadata": {
    "ExecuteTime": {
     "end_time": "2024-10-22T14:33:35.518793Z",
     "start_time": "2024-10-22T14:33:34.968653Z"
    }
   },
   "cell_type": "code",
   "source": [
    "df_gtex = pd.read_csv('../processed_data/GTEX_healthy_mean.csv')\n",
    "df_cmp = pd.read_csv('../processed_data/CMP_cancer_mean.csv')\n",
    "\n",
    "df_protein_gene = pd.read_csv('../import_data/ENSEMBLE/biomart_gene_protein.txt',  sep='\\t')"
   ],
   "id": "initial_id",
   "outputs": [],
   "execution_count": 10
  },
  {
   "metadata": {
    "ExecuteTime": {
     "end_time": "2024-10-22T14:33:35.554384Z",
     "start_time": "2024-10-22T14:33:35.518793Z"
    }
   },
   "cell_type": "code",
   "source": [
    "# rename columns\n",
    "df_gtex.rename(columns={'tpm': 'healthy tpm'}, inplace=True)\n",
    "df_cmp.rename(columns={'name': 'name', 'tpm': 'cancerous tpm'}, inplace=True)"
   ],
   "id": "420ccf519dfc95e9",
   "outputs": [],
   "execution_count": 11
  },
  {
   "metadata": {},
   "cell_type": "markdown",
   "source": "## List of genes that have a gene-protein connection",
   "id": "d09725213b9e1191"
  },
  {
   "metadata": {
    "ExecuteTime": {
     "end_time": "2024-10-22T14:33:35.643942Z",
     "start_time": "2024-10-22T14:33:35.558905Z"
    }
   },
   "cell_type": "code",
   "source": [
    "df_protein_gene = df_protein_gene[df_protein_gene['Protein stable ID'].notna()]\n",
    "protein_genes = df_protein_gene['Gene stable ID'].unique()\n",
    "\n",
    "len(protein_genes)"
   ],
   "id": "62d4a091b53760cb",
   "outputs": [
    {
     "data": {
      "text/plain": [
       "23837"
      ]
     },
     "execution_count": 12,
     "metadata": {},
     "output_type": "execute_result"
    }
   ],
   "execution_count": 12
  },
  {
   "metadata": {},
   "cell_type": "markdown",
   "source": "## Merge CMP (cancer) and GTEx (healthy) dataset",
   "id": "f3bc42b1e8dd575f"
  },
  {
   "metadata": {
    "ExecuteTime": {
     "end_time": "2024-10-22T14:33:35.810438Z",
     "start_time": "2024-10-22T14:33:35.649530Z"
    }
   },
   "cell_type": "code",
   "source": [
    "df_nodes_cancer = df_cmp.copy()\n",
    "df_nodes_healthy = df_gtex.copy()\n",
    "\n",
    "df_nodes_genes = df_nodes_cancer.merge(df_nodes_healthy, on='id', how='inner')\n",
    "\n",
    "# filter out those without gene-protein connection\n",
    "df_nodes_genes = df_nodes_genes[df_nodes_genes['id'].isin(protein_genes)]\n",
    "\n",
    "print(f\"There are {df_nodes_genes.shape[0]} rows in the merged dataset. All have a healthy and a cancer TPM value.\")\n",
    "\n",
    "df_nodes_genes"
   ],
   "id": "aea44d6e056078d1",
   "outputs": [
    {
     "name": "stdout",
     "output_type": "stream",
     "text": [
      "There are 17626 rows in the merged dataset. All have a healthy and a cancer TPM value.\n"
     ]
    },
    {
     "data": {
      "text/plain": [
       "          name  cancerous tpm               id  healthy tpm\n",
       "0         A1BG       0.827192  ENSG00000121410     9.456192\n",
       "2         A1CF       1.355369  ENSG00000148584     0.832690\n",
       "3          A2M       1.669212  ENSG00000175899   473.357464\n",
       "5        A2ML1       0.952118  ENSG00000166535    33.300911\n",
       "8      A3GALT2       0.643498  ENSG00000184389     0.258739\n",
       "...        ...            ...              ...          ...\n",
       "32858     ZXDC      20.587635  ENSG00000070476    16.684126\n",
       "32859   ZYG11A       9.257833  ENSG00000203995     0.514193\n",
       "32861   ZYG11B      21.124039  ENSG00000162378    13.677842\n",
       "32863    ZZEF1      17.697980  ENSG00000074755    18.714613\n",
       "32864     ZZZ3      26.655271  ENSG00000036549     9.139015\n",
       "\n",
       "[17626 rows x 4 columns]"
      ],
      "text/html": [
       "<div>\n",
       "<style scoped>\n",
       "    .dataframe tbody tr th:only-of-type {\n",
       "        vertical-align: middle;\n",
       "    }\n",
       "\n",
       "    .dataframe tbody tr th {\n",
       "        vertical-align: top;\n",
       "    }\n",
       "\n",
       "    .dataframe thead th {\n",
       "        text-align: right;\n",
       "    }\n",
       "</style>\n",
       "<table border=\"1\" class=\"dataframe\">\n",
       "  <thead>\n",
       "    <tr style=\"text-align: right;\">\n",
       "      <th></th>\n",
       "      <th>name</th>\n",
       "      <th>cancerous tpm</th>\n",
       "      <th>id</th>\n",
       "      <th>healthy tpm</th>\n",
       "    </tr>\n",
       "  </thead>\n",
       "  <tbody>\n",
       "    <tr>\n",
       "      <th>0</th>\n",
       "      <td>A1BG</td>\n",
       "      <td>0.827192</td>\n",
       "      <td>ENSG00000121410</td>\n",
       "      <td>9.456192</td>\n",
       "    </tr>\n",
       "    <tr>\n",
       "      <th>2</th>\n",
       "      <td>A1CF</td>\n",
       "      <td>1.355369</td>\n",
       "      <td>ENSG00000148584</td>\n",
       "      <td>0.832690</td>\n",
       "    </tr>\n",
       "    <tr>\n",
       "      <th>3</th>\n",
       "      <td>A2M</td>\n",
       "      <td>1.669212</td>\n",
       "      <td>ENSG00000175899</td>\n",
       "      <td>473.357464</td>\n",
       "    </tr>\n",
       "    <tr>\n",
       "      <th>5</th>\n",
       "      <td>A2ML1</td>\n",
       "      <td>0.952118</td>\n",
       "      <td>ENSG00000166535</td>\n",
       "      <td>33.300911</td>\n",
       "    </tr>\n",
       "    <tr>\n",
       "      <th>8</th>\n",
       "      <td>A3GALT2</td>\n",
       "      <td>0.643498</td>\n",
       "      <td>ENSG00000184389</td>\n",
       "      <td>0.258739</td>\n",
       "    </tr>\n",
       "    <tr>\n",
       "      <th>...</th>\n",
       "      <td>...</td>\n",
       "      <td>...</td>\n",
       "      <td>...</td>\n",
       "      <td>...</td>\n",
       "    </tr>\n",
       "    <tr>\n",
       "      <th>32858</th>\n",
       "      <td>ZXDC</td>\n",
       "      <td>20.587635</td>\n",
       "      <td>ENSG00000070476</td>\n",
       "      <td>16.684126</td>\n",
       "    </tr>\n",
       "    <tr>\n",
       "      <th>32859</th>\n",
       "      <td>ZYG11A</td>\n",
       "      <td>9.257833</td>\n",
       "      <td>ENSG00000203995</td>\n",
       "      <td>0.514193</td>\n",
       "    </tr>\n",
       "    <tr>\n",
       "      <th>32861</th>\n",
       "      <td>ZYG11B</td>\n",
       "      <td>21.124039</td>\n",
       "      <td>ENSG00000162378</td>\n",
       "      <td>13.677842</td>\n",
       "    </tr>\n",
       "    <tr>\n",
       "      <th>32863</th>\n",
       "      <td>ZZEF1</td>\n",
       "      <td>17.697980</td>\n",
       "      <td>ENSG00000074755</td>\n",
       "      <td>18.714613</td>\n",
       "    </tr>\n",
       "    <tr>\n",
       "      <th>32864</th>\n",
       "      <td>ZZZ3</td>\n",
       "      <td>26.655271</td>\n",
       "      <td>ENSG00000036549</td>\n",
       "      <td>9.139015</td>\n",
       "    </tr>\n",
       "  </tbody>\n",
       "</table>\n",
       "<p>17626 rows × 4 columns</p>\n",
       "</div>"
      ]
     },
     "execution_count": 13,
     "metadata": {},
     "output_type": "execute_result"
    }
   ],
   "execution_count": 13
  },
  {
   "metadata": {},
   "cell_type": "markdown",
   "source": [
    "## Normalize TPM Values\n",
    "TPM values are normalized to a range between 0 and 1 to make them easier comparable."
   ],
   "id": "34eb8285d56af98"
  },
  {
   "metadata": {
    "ExecuteTime": {
     "end_time": "2024-10-22T14:33:35.830751Z",
     "start_time": "2024-10-22T14:33:35.810438Z"
    }
   },
   "cell_type": "code",
   "source": [
    "# logarithmic scaling with normalization [0, 1]\n",
    "def log_norm_scaling(column, min_tpm, max_tpm):\n",
    "    column_log = np.log1p(column)\n",
    "    \n",
    "    min_log = np.log1p(min_tpm)\n",
    "    max_log = np.log1p(max_tpm)\n",
    "    \n",
    "    column = (column_log - min_log) / (max_log - min_log)\n",
    "    return column"
   ],
   "id": "3d228c9eac522cba",
   "outputs": [],
   "execution_count": 14
  },
  {
   "metadata": {
    "ExecuteTime": {
     "end_time": "2024-10-22T14:33:35.852779Z",
     "start_time": "2024-10-22T14:33:35.830751Z"
    }
   },
   "cell_type": "code",
   "source": [
    "# Min\n",
    "print(f\"Min healthy TPM:\\t{df_nodes_genes['healthy tpm'].min().round(3)}\")\n",
    "print(f\"Min cancerous TPM:\\t{df_nodes_genes['cancerous tpm'].min().round(3)}\\n\")\n",
    "\n",
    "# Max\n",
    "print(f\"Max healthy TPM:\\t{df_nodes_genes['healthy tpm'].max().round(3)}\")\n",
    "print(f\"Max cancerous TPM:\\t{df_nodes_genes['cancerous tpm'].max().round(3)}\")"
   ],
   "id": "9a52be6530859a4a",
   "outputs": [
    {
     "name": "stdout",
     "output_type": "stream",
     "text": [
      "Min healthy TPM:\t0.0\n",
      "Min cancerous TPM:\t0.0\n",
      "\n",
      "Max healthy TPM:\t36200.774\n",
      "Max cancerous TPM:\t41173.932\n"
     ]
    }
   ],
   "execution_count": 15
  },
  {
   "metadata": {
    "ExecuteTime": {
     "end_time": "2024-10-22T14:33:35.879720Z",
     "start_time": "2024-10-22T14:33:35.852779Z"
    }
   },
   "cell_type": "code",
   "source": [
    "# min and max over two datasets\n",
    "min_tpm = min(df_nodes_genes['healthy tpm'].min(), \n",
    "              df_nodes_genes['cancerous tpm'].min()\n",
    "              )\n",
    "max_tpm = max(df_nodes_genes['healthy tpm'].max(), \n",
    "              df_nodes_genes['cancerous tpm'].max()\n",
    "              ) \n",
    "\n",
    "# perform log normalization\n",
    "df_nodes_genes['norm healthy tpm'] = log_norm_scaling(df_nodes_genes['healthy tpm'], min_tpm, max_tpm)\n",
    "df_nodes_genes['norm cancerous tpm'] = log_norm_scaling(df_nodes_genes['cancerous tpm'], min_tpm, max_tpm)"
   ],
   "id": "4b9ee6a1fc8e408d",
   "outputs": [],
   "execution_count": 16
  },
  {
   "metadata": {
    "ExecuteTime": {
     "end_time": "2024-10-22T14:36:57.765475Z",
     "start_time": "2024-10-22T14:36:56.911479Z"
    }
   },
   "cell_type": "code",
   "source": [
    "# norm healthy tpm\n",
    "plt.figure(figsize=(18, 5))\n",
    "plt.subplot(1, 2, 1)\n",
    "plt.hist(df_nodes_genes['norm healthy tpm'], bins=100)\n",
    "plt.title('normalized healthy TPM')\n",
    "\n",
    "# norm cmp tpm\n",
    "plt.subplot(1, 2, 2)\n",
    "plt.hist(df_nodes_genes['norm cancerous tpm'], bins=100)\n",
    "plt.title('normalized cancerous TPM')\n",
    "\n",
    "plt.savefig('../tex/figures/03_02_normalized_tpm.png')\n",
    "plt.show()"
   ],
   "id": "a8e2b3b69ab02a08",
   "outputs": [
    {
     "data": {
      "text/plain": [
       "<Figure size 1800x500 with 2 Axes>"
      ],
      "image/png": "[encoded data removed]"
     },
     "metadata": {},
     "output_type": "display_data"
    }
   ],
   "execution_count": 20
  },
  {
   "metadata": {
    "ExecuteTime": {
     "end_time": "2024-10-22T14:39:49.996742Z",
     "start_time": "2024-10-22T14:39:49.968377Z"
    }
   },
   "cell_type": "code",
   "source": [
    "df_nodes_genes.drop(columns=['healthy tpm', 'cancerous tpm'], inplace=True)\n",
    "df_nodes_genes"
   ],
   "id": "6070eb584bf75997",
   "outputs": [
    {
     "data": {
      "text/plain": [
       "          name               id  norm healthy tpm  norm cancerous tpm  \\\n",
       "0         A1BG  ENSG00000121410          0.220900            0.056729   \n",
       "2         A1CF  ENSG00000148584          0.057012            0.080626   \n",
       "3          A2M  ENSG00000175899          0.579917            0.092398   \n",
       "5        A2ML1  ENSG00000166535          0.332704            0.062953   \n",
       "8      A3GALT2  ENSG00000184389          0.021656            0.046758   \n",
       "...        ...              ...               ...                 ...   \n",
       "32858     ZXDC  ENSG00000070476          0.270354            0.289125   \n",
       "32859   ZYG11A  ENSG00000203995          0.039046            0.219098   \n",
       "32861   ZYG11B  ENSG00000162378          0.252818            0.291435   \n",
       "32863    ZZEF1  ENSG00000074755          0.280583            0.275600   \n",
       "32864     ZZZ3  ENSG00000036549          0.218001            0.312436   \n",
       "\n",
       "       delta tpm delta type  \n",
       "0      -0.164171   decrease  \n",
       "2       0.023614   increase  \n",
       "3      -0.487519   decrease  \n",
       "5      -0.269751   decrease  \n",
       "8       0.025101   increase  \n",
       "...          ...        ...  \n",
       "32858   0.018771   increase  \n",
       "32859   0.180052   increase  \n",
       "32861   0.038617   increase  \n",
       "32863  -0.004983   decrease  \n",
       "32864   0.094435   increase  \n",
       "\n",
       "[17626 rows x 6 columns]"
      ],
      "text/html": [
       "<div>\n",
       "<style scoped>\n",
       "    .dataframe tbody tr th:only-of-type {\n",
       "        vertical-align: middle;\n",
       "    }\n",
       "\n",
       "    .dataframe tbody tr th {\n",
       "        vertical-align: top;\n",
       "    }\n",
       "\n",
       "    .dataframe thead th {\n",
       "        text-align: right;\n",
       "    }\n",
       "</style>\n",
       "<table border=\"1\" class=\"dataframe\">\n",
       "  <thead>\n",
       "    <tr style=\"text-align: right;\">\n",
       "      <th></th>\n",
       "      <th>name</th>\n",
       "      <th>id</th>\n",
       "      <th>norm healthy tpm</th>\n",
       "      <th>norm cancerous tpm</th>\n",
       "      <th>delta tpm</th>\n",
       "      <th>delta type</th>\n",
       "    </tr>\n",
       "  </thead>\n",
       "  <tbody>\n",
       "    <tr>\n",
       "      <th>0</th>\n",
       "      <td>A1BG</td>\n",
       "      <td>ENSG00000121410</td>\n",
       "      <td>0.220900</td>\n",
       "      <td>0.056729</td>\n",
       "      <td>-0.164171</td>\n",
       "      <td>decrease</td>\n",
       "    </tr>\n",
       "    <tr>\n",
       "      <th>2</th>\n",
       "      <td>A1CF</td>\n",
       "      <td>ENSG00000148584</td>\n",
       "      <td>0.057012</td>\n",
       "      <td>0.080626</td>\n",
       "      <td>0.023614</td>\n",
       "      <td>increase</td>\n",
       "    </tr>\n",
       "    <tr>\n",
       "      <th>3</th>\n",
       "      <td>A2M</td>\n",
       "      <td>ENSG00000175899</td>\n",
       "      <td>0.579917</td>\n",
       "      <td>0.092398</td>\n",
       "      <td>-0.487519</td>\n",
       "      <td>decrease</td>\n",
       "    </tr>\n",
       "    <tr>\n",
       "      <th>5</th>\n",
       "      <td>A2ML1</td>\n",
       "      <td>ENSG00000166535</td>\n",
       "      <td>0.332704</td>\n",
       "      <td>0.062953</td>\n",
       "      <td>-0.269751</td>\n",
       "      <td>decrease</td>\n",
       "    </tr>\n",
       "    <tr>\n",
       "      <th>8</th>\n",
       "      <td>A3GALT2</td>\n",
       "      <td>ENSG00000184389</td>\n",
       "      <td>0.021656</td>\n",
       "      <td>0.046758</td>\n",
       "      <td>0.025101</td>\n",
       "      <td>increase</td>\n",
       "    </tr>\n",
       "    <tr>\n",
       "      <th>...</th>\n",
       "      <td>...</td>\n",
       "      <td>...</td>\n",
       "      <td>...</td>\n",
       "      <td>...</td>\n",
       "      <td>...</td>\n",
       "      <td>...</td>\n",
       "    </tr>\n",
       "    <tr>\n",
       "      <th>32858</th>\n",
       "      <td>ZXDC</td>\n",
       "      <td>ENSG00000070476</td>\n",
       "      <td>0.270354</td>\n",
       "      <td>0.289125</td>\n",
       "      <td>0.018771</td>\n",
       "      <td>increase</td>\n",
       "    </tr>\n",
       "    <tr>\n",
       "      <th>32859</th>\n",
       "      <td>ZYG11A</td>\n",
       "      <td>ENSG00000203995</td>\n",
       "      <td>0.039046</td>\n",
       "      <td>0.219098</td>\n",
       "      <td>0.180052</td>\n",
       "      <td>increase</td>\n",
       "    </tr>\n",
       "    <tr>\n",
       "      <th>32861</th>\n",
       "      <td>ZYG11B</td>\n",
       "      <td>ENSG00000162378</td>\n",
       "      <td>0.252818</td>\n",
       "      <td>0.291435</td>\n",
       "      <td>0.038617</td>\n",
       "      <td>increase</td>\n",
       "    </tr>\n",
       "    <tr>\n",
       "      <th>32863</th>\n",
       "      <td>ZZEF1</td>\n",
       "      <td>ENSG00000074755</td>\n",
       "      <td>0.280583</td>\n",
       "      <td>0.275600</td>\n",
       "      <td>-0.004983</td>\n",
       "      <td>decrease</td>\n",
       "    </tr>\n",
       "    <tr>\n",
       "      <th>32864</th>\n",
       "      <td>ZZZ3</td>\n",
       "      <td>ENSG00000036549</td>\n",
       "      <td>0.218001</td>\n",
       "      <td>0.312436</td>\n",
       "      <td>0.094435</td>\n",
       "      <td>increase</td>\n",
       "    </tr>\n",
       "  </tbody>\n",
       "</table>\n",
       "<p>17626 rows × 6 columns</p>\n",
       "</div>"
      ]
     },
     "execution_count": 22,
     "metadata": {},
     "output_type": "execute_result"
    }
   ],
   "execution_count": 22
  },
  {
   "metadata": {},
   "cell_type": "markdown",
   "source": [
    "## Calculate `delta tpm`\n",
    "\n",
    "value of the difference between the normalized cancerous tpm and normalized healthy tpm"
   ],
   "id": "7262c9cfab841860"
  },
  {
   "metadata": {
    "ExecuteTime": {
     "end_time": "2024-10-22T14:39:51.944531Z",
     "start_time": "2024-10-22T14:39:51.918587Z"
    }
   },
   "cell_type": "code",
   "source": [
    "df_nodes_genes['delta tpm'] = df_nodes_genes['norm cancerous tpm'] - df_nodes_genes['norm healthy tpm']\n",
    "df_nodes_genes['delta type'] = np.where(df_nodes_genes['delta tpm'] > 0, 'increase', 'decrease')\n",
    "\n",
    "df_nodes_genes"
   ],
   "id": "9907c87d13cbaab4",
   "outputs": [
    {
     "data": {
      "text/plain": [
       "          name               id  norm healthy tpm  norm cancerous tpm  \\\n",
       "0         A1BG  ENSG00000121410          0.220900            0.056729   \n",
       "2         A1CF  ENSG00000148584          0.057012            0.080626   \n",
       "3          A2M  ENSG00000175899          0.579917            0.092398   \n",
       "5        A2ML1  ENSG00000166535          0.332704            0.062953   \n",
       "8      A3GALT2  ENSG00000184389          0.021656            0.046758   \n",
       "...        ...              ...               ...                 ...   \n",
       "32858     ZXDC  ENSG00000070476          0.270354            0.289125   \n",
       "32859   ZYG11A  ENSG00000203995          0.039046            0.219098   \n",
       "32861   ZYG11B  ENSG00000162378          0.252818            0.291435   \n",
       "32863    ZZEF1  ENSG00000074755          0.280583            0.275600   \n",
       "32864     ZZZ3  ENSG00000036549          0.218001            0.312436   \n",
       "\n",
       "       delta tpm delta type  \n",
       "0      -0.164171   decrease  \n",
       "2       0.023614   increase  \n",
       "3      -0.487519   decrease  \n",
       "5      -0.269751   decrease  \n",
       "8       0.025101   increase  \n",
       "...          ...        ...  \n",
       "32858   0.018771   increase  \n",
       "32859   0.180052   increase  \n",
       "32861   0.038617   increase  \n",
       "32863  -0.004983   decrease  \n",
       "32864   0.094435   increase  \n",
       "\n",
       "[17626 rows x 6 columns]"
      ],
      "text/html": [
       "<div>\n",
       "<style scoped>\n",
       "    .dataframe tbody tr th:only-of-type {\n",
       "        vertical-align: middle;\n",
       "    }\n",
       "\n",
       "    .dataframe tbody tr th {\n",
       "        vertical-align: top;\n",
       "    }\n",
       "\n",
       "    .dataframe thead th {\n",
       "        text-align: right;\n",
       "    }\n",
       "</style>\n",
       "<table border=\"1\" class=\"dataframe\">\n",
       "  <thead>\n",
       "    <tr style=\"text-align: right;\">\n",
       "      <th></th>\n",
       "      <th>name</th>\n",
       "      <th>id</th>\n",
       "      <th>norm healthy tpm</th>\n",
       "      <th>norm cancerous tpm</th>\n",
       "      <th>delta tpm</th>\n",
       "      <th>delta type</th>\n",
       "    </tr>\n",
       "  </thead>\n",
       "  <tbody>\n",
       "    <tr>\n",
       "      <th>0</th>\n",
       "      <td>A1BG</td>\n",
       "      <td>ENSG00000121410</td>\n",
       "      <td>0.220900</td>\n",
       "      <td>0.056729</td>\n",
       "      <td>-0.164171</td>\n",
       "      <td>decrease</td>\n",
       "    </tr>\n",
       "    <tr>\n",
       "      <th>2</th>\n",
       "      <td>A1CF</td>\n",
       "      <td>ENSG00000148584</td>\n",
       "      <td>0.057012</td>\n",
       "      <td>0.080626</td>\n",
       "      <td>0.023614</td>\n",
       "      <td>increase</td>\n",
       "    </tr>\n",
       "    <tr>\n",
       "      <th>3</th>\n",
       "      <td>A2M</td>\n",
       "      <td>ENSG00000175899</td>\n",
       "      <td>0.579917</td>\n",
       "      <td>0.092398</td>\n",
       "      <td>-0.487519</td>\n",
       "      <td>decrease</td>\n",
       "    </tr>\n",
       "    <tr>\n",
       "      <th>5</th>\n",
       "      <td>A2ML1</td>\n",
       "      <td>ENSG00000166535</td>\n",
       "      <td>0.332704</td>\n",
       "      <td>0.062953</td>\n",
       "      <td>-0.269751</td>\n",
       "      <td>decrease</td>\n",
       "    </tr>\n",
       "    <tr>\n",
       "      <th>8</th>\n",
       "      <td>A3GALT2</td>\n",
       "      <td>ENSG00000184389</td>\n",
       "      <td>0.021656</td>\n",
       "      <td>0.046758</td>\n",
       "      <td>0.025101</td>\n",
       "      <td>increase</td>\n",
       "    </tr>\n",
       "    <tr>\n",
       "      <th>...</th>\n",
       "      <td>...</td>\n",
       "      <td>...</td>\n",
       "      <td>...</td>\n",
       "      <td>...</td>\n",
       "      <td>...</td>\n",
       "      <td>...</td>\n",
       "    </tr>\n",
       "    <tr>\n",
       "      <th>32858</th>\n",
       "      <td>ZXDC</td>\n",
       "      <td>ENSG00000070476</td>\n",
       "      <td>0.270354</td>\n",
       "      <td>0.289125</td>\n",
       "      <td>0.018771</td>\n",
       "      <td>increase</td>\n",
       "    </tr>\n",
       "    <tr>\n",
       "      <th>32859</th>\n",
       "      <td>ZYG11A</td>\n",
       "      <td>ENSG00000203995</td>\n",
       "      <td>0.039046</td>\n",
       "      <td>0.219098</td>\n",
       "      <td>0.180052</td>\n",
       "      <td>increase</td>\n",
       "    </tr>\n",
       "    <tr>\n",
       "      <th>32861</th>\n",
       "      <td>ZYG11B</td>\n",
       "      <td>ENSG00000162378</td>\n",
       "      <td>0.252818</td>\n",
       "      <td>0.291435</td>\n",
       "      <td>0.038617</td>\n",
       "      <td>increase</td>\n",
       "    </tr>\n",
       "    <tr>\n",
       "      <th>32863</th>\n",
       "      <td>ZZEF1</td>\n",
       "      <td>ENSG00000074755</td>\n",
       "      <td>0.280583</td>\n",
       "      <td>0.275600</td>\n",
       "      <td>-0.004983</td>\n",
       "      <td>decrease</td>\n",
       "    </tr>\n",
       "    <tr>\n",
       "      <th>32864</th>\n",
       "      <td>ZZZ3</td>\n",
       "      <td>ENSG00000036549</td>\n",
       "      <td>0.218001</td>\n",
       "      <td>0.312436</td>\n",
       "      <td>0.094435</td>\n",
       "      <td>increase</td>\n",
       "    </tr>\n",
       "  </tbody>\n",
       "</table>\n",
       "<p>17626 rows × 6 columns</p>\n",
       "</div>"
      ]
     },
     "execution_count": 23,
     "metadata": {},
     "output_type": "execute_result"
    }
   ],
   "execution_count": 23
  },
  {
   "metadata": {
    "ExecuteTime": {
     "end_time": "2024-10-22T14:43:28.211976Z",
     "start_time": "2024-10-22T14:43:27.778505Z"
    }
   },
   "cell_type": "code",
   "source": [
    "plt.hist(df_nodes_genes['delta tpm'], bins=100)\n",
    "plt.title('Distribution of Δ TPM')\n",
    "plt.xlabel('Δ TPM Values')\n",
    "plt.ylabel('Frequency')\n",
    "\n",
    "plt.savefig('../tex/figures/03_02_delta_tpm.png')\n",
    "plt.show()"
   ],
   "id": "247d0e18920f773f",
   "outputs": [
    {
     "data": {
      "text/plain": [
       "<Figure size 640x480 with 1 Axes>"
      ],
      "image/png": "[encoded data removed]"
     },
     "metadata": {},
     "output_type": "display_data"
    }
   ],
   "execution_count": 26
  },
  {
   "metadata": {},
   "cell_type": "markdown",
   "source": [
    "## Calculate `delta_tpm_relevant` with z score\n",
    "Add a column that indicates if the change in the gene activity is relevant between cancer and healthy tissue.\n",
    "\n",
    "\n",
    "Z Score of the delta TPM values is calculated and used to determine if the gene is relevant for cancer.\n",
    "This z score means how many standard deviations the delta tpm value is away from the mean.\n"
   ],
   "id": "7a1d70cf376f8fef"
  },
  {
   "metadata": {
    "ExecuteTime": {
     "end_time": "2024-10-22T15:04:07.358902Z",
     "start_time": "2024-10-22T15:04:07.311911Z"
    }
   },
   "cell_type": "code",
   "source": [
    "df_nodes_genes['z score'] = zscore(df_nodes_genes['delta tpm'])\n",
    "\n",
    "# 1.96 for the highest 5% and the lowest 5% of the normal distribution\n",
    "z_threshold = 1.96\n",
    "df_nodes_genes['delta tpm relevant'] = df_nodes_genes['z score'].abs() > z_threshold\n",
    "\n",
    "df_nodes_genes"
   ],
   "id": "e758354910fabe5d",
   "outputs": [
    {
     "data": {
      "text/plain": [
       "          name               id  norm healthy tpm  norm cancerous tpm  \\\n",
       "0         A1BG  ENSG00000121410          0.220900            0.056729   \n",
       "2         A1CF  ENSG00000148584          0.057012            0.080626   \n",
       "3          A2M  ENSG00000175899          0.579917            0.092398   \n",
       "5        A2ML1  ENSG00000166535          0.332704            0.062953   \n",
       "8      A3GALT2  ENSG00000184389          0.021656            0.046758   \n",
       "...        ...              ...               ...                 ...   \n",
       "32858     ZXDC  ENSG00000070476          0.270354            0.289125   \n",
       "32859   ZYG11A  ENSG00000203995          0.039046            0.219098   \n",
       "32861   ZYG11B  ENSG00000162378          0.252818            0.291435   \n",
       "32863    ZZEF1  ENSG00000074755          0.280583            0.275600   \n",
       "32864     ZZZ3  ENSG00000036549          0.218001            0.312436   \n",
       "\n",
       "       delta tpm delta type   z score  delta tpm relevant  \n",
       "0      -0.164171   decrease -1.613031               False  \n",
       "2       0.023614   increase  0.183172               False  \n",
       "3      -0.487519   decrease -4.705922                True  \n",
       "5      -0.269751   decrease -2.622919                True  \n",
       "8       0.025101   increase  0.197398               False  \n",
       "...          ...        ...       ...                 ...  \n",
       "32858   0.018771   increase  0.136848               False  \n",
       "32859   0.180052   increase  1.679534               False  \n",
       "32861   0.038617   increase  0.326676               False  \n",
       "32863  -0.004983   decrease -0.090362               False  \n",
       "32864   0.094435   increase  0.860588               False  \n",
       "\n",
       "[17626 rows x 8 columns]"
      ],
      "text/html": [
       "<div>\n",
       "<style scoped>\n",
       "    .dataframe tbody tr th:only-of-type {\n",
       "        vertical-align: middle;\n",
       "    }\n",
       "\n",
       "    .dataframe tbody tr th {\n",
       "        vertical-align: top;\n",
       "    }\n",
       "\n",
       "    .dataframe thead th {\n",
       "        text-align: right;\n",
       "    }\n",
       "</style>\n",
       "<table border=\"1\" class=\"dataframe\">\n",
       "  <thead>\n",
       "    <tr style=\"text-align: right;\">\n",
       "      <th></th>\n",
       "      <th>name</th>\n",
       "      <th>id</th>\n",
       "      <th>norm healthy tpm</th>\n",
       "      <th>norm cancerous tpm</th>\n",
       "      <th>delta tpm</th>\n",
       "      <th>delta type</th>\n",
       "      <th>z score</th>\n",
       "      <th>delta tpm relevant</th>\n",
       "    </tr>\n",
       "  </thead>\n",
       "  <tbody>\n",
       "    <tr>\n",
       "      <th>0</th>\n",
       "      <td>A1BG</td>\n",
       "      <td>ENSG00000121410</td>\n",
       "      <td>0.220900</td>\n",
       "      <td>0.056729</td>\n",
       "      <td>-0.164171</td>\n",
       "      <td>decrease</td>\n",
       "      <td>-1.613031</td>\n",
       "      <td>False</td>\n",
       "    </tr>\n",
       "    <tr>\n",
       "      <th>2</th>\n",
       "      <td>A1CF</td>\n",
       "      <td>ENSG00000148584</td>\n",
       "      <td>0.057012</td>\n",
       "      <td>0.080626</td>\n",
       "      <td>0.023614</td>\n",
       "      <td>increase</td>\n",
       "      <td>0.183172</td>\n",
       "      <td>False</td>\n",
       "    </tr>\n",
       "    <tr>\n",
       "      <th>3</th>\n",
       "      <td>A2M</td>\n",
       "      <td>ENSG00000175899</td>\n",
       "      <td>0.579917</td>\n",
       "      <td>0.092398</td>\n",
       "      <td>-0.487519</td>\n",
       "      <td>decrease</td>\n",
       "      <td>-4.705922</td>\n",
       "      <td>True</td>\n",
       "    </tr>\n",
       "    <tr>\n",
       "      <th>5</th>\n",
       "      <td>A2ML1</td>\n",
       "      <td>ENSG00000166535</td>\n",
       "      <td>0.332704</td>\n",
       "      <td>0.062953</td>\n",
       "      <td>-0.269751</td>\n",
       "      <td>decrease</td>\n",
       "      <td>-2.622919</td>\n",
       "      <td>True</td>\n",
       "    </tr>\n",
       "    <tr>\n",
       "      <th>8</th>\n",
       "      <td>A3GALT2</td>\n",
       "      <td>ENSG00000184389</td>\n",
       "      <td>0.021656</td>\n",
       "      <td>0.046758</td>\n",
       "      <td>0.025101</td>\n",
       "      <td>increase</td>\n",
       "      <td>0.197398</td>\n",
       "      <td>False</td>\n",
       "    </tr>\n",
       "    <tr>\n",
       "      <th>...</th>\n",
       "      <td>...</td>\n",
       "      <td>...</td>\n",
       "      <td>...</td>\n",
       "      <td>...</td>\n",
       "      <td>...</td>\n",
       "      <td>...</td>\n",
       "      <td>...</td>\n",
       "      <td>...</td>\n",
       "    </tr>\n",
       "    <tr>\n",
       "      <th>32858</th>\n",
       "      <td>ZXDC</td>\n",
       "      <td>ENSG00000070476</td>\n",
       "      <td>0.270354</td>\n",
       "      <td>0.289125</td>\n",
       "      <td>0.018771</td>\n",
       "      <td>increase</td>\n",
       "      <td>0.136848</td>\n",
       "      <td>False</td>\n",
       "    </tr>\n",
       "    <tr>\n",
       "      <th>32859</th>\n",
       "      <td>ZYG11A</td>\n",
       "      <td>ENSG00000203995</td>\n",
       "      <td>0.039046</td>\n",
       "      <td>0.219098</td>\n",
       "      <td>0.180052</td>\n",
       "      <td>increase</td>\n",
       "      <td>1.679534</td>\n",
       "      <td>False</td>\n",
       "    </tr>\n",
       "    <tr>\n",
       "      <th>32861</th>\n",
       "      <td>ZYG11B</td>\n",
       "      <td>ENSG00000162378</td>\n",
       "      <td>0.252818</td>\n",
       "      <td>0.291435</td>\n",
       "      <td>0.038617</td>\n",
       "      <td>increase</td>\n",
       "      <td>0.326676</td>\n",
       "      <td>False</td>\n",
       "    </tr>\n",
       "    <tr>\n",
       "      <th>32863</th>\n",
       "      <td>ZZEF1</td>\n",
       "      <td>ENSG00000074755</td>\n",
       "      <td>0.280583</td>\n",
       "      <td>0.275600</td>\n",
       "      <td>-0.004983</td>\n",
       "      <td>decrease</td>\n",
       "      <td>-0.090362</td>\n",
       "      <td>False</td>\n",
       "    </tr>\n",
       "    <tr>\n",
       "      <th>32864</th>\n",
       "      <td>ZZZ3</td>\n",
       "      <td>ENSG00000036549</td>\n",
       "      <td>0.218001</td>\n",
       "      <td>0.312436</td>\n",
       "      <td>0.094435</td>\n",
       "      <td>increase</td>\n",
       "      <td>0.860588</td>\n",
       "      <td>False</td>\n",
       "    </tr>\n",
       "  </tbody>\n",
       "</table>\n",
       "<p>17626 rows × 8 columns</p>\n",
       "</div>"
      ]
     },
     "execution_count": 27,
     "metadata": {},
     "output_type": "execute_result"
    }
   ],
   "execution_count": 27
  },
  {
   "metadata": {},
   "cell_type": "markdown",
   "source": "## Save",
   "id": "a7c449732d96a18c"
  },
  {
   "metadata": {
    "ExecuteTime": {
     "end_time": "2024-10-22T15:04:08.872938Z",
     "start_time": "2024-10-22T15:04:08.689272Z"
    }
   },
   "cell_type": "code",
   "source": "df_nodes_genes.to_csv('../processed_data/nodes_genes.csv', index=False)",
   "id": "3643344b702567c5",
   "outputs": [],
   "execution_count": 28
  },
  {
   "metadata": {
    "ExecuteTime": {
     "end_time": "2024-10-22T15:04:09.702281Z",
     "start_time": "2024-10-22T15:04:09.689520Z"
    }
   },
   "cell_type": "code",
   "source": "print(f\"There are {df_nodes_genes.shape[0]} rows as gene nodes.\")",
   "id": "49277d4df228ae59",
   "outputs": [
    {
     "name": "stdout",
     "output_type": "stream",
     "text": [
      "There are 17626 rows as gene nodes.\n"
     ]
    }
   ],
   "execution_count": 29
  },
  {
   "metadata": {
    "ExecuteTime": {
     "end_time": "2024-10-22T15:40:35.561612Z",
     "start_time": "2024-10-22T15:40:33.878545Z"
    }
   },
   "cell_type": "code",
   "source": [
    "import dataframe_image as dfi\n",
    "df_nodes_genes_plot = df_nodes_genes.copy()\n",
    "df_nodes_genes_plot = df_nodes_genes_plot.reset_index(drop=True)\n",
    "df_nodes_genes_plot = df_nodes_genes_plot.rename(columns={'id': 'Gene ID', \n",
    "                                                         'name': 'Gene Name', \n",
    "                                                         'norm healthy tpm': 'norm. Healthy TPM', \n",
    "                                                         'norm cancerous tpm': 'norm. Cancerous TPM', \n",
    "                                                         'delta tpm': 'Δ TPM', \n",
    "                                                         'delta type': 'Δ Type', \n",
    "                                                         'delta tpm relevant': 'Δ TPM Relevant'})\n",
    "\n",
    "dfi.export(df_nodes_genes_plot.head(5), '../tex/figures/03_02_gene_nodes.png')"
   ],
   "id": "f9a0116747c933e9",
   "outputs": [],
   "execution_count": 35
  },
  {
   "metadata": {},
   "cell_type": "code",
   "outputs": [],
   "execution_count": null,
   "source": "",
   "id": "af9eddefb54b6d45"
  }
 ],
 "metadata": {
  "kernelspec": {
   "display_name": "Python 3",
   "language": "python",
   "name": "python3"
  },
  "language_info": {
   "codemirror_mode": {
    "name": "ipython",
    "version": 2
   },
   "file_extension": ".py",
   "mimetype": "text/x-python",
   "name": "python",
   "nbconvert_exporter": "python",
   "pygments_lexer": "ipython2",
   "version": "2.7.6"
  }
 },
 "nbformat": 4,
 "nbformat_minor": 5
}
