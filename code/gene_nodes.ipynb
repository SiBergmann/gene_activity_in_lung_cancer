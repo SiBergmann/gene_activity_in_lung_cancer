{
 "cells": [
  {
   "metadata": {
    "ExecuteTime": {
     "end_time": "2024-10-27T10:53:24.979507Z",
     "start_time": "2024-10-27T10:53:16.496880Z"
    }
   },
   "cell_type": "code",
   "source": [
    "import pandas as pd\n",
    "import numpy as np\n",
    "import matplotlib.pyplot as plt\n",
    "from scipy.stats import zscore"
   ],
   "id": "73b37dc9fcba222c",
   "outputs": [],
   "execution_count": 1
  },
  {
   "metadata": {},
   "cell_type": "markdown",
   "source": [
    "# Gene Nodes\n",
    "\n",
    "Putting together the Information for the nodes and save them as a csv file.\n",
    "\n",
    "Nodes are genes with the following information:\n",
    "- Gene ID\n",
    "- Gene Name\n",
    "- TPM value for lung cancer\n",
    "- TPM value for healthy lung tissue\n",
    "- TMP difference between cancer and healthy tissue"
   ],
   "id": "46927e43fe43848a"
  },
  {
   "metadata": {
    "ExecuteTime": {
     "end_time": "2024-10-27T10:53:25.302807Z",
     "start_time": "2024-10-27T10:53:24.979507Z"
    }
   },
   "cell_type": "code",
   "source": [
    "df_gtex = pd.read_csv('../processed_data/GTEX_healthy_mean.csv', usecols=['Gene ID', 'healthy TPM'])\n",
    "df_cmp = pd.read_csv('../processed_data/CMP_cancer_mean.csv')\n",
    "\n",
    "df_protein_gene = pd.read_csv('../import_data/ENSEMBLE/biomart_gene_protein.txt',  sep='\\t')\n",
    "\n",
    "plt.figure(figsize=(20, 5))"
   ],
   "id": "initial_id",
   "outputs": [
    {
     "data": {
      "text/plain": [
       "<Figure size 2000x500 with 0 Axes>"
      ]
     },
     "execution_count": 2,
     "metadata": {},
     "output_type": "execute_result"
    },
    {
     "data": {
      "text/plain": [
       "<Figure size 2000x500 with 0 Axes>"
      ]
     },
     "metadata": {},
     "output_type": "display_data"
    }
   ],
   "execution_count": 2
  },
  {
   "metadata": {},
   "cell_type": "markdown",
   "source": "## List of genes that have a gene-protein connection",
   "id": "d09725213b9e1191"
  },
  {
   "metadata": {
    "ExecuteTime": {
     "end_time": "2024-10-27T10:53:25.332168Z",
     "start_time": "2024-10-27T10:53:25.302807Z"
    }
   },
   "cell_type": "code",
   "source": [
    "df_protein_gene = df_protein_gene[df_protein_gene['Protein stable ID'].notna()]\n",
    "protein_genes = df_protein_gene['Gene stable ID'].unique()\n",
    "\n",
    "len(protein_genes)"
   ],
   "id": "62d4a091b53760cb",
   "outputs": [
    {
     "data": {
      "text/plain": [
       "23837"
      ]
     },
     "execution_count": 3,
     "metadata": {},
     "output_type": "execute_result"
    }
   ],
   "execution_count": 3
  },
  {
   "metadata": {},
   "cell_type": "markdown",
   "source": "## Merge CMP (cancer) and GTEx (healthy) dataset",
   "id": "f3bc42b1e8dd575f"
  },
  {
   "metadata": {
    "ExecuteTime": {
     "end_time": "2024-10-27T10:53:25.391506Z",
     "start_time": "2024-10-27T10:53:25.332168Z"
    }
   },
   "cell_type": "code",
   "source": [
    "df_nodes_cancer = df_cmp.copy()\n",
    "df_nodes_healthy = df_gtex.copy()\n",
    "\n",
    "df_nodes_genes = df_nodes_cancer.merge(df_nodes_healthy, on='Gene ID', how='inner')\n",
    "\n",
    "# filter out those without gene-protein connection\n",
    "df_nodes_genes = df_nodes_genes[df_nodes_genes['Gene ID'].isin(protein_genes)]\n",
    "\n",
    "print(f\"There are {df_nodes_genes.shape[0]} rows in the merged dataset. All have a healthy and a cancer TPM value.\")\n",
    "\n",
    "df_nodes_genes"
   ],
   "id": "aea44d6e056078d1",
   "outputs": [
    {
     "name": "stdout",
     "output_type": "stream",
     "text": [
      "There are 17626 rows in the merged dataset. All have a healthy and a cancer TPM value.\n"
     ]
    },
    {
     "data": {
      "text/plain": [
       "               Gene ID Gene Name  cancerous TPM  healthy TPM\n",
       "0      ENSG00000121410      A1BG       0.827192     9.456192\n",
       "2      ENSG00000148584      A1CF       1.355369     0.832690\n",
       "3      ENSG00000175899       A2M       1.669212   473.357464\n",
       "5      ENSG00000166535     A2ML1       0.952118    33.300911\n",
       "8      ENSG00000184389   A3GALT2       0.643498     0.258739\n",
       "...                ...       ...            ...          ...\n",
       "32858  ENSG00000070476      ZXDC      20.587635    16.684126\n",
       "32859  ENSG00000203995    ZYG11A       9.257833     0.514193\n",
       "32861  ENSG00000162378    ZYG11B      21.124039    13.677842\n",
       "32863  ENSG00000074755     ZZEF1      17.697980    18.714613\n",
       "32864  ENSG00000036549      ZZZ3      26.655271     9.139015\n",
       "\n",
       "[17626 rows x 4 columns]"
      ],
      "text/html": [
       "<div>\n",
       "<style scoped>\n",
       "    .dataframe tbody tr th:only-of-type {\n",
       "        vertical-align: middle;\n",
       "    }\n",
       "\n",
       "    .dataframe tbody tr th {\n",
       "        vertical-align: top;\n",
       "    }\n",
       "\n",
       "    .dataframe thead th {\n",
       "        text-align: right;\n",
       "    }\n",
       "</style>\n",
       "<table border=\"1\" class=\"dataframe\">\n",
       "  <thead>\n",
       "    <tr style=\"text-align: right;\">\n",
       "      <th></th>\n",
       "      <th>Gene ID</th>\n",
       "      <th>Gene Name</th>\n",
       "      <th>cancerous TPM</th>\n",
       "      <th>healthy TPM</th>\n",
       "    </tr>\n",
       "  </thead>\n",
       "  <tbody>\n",
       "    <tr>\n",
       "      <th>0</th>\n",
       "      <td>ENSG00000121410</td>\n",
       "      <td>A1BG</td>\n",
       "      <td>0.827192</td>\n",
       "      <td>9.456192</td>\n",
       "    </tr>\n",
       "    <tr>\n",
       "      <th>2</th>\n",
       "      <td>ENSG00000148584</td>\n",
       "      <td>A1CF</td>\n",
       "      <td>1.355369</td>\n",
       "      <td>0.832690</td>\n",
       "    </tr>\n",
       "    <tr>\n",
       "      <th>3</th>\n",
       "      <td>ENSG00000175899</td>\n",
       "      <td>A2M</td>\n",
       "      <td>1.669212</td>\n",
       "      <td>473.357464</td>\n",
       "    </tr>\n",
       "    <tr>\n",
       "      <th>5</th>\n",
       "      <td>ENSG00000166535</td>\n",
       "      <td>A2ML1</td>\n",
       "      <td>0.952118</td>\n",
       "      <td>33.300911</td>\n",
       "    </tr>\n",
       "    <tr>\n",
       "      <th>8</th>\n",
       "      <td>ENSG00000184389</td>\n",
       "      <td>A3GALT2</td>\n",
       "      <td>0.643498</td>\n",
       "      <td>0.258739</td>\n",
       "    </tr>\n",
       "    <tr>\n",
       "      <th>...</th>\n",
       "      <td>...</td>\n",
       "      <td>...</td>\n",
       "      <td>...</td>\n",
       "      <td>...</td>\n",
       "    </tr>\n",
       "    <tr>\n",
       "      <th>32858</th>\n",
       "      <td>ENSG00000070476</td>\n",
       "      <td>ZXDC</td>\n",
       "      <td>20.587635</td>\n",
       "      <td>16.684126</td>\n",
       "    </tr>\n",
       "    <tr>\n",
       "      <th>32859</th>\n",
       "      <td>ENSG00000203995</td>\n",
       "      <td>ZYG11A</td>\n",
       "      <td>9.257833</td>\n",
       "      <td>0.514193</td>\n",
       "    </tr>\n",
       "    <tr>\n",
       "      <th>32861</th>\n",
       "      <td>ENSG00000162378</td>\n",
       "      <td>ZYG11B</td>\n",
       "      <td>21.124039</td>\n",
       "      <td>13.677842</td>\n",
       "    </tr>\n",
       "    <tr>\n",
       "      <th>32863</th>\n",
       "      <td>ENSG00000074755</td>\n",
       "      <td>ZZEF1</td>\n",
       "      <td>17.697980</td>\n",
       "      <td>18.714613</td>\n",
       "    </tr>\n",
       "    <tr>\n",
       "      <th>32864</th>\n",
       "      <td>ENSG00000036549</td>\n",
       "      <td>ZZZ3</td>\n",
       "      <td>26.655271</td>\n",
       "      <td>9.139015</td>\n",
       "    </tr>\n",
       "  </tbody>\n",
       "</table>\n",
       "<p>17626 rows × 4 columns</p>\n",
       "</div>"
      ]
     },
     "execution_count": 4,
     "metadata": {},
     "output_type": "execute_result"
    }
   ],
   "execution_count": 4
  },
  {
   "metadata": {},
   "cell_type": "markdown",
   "source": [
    "## Normalize TPM Values\n",
    "TPM values are normalized to a range between 0 and 1 to make them easier comparable."
   ],
   "id": "34eb8285d56af98"
  },
  {
   "metadata": {
    "ExecuteTime": {
     "end_time": "2024-10-27T10:53:25.397197Z",
     "start_time": "2024-10-27T10:53:25.392512Z"
    }
   },
   "cell_type": "code",
   "source": [
    "# logarithmic scaling with normalization [0, 1]\n",
    "def log_norm(column, min_tpm, max_tpm):\n",
    "    column_log = np.log1p(column)\n",
    "    \n",
    "    min_log = np.log1p(min_tpm)\n",
    "    max_log = np.log1p(max_tpm)\n",
    "    \n",
    "    column = (column_log - min_log) / (max_log - min_log)\n",
    "    return column"
   ],
   "id": "3d228c9eac522cba",
   "outputs": [],
   "execution_count": 5
  },
  {
   "metadata": {
    "ExecuteTime": {
     "end_time": "2024-10-27T10:53:25.403726Z",
     "start_time": "2024-10-27T10:53:25.397197Z"
    }
   },
   "cell_type": "code",
   "source": [
    "# Min\n",
    "print(f\"Min healthy TPM:\\t{df_nodes_genes['healthy TPM'].min().round(3)}\")\n",
    "print(f\"Min cancerous TPM:\\t{df_nodes_genes['cancerous TPM'].min().round(3)}\\n\")\n",
    "\n",
    "# Max\n",
    "print(f\"Max healthy TPM:\\t{df_nodes_genes['healthy TPM'].max().round(3)}\")\n",
    "print(f\"Max cancerous TPM:\\t{df_nodes_genes['cancerous TPM'].max().round(3)}\")"
   ],
   "id": "9a52be6530859a4a",
   "outputs": [
    {
     "name": "stdout",
     "output_type": "stream",
     "text": [
      "Min healthy TPM:\t0.0\n",
      "Min cancerous TPM:\t0.0\n",
      "\n",
      "Max healthy TPM:\t36200.774\n",
      "Max cancerous TPM:\t41173.932\n"
     ]
    }
   ],
   "execution_count": 6
  },
  {
   "metadata": {
    "ExecuteTime": {
     "end_time": "2024-10-27T10:53:25.411733Z",
     "start_time": "2024-10-27T10:53:25.403726Z"
    }
   },
   "cell_type": "code",
   "source": [
    "# min and max over two datasets\n",
    "min_tpm = min(df_nodes_genes['healthy TPM'].min(), \n",
    "              df_nodes_genes['cancerous TPM'].min()\n",
    "              )\n",
    "max_tpm = max(df_nodes_genes['healthy TPM'].max(), \n",
    "              df_nodes_genes['cancerous TPM'].max()\n",
    "              ) \n",
    "\n",
    "# perform log normalization\n",
    "df_nodes_genes['norm healthy TPM'] = log_norm(df_nodes_genes['healthy TPM'], min_tpm, max_tpm)\n",
    "df_nodes_genes['norm cancerous TPM'] = log_norm(df_nodes_genes['cancerous TPM'], min_tpm, max_tpm)"
   ],
   "id": "4b9ee6a1fc8e408d",
   "outputs": [],
   "execution_count": 7
  },
  {
   "metadata": {
    "ExecuteTime": {
     "end_time": "2024-10-27T10:53:25.673628Z",
     "start_time": "2024-10-27T10:53:25.411733Z"
    }
   },
   "cell_type": "code",
   "source": [
    "# norm healthy tpm\n",
    "plt.hist(df_nodes_genes['norm healthy TPM'], bins=100)\n",
    "plt.title('Histogram of normalized healthy TPM data')\n",
    "plt.xlabel('normalized TPM values')\n",
    "plt.ylabel('Frequency')\n",
    "\n",
    "plt.savefig('../tex/figures/03_02_normalized_gtex_tpm.png')\n",
    "plt.show()"
   ],
   "id": "a8e2b3b69ab02a08",
   "outputs": [
    {
     "data": {
      "text/plain": [
       "<Figure size 640x480 with 1 Axes>"
      ],
      "image/png": "[encoded data removed]"
     },
     "metadata": {},
     "output_type": "display_data"
    }
   ],
   "execution_count": 8
  },
  {
   "metadata": {
    "ExecuteTime": {
     "end_time": "2024-10-27T10:53:25.844837Z",
     "start_time": "2024-10-27T10:53:25.673628Z"
    }
   },
   "cell_type": "code",
   "source": [
    "# norm cmp tpm\n",
    "plt.hist(df_nodes_genes['norm cancerous TPM'], bins=100)\n",
    "plt.title('Histogram of normalized cancerous TPM')\n",
    "plt.xlabel('normalized TPM values')\n",
    "plt.ylabel('Frequency')\n",
    "\n",
    "plt.savefig('../tex/figures/03_02_normalized_cmp_tpm.png')\n",
    "plt.show()"
   ],
   "id": "5f218d61f59f29e7",
   "outputs": [
    {
     "data": {
      "text/plain": [
       "<Figure size 640x480 with 1 Axes>"
      ],
      "image/png": "[encoded data removed]"
     },
     "metadata": {},
     "output_type": "display_data"
    }
   ],
   "execution_count": 9
  },
  {
   "metadata": {
    "ExecuteTime": {
     "end_time": "2024-10-27T10:53:25.856003Z",
     "start_time": "2024-10-27T10:53:25.844837Z"
    }
   },
   "cell_type": "code",
   "source": [
    "df_nodes_genes.drop(columns=['healthy TPM', 'cancerous TPM'], inplace=True)\n",
    "df_nodes_genes"
   ],
   "id": "6070eb584bf75997",
   "outputs": [
    {
     "data": {
      "text/plain": [
       "               Gene ID Gene Name  norm healthy TPM  norm cancerous TPM\n",
       "0      ENSG00000121410      A1BG          0.220900            0.056729\n",
       "2      ENSG00000148584      A1CF          0.057012            0.080626\n",
       "3      ENSG00000175899       A2M          0.579917            0.092398\n",
       "5      ENSG00000166535     A2ML1          0.332704            0.062953\n",
       "8      ENSG00000184389   A3GALT2          0.021656            0.046758\n",
       "...                ...       ...               ...                 ...\n",
       "32858  ENSG00000070476      ZXDC          0.270354            0.289125\n",
       "32859  ENSG00000203995    ZYG11A          0.039046            0.219098\n",
       "32861  ENSG00000162378    ZYG11B          0.252818            0.291435\n",
       "32863  ENSG00000074755     ZZEF1          0.280583            0.275600\n",
       "32864  ENSG00000036549      ZZZ3          0.218001            0.312436\n",
       "\n",
       "[17626 rows x 4 columns]"
      ],
      "text/html": [
       "<div>\n",
       "<style scoped>\n",
       "    .dataframe tbody tr th:only-of-type {\n",
       "        vertical-align: middle;\n",
       "    }\n",
       "\n",
       "    .dataframe tbody tr th {\n",
       "        vertical-align: top;\n",
       "    }\n",
       "\n",
       "    .dataframe thead th {\n",
       "        text-align: right;\n",
       "    }\n",
       "</style>\n",
       "<table border=\"1\" class=\"dataframe\">\n",
       "  <thead>\n",
       "    <tr style=\"text-align: right;\">\n",
       "      <th></th>\n",
       "      <th>Gene ID</th>\n",
       "      <th>Gene Name</th>\n",
       "      <th>norm healthy TPM</th>\n",
       "      <th>norm cancerous TPM</th>\n",
       "    </tr>\n",
       "  </thead>\n",
       "  <tbody>\n",
       "    <tr>\n",
       "      <th>0</th>\n",
       "      <td>ENSG00000121410</td>\n",
       "      <td>A1BG</td>\n",
       "      <td>0.220900</td>\n",
       "      <td>0.056729</td>\n",
       "    </tr>\n",
       "    <tr>\n",
       "      <th>2</th>\n",
       "      <td>ENSG00000148584</td>\n",
       "      <td>A1CF</td>\n",
       "      <td>0.057012</td>\n",
       "      <td>0.080626</td>\n",
       "    </tr>\n",
       "    <tr>\n",
       "      <th>3</th>\n",
       "      <td>ENSG00000175899</td>\n",
       "      <td>A2M</td>\n",
       "      <td>0.579917</td>\n",
       "      <td>0.092398</td>\n",
       "    </tr>\n",
       "    <tr>\n",
       "      <th>5</th>\n",
       "      <td>ENSG00000166535</td>\n",
       "      <td>A2ML1</td>\n",
       "      <td>0.332704</td>\n",
       "      <td>0.062953</td>\n",
       "    </tr>\n",
       "    <tr>\n",
       "      <th>8</th>\n",
       "      <td>ENSG00000184389</td>\n",
       "      <td>A3GALT2</td>\n",
       "      <td>0.021656</td>\n",
       "      <td>0.046758</td>\n",
       "    </tr>\n",
       "    <tr>\n",
       "      <th>...</th>\n",
       "      <td>...</td>\n",
       "      <td>...</td>\n",
       "      <td>...</td>\n",
       "      <td>...</td>\n",
       "    </tr>\n",
       "    <tr>\n",
       "      <th>32858</th>\n",
       "      <td>ENSG00000070476</td>\n",
       "      <td>ZXDC</td>\n",
       "      <td>0.270354</td>\n",
       "      <td>0.289125</td>\n",
       "    </tr>\n",
       "    <tr>\n",
       "      <th>32859</th>\n",
       "      <td>ENSG00000203995</td>\n",
       "      <td>ZYG11A</td>\n",
       "      <td>0.039046</td>\n",
       "      <td>0.219098</td>\n",
       "    </tr>\n",
       "    <tr>\n",
       "      <th>32861</th>\n",
       "      <td>ENSG00000162378</td>\n",
       "      <td>ZYG11B</td>\n",
       "      <td>0.252818</td>\n",
       "      <td>0.291435</td>\n",
       "    </tr>\n",
       "    <tr>\n",
       "      <th>32863</th>\n",
       "      <td>ENSG00000074755</td>\n",
       "      <td>ZZEF1</td>\n",
       "      <td>0.280583</td>\n",
       "      <td>0.275600</td>\n",
       "    </tr>\n",
       "    <tr>\n",
       "      <th>32864</th>\n",
       "      <td>ENSG00000036549</td>\n",
       "      <td>ZZZ3</td>\n",
       "      <td>0.218001</td>\n",
       "      <td>0.312436</td>\n",
       "    </tr>\n",
       "  </tbody>\n",
       "</table>\n",
       "<p>17626 rows × 4 columns</p>\n",
       "</div>"
      ]
     },
     "execution_count": 10,
     "metadata": {},
     "output_type": "execute_result"
    }
   ],
   "execution_count": 10
  },
  {
   "metadata": {},
   "cell_type": "markdown",
   "source": [
    "## Calculate `Δ tpm`\n",
    "\n",
    "value of the difference between the normalized cancerous tpm and normalized healthy tpm"
   ],
   "id": "7262c9cfab841860"
  },
  {
   "metadata": {
    "ExecuteTime": {
     "end_time": "2024-10-27T10:53:25.868219Z",
     "start_time": "2024-10-27T10:53:25.856003Z"
    }
   },
   "cell_type": "code",
   "source": [
    "df_nodes_genes['Δ TPM'] = df_nodes_genes['norm cancerous TPM'] - df_nodes_genes['norm healthy TPM']\n",
    "df_nodes_genes['Δ type'] = np.where(df_nodes_genes['Δ TPM'] > 0, 'increase', 'decrease')\n",
    "\n",
    "df_nodes_genes"
   ],
   "id": "9907c87d13cbaab4",
   "outputs": [
    {
     "data": {
      "text/plain": [
       "               Gene ID Gene Name  norm healthy TPM  norm cancerous TPM  \\\n",
       "0      ENSG00000121410      A1BG          0.220900            0.056729   \n",
       "2      ENSG00000148584      A1CF          0.057012            0.080626   \n",
       "3      ENSG00000175899       A2M          0.579917            0.092398   \n",
       "5      ENSG00000166535     A2ML1          0.332704            0.062953   \n",
       "8      ENSG00000184389   A3GALT2          0.021656            0.046758   \n",
       "...                ...       ...               ...                 ...   \n",
       "32858  ENSG00000070476      ZXDC          0.270354            0.289125   \n",
       "32859  ENSG00000203995    ZYG11A          0.039046            0.219098   \n",
       "32861  ENSG00000162378    ZYG11B          0.252818            0.291435   \n",
       "32863  ENSG00000074755     ZZEF1          0.280583            0.275600   \n",
       "32864  ENSG00000036549      ZZZ3          0.218001            0.312436   \n",
       "\n",
       "          Δ TPM    Δ type  \n",
       "0     -0.164171  decrease  \n",
       "2      0.023614  increase  \n",
       "3     -0.487519  decrease  \n",
       "5     -0.269751  decrease  \n",
       "8      0.025101  increase  \n",
       "...         ...       ...  \n",
       "32858  0.018771  increase  \n",
       "32859  0.180052  increase  \n",
       "32861  0.038617  increase  \n",
       "32863 -0.004983  decrease  \n",
       "32864  0.094435  increase  \n",
       "\n",
       "[17626 rows x 6 columns]"
      ],
      "text/html": [
       "<div>\n",
       "<style scoped>\n",
       "    .dataframe tbody tr th:only-of-type {\n",
       "        vertical-align: middle;\n",
       "    }\n",
       "\n",
       "    .dataframe tbody tr th {\n",
       "        vertical-align: top;\n",
       "    }\n",
       "\n",
       "    .dataframe thead th {\n",
       "        text-align: right;\n",
       "    }\n",
       "</style>\n",
       "<table border=\"1\" class=\"dataframe\">\n",
       "  <thead>\n",
       "    <tr style=\"text-align: right;\">\n",
       "      <th></th>\n",
       "      <th>Gene ID</th>\n",
       "      <th>Gene Name</th>\n",
       "      <th>norm healthy TPM</th>\n",
       "      <th>norm cancerous TPM</th>\n",
       "      <th>Δ TPM</th>\n",
       "      <th>Δ type</th>\n",
       "    </tr>\n",
       "  </thead>\n",
       "  <tbody>\n",
       "    <tr>\n",
       "      <th>0</th>\n",
       "      <td>ENSG00000121410</td>\n",
       "      <td>A1BG</td>\n",
       "      <td>0.220900</td>\n",
       "      <td>0.056729</td>\n",
       "      <td>-0.164171</td>\n",
       "      <td>decrease</td>\n",
       "    </tr>\n",
       "    <tr>\n",
       "      <th>2</th>\n",
       "      <td>ENSG00000148584</td>\n",
       "      <td>A1CF</td>\n",
       "      <td>0.057012</td>\n",
       "      <td>0.080626</td>\n",
       "      <td>0.023614</td>\n",
       "      <td>increase</td>\n",
       "    </tr>\n",
       "    <tr>\n",
       "      <th>3</th>\n",
       "      <td>ENSG00000175899</td>\n",
       "      <td>A2M</td>\n",
       "      <td>0.579917</td>\n",
       "      <td>0.092398</td>\n",
       "      <td>-0.487519</td>\n",
       "      <td>decrease</td>\n",
       "    </tr>\n",
       "    <tr>\n",
       "      <th>5</th>\n",
       "      <td>ENSG00000166535</td>\n",
       "      <td>A2ML1</td>\n",
       "      <td>0.332704</td>\n",
       "      <td>0.062953</td>\n",
       "      <td>-0.269751</td>\n",
       "      <td>decrease</td>\n",
       "    </tr>\n",
       "    <tr>\n",
       "      <th>8</th>\n",
       "      <td>ENSG00000184389</td>\n",
       "      <td>A3GALT2</td>\n",
       "      <td>0.021656</td>\n",
       "      <td>0.046758</td>\n",
       "      <td>0.025101</td>\n",
       "      <td>increase</td>\n",
       "    </tr>\n",
       "    <tr>\n",
       "      <th>...</th>\n",
       "      <td>...</td>\n",
       "      <td>...</td>\n",
       "      <td>...</td>\n",
       "      <td>...</td>\n",
       "      <td>...</td>\n",
       "      <td>...</td>\n",
       "    </tr>\n",
       "    <tr>\n",
       "      <th>32858</th>\n",
       "      <td>ENSG00000070476</td>\n",
       "      <td>ZXDC</td>\n",
       "      <td>0.270354</td>\n",
       "      <td>0.289125</td>\n",
       "      <td>0.018771</td>\n",
       "      <td>increase</td>\n",
       "    </tr>\n",
       "    <tr>\n",
       "      <th>32859</th>\n",
       "      <td>ENSG00000203995</td>\n",
       "      <td>ZYG11A</td>\n",
       "      <td>0.039046</td>\n",
       "      <td>0.219098</td>\n",
       "      <td>0.180052</td>\n",
       "      <td>increase</td>\n",
       "    </tr>\n",
       "    <tr>\n",
       "      <th>32861</th>\n",
       "      <td>ENSG00000162378</td>\n",
       "      <td>ZYG11B</td>\n",
       "      <td>0.252818</td>\n",
       "      <td>0.291435</td>\n",
       "      <td>0.038617</td>\n",
       "      <td>increase</td>\n",
       "    </tr>\n",
       "    <tr>\n",
       "      <th>32863</th>\n",
       "      <td>ENSG00000074755</td>\n",
       "      <td>ZZEF1</td>\n",
       "      <td>0.280583</td>\n",
       "      <td>0.275600</td>\n",
       "      <td>-0.004983</td>\n",
       "      <td>decrease</td>\n",
       "    </tr>\n",
       "    <tr>\n",
       "      <th>32864</th>\n",
       "      <td>ENSG00000036549</td>\n",
       "      <td>ZZZ3</td>\n",
       "      <td>0.218001</td>\n",
       "      <td>0.312436</td>\n",
       "      <td>0.094435</td>\n",
       "      <td>increase</td>\n",
       "    </tr>\n",
       "  </tbody>\n",
       "</table>\n",
       "<p>17626 rows × 6 columns</p>\n",
       "</div>"
      ]
     },
     "execution_count": 11,
     "metadata": {},
     "output_type": "execute_result"
    }
   ],
   "execution_count": 11
  },
  {
   "metadata": {
    "ExecuteTime": {
     "end_time": "2024-10-27T10:53:26.100212Z",
     "start_time": "2024-10-27T10:53:25.868219Z"
    }
   },
   "cell_type": "code",
   "source": [
    "plt.hist(df_nodes_genes['Δ TPM'], bins=100)\n",
    "plt.title('Histogram of Δ TPM')\n",
    "plt.xlabel('Δ TPM Values')\n",
    "plt.ylabel('Frequency')\n",
    "\n",
    "plt.savefig('../tex/figures/03_02_delta_tpm.png')\n",
    "plt.show()"
   ],
   "id": "247d0e18920f773f",
   "outputs": [
    {
     "data": {
      "text/plain": [
       "<Figure size 640x480 with 1 Axes>"
      ],
      "image/png": "[encoded data removed]"
     },
     "metadata": {},
     "output_type": "display_data"
    }
   ],
   "execution_count": 12
  },
  {
   "metadata": {},
   "cell_type": "markdown",
   "source": [
    "## Calculate `Δ TPM relevant` with z score\n",
    "Add a column that indicates if the change in the gene activity is relevant between cancer and healthy tissue.\n",
    "\n",
    "\n",
    "Z Score of the Δ TPM values is calculated and used to determine if the gene is relevant for cancer.\n",
    "This z score means how many standard deviations the Δ tpm value is away from the mean.\n"
   ],
   "id": "7a1d70cf376f8fef"
  },
  {
   "metadata": {
    "ExecuteTime": {
     "end_time": "2024-10-27T10:53:26.111039Z",
     "start_time": "2024-10-27T10:53:26.100212Z"
    }
   },
   "cell_type": "code",
   "source": [
    "df_nodes_genes['z score'] = zscore(df_nodes_genes['Δ TPM'])\n",
    "\n",
    "# 1.96 for the highest 5% and the lowest 5% of the normal distribution\n",
    "z_threshold = 1.96\n",
    "df_nodes_genes['Δ TPM relevant'] = df_nodes_genes['z score'].abs() > z_threshold\n",
    "\n",
    "df_nodes_genes"
   ],
   "id": "e758354910fabe5d",
   "outputs": [
    {
     "data": {
      "text/plain": [
       "               Gene ID Gene Name  norm healthy TPM  norm cancerous TPM  \\\n",
       "0      ENSG00000121410      A1BG          0.220900            0.056729   \n",
       "2      ENSG00000148584      A1CF          0.057012            0.080626   \n",
       "3      ENSG00000175899       A2M          0.579917            0.092398   \n",
       "5      ENSG00000166535     A2ML1          0.332704            0.062953   \n",
       "8      ENSG00000184389   A3GALT2          0.021656            0.046758   \n",
       "...                ...       ...               ...                 ...   \n",
       "32858  ENSG00000070476      ZXDC          0.270354            0.289125   \n",
       "32859  ENSG00000203995    ZYG11A          0.039046            0.219098   \n",
       "32861  ENSG00000162378    ZYG11B          0.252818            0.291435   \n",
       "32863  ENSG00000074755     ZZEF1          0.280583            0.275600   \n",
       "32864  ENSG00000036549      ZZZ3          0.218001            0.312436   \n",
       "\n",
       "          Δ TPM    Δ type   z score  Δ TPM relevant  \n",
       "0     -0.164171  decrease -1.613031           False  \n",
       "2      0.023614  increase  0.183172           False  \n",
       "3     -0.487519  decrease -4.705922            True  \n",
       "5     -0.269751  decrease -2.622919            True  \n",
       "8      0.025101  increase  0.197398           False  \n",
       "...         ...       ...       ...             ...  \n",
       "32858  0.018771  increase  0.136848           False  \n",
       "32859  0.180052  increase  1.679534           False  \n",
       "32861  0.038617  increase  0.326676           False  \n",
       "32863 -0.004983  decrease -0.090362           False  \n",
       "32864  0.094435  increase  0.860588           False  \n",
       "\n",
       "[17626 rows x 8 columns]"
      ],
      "text/html": [
       "<div>\n",
       "<style scoped>\n",
       "    .dataframe tbody tr th:only-of-type {\n",
       "        vertical-align: middle;\n",
       "    }\n",
       "\n",
       "    .dataframe tbody tr th {\n",
       "        vertical-align: top;\n",
       "    }\n",
       "\n",
       "    .dataframe thead th {\n",
       "        text-align: right;\n",
       "    }\n",
       "</style>\n",
       "<table border=\"1\" class=\"dataframe\">\n",
       "  <thead>\n",
       "    <tr style=\"text-align: right;\">\n",
       "      <th></th>\n",
       "      <th>Gene ID</th>\n",
       "      <th>Gene Name</th>\n",
       "      <th>norm healthy TPM</th>\n",
       "      <th>norm cancerous TPM</th>\n",
       "      <th>Δ TPM</th>\n",
       "      <th>Δ type</th>\n",
       "      <th>z score</th>\n",
       "      <th>Δ TPM relevant</th>\n",
       "    </tr>\n",
       "  </thead>\n",
       "  <tbody>\n",
       "    <tr>\n",
       "      <th>0</th>\n",
       "      <td>ENSG00000121410</td>\n",
       "      <td>A1BG</td>\n",
       "      <td>0.220900</td>\n",
       "      <td>0.056729</td>\n",
       "      <td>-0.164171</td>\n",
       "      <td>decrease</td>\n",
       "      <td>-1.613031</td>\n",
       "      <td>False</td>\n",
       "    </tr>\n",
       "    <tr>\n",
       "      <th>2</th>\n",
       "      <td>ENSG00000148584</td>\n",
       "      <td>A1CF</td>\n",
       "      <td>0.057012</td>\n",
       "      <td>0.080626</td>\n",
       "      <td>0.023614</td>\n",
       "      <td>increase</td>\n",
       "      <td>0.183172</td>\n",
       "      <td>False</td>\n",
       "    </tr>\n",
       "    <tr>\n",
       "      <th>3</th>\n",
       "      <td>ENSG00000175899</td>\n",
       "      <td>A2M</td>\n",
       "      <td>0.579917</td>\n",
       "      <td>0.092398</td>\n",
       "      <td>-0.487519</td>\n",
       "      <td>decrease</td>\n",
       "      <td>-4.705922</td>\n",
       "      <td>True</td>\n",
       "    </tr>\n",
       "    <tr>\n",
       "      <th>5</th>\n",
       "      <td>ENSG00000166535</td>\n",
       "      <td>A2ML1</td>\n",
       "      <td>0.332704</td>\n",
       "      <td>0.062953</td>\n",
       "      <td>-0.269751</td>\n",
       "      <td>decrease</td>\n",
       "      <td>-2.622919</td>\n",
       "      <td>True</td>\n",
       "    </tr>\n",
       "    <tr>\n",
       "      <th>8</th>\n",
       "      <td>ENSG00000184389</td>\n",
       "      <td>A3GALT2</td>\n",
       "      <td>0.021656</td>\n",
       "      <td>0.046758</td>\n",
       "      <td>0.025101</td>\n",
       "      <td>increase</td>\n",
       "      <td>0.197398</td>\n",
       "      <td>False</td>\n",
       "    </tr>\n",
       "    <tr>\n",
       "      <th>...</th>\n",
       "      <td>...</td>\n",
       "      <td>...</td>\n",
       "      <td>...</td>\n",
       "      <td>...</td>\n",
       "      <td>...</td>\n",
       "      <td>...</td>\n",
       "      <td>...</td>\n",
       "      <td>...</td>\n",
       "    </tr>\n",
       "    <tr>\n",
       "      <th>32858</th>\n",
       "      <td>ENSG00000070476</td>\n",
       "      <td>ZXDC</td>\n",
       "      <td>0.270354</td>\n",
       "      <td>0.289125</td>\n",
       "      <td>0.018771</td>\n",
       "      <td>increase</td>\n",
       "      <td>0.136848</td>\n",
       "      <td>False</td>\n",
       "    </tr>\n",
       "    <tr>\n",
       "      <th>32859</th>\n",
       "      <td>ENSG00000203995</td>\n",
       "      <td>ZYG11A</td>\n",
       "      <td>0.039046</td>\n",
       "      <td>0.219098</td>\n",
       "      <td>0.180052</td>\n",
       "      <td>increase</td>\n",
       "      <td>1.679534</td>\n",
       "      <td>False</td>\n",
       "    </tr>\n",
       "    <tr>\n",
       "      <th>32861</th>\n",
       "      <td>ENSG00000162378</td>\n",
       "      <td>ZYG11B</td>\n",
       "      <td>0.252818</td>\n",
       "      <td>0.291435</td>\n",
       "      <td>0.038617</td>\n",
       "      <td>increase</td>\n",
       "      <td>0.326676</td>\n",
       "      <td>False</td>\n",
       "    </tr>\n",
       "    <tr>\n",
       "      <th>32863</th>\n",
       "      <td>ENSG00000074755</td>\n",
       "      <td>ZZEF1</td>\n",
       "      <td>0.280583</td>\n",
       "      <td>0.275600</td>\n",
       "      <td>-0.004983</td>\n",
       "      <td>decrease</td>\n",
       "      <td>-0.090362</td>\n",
       "      <td>False</td>\n",
       "    </tr>\n",
       "    <tr>\n",
       "      <th>32864</th>\n",
       "      <td>ENSG00000036549</td>\n",
       "      <td>ZZZ3</td>\n",
       "      <td>0.218001</td>\n",
       "      <td>0.312436</td>\n",
       "      <td>0.094435</td>\n",
       "      <td>increase</td>\n",
       "      <td>0.860588</td>\n",
       "      <td>False</td>\n",
       "    </tr>\n",
       "  </tbody>\n",
       "</table>\n",
       "<p>17626 rows × 8 columns</p>\n",
       "</div>"
      ]
     },
     "execution_count": 13,
     "metadata": {},
     "output_type": "execute_result"
    }
   ],
   "execution_count": 13
  },
  {
   "metadata": {
    "ExecuteTime": {
     "end_time": "2024-10-27T10:53:26.115490Z",
     "start_time": "2024-10-27T10:53:26.111039Z"
    }
   },
   "cell_type": "code",
   "source": "print(\"There are {} genes that have a significant change in gene activity.\".format(df_nodes_genes['Δ TPM relevant'].sum()))",
   "id": "a1de54e0cf8d8655",
   "outputs": [
    {
     "name": "stdout",
     "output_type": "stream",
     "text": [
      "There are 1034 genes that have a significant change in gene activity.\n"
     ]
    }
   ],
   "execution_count": 14
  },
  {
   "metadata": {},
   "cell_type": "markdown",
   "source": "## Save",
   "id": "a7c449732d96a18c"
  },
  {
   "metadata": {
    "ExecuteTime": {
     "end_time": "2024-10-27T10:53:26.193777Z",
     "start_time": "2024-10-27T10:53:26.115490Z"
    }
   },
   "cell_type": "code",
   "source": "df_nodes_genes.to_csv('../processed_data/nodes_genes.csv', index=False)",
   "id": "3643344b702567c5",
   "outputs": [],
   "execution_count": 15
  },
  {
   "metadata": {
    "ExecuteTime": {
     "end_time": "2024-10-27T10:53:26.200456Z",
     "start_time": "2024-10-27T10:53:26.193777Z"
    }
   },
   "cell_type": "code",
   "source": "print(f\"There are {df_nodes_genes.shape[0]} rows as gene nodes.\")",
   "id": "49277d4df228ae59",
   "outputs": [
    {
     "name": "stdout",
     "output_type": "stream",
     "text": [
      "There are 17626 rows as gene nodes.\n"
     ]
    }
   ],
   "execution_count": 16
  },
  {
   "metadata": {
    "ExecuteTime": {
     "end_time": "2024-10-27T10:53:30.178099Z",
     "start_time": "2024-10-27T10:53:26.200456Z"
    }
   },
   "cell_type": "code",
   "source": [
    "import dataframe_image as dfi\n",
    "df_nodes_genes_plot = df_nodes_genes.copy()\n",
    "df_nodes_genes_plot = df_nodes_genes_plot.reset_index(drop=True)\n",
    "\n",
    "dfi.export(df_nodes_genes_plot.head(5), '../tex/figures/03_02_gene_nodes.png')"
   ],
   "id": "f9a0116747c933e9",
   "outputs": [],
   "execution_count": 17
  },
  {
   "metadata": {
    "ExecuteTime": {
     "end_time": "2024-10-27T10:53:30.183294Z",
     "start_time": "2024-10-27T10:53:30.178099Z"
    }
   },
   "cell_type": "code",
   "source": "",
   "id": "af9eddefb54b6d45",
   "outputs": [],
   "execution_count": 17
  }
 ],
 "metadata": {
  "kernelspec": {
   "display_name": "Python 3",
   "language": "python",
   "name": "python3"
  },
  "language_info": {
   "codemirror_mode": {
    "name": "ipython",
    "version": 2
   },
   "file_extension": ".py",
   "mimetype": "text/x-python",
   "name": "python",
   "nbconvert_exporter": "python",
   "pygments_lexer": "ipython2",
   "version": "2.7.6"
  }
 },
 "nbformat": 4,
 "nbformat_minor": 5
}
