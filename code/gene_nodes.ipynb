{
 "cells": [
  {
   "metadata": {
    "ExecuteTime": {
     "end_time": "2024-10-01T14:30:08.237720Z",
     "start_time": "2024-10-01T14:30:08.233390Z"
    }
   },
   "cell_type": "code",
   "source": [
    "import pandas as pd\n",
    "import numpy as np\n",
    "import matplotlib.pyplot as plt\n",
    "from scipy.stats import zscore"
   ],
   "id": "de17c831ebfe57de",
   "outputs": [],
   "execution_count": 6
  },
  {
   "metadata": {},
   "cell_type": "markdown",
   "source": [
    "# Gene Nodes\n",
    "\n",
    "Putting together the Information for the nodes and save them as a csv file.\n",
    "\n",
    "Nodes are genes with the following information:\n",
    "- Gene ID\n",
    "- Gene Name\n",
    "- TPM value for lung cancer\n",
    "- TPM value for healthy lung tissue\n",
    "- TMP difference between cancer and healthy tissue"
   ],
   "id": "46927e43fe43848a"
  },
  {
   "metadata": {
    "ExecuteTime": {
     "end_time": "2024-10-01T14:30:08.496516Z",
     "start_time": "2024-10-01T14:30:08.317872Z"
    }
   },
   "cell_type": "code",
   "source": [
    "df_gtex = pd.read_csv('../processed_data/GTEX_healthy_mean.csv')\n",
    "df_cmp = pd.read_csv('../processed_data/CMP_cancer_mean.csv')\n",
    "\n",
    "df_protein_gene = pd.read_csv('../import_data/ENSEMBLE/biomart_gene_protein.txt',  sep='\\t')"
   ],
   "id": "initial_id",
   "outputs": [],
   "execution_count": 7
  },
  {
   "metadata": {
    "ExecuteTime": {
     "end_time": "2024-10-01T14:30:08.502954Z",
     "start_time": "2024-10-01T14:30:08.497530Z"
    }
   },
   "cell_type": "code",
   "source": [
    "# rename columns\n",
    "df_gtex.rename(columns={'tpm': 'healthy tpm'}, inplace=True)\n",
    "df_cmp.rename(columns={'name': 'name', 'tpm': 'cancerous tpm'}, inplace=True)"
   ],
   "id": "420ccf519dfc95e9",
   "outputs": [],
   "execution_count": 8
  },
  {
   "metadata": {},
   "cell_type": "markdown",
   "source": "## List of genes that have a gene-protein connection",
   "id": "d09725213b9e1191"
  },
  {
   "metadata": {
    "ExecuteTime": {
     "end_time": "2024-10-01T14:30:08.529589Z",
     "start_time": "2024-10-01T14:30:08.503959Z"
    }
   },
   "cell_type": "code",
   "source": [
    "df_protein_gene = df_protein_gene[df_protein_gene['Protein stable ID'].notna()]\n",
    "protein_genes = df_protein_gene['Gene stable ID'].unique()\n",
    "\n",
    "len(protein_genes)"
   ],
   "id": "62d4a091b53760cb",
   "outputs": [
    {
     "data": {
      "text/plain": [
       "23837"
      ]
     },
     "execution_count": 9,
     "metadata": {},
     "output_type": "execute_result"
    }
   ],
   "execution_count": 9
  },
  {
   "metadata": {},
   "cell_type": "markdown",
   "source": "## Cancer Datasets",
   "id": "870fdaab3f5991d9"
  },
  {
   "metadata": {
    "ExecuteTime": {
     "end_time": "2024-10-01T14:30:08.542347Z",
     "start_time": "2024-10-01T14:30:08.530825Z"
    }
   },
   "cell_type": "code",
   "source": [
    "df_nodes_cancer = df_cmp.copy()\n",
    "print(f\"There are {df_nodes_cancer.shape[0]} rows in the cancer dataset.\")\n",
    "df_nodes_cancer"
   ],
   "id": "46c2ba53eb22c1b7",
   "outputs": [
    {
     "name": "stdout",
     "output_type": "stream",
     "text": [
      "There are 33502 rows in the cancer dataset.\n"
     ]
    },
    {
     "data": {
      "text/plain": [
       "           name  cancerous tpm               id\n",
       "0          A1BG       0.827192  ENSG00000121410\n",
       "1      A1BG-AS1       4.676305  ENSG00000268895\n",
       "2          A1CF       1.355369  ENSG00000148584\n",
       "3           A2M       1.669212  ENSG00000175899\n",
       "4       A2M-AS1       1.033596  ENSG00000245105\n",
       "...         ...            ...              ...\n",
       "33497  ZYG11AP1       0.000887  ENSG00000232242\n",
       "33498    ZYG11B      21.124039  ENSG00000162378\n",
       "33499     ZYXP1       0.000000  ENSG00000274572\n",
       "33500     ZZEF1      17.697980  ENSG00000074755\n",
       "33501      ZZZ3      26.655271  ENSG00000036549\n",
       "\n",
       "[33502 rows x 3 columns]"
      ],
      "text/html": [
       "<div>\n",
       "<style scoped>\n",
       "    .dataframe tbody tr th:only-of-type {\n",
       "        vertical-align: middle;\n",
       "    }\n",
       "\n",
       "    .dataframe tbody tr th {\n",
       "        vertical-align: top;\n",
       "    }\n",
       "\n",
       "    .dataframe thead th {\n",
       "        text-align: right;\n",
       "    }\n",
       "</style>\n",
       "<table border=\"1\" class=\"dataframe\">\n",
       "  <thead>\n",
       "    <tr style=\"text-align: right;\">\n",
       "      <th></th>\n",
       "      <th>name</th>\n",
       "      <th>cancerous tpm</th>\n",
       "      <th>id</th>\n",
       "    </tr>\n",
       "  </thead>\n",
       "  <tbody>\n",
       "    <tr>\n",
       "      <th>0</th>\n",
       "      <td>A1BG</td>\n",
       "      <td>0.827192</td>\n",
       "      <td>ENSG00000121410</td>\n",
       "    </tr>\n",
       "    <tr>\n",
       "      <th>1</th>\n",
       "      <td>A1BG-AS1</td>\n",
       "      <td>4.676305</td>\n",
       "      <td>ENSG00000268895</td>\n",
       "    </tr>\n",
       "    <tr>\n",
       "      <th>2</th>\n",
       "      <td>A1CF</td>\n",
       "      <td>1.355369</td>\n",
       "      <td>ENSG00000148584</td>\n",
       "    </tr>\n",
       "    <tr>\n",
       "      <th>3</th>\n",
       "      <td>A2M</td>\n",
       "      <td>1.669212</td>\n",
       "      <td>ENSG00000175899</td>\n",
       "    </tr>\n",
       "    <tr>\n",
       "      <th>4</th>\n",
       "      <td>A2M-AS1</td>\n",
       "      <td>1.033596</td>\n",
       "      <td>ENSG00000245105</td>\n",
       "    </tr>\n",
       "    <tr>\n",
       "      <th>...</th>\n",
       "      <td>...</td>\n",
       "      <td>...</td>\n",
       "      <td>...</td>\n",
       "    </tr>\n",
       "    <tr>\n",
       "      <th>33497</th>\n",
       "      <td>ZYG11AP1</td>\n",
       "      <td>0.000887</td>\n",
       "      <td>ENSG00000232242</td>\n",
       "    </tr>\n",
       "    <tr>\n",
       "      <th>33498</th>\n",
       "      <td>ZYG11B</td>\n",
       "      <td>21.124039</td>\n",
       "      <td>ENSG00000162378</td>\n",
       "    </tr>\n",
       "    <tr>\n",
       "      <th>33499</th>\n",
       "      <td>ZYXP1</td>\n",
       "      <td>0.000000</td>\n",
       "      <td>ENSG00000274572</td>\n",
       "    </tr>\n",
       "    <tr>\n",
       "      <th>33500</th>\n",
       "      <td>ZZEF1</td>\n",
       "      <td>17.697980</td>\n",
       "      <td>ENSG00000074755</td>\n",
       "    </tr>\n",
       "    <tr>\n",
       "      <th>33501</th>\n",
       "      <td>ZZZ3</td>\n",
       "      <td>26.655271</td>\n",
       "      <td>ENSG00000036549</td>\n",
       "    </tr>\n",
       "  </tbody>\n",
       "</table>\n",
       "<p>33502 rows × 3 columns</p>\n",
       "</div>"
      ]
     },
     "execution_count": 10,
     "metadata": {},
     "output_type": "execute_result"
    }
   ],
   "execution_count": 10
  },
  {
   "metadata": {},
   "cell_type": "markdown",
   "source": "## Merge with healthy",
   "id": "f3bc42b1e8dd575f"
  },
  {
   "metadata": {
    "ExecuteTime": {
     "end_time": "2024-10-01T14:30:08.587351Z",
     "start_time": "2024-10-01T14:30:08.544650Z"
    }
   },
   "cell_type": "code",
   "source": [
    "df_nodes_healthy = df_gtex.copy()\n",
    "\n",
    "df_nodes_genes = df_nodes_cancer.merge(df_nodes_healthy, on='id', how='inner')\n",
    "\n",
    "# filter out those without gene-protein connection\n",
    "df_nodes_genes = df_nodes_genes[df_nodes_genes['id'].isin(protein_genes)]\n",
    "\n",
    "print(f\"There are {df_nodes_genes.shape[0]} rows in the merged dataset. All have a healthy and a cancer tpm value.\")\n",
    "\n",
    "df_nodes_genes"
   ],
   "id": "aea44d6e056078d1",
   "outputs": [
    {
     "name": "stdout",
     "output_type": "stream",
     "text": [
      "There are 17626 rows in the merged dataset. All have a healthy and a cancer tpm value.\n"
     ]
    },
    {
     "data": {
      "text/plain": [
       "          name  cancerous tpm               id  healthy tpm\n",
       "0         A1BG       0.827192  ENSG00000121410     9.456192\n",
       "2         A1CF       1.355369  ENSG00000148584     0.832690\n",
       "3          A2M       1.669212  ENSG00000175899   473.357464\n",
       "5        A2ML1       0.952118  ENSG00000166535    33.300911\n",
       "8      A3GALT2       0.643498  ENSG00000184389     0.258739\n",
       "...        ...            ...              ...          ...\n",
       "32858     ZXDC      20.587635  ENSG00000070476    16.684126\n",
       "32859   ZYG11A       9.257833  ENSG00000203995     0.514193\n",
       "32861   ZYG11B      21.124039  ENSG00000162378    13.677842\n",
       "32863    ZZEF1      17.697980  ENSG00000074755    18.714613\n",
       "32864     ZZZ3      26.655271  ENSG00000036549     9.139015\n",
       "\n",
       "[17626 rows x 4 columns]"
      ],
      "text/html": [
       "<div>\n",
       "<style scoped>\n",
       "    .dataframe tbody tr th:only-of-type {\n",
       "        vertical-align: middle;\n",
       "    }\n",
       "\n",
       "    .dataframe tbody tr th {\n",
       "        vertical-align: top;\n",
       "    }\n",
       "\n",
       "    .dataframe thead th {\n",
       "        text-align: right;\n",
       "    }\n",
       "</style>\n",
       "<table border=\"1\" class=\"dataframe\">\n",
       "  <thead>\n",
       "    <tr style=\"text-align: right;\">\n",
       "      <th></th>\n",
       "      <th>name</th>\n",
       "      <th>cancerous tpm</th>\n",
       "      <th>id</th>\n",
       "      <th>healthy tpm</th>\n",
       "    </tr>\n",
       "  </thead>\n",
       "  <tbody>\n",
       "    <tr>\n",
       "      <th>0</th>\n",
       "      <td>A1BG</td>\n",
       "      <td>0.827192</td>\n",
       "      <td>ENSG00000121410</td>\n",
       "      <td>9.456192</td>\n",
       "    </tr>\n",
       "    <tr>\n",
       "      <th>2</th>\n",
       "      <td>A1CF</td>\n",
       "      <td>1.355369</td>\n",
       "      <td>ENSG00000148584</td>\n",
       "      <td>0.832690</td>\n",
       "    </tr>\n",
       "    <tr>\n",
       "      <th>3</th>\n",
       "      <td>A2M</td>\n",
       "      <td>1.669212</td>\n",
       "      <td>ENSG00000175899</td>\n",
       "      <td>473.357464</td>\n",
       "    </tr>\n",
       "    <tr>\n",
       "      <th>5</th>\n",
       "      <td>A2ML1</td>\n",
       "      <td>0.952118</td>\n",
       "      <td>ENSG00000166535</td>\n",
       "      <td>33.300911</td>\n",
       "    </tr>\n",
       "    <tr>\n",
       "      <th>8</th>\n",
       "      <td>A3GALT2</td>\n",
       "      <td>0.643498</td>\n",
       "      <td>ENSG00000184389</td>\n",
       "      <td>0.258739</td>\n",
       "    </tr>\n",
       "    <tr>\n",
       "      <th>...</th>\n",
       "      <td>...</td>\n",
       "      <td>...</td>\n",
       "      <td>...</td>\n",
       "      <td>...</td>\n",
       "    </tr>\n",
       "    <tr>\n",
       "      <th>32858</th>\n",
       "      <td>ZXDC</td>\n",
       "      <td>20.587635</td>\n",
       "      <td>ENSG00000070476</td>\n",
       "      <td>16.684126</td>\n",
       "    </tr>\n",
       "    <tr>\n",
       "      <th>32859</th>\n",
       "      <td>ZYG11A</td>\n",
       "      <td>9.257833</td>\n",
       "      <td>ENSG00000203995</td>\n",
       "      <td>0.514193</td>\n",
       "    </tr>\n",
       "    <tr>\n",
       "      <th>32861</th>\n",
       "      <td>ZYG11B</td>\n",
       "      <td>21.124039</td>\n",
       "      <td>ENSG00000162378</td>\n",
       "      <td>13.677842</td>\n",
       "    </tr>\n",
       "    <tr>\n",
       "      <th>32863</th>\n",
       "      <td>ZZEF1</td>\n",
       "      <td>17.697980</td>\n",
       "      <td>ENSG00000074755</td>\n",
       "      <td>18.714613</td>\n",
       "    </tr>\n",
       "    <tr>\n",
       "      <th>32864</th>\n",
       "      <td>ZZZ3</td>\n",
       "      <td>26.655271</td>\n",
       "      <td>ENSG00000036549</td>\n",
       "      <td>9.139015</td>\n",
       "    </tr>\n",
       "  </tbody>\n",
       "</table>\n",
       "<p>17626 rows × 4 columns</p>\n",
       "</div>"
      ]
     },
     "execution_count": 11,
     "metadata": {},
     "output_type": "execute_result"
    }
   ],
   "execution_count": 11
  },
  {
   "metadata": {},
   "cell_type": "markdown",
   "source": [
    "## Normalize TPM Values\n",
    "TPM values are normalized to a range between 0 and 1 to make them easier comparable."
   ],
   "id": "34eb8285d56af98"
  },
  {
   "metadata": {
    "ExecuteTime": {
     "end_time": "2024-10-01T14:30:08.592862Z",
     "start_time": "2024-10-01T14:30:08.588356Z"
    }
   },
   "cell_type": "code",
   "source": [
    "# logarithmic scaling with normalization [0, 1]\n",
    "def log_norm_scaling(column, min_tpm, max_tpm):\n",
    "    column_log = np.log1p(column)\n",
    "    \n",
    "    min_log = np.log1p(min_tpm)\n",
    "    max_log = np.log1p(max_tpm)\n",
    "    \n",
    "    column = (column_log - min_log) / (max_log - min_log)\n",
    "    return column"
   ],
   "id": "3d228c9eac522cba",
   "outputs": [],
   "execution_count": 12
  },
  {
   "metadata": {
    "ExecuteTime": {
     "end_time": "2024-10-01T14:30:08.599312Z",
     "start_time": "2024-10-01T14:30:08.593867Z"
    }
   },
   "cell_type": "code",
   "source": [
    "# Min\n",
    "print(f\"Min Healthy TPM:\\t{df_nodes_genes['healthy tpm'].min().round(3)}\")\n",
    "print(f\"Min cmp TPM:\\t\\t{df_nodes_genes['cancerous tpm'].min().round(3)}\\n\")\n",
    "\n",
    "# Max\n",
    "print(f\"Max Healthy TPM:\\t{df_nodes_genes['healthy tpm'].max().round(3)}\")\n",
    "print(f\"Max cmp TPM:\\t\\t{df_nodes_genes['cancerous tpm'].max().round(3)}\")"
   ],
   "id": "9a52be6530859a4a",
   "outputs": [
    {
     "name": "stdout",
     "output_type": "stream",
     "text": [
      "Min Healthy TPM:\t0.0\n",
      "Min cmp TPM:\t\t0.0\n",
      "\n",
      "Max Healthy TPM:\t36200.774\n",
      "Max cmp TPM:\t\t41173.932\n"
     ]
    }
   ],
   "execution_count": 13
  },
  {
   "metadata": {
    "ExecuteTime": {
     "end_time": "2024-10-01T14:30:08.607329Z",
     "start_time": "2024-10-01T14:30:08.600317Z"
    }
   },
   "cell_type": "code",
   "source": [
    "# min and max over all 3 datasets\n",
    "min_tpm = min(df_nodes_genes['healthy tpm'].min(), \n",
    "              df_nodes_genes['cancerous tpm'].min()\n",
    "              )\n",
    "max_tpm = max(df_nodes_genes['healthy tpm'].max(), \n",
    "              df_nodes_genes['cancerous tpm'].max()\n",
    "              ) \n",
    "\n",
    "# perform log normalization\n",
    "df_nodes_genes['norm healthy tpm'] = log_norm_scaling(df_nodes_genes['healthy tpm'], min_tpm, max_tpm)\n",
    "df_nodes_genes['norm cancerous tpm'] = log_norm_scaling(df_nodes_genes['cancerous tpm'], min_tpm, max_tpm)"
   ],
   "id": "4b9ee6a1fc8e408d",
   "outputs": [],
   "execution_count": 14
  },
  {
   "metadata": {
    "ExecuteTime": {
     "end_time": "2024-10-01T14:30:08.887447Z",
     "start_time": "2024-10-01T14:30:08.608681Z"
    }
   },
   "cell_type": "code",
   "source": [
    "# healthy tpm\n",
    "plt.figure(figsize=(20, 5))\n",
    "plt.subplot(1, 2, 1)\n",
    "plt.hist(df_nodes_genes['norm healthy tpm'], bins=100)\n",
    "plt.title('normalized healthy TPM')\n",
    "\n",
    "# cmp tpm\n",
    "plt.subplot(1, 2, 2)\n",
    "plt.hist(df_nodes_genes['norm cancerous tpm'], bins=100)\n",
    "plt.title('normalized cancerous TPM')\n",
    "\n",
    "plt.show()"
   ],
   "id": "a8e2b3b69ab02a08",
   "outputs": [
    {
     "data": {
      "text/plain": [
       "<Figure size 2000x500 with 2 Axes>"
      ],
      "image/png": "[encoded data removed]"
     },
     "metadata": {},
     "output_type": "display_data"
    }
   ],
   "execution_count": 15
  },
  {
   "metadata": {
    "ExecuteTime": {
     "end_time": "2024-10-01T14:30:08.899572Z",
     "start_time": "2024-10-01T14:30:08.888452Z"
    }
   },
   "cell_type": "code",
   "source": [
    "df_nodes_genes.drop(columns=['healthy tpm', 'cancerous tpm'], inplace=True)\n",
    "df_nodes_genes"
   ],
   "id": "6070eb584bf75997",
   "outputs": [
    {
     "data": {
      "text/plain": [
       "          name               id  norm healthy tpm  norm cancerous tpm\n",
       "0         A1BG  ENSG00000121410          0.220900            0.056729\n",
       "2         A1CF  ENSG00000148584          0.057012            0.080626\n",
       "3          A2M  ENSG00000175899          0.579917            0.092398\n",
       "5        A2ML1  ENSG00000166535          0.332704            0.062953\n",
       "8      A3GALT2  ENSG00000184389          0.021656            0.046758\n",
       "...        ...              ...               ...                 ...\n",
       "32858     ZXDC  ENSG00000070476          0.270354            0.289125\n",
       "32859   ZYG11A  ENSG00000203995          0.039046            0.219098\n",
       "32861   ZYG11B  ENSG00000162378          0.252818            0.291435\n",
       "32863    ZZEF1  ENSG00000074755          0.280583            0.275600\n",
       "32864     ZZZ3  ENSG00000036549          0.218001            0.312436\n",
       "\n",
       "[17626 rows x 4 columns]"
      ],
      "text/html": [
       "<div>\n",
       "<style scoped>\n",
       "    .dataframe tbody tr th:only-of-type {\n",
       "        vertical-align: middle;\n",
       "    }\n",
       "\n",
       "    .dataframe tbody tr th {\n",
       "        vertical-align: top;\n",
       "    }\n",
       "\n",
       "    .dataframe thead th {\n",
       "        text-align: right;\n",
       "    }\n",
       "</style>\n",
       "<table border=\"1\" class=\"dataframe\">\n",
       "  <thead>\n",
       "    <tr style=\"text-align: right;\">\n",
       "      <th></th>\n",
       "      <th>name</th>\n",
       "      <th>id</th>\n",
       "      <th>norm healthy tpm</th>\n",
       "      <th>norm cancerous tpm</th>\n",
       "    </tr>\n",
       "  </thead>\n",
       "  <tbody>\n",
       "    <tr>\n",
       "      <th>0</th>\n",
       "      <td>A1BG</td>\n",
       "      <td>ENSG00000121410</td>\n",
       "      <td>0.220900</td>\n",
       "      <td>0.056729</td>\n",
       "    </tr>\n",
       "    <tr>\n",
       "      <th>2</th>\n",
       "      <td>A1CF</td>\n",
       "      <td>ENSG00000148584</td>\n",
       "      <td>0.057012</td>\n",
       "      <td>0.080626</td>\n",
       "    </tr>\n",
       "    <tr>\n",
       "      <th>3</th>\n",
       "      <td>A2M</td>\n",
       "      <td>ENSG00000175899</td>\n",
       "      <td>0.579917</td>\n",
       "      <td>0.092398</td>\n",
       "    </tr>\n",
       "    <tr>\n",
       "      <th>5</th>\n",
       "      <td>A2ML1</td>\n",
       "      <td>ENSG00000166535</td>\n",
       "      <td>0.332704</td>\n",
       "      <td>0.062953</td>\n",
       "    </tr>\n",
       "    <tr>\n",
       "      <th>8</th>\n",
       "      <td>A3GALT2</td>\n",
       "      <td>ENSG00000184389</td>\n",
       "      <td>0.021656</td>\n",
       "      <td>0.046758</td>\n",
       "    </tr>\n",
       "    <tr>\n",
       "      <th>...</th>\n",
       "      <td>...</td>\n",
       "      <td>...</td>\n",
       "      <td>...</td>\n",
       "      <td>...</td>\n",
       "    </tr>\n",
       "    <tr>\n",
       "      <th>32858</th>\n",
       "      <td>ZXDC</td>\n",
       "      <td>ENSG00000070476</td>\n",
       "      <td>0.270354</td>\n",
       "      <td>0.289125</td>\n",
       "    </tr>\n",
       "    <tr>\n",
       "      <th>32859</th>\n",
       "      <td>ZYG11A</td>\n",
       "      <td>ENSG00000203995</td>\n",
       "      <td>0.039046</td>\n",
       "      <td>0.219098</td>\n",
       "    </tr>\n",
       "    <tr>\n",
       "      <th>32861</th>\n",
       "      <td>ZYG11B</td>\n",
       "      <td>ENSG00000162378</td>\n",
       "      <td>0.252818</td>\n",
       "      <td>0.291435</td>\n",
       "    </tr>\n",
       "    <tr>\n",
       "      <th>32863</th>\n",
       "      <td>ZZEF1</td>\n",
       "      <td>ENSG00000074755</td>\n",
       "      <td>0.280583</td>\n",
       "      <td>0.275600</td>\n",
       "    </tr>\n",
       "    <tr>\n",
       "      <th>32864</th>\n",
       "      <td>ZZZ3</td>\n",
       "      <td>ENSG00000036549</td>\n",
       "      <td>0.218001</td>\n",
       "      <td>0.312436</td>\n",
       "    </tr>\n",
       "  </tbody>\n",
       "</table>\n",
       "<p>17626 rows × 4 columns</p>\n",
       "</div>"
      ]
     },
     "execution_count": 16,
     "metadata": {},
     "output_type": "execute_result"
    }
   ],
   "execution_count": 16
  },
  {
   "metadata": {},
   "cell_type": "markdown",
   "source": [
    "## Calculate `delta tpm`\n",
    "\n",
    "value of the difference between the normalized cancerous tpm and normalized healthy tpm"
   ],
   "id": "7262c9cfab841860"
  },
  {
   "metadata": {
    "ExecuteTime": {
     "end_time": "2024-10-01T14:30:08.913789Z",
     "start_time": "2024-10-01T14:30:08.900577Z"
    }
   },
   "cell_type": "code",
   "source": [
    "df_nodes_genes['delta tpm'] = df_nodes_genes['norm cancerous tpm'] - df_nodes_genes['norm healthy tpm']\n",
    "df_nodes_genes['delta type'] = np.where(df_nodes_genes['delta tpm'] > 0, 'increase', 'decrease')\n",
    "\n",
    "df_nodes_genes"
   ],
   "id": "9907c87d13cbaab4",
   "outputs": [
    {
     "data": {
      "text/plain": [
       "          name               id  norm healthy tpm  norm cancerous tpm  \\\n",
       "0         A1BG  ENSG00000121410          0.220900            0.056729   \n",
       "2         A1CF  ENSG00000148584          0.057012            0.080626   \n",
       "3          A2M  ENSG00000175899          0.579917            0.092398   \n",
       "5        A2ML1  ENSG00000166535          0.332704            0.062953   \n",
       "8      A3GALT2  ENSG00000184389          0.021656            0.046758   \n",
       "...        ...              ...               ...                 ...   \n",
       "32858     ZXDC  ENSG00000070476          0.270354            0.289125   \n",
       "32859   ZYG11A  ENSG00000203995          0.039046            0.219098   \n",
       "32861   ZYG11B  ENSG00000162378          0.252818            0.291435   \n",
       "32863    ZZEF1  ENSG00000074755          0.280583            0.275600   \n",
       "32864     ZZZ3  ENSG00000036549          0.218001            0.312436   \n",
       "\n",
       "       delta tpm delta type  \n",
       "0      -0.164171   decrease  \n",
       "2       0.023614   increase  \n",
       "3      -0.487519   decrease  \n",
       "5      -0.269751   decrease  \n",
       "8       0.025101   increase  \n",
       "...          ...        ...  \n",
       "32858   0.018771   increase  \n",
       "32859   0.180052   increase  \n",
       "32861   0.038617   increase  \n",
       "32863  -0.004983   decrease  \n",
       "32864   0.094435   increase  \n",
       "\n",
       "[17626 rows x 6 columns]"
      ],
      "text/html": [
       "<div>\n",
       "<style scoped>\n",
       "    .dataframe tbody tr th:only-of-type {\n",
       "        vertical-align: middle;\n",
       "    }\n",
       "\n",
       "    .dataframe tbody tr th {\n",
       "        vertical-align: top;\n",
       "    }\n",
       "\n",
       "    .dataframe thead th {\n",
       "        text-align: right;\n",
       "    }\n",
       "</style>\n",
       "<table border=\"1\" class=\"dataframe\">\n",
       "  <thead>\n",
       "    <tr style=\"text-align: right;\">\n",
       "      <th></th>\n",
       "      <th>name</th>\n",
       "      <th>id</th>\n",
       "      <th>norm healthy tpm</th>\n",
       "      <th>norm cancerous tpm</th>\n",
       "      <th>delta tpm</th>\n",
       "      <th>delta type</th>\n",
       "    </tr>\n",
       "  </thead>\n",
       "  <tbody>\n",
       "    <tr>\n",
       "      <th>0</th>\n",
       "      <td>A1BG</td>\n",
       "      <td>ENSG00000121410</td>\n",
       "      <td>0.220900</td>\n",
       "      <td>0.056729</td>\n",
       "      <td>-0.164171</td>\n",
       "      <td>decrease</td>\n",
       "    </tr>\n",
       "    <tr>\n",
       "      <th>2</th>\n",
       "      <td>A1CF</td>\n",
       "      <td>ENSG00000148584</td>\n",
       "      <td>0.057012</td>\n",
       "      <td>0.080626</td>\n",
       "      <td>0.023614</td>\n",
       "      <td>increase</td>\n",
       "    </tr>\n",
       "    <tr>\n",
       "      <th>3</th>\n",
       "      <td>A2M</td>\n",
       "      <td>ENSG00000175899</td>\n",
       "      <td>0.579917</td>\n",
       "      <td>0.092398</td>\n",
       "      <td>-0.487519</td>\n",
       "      <td>decrease</td>\n",
       "    </tr>\n",
       "    <tr>\n",
       "      <th>5</th>\n",
       "      <td>A2ML1</td>\n",
       "      <td>ENSG00000166535</td>\n",
       "      <td>0.332704</td>\n",
       "      <td>0.062953</td>\n",
       "      <td>-0.269751</td>\n",
       "      <td>decrease</td>\n",
       "    </tr>\n",
       "    <tr>\n",
       "      <th>8</th>\n",
       "      <td>A3GALT2</td>\n",
       "      <td>ENSG00000184389</td>\n",
       "      <td>0.021656</td>\n",
       "      <td>0.046758</td>\n",
       "      <td>0.025101</td>\n",
       "      <td>increase</td>\n",
       "    </tr>\n",
       "    <tr>\n",
       "      <th>...</th>\n",
       "      <td>...</td>\n",
       "      <td>...</td>\n",
       "      <td>...</td>\n",
       "      <td>...</td>\n",
       "      <td>...</td>\n",
       "      <td>...</td>\n",
       "    </tr>\n",
       "    <tr>\n",
       "      <th>32858</th>\n",
       "      <td>ZXDC</td>\n",
       "      <td>ENSG00000070476</td>\n",
       "      <td>0.270354</td>\n",
       "      <td>0.289125</td>\n",
       "      <td>0.018771</td>\n",
       "      <td>increase</td>\n",
       "    </tr>\n",
       "    <tr>\n",
       "      <th>32859</th>\n",
       "      <td>ZYG11A</td>\n",
       "      <td>ENSG00000203995</td>\n",
       "      <td>0.039046</td>\n",
       "      <td>0.219098</td>\n",
       "      <td>0.180052</td>\n",
       "      <td>increase</td>\n",
       "    </tr>\n",
       "    <tr>\n",
       "      <th>32861</th>\n",
       "      <td>ZYG11B</td>\n",
       "      <td>ENSG00000162378</td>\n",
       "      <td>0.252818</td>\n",
       "      <td>0.291435</td>\n",
       "      <td>0.038617</td>\n",
       "      <td>increase</td>\n",
       "    </tr>\n",
       "    <tr>\n",
       "      <th>32863</th>\n",
       "      <td>ZZEF1</td>\n",
       "      <td>ENSG00000074755</td>\n",
       "      <td>0.280583</td>\n",
       "      <td>0.275600</td>\n",
       "      <td>-0.004983</td>\n",
       "      <td>decrease</td>\n",
       "    </tr>\n",
       "    <tr>\n",
       "      <th>32864</th>\n",
       "      <td>ZZZ3</td>\n",
       "      <td>ENSG00000036549</td>\n",
       "      <td>0.218001</td>\n",
       "      <td>0.312436</td>\n",
       "      <td>0.094435</td>\n",
       "      <td>increase</td>\n",
       "    </tr>\n",
       "  </tbody>\n",
       "</table>\n",
       "<p>17626 rows × 6 columns</p>\n",
       "</div>"
      ]
     },
     "execution_count": 17,
     "metadata": {},
     "output_type": "execute_result"
    }
   ],
   "execution_count": 17
  },
  {
   "metadata": {
    "ExecuteTime": {
     "end_time": "2024-10-01T14:30:09.528504Z",
     "start_time": "2024-10-01T14:30:08.915794Z"
    }
   },
   "cell_type": "code",
   "source": [
    "plt.hist(df_nodes_genes['delta tpm'], bins=1000)\n",
    "plt.title('delta TPM')\n",
    "plt.show()"
   ],
   "id": "247d0e18920f773f",
   "outputs": [
    {
     "data": {
      "text/plain": [
       "<Figure size 640x480 with 1 Axes>"
      ],
      "image/png": "[encoded data removed]"
     },
     "metadata": {},
     "output_type": "display_data"
    }
   ],
   "execution_count": 18
  },
  {
   "metadata": {
    "ExecuteTime": {
     "end_time": "2024-10-01T14:30:09.533656Z",
     "start_time": "2024-10-01T14:30:09.530580Z"
    }
   },
   "cell_type": "code",
   "source": [
    "# Absolute delta tpm\n",
    "# We do not use since we are interested in the direction of the change\n",
    "# df_nodes_genes['delta tpm'] = np.abs(df_nodes_genes['delta tpm'])"
   ],
   "id": "760c391e74637b36",
   "outputs": [],
   "execution_count": 19
  },
  {
   "metadata": {},
   "cell_type": "markdown",
   "source": [
    "## Calculate `delta_tpm_relevant` with z score\n",
    "Add a column that indicates if the change in the gene activity is relevant between cancer and healthy tissue.\n",
    "\n",
    "\n",
    "Z Score of the delta TPM values is calculated and used to determine if the gene is relevant for cancer.\n",
    "This z score means how many standard deviations the delta tpm value is away from the mean.\n"
   ],
   "id": "7a1d70cf376f8fef"
  },
  {
   "metadata": {
    "ExecuteTime": {
     "end_time": "2024-10-01T14:30:09.550533Z",
     "start_time": "2024-10-01T14:30:09.536670Z"
    }
   },
   "cell_type": "code",
   "source": [
    "\n",
    "df_nodes_genes['z score'] = zscore(df_nodes_genes['delta tpm'])\n",
    "\n",
    "# 1.96 für die größten 5 % der Abweichungen\n",
    "z_threshold = 1.96\n",
    "df_nodes_genes['delta tpm relevant'] = df_nodes_genes['z score'].abs() > z_threshold\n",
    "\n",
    "df_nodes_genes"
   ],
   "id": "e758354910fabe5d",
   "outputs": [
    {
     "data": {
      "text/plain": [
       "          name               id  norm healthy tpm  norm cancerous tpm  \\\n",
       "0         A1BG  ENSG00000121410          0.220900            0.056729   \n",
       "2         A1CF  ENSG00000148584          0.057012            0.080626   \n",
       "3          A2M  ENSG00000175899          0.579917            0.092398   \n",
       "5        A2ML1  ENSG00000166535          0.332704            0.062953   \n",
       "8      A3GALT2  ENSG00000184389          0.021656            0.046758   \n",
       "...        ...              ...               ...                 ...   \n",
       "32858     ZXDC  ENSG00000070476          0.270354            0.289125   \n",
       "32859   ZYG11A  ENSG00000203995          0.039046            0.219098   \n",
       "32861   ZYG11B  ENSG00000162378          0.252818            0.291435   \n",
       "32863    ZZEF1  ENSG00000074755          0.280583            0.275600   \n",
       "32864     ZZZ3  ENSG00000036549          0.218001            0.312436   \n",
       "\n",
       "       delta tpm delta type   z score  delta tpm relevant  \n",
       "0      -0.164171   decrease -1.613031               False  \n",
       "2       0.023614   increase  0.183172               False  \n",
       "3      -0.487519   decrease -4.705922                True  \n",
       "5      -0.269751   decrease -2.622919                True  \n",
       "8       0.025101   increase  0.197398               False  \n",
       "...          ...        ...       ...                 ...  \n",
       "32858   0.018771   increase  0.136848               False  \n",
       "32859   0.180052   increase  1.679534               False  \n",
       "32861   0.038617   increase  0.326676               False  \n",
       "32863  -0.004983   decrease -0.090362               False  \n",
       "32864   0.094435   increase  0.860588               False  \n",
       "\n",
       "[17626 rows x 8 columns]"
      ],
      "text/html": [
       "<div>\n",
       "<style scoped>\n",
       "    .dataframe tbody tr th:only-of-type {\n",
       "        vertical-align: middle;\n",
       "    }\n",
       "\n",
       "    .dataframe tbody tr th {\n",
       "        vertical-align: top;\n",
       "    }\n",
       "\n",
       "    .dataframe thead th {\n",
       "        text-align: right;\n",
       "    }\n",
       "</style>\n",
       "<table border=\"1\" class=\"dataframe\">\n",
       "  <thead>\n",
       "    <tr style=\"text-align: right;\">\n",
       "      <th></th>\n",
       "      <th>name</th>\n",
       "      <th>id</th>\n",
       "      <th>norm healthy tpm</th>\n",
       "      <th>norm cancerous tpm</th>\n",
       "      <th>delta tpm</th>\n",
       "      <th>delta type</th>\n",
       "      <th>z score</th>\n",
       "      <th>delta tpm relevant</th>\n",
       "    </tr>\n",
       "  </thead>\n",
       "  <tbody>\n",
       "    <tr>\n",
       "      <th>0</th>\n",
       "      <td>A1BG</td>\n",
       "      <td>ENSG00000121410</td>\n",
       "      <td>0.220900</td>\n",
       "      <td>0.056729</td>\n",
       "      <td>-0.164171</td>\n",
       "      <td>decrease</td>\n",
       "      <td>-1.613031</td>\n",
       "      <td>False</td>\n",
       "    </tr>\n",
       "    <tr>\n",
       "      <th>2</th>\n",
       "      <td>A1CF</td>\n",
       "      <td>ENSG00000148584</td>\n",
       "      <td>0.057012</td>\n",
       "      <td>0.080626</td>\n",
       "      <td>0.023614</td>\n",
       "      <td>increase</td>\n",
       "      <td>0.183172</td>\n",
       "      <td>False</td>\n",
       "    </tr>\n",
       "    <tr>\n",
       "      <th>3</th>\n",
       "      <td>A2M</td>\n",
       "      <td>ENSG00000175899</td>\n",
       "      <td>0.579917</td>\n",
       "      <td>0.092398</td>\n",
       "      <td>-0.487519</td>\n",
       "      <td>decrease</td>\n",
       "      <td>-4.705922</td>\n",
       "      <td>True</td>\n",
       "    </tr>\n",
       "    <tr>\n",
       "      <th>5</th>\n",
       "      <td>A2ML1</td>\n",
       "      <td>ENSG00000166535</td>\n",
       "      <td>0.332704</td>\n",
       "      <td>0.062953</td>\n",
       "      <td>-0.269751</td>\n",
       "      <td>decrease</td>\n",
       "      <td>-2.622919</td>\n",
       "      <td>True</td>\n",
       "    </tr>\n",
       "    <tr>\n",
       "      <th>8</th>\n",
       "      <td>A3GALT2</td>\n",
       "      <td>ENSG00000184389</td>\n",
       "      <td>0.021656</td>\n",
       "      <td>0.046758</td>\n",
       "      <td>0.025101</td>\n",
       "      <td>increase</td>\n",
       "      <td>0.197398</td>\n",
       "      <td>False</td>\n",
       "    </tr>\n",
       "    <tr>\n",
       "      <th>...</th>\n",
       "      <td>...</td>\n",
       "      <td>...</td>\n",
       "      <td>...</td>\n",
       "      <td>...</td>\n",
       "      <td>...</td>\n",
       "      <td>...</td>\n",
       "      <td>...</td>\n",
       "      <td>...</td>\n",
       "    </tr>\n",
       "    <tr>\n",
       "      <th>32858</th>\n",
       "      <td>ZXDC</td>\n",
       "      <td>ENSG00000070476</td>\n",
       "      <td>0.270354</td>\n",
       "      <td>0.289125</td>\n",
       "      <td>0.018771</td>\n",
       "      <td>increase</td>\n",
       "      <td>0.136848</td>\n",
       "      <td>False</td>\n",
       "    </tr>\n",
       "    <tr>\n",
       "      <th>32859</th>\n",
       "      <td>ZYG11A</td>\n",
       "      <td>ENSG00000203995</td>\n",
       "      <td>0.039046</td>\n",
       "      <td>0.219098</td>\n",
       "      <td>0.180052</td>\n",
       "      <td>increase</td>\n",
       "      <td>1.679534</td>\n",
       "      <td>False</td>\n",
       "    </tr>\n",
       "    <tr>\n",
       "      <th>32861</th>\n",
       "      <td>ZYG11B</td>\n",
       "      <td>ENSG00000162378</td>\n",
       "      <td>0.252818</td>\n",
       "      <td>0.291435</td>\n",
       "      <td>0.038617</td>\n",
       "      <td>increase</td>\n",
       "      <td>0.326676</td>\n",
       "      <td>False</td>\n",
       "    </tr>\n",
       "    <tr>\n",
       "      <th>32863</th>\n",
       "      <td>ZZEF1</td>\n",
       "      <td>ENSG00000074755</td>\n",
       "      <td>0.280583</td>\n",
       "      <td>0.275600</td>\n",
       "      <td>-0.004983</td>\n",
       "      <td>decrease</td>\n",
       "      <td>-0.090362</td>\n",
       "      <td>False</td>\n",
       "    </tr>\n",
       "    <tr>\n",
       "      <th>32864</th>\n",
       "      <td>ZZZ3</td>\n",
       "      <td>ENSG00000036549</td>\n",
       "      <td>0.218001</td>\n",
       "      <td>0.312436</td>\n",
       "      <td>0.094435</td>\n",
       "      <td>increase</td>\n",
       "      <td>0.860588</td>\n",
       "      <td>False</td>\n",
       "    </tr>\n",
       "  </tbody>\n",
       "</table>\n",
       "<p>17626 rows × 8 columns</p>\n",
       "</div>"
      ]
     },
     "execution_count": 20,
     "metadata": {},
     "output_type": "execute_result"
    }
   ],
   "execution_count": 20
  },
  {
   "metadata": {},
   "cell_type": "markdown",
   "source": "## Save",
   "id": "a7c449732d96a18c"
  },
  {
   "metadata": {
    "ExecuteTime": {
     "end_time": "2024-10-01T14:30:09.639356Z",
     "start_time": "2024-10-01T14:30:09.552543Z"
    }
   },
   "cell_type": "code",
   "source": "df_nodes_genes.to_csv('../processed_data/nodes_genes.csv', index=False)",
   "id": "3643344b702567c5",
   "outputs": [],
   "execution_count": 21
  },
  {
   "metadata": {
    "ExecuteTime": {
     "end_time": "2024-10-01T14:30:09.644520Z",
     "start_time": "2024-10-01T14:30:09.640364Z"
    }
   },
   "cell_type": "code",
   "source": "print(f\"There are {df_nodes_genes.shape[0]} rows as gene nodes.\")",
   "id": "49277d4df228ae59",
   "outputs": [
    {
     "name": "stdout",
     "output_type": "stream",
     "text": [
      "There are 17626 rows as gene nodes.\n"
     ]
    }
   ],
   "execution_count": 22
  }
 ],
 "metadata": {
  "kernelspec": {
   "display_name": "Python 3",
   "language": "python",
   "name": "python3"
  },
  "language_info": {
   "codemirror_mode": {
    "name": "ipython",
    "version": 2
   },
   "file_extension": ".py",
   "mimetype": "text/x-python",
   "name": "python",
   "nbconvert_exporter": "python",
   "pygments_lexer": "ipython2",
   "version": "2.7.6"
  }
 },
 "nbformat": 4,
 "nbformat_minor": 5
}
