{
 "cells": [
  {
   "cell_type": "code",
   "id": "initial_id",
   "metadata": {
    "collapsed": true
   },
   "source": [
    "import config\n",
    "import time\n",
    "\n",
    "import pandas as pd\n",
    "import matplotlib.pyplot as plt\n",
    "import dataframe_image as dfi\n",
    "import numpy as np\n",
    "\n",
    "from neo4j import GraphDatabase"
   ],
   "outputs": [],
   "execution_count": null
  },
  {
   "metadata": {},
   "cell_type": "code",
   "source": [
    "# set up connection\n",
    "driver = GraphDatabase.driver(config.uri, auth=(config.user, config.password), encrypted=False)\n",
    "\n",
    "# Check if connection did work\n",
    "def check_connectivity(driver):\n",
    "    try:\n",
    "        with driver.session() as session:\n",
    "            result = session.run(\"RETURN 1 as result\")\n",
    "            record = result.single()\n",
    "            if record and record[\"result\"] == 1:\n",
    "                return True\n",
    "            else:\n",
    "                print('False')\n",
    "                return False\n",
    "    except Exception as e:\n",
    "        return False\n",
    "\n",
    "\n",
    "if check_connectivity(driver):\n",
    "    print(\"Verbindung erfolgreich hergestellt.\")\n",
    "else:\n",
    "    print(\"Fehler bei der Verbindungsherstellung.\")"
   ],
   "id": "f2e75094ebca1d4e",
   "outputs": [],
   "execution_count": null
  },
  {
   "metadata": {},
   "cell_type": "markdown",
   "source": [
    "# Graph Database Algorithm\n",
    "\n",
    "## Projection"
   ],
   "id": "65ed7860f618b828"
  },
  {
   "metadata": {},
   "cell_type": "code",
   "source": [
    "def drop_projection() -> None:\n",
    "    \"\"\"\n",
    "    Drop the projection of the graph.\n",
    "    \"\"\"\n",
    "    with driver.session() as session:\n",
    "        drop_projection_query = \"CALL gds.graph.drop('gene_protein_graph')\"\n",
    "        \n",
    "        session.run(drop_projection_query)\n",
    "        print(\"Projection dropped.\")\n",
    "\n",
    "def create_projection() -> None:\n",
    "    \"\"\"\n",
    "    Create a projection of the graph for the gene and protein nodes.\n",
    "    \"\"\"\n",
    "    with driver.session() as session:\n",
    "        projection_query = \"\"\"\n",
    "        CALL gds.graph.project(\n",
    "            'gene_protein_graph',\n",
    "            {\n",
    "                gene: {\n",
    "                    label: 'gene'\n",
    "                },\n",
    "                protein: {\n",
    "                    label: 'protein'\n",
    "                }\n",
    "            },\n",
    "            {\n",
    "                interaction: {\n",
    "                    type: 'interaction',\n",
    "                    orientation: 'UNDIRECTED'\n",
    "                },\n",
    "                connection: {\n",
    "                    type: 'connection',\n",
    "                    orientation: 'UNDIRECTED'\n",
    "                }\n",
    "            }\n",
    "        )\n",
    "        \"\"\"\n",
    "        \n",
    "        session.run(projection_query)\n",
    "        print(\"Graph projection created.\")\n",
    "\n",
    "# drop_projection()\n",
    "create_projection()"
   ],
   "id": "a6b379c512c6b5ac",
   "outputs": [],
   "execution_count": null
  },
  {
   "metadata": {},
   "cell_type": "markdown",
   "source": "## Helper Functions",
   "id": "789c726a43338394"
  },
  {
   "metadata": {},
   "cell_type": "code",
   "source": [
    "def drop_protein_nodes(df) -> pd.DataFrame:\n",
    "    \"\"\"\n",
    "    Drop the protein nodes from the dataframe.\n",
    "    :param df: The dataframe with the protein nodes.\n",
    "    \"\"\"\n",
    "    return df[~df[\"Gene_ID\"].str.contains(\"ENSP\")]"
   ],
   "id": "159d9de4972191ae",
   "outputs": [],
   "execution_count": null
  },
  {
   "metadata": {},
   "cell_type": "markdown",
   "source": "## Pagerank",
   "id": "f20f9f0c02d7ed4d"
  },
  {
   "metadata": {},
   "cell_type": "code",
   "source": [
    "def run_pagerank() -> pd.DataFrame:\n",
    "    \"\"\"\n",
    "    Pagerank algorithm performed on the genes.\n",
    "    :return: \n",
    "    \"\"\"\n",
    "    with driver.session() as session:\n",
    "        query = \"\"\"\n",
    "        CALL gds.pageRank.stream('gene_protein_graph')\n",
    "        YIELD nodeId, score\n",
    "        RETURN gds.util.asNode(nodeId).id AS Gene_ID,\n",
    "               gds.util.asNode(nodeId).gene_name AS Gene_Name,\n",
    "               score, \n",
    "               gds.util.asNode(nodeId).Δ_TPM AS Δ_TPM,\n",
    "               gds.util.asNode(nodeId).Δ_TPM_relevant AS Δ_TPM_relevant\n",
    "        ORDER BY score DESC\n",
    "        \"\"\"\n",
    "    \n",
    "        result = session.run(query)\n",
    "        \n",
    "        df_results = pd.DataFrame([dict(record) for record in result], columns=result.keys())\n",
    "        df_results = drop_protein_nodes(df_results)\n",
    "        \n",
    "        df_results[\"score\"] = df_results[\"score\"].round(3)\n",
    "    \n",
    "        return df_results\n",
    "\n",
    "start = time.time()\n",
    "\n",
    "df_pagerank = run_pagerank()\n",
    "\n",
    "end = time.time()\n",
    "print(f\"Time taken: {round(end - start, 0)} seconds.\")"
   ],
   "id": "d5b59a6317fc5c3c",
   "outputs": [],
   "execution_count": null
  },
  {
   "metadata": {},
   "cell_type": "code",
   "source": [
    "print(\"Only genes nodes:\")\n",
    "df_pagerank.head(100)"
   ],
   "id": "14b09ce8c1cd8f56",
   "outputs": [],
   "execution_count": null
  },
  {
   "metadata": {},
   "cell_type": "code",
   "source": [
    "plt.hist(df_pagerank[\"score\"], bins=100)\n",
    "plt.xlabel(\"Pagerank Score\")\n",
    "plt.ylabel(\"Frequency\")\n",
    "plt.title(\"Histogram of Pagerank Scores for genes\")\n",
    "\n",
    "plt.savefig('../tex/figures/04_hist_pagerank.png')\n",
    "plt.show()"
   ],
   "id": "8a9d3e6679bcb2ef",
   "outputs": [],
   "execution_count": null
  },
  {
   "metadata": {},
   "cell_type": "markdown",
   "source": "### Relevant Genes",
   "id": "6884dcd91f14d533"
  },
  {
   "metadata": {},
   "cell_type": "code",
   "source": [
    "print(\"Only genes with cancer active nodes:\")\n",
    "df_pagerank_relevant = df_pagerank.where(df_pagerank[\"Δ_TPM_relevant\"] == True).dropna()\n",
    "\n",
    "# save the dataframe as an image\n",
    "dfi.export(df_pagerank_relevant.reset_index(drop=True).head(10), '../tex/figures/03_03_df_pagerank_relevant.png')\n",
    "\n",
    "df_pagerank_relevant.head(10)"
   ],
   "id": "bbb47d3b81360b70",
   "outputs": [],
   "execution_count": null
  },
  {
   "metadata": {},
   "cell_type": "code",
   "source": [
    "plt.hist(df_pagerank_relevant[\"score\"], bins=100)\n",
    "plt.xlabel(\"Pagerank Score\")\n",
    "plt.ylabel(\"Frequency\")\n",
    "plt.title(\"Histogram of Pagerank Scores for relevant genes\")\n",
    "\n",
    "# highlight the top 10 genes\n",
    "min = df_pagerank_relevant[\"score\"].head(10).min()\n",
    "max = df_pagerank_relevant[\"score\"].head(10).max()\n",
    "plt.axvspan(min, max, color='r', alpha=0.2)\n",
    "\n",
    "plt.savefig('../tex/figures/04_hist_pagerank_relevant.png')\n",
    "plt.show()"
   ],
   "id": "35f20886a73d675",
   "outputs": [],
   "execution_count": null
  },
  {
   "metadata": {},
   "cell_type": "code",
   "source": [
    "# Statistics\n",
    "mean_score = df_pagerank_relevant[\"score\"].mean()\n",
    "median_score = df_pagerank_relevant[\"score\"].median()\n",
    "percentiles = np.percentile(df_pagerank_relevant[\"score\"], [25, 50, 75, 90, 95, 99])\n",
    "max_score = df_pagerank_relevant[\"score\"].max()\n",
    "\n",
    "# Ergebnisse ausgeben\n",
    "print(f\"Mean of Pagerank Scores: {mean_score:.2f}\")\n",
    "print(f\"Median of Pagerank Scores: {median_score:.2f}\")\n",
    "print(f\"25th Percentile: {percentiles[0]:.2f}\")\n",
    "print(f\"50th Percentile (Median): {percentiles[1]:.2f}\")\n",
    "print(f\"75th Percentile: {percentiles[2]:.2f}\")\n",
    "print(f\"90th Percentile: {percentiles[3]:.2f}\")\n",
    "print(f\"95th Percentile: {percentiles[4]:.2f}\")\n",
    "print(f\"99th Percentile: {percentiles[5]:.2f}\")\n",
    "print(f\"Maximum Pagerank Score: {max_score:.2f}\")"
   ],
   "id": "5fff363422be13fd",
   "outputs": [],
   "execution_count": null
  },
  {
   "metadata": {},
   "cell_type": "code",
   "source": [
    "# lowest Pagerank score - gene with a single protein\n",
    "lowest = df_pagerank_relevant[df_pagerank_relevant[\"score\"] == 0.151]\n",
    "print(f\"From the {df_pagerank_relevant.shape[0]} relevant genes, {lowest.shape[0]} have a minimum pagerank score of 0.151.\")\n",
    "\n",
    "lowest"
   ],
   "id": "ce2074940bc01e85",
   "outputs": [],
   "execution_count": null
  },
  {
   "metadata": {},
   "cell_type": "code",
   "source": [
    "df_nodes_genes = pd.read_csv('../processed_data/nodes_genes.csv')\n",
    "relevant_genes = df_nodes_genes[(df_nodes_genes['Δ TPM relevant'] == True)]\n",
    "\n",
    "min_significant = relevant_genes[relevant_genes['Δ TPM'] < 0]['Δ TPM'].max()\n",
    "max_significant = relevant_genes[relevant_genes['Δ TPM'] > 0]['Δ TPM'].min()\n",
    "min_delta = df_nodes_genes['Δ TPM'].min()\n",
    "max_delta = df_nodes_genes['Δ TPM'].max()"
   ],
   "id": "f7eb9ff18ea2780f",
   "outputs": [],
   "execution_count": null
  },
  {
   "metadata": {},
   "cell_type": "markdown",
   "source": "### Top 10 Genes",
   "id": "28950c02a496497d"
  },
  {
   "metadata": {},
   "cell_type": "code",
   "source": [
    "counts, bins, patches = plt.hist(df_nodes_genes['Δ TPM'], bins=100)\n",
    "plt.title('Histogram of Δ TPM')\n",
    "plt.xlabel('Δ TPM Values')\n",
    "plt.ylabel('Frequency')\n",
    "\n",
    "# highlight the relevant genes\n",
    "plt.axvspan(min_delta, min_significant, color='r', alpha=0.2)\n",
    "plt.axvspan(max_significant, max_delta, color='r', alpha=0.2)\n",
    "\n",
    "# highlight the known genes\n",
    "highlight_values = df_pagerank_relevant[\"Δ_TPM\"].head(10)\n",
    "for value in highlight_values:\n",
    "    for i in range(len(bins) - 1):\n",
    "        if bins[i] <= value < bins[i + 1]:\n",
    "            patches[i].set_facecolor('red')\n",
    "\n",
    "\n",
    "plt.savefig('../tex/figures/04_delta_tpm_relevant.png')\n",
    "plt.show()"
   ],
   "id": "9e80d317e3354153",
   "outputs": [],
   "execution_count": null
  },
  {
   "metadata": {},
   "cell_type": "markdown",
   "source": "### Known Cancer Genes",
   "id": "2d201fd5db86f95"
  },
  {
   "metadata": {},
   "cell_type": "code",
   "source": [
    "# EGFR, KRAS, MET, LKB1 = STK11 , BRAF, PIK3CA, ALK, RET, ROS1\n",
    "cancer_known_genes = [\"ALK\", \"BRAF\", \"EGFR\", \"KRAS\", \"MET\", \"PIK3CA\", \"RET\", \"ROS1\", \"STK11\"]\n",
    "\n",
    "df_known_genes = df_pagerank[df_pagerank[\"Gene_Name\"].isin(cancer_known_genes)].sort_values(\"Gene_Name\").reset_index(drop=True)\n",
    "\n",
    "dfi.export(df_known_genes, '../tex/figures/05_01_df_known_genes.png')\n",
    "\n",
    "df_known_genes"
   ],
   "id": "1bc46e32b225c5a4",
   "outputs": [],
   "execution_count": null
  },
  {
   "metadata": {},
   "cell_type": "code",
   "source": [
    "counts, bins, patches = plt.hist(df_pagerank_relevant[\"score\"], bins=100)\n",
    "plt.xlabel(\"Pagerank Score\")\n",
    "plt.ylabel(\"Frequency\")\n",
    "plt.title(\"Histogram of Pagerank Scores for relevant genes\")\n",
    "\n",
    "# highlight the top 10 genes\n",
    "min = df_pagerank_relevant[\"score\"].head(10).min()\n",
    "max = df_pagerank_relevant[\"score\"].head(10).max()\n",
    "plt.axvspan(min, max, color='r', alpha=0.2)\n",
    "\n",
    "highlight_values = df_known_genes[\"score\"]\n",
    "for value in highlight_values:\n",
    "    for i in range(len(bins) - 1):\n",
    "        if bins[i] <= value < bins[i + 1]:\n",
    "            patches[i].set_facecolor('red')\n",
    "\n",
    "\n",
    "plt.savefig('../tex/figures/05_01_pagerank_known_genes.png')\n",
    "plt.show()"
   ],
   "id": "830cb6a2ce67ed76",
   "outputs": [],
   "execution_count": null
  },
  {
   "metadata": {},
   "cell_type": "code",
   "source": [
    "counts, bins, patches = plt.hist(df_nodes_genes['Δ TPM'], bins=100)\n",
    "plt.title('Histogram of Δ TPM')\n",
    "plt.xlabel('Δ TPM Values')\n",
    "plt.ylabel('Frequency')\n",
    "\n",
    "# highlight the relevant genes\n",
    "plt.axvspan(min_delta, min_significant, color='r', alpha=0.2)\n",
    "plt.axvspan(max_significant, max_delta, color='r', alpha=0.2)\n",
    "\n",
    "# highlight the known genes\n",
    "highlight_values = df_known_genes[\"Δ_TPM\"]\n",
    "for value in highlight_values:\n",
    "    for i in range(len(bins) - 1):\n",
    "        if bins[i] <= value < bins[i + 1]:\n",
    "            patches[i].set_facecolor('red')\n",
    "\n",
    "\n",
    "plt.savefig('../tex/figures/05_01_delta_tpm_relevant.png')\n",
    "plt.show()"
   ],
   "id": "a63eb90aa4471794",
   "outputs": [],
   "execution_count": null
  }
 ],
 "metadata": {
  "kernelspec": {
   "display_name": "Python 3",
   "language": "python",
   "name": "python3"
  },
  "language_info": {
   "codemirror_mode": {
    "name": "ipython",
    "version": 2
   },
   "file_extension": ".py",
   "mimetype": "text/x-python",
   "name": "python",
   "nbconvert_exporter": "python",
   "pygments_lexer": "ipython2",
   "version": "2.7.6"
  }
 },
 "nbformat": 4,
 "nbformat_minor": 5
}
