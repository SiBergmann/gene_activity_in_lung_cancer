{
 "cells": [
  {
   "cell_type": "markdown",
   "id": "a9e4df532ebdb1ce",
   "metadata": {},
   "source": "# Header\n"
  },
  {
   "cell_type": "code",
   "id": "d014d2dfde80ed9a",
   "metadata": {
    "ExecuteTime": {
     "end_time": "2024-09-20T12:02:32.723726Z",
     "start_time": "2024-09-20T12:02:31.508444Z"
    }
   },
   "source": [
    "import config\n",
    "import time\n",
    "\n",
    "import pandas as pd\n",
    "\n",
    "from neo4j import GraphDatabase"
   ],
   "outputs": [],
   "execution_count": 1
  },
  {
   "cell_type": "code",
   "id": "initial_id",
   "metadata": {
    "collapsed": true,
    "ExecuteTime": {
     "end_time": "2024-09-20T12:02:34.347631Z",
     "start_time": "2024-09-20T12:02:32.727393Z"
    }
   },
   "source": [
    "# set up connection\n",
    "driver = GraphDatabase.driver(config.uri, auth=(config.user, config.password), encrypted=False)\n",
    "\n",
    "# Check if connection did work\n",
    "def check_connectivity(driver):\n",
    "    try:\n",
    "        with driver.session() as session:\n",
    "            result = session.run(\"RETURN 1 as result\")\n",
    "            record = result.single()\n",
    "            if record and record[\"result\"] == 1:\n",
    "                return True\n",
    "            else:\n",
    "                print('False')\n",
    "                return False\n",
    "    except Exception as e:\n",
    "        return False\n",
    "\n",
    "\n",
    "if check_connectivity(driver):\n",
    "    print(\"Verbindung erfolgreich hergestellt.\")\n",
    "else:\n",
    "    print(\"Fehler bei der Verbindungsherstellung.\")"
   ],
   "outputs": [
    {
     "name": "stdout",
     "output_type": "stream",
     "text": [
      "Verbindung erfolgreich hergestellt.\n"
     ]
    }
   ],
   "execution_count": 2
  },
  {
   "metadata": {},
   "cell_type": "markdown",
   "source": [
    "## Indexing of Database\n",
    "### Delete Database Edges and Nodes"
   ],
   "id": "65291455aad80233"
  },
  {
   "metadata": {
    "ExecuteTime": {
     "end_time": "2024-09-20T12:02:34.373264Z",
     "start_time": "2024-09-20T12:02:34.350651Z"
    }
   },
   "cell_type": "code",
   "source": [
    "# Delete Nodes for Genes\n",
    "def delete_gene_nodes(batch_size = 10000):\n",
    "    with driver.session() as session:\n",
    "        result = session.run(\"MATCH (n:gene) RETURN n.id AS id\")\n",
    "        node_ids = [record[\"id\"] for record in result]\n",
    "    \n",
    "        for i in range(0, len(node_ids), batch_size):\n",
    "            batch = node_ids[i:i + batch_size]\n",
    "            session.run(\"\"\"\n",
    "            UNWIND $batch AS id\n",
    "            MATCH (n:gene {id: id})\n",
    "            DETACH DELETE n\n",
    "            \"\"\", batch=batch)\n",
    "    \n",
    "            now = time.strftime(\"%H:%M:%S\", time.localtime())\n",
    "            print(f\"{now}\\tBatch {i // batch_size + 1} of {len(node_ids) // batch_size + 1} complete\")\n",
    "            \n",
    "# Takes too long - if everything should be deleted, delete the docker container         \n",
    "\"\"\"def delete_protein_nodes(batch_size=10000):\n",
    "    with driver.session() as session:\n",
    "        while True:\n",
    "            # Knoten direkt in Batches laden und löschen\n",
    "            result = session.run(f\"\n",
    "                MATCH (n:protein)\n",
    "                WITH n LIMIT $batch_size\n",
    "                DETACH DELETE n\n",
    "                RETURN count(n) as deleted_count\n",
    "            \", batch_size=batch_size)\n",
    "\n",
    "            # Die Anzahl der gelöschten Knoten auslesen\n",
    "            deleted_count = result.single()[\"deleted_count\"]\n",
    "\n",
    "            # Batch-Informationen ausgeben\n",
    "            now = time.strftime(\"%H:%M:%S\", time.localtime())\n",
    "            print(f\"{now}\\tBatch complete, {deleted_count} nodes deleted\")\n",
    "\n",
    "            # Wenn keine Knoten mehr gelöscht wurden, beende die Schleife\n",
    "            if deleted_count == 0:\n",
    "                break\"\"\""
   ],
   "id": "6c42bee86bbc8e8f",
   "outputs": [
    {
     "data": {
      "text/plain": [
       "'def delete_protein_nodes(batch_size=10000):\\n    with driver.session() as session:\\n        while True:\\n            # Knoten direkt in Batches laden und löschen\\n            result = session.run(f\"\\n                MATCH (n:protein)\\n                WITH n LIMIT $batch_size\\n                DETACH DELETE n\\n                RETURN count(n) as deleted_count\\n            \", batch_size=batch_size)\\n\\n            # Die Anzahl der gelöschten Knoten auslesen\\n            deleted_count = result.single()[\"deleted_count\"]\\n\\n            # Batch-Informationen ausgeben\\n            now = time.strftime(\"%H:%M:%S\", time.localtime())\\n            print(f\"{now}\\tBatch complete, {deleted_count} nodes deleted\")\\n\\n            # Wenn keine Knoten mehr gelöscht wurden, beende die Schleife\\n            if deleted_count == 0:\\n                break'"
      ]
     },
     "execution_count": 3,
     "metadata": {},
     "output_type": "execute_result"
    }
   ],
   "execution_count": 3
  },
  {
   "metadata": {
    "ExecuteTime": {
     "end_time": "2024-09-20T12:02:54.195617Z",
     "start_time": "2024-09-20T12:02:34.377277Z"
    }
   },
   "cell_type": "code",
   "source": [
    "\"\"\"## DELETES Nodes and Edges\n",
    "delete_gene_nodes()\n",
    "print(\"Delete Gene Nodes done.\")\"\"\""
   ],
   "id": "effd126bce9508e8",
   "outputs": [
    {
     "name": "stdout",
     "output_type": "stream",
     "text": [
      "14:02:41\tBatch 1 of 4 complete\n",
      "14:02:45\tBatch 2 of 4 complete\n",
      "14:02:49\tBatch 3 of 4 complete\n",
      "14:02:52\tBatch 4 of 4 complete\n",
      "Delete Gene Nodes done.\n"
     ]
    }
   ],
   "execution_count": 4
  },
  {
   "metadata": {},
   "cell_type": "markdown",
   "source": "## Load Data as Dataframes\n",
   "id": "f0d27a6898bbfc13"
  },
  {
   "metadata": {
    "ExecuteTime": {
     "end_time": "2024-09-20T12:06:52.193418Z",
     "start_time": "2024-09-20T12:06:45.868328Z"
    }
   },
   "cell_type": "code",
   "source": [
    "df_nodes_gene = pd.read_csv('../processed_data/nodes_genes.csv')\n",
    "df_nodes_protein = pd.read_csv('../processed_data/nodes_protein.csv')\n",
    "\n",
    "df_edges_protein = pd.read_csv('../processed_data/edges_protein.csv')\n",
    "df_edges_protein_gene = pd.read_csv('../processed_data/edges_protein_gene.csv')"
   ],
   "id": "f0702306a3a88cd2",
   "outputs": [],
   "execution_count": 8
  },
  {
   "metadata": {
    "ExecuteTime": {
     "end_time": "2024-09-16T08:15:23.185235Z",
     "start_time": "2024-09-16T08:15:23.182138Z"
    }
   },
   "cell_type": "code",
   "source": [
    "# Measure the time\n",
    "start_time = time.time()"
   ],
   "id": "305ffce5c7d65436",
   "outputs": [],
   "execution_count": 6
  },
  {
   "metadata": {},
   "cell_type": "markdown",
   "source": [
    "## Proteins\n",
    "### Protein Nodes\n",
    "\n",
    "**CYPHER QUERY:**\n",
    "```\n",
    "CREATE (p:protein {id: 'Protein stable ID'})\n",
    "```\n",
    "\n",
    "**Node-Types:**\n",
    "* protein\n",
    "\t\n",
    "\n",
    "**Node-Properties:**\n",
    "* id"
   ],
   "id": "35581a1d9aa56ca2"
  },
  {
   "metadata": {
    "ExecuteTime": {
     "end_time": "2024-09-16T08:15:23.270620Z",
     "start_time": "2024-09-16T08:15:23.186285Z"
    }
   },
   "cell_type": "code",
   "source": [
    "with driver.session() as session:\n",
    "    query = \"\"\"CREATE INDEX IF NOT EXISTS FOR (p:protein) ON (p.id)\"\"\"\n",
    "    \n",
    "    session.run(query)"
   ],
   "id": "cc9b28294d0d356f",
   "outputs": [],
   "execution_count": 7
  },
  {
   "metadata": {
    "ExecuteTime": {
     "end_time": "2024-09-16T08:15:23.274323Z",
     "start_time": "2024-09-16T08:15:23.270620Z"
    }
   },
   "cell_type": "code",
   "source": "print(f\"There are {df_nodes_protein.shape[0]} Protein nodes\")",
   "id": "8eb9bde9549f1c59",
   "outputs": [
    {
     "name": "stdout",
     "output_type": "stream",
     "text": [
      "There are 101731 Protein nodes\n"
     ]
    }
   ],
   "execution_count": 8
  },
  {
   "metadata": {
    "ExecuteTime": {
     "end_time": "2024-09-16T08:15:28.317942Z",
     "start_time": "2024-09-16T08:15:23.274323Z"
    }
   },
   "cell_type": "code",
   "source": [
    "data = [{'id': row['Protein stable ID']} for index, row in df_nodes_protein.iterrows()]\n",
    "\n",
    "with driver.session() as session:\n",
    "    batch_size = 500\n",
    "    for i in range(0, len(data), batch_size):\n",
    "        batch = data[i:i + batch_size]\n",
    "\n",
    "        query = \"\"\"\n",
    "        UNWIND $batch AS row\n",
    "        CREATE (p:protein {id: row.id})\n",
    "        \"\"\"\n",
    "\n",
    "        # Batch als Parameter übergeben\n",
    "        session.run(query, batch=batch)\n",
    "\n",
    "        if i % 50000 == 0:\n",
    "            now = time.strftime(\"%H:%M:%S\", time.localtime())\n",
    "            print(f\"{now}\\tBatch {i // batch_size + 1} of {len(data) // batch_size + 1} complete\")\n",
    "\n",
    "print(\"done!!\")"
   ],
   "id": "67b22713a9c622b1",
   "outputs": [
    {
     "name": "stdout",
     "output_type": "stream",
     "text": [
      "10:15:25\tBatch 1 of 204 complete\n",
      "10:15:27\tBatch 101 of 204 complete\n",
      "10:15:28\tBatch 201 of 204 complete\n",
      "done!!\n"
     ]
    }
   ],
   "execution_count": 9
  },
  {
   "metadata": {},
   "cell_type": "markdown",
   "source": [
    "### Protein-Protein Edges\n",
    "Every Edge is a Interaction between two Proteins.\n",
    "Interaction type is not defined further.\n",
    "\n",
    "\n",
    "**Cypher Query:**\n",
    "``` \n",
    "MATCH (s:protein{id:'protein1'})\n",
    "MATCH (s:protein{id:'protein2'})\n",
    "CREATE (s)-[:INTERACTS]->(t)\n",
    "```\n",
    "\n",
    "**Edge-Types:**\n",
    "* Interaction"
   ],
   "id": "db69752a7762c120"
  },
  {
   "metadata": {
    "ExecuteTime": {
     "end_time": "2024-09-16T08:15:28.322194Z",
     "start_time": "2024-09-16T08:15:28.317942Z"
    }
   },
   "cell_type": "code",
   "source": "print(f\"There are {df_edges_protein.shape[0]} Protein-Protein Interactions\")",
   "id": "b72836bcfe6b3728",
   "outputs": [
    {
     "name": "stdout",
     "output_type": "stream",
     "text": [
      "There are 11247242 Protein-Protein Interactions\n"
     ]
    }
   ],
   "execution_count": 10
  },
  {
   "metadata": {
    "ExecuteTime": {
     "end_time": "2024-09-16T08:18:41.712533Z",
     "start_time": "2024-09-16T08:15:28.322194Z"
    }
   },
   "cell_type": "code",
   "source": [
    "protein1 = df_edges_protein['protein1'].tolist()\n",
    "protein2 = df_edges_protein['protein2'].tolist()\n",
    "data = list(zip(protein1, protein2))\n",
    "\n",
    "\n",
    "with driver.session() as session:\n",
    "    batch_size = 1000000\n",
    "\n",
    "    \n",
    "    for i in range(0, len(data), batch_size):\n",
    "        batch = data[i:i + batch_size]\n",
    "\n",
    "        query = \"\"\"\n",
    "        UNWIND $batch AS row\n",
    "        MATCH (s:protein{id:row[0]})\n",
    "        MATCH (t:protein{id:row[1]})\n",
    "        CREATE (s)-[:INTERACTS]->(t)\n",
    "        \"\"\"\n",
    "\n",
    "        session.run(query, batch=batch)\n",
    "\n",
    "        if i % batch_size == 0:\n",
    "            now = time.strftime(\"%H:%M:%S\", time.localtime())\n",
    "            print(f\"{now}\\tBatch {i // batch_size + 1} of {len(data) // batch_size + 1} complete\")\n",
    "    \n",
    "print(\"done!!\")"
   ],
   "id": "5aba74b9efe2dde3",
   "outputs": [
    {
     "name": "stdout",
     "output_type": "stream",
     "text": [
      "10:15:51\tBatch 1 of 12 complete\n",
      "10:16:09\tBatch 2 of 12 complete\n",
      "10:16:27\tBatch 3 of 12 complete\n",
      "10:16:46\tBatch 4 of 12 complete\n",
      "10:17:02\tBatch 5 of 12 complete\n",
      "10:17:18\tBatch 6 of 12 complete\n",
      "10:17:33\tBatch 7 of 12 complete\n",
      "10:17:48\tBatch 8 of 12 complete\n",
      "10:18:04\tBatch 9 of 12 complete\n",
      "10:18:19\tBatch 10 of 12 complete\n",
      "10:18:34\tBatch 11 of 12 complete\n",
      "10:18:40\tBatch 12 of 12 complete\n",
      "done!!\n"
     ]
    }
   ],
   "execution_count": 11
  },
  {
   "metadata": {},
   "cell_type": "markdown",
   "source": [
    "## Genes\n",
    "### Gene Nodes\n",
    "\n",
    "**CYPHER QUERY:**\n",
    "```\n",
    "CREATE (p:gene: { \n",
    "    id: id, \n",
    "    gene_name: gene_name,\n",
    "    norm_healthy_tpm: norm_healthy_tpm,\n",
    "    norm_lung_cancer_tpm: norm_lung_cancer_tpm,\n",
    "    delta_tpm: delta_tpm,\n",
    "    cancer_active: cancer_active})\n",
    "```\n",
    "\n",
    "**Node-Types:**\n",
    "* gene\n",
    "\t\n",
    "\n",
    "**Node-Properties:**\n",
    "* id\n",
    "* name\n",
    "* lung_cancer_tpm\n",
    "* healthy_tpm\n",
    "* tmp_difference\n",
    "* cancer_active\n"
   ],
   "id": "50e8355fafa75b52"
  },
  {
   "metadata": {
    "ExecuteTime": {
     "end_time": "2024-09-20T12:07:01.262839Z",
     "start_time": "2024-09-20T12:07:01.243736Z"
    }
   },
   "cell_type": "code",
   "source": [
    "with driver.session() as session:\n",
    "    query = \"\"\"CREATE INDEX IF NOT EXISTS FOR (p:gene) ON (p.id)\"\"\"\n",
    "    \n",
    "    session.run(query)"
   ],
   "id": "91a0b969c602c821",
   "outputs": [],
   "execution_count": 9
  },
  {
   "metadata": {
    "ExecuteTime": {
     "end_time": "2024-09-20T12:07:03.082275Z",
     "start_time": "2024-09-20T12:07:03.074128Z"
    }
   },
   "cell_type": "code",
   "source": "print(f\"There are {df_nodes_gene.shape[0]} Gene nodes\")",
   "id": "7bea719dd353607c",
   "outputs": [
    {
     "name": "stdout",
     "output_type": "stream",
     "text": [
      "There are 32865 Gene nodes\n"
     ]
    }
   ],
   "execution_count": 10
  },
  {
   "metadata": {
    "ExecuteTime": {
     "end_time": "2024-09-20T12:07:45.424222Z",
     "start_time": "2024-09-20T12:07:36.720274Z"
    }
   },
   "cell_type": "code",
   "source": [
    "data = [{'id': row['id'], \n",
    "         'gene_name': row['name'],\n",
    "         'norm_healthy_tpm': row['norm healthy tpm'],\n",
    "         'norm_cancerous_tpm': row['norm cancerous tpm'],\n",
    "         'delta_tpm': row['delta tpm'],\n",
    "         'delta_type': row['delta type'],\n",
    "         'delta_tpm_relevant': row['delta tpm relevant']} \n",
    "        for index, row in df_nodes_gene.iterrows()]\n",
    "\n",
    "with driver.session() as session:\n",
    "    batch_size = 1000\n",
    "    \n",
    "    for i in range(0, len(data), batch_size):\n",
    "        batch = data[i:i + batch_size]\n",
    "        \n",
    "        query = \"\"\"\n",
    "        UNWIND $batch AS row\n",
    "        CREATE (p:gene {\n",
    "            id: row.id, \n",
    "            gene_name: row.gene_name,\n",
    "            norm_healthy_tpm: row.norm_healthy_tpm,\n",
    "            norm_cancerous_tpm: row.norm_cancerous_tpm,\n",
    "            delta_tpm: row.delta_tpm,\n",
    "            delta_type: row.delta_type,\n",
    "            delta_tpm_relevant: row.delta_tpm_relevant})\n",
    "        \"\"\"\n",
    "        \n",
    "        session.run(query, batch=batch)\n",
    "            \n",
    "        if i % 10000 == 0:\n",
    "            now = time.strftime(\"%H:%M:%S\", time.localtime())\n",
    "            print(f\"{now}\\tBatch {i // batch_size + 1} of {len(data) // batch_size + 1} complete\")\n",
    "            \n",
    "print(\"done!!\")"
   ],
   "id": "a8e21fd54aa7165f",
   "outputs": [
    {
     "name": "stdout",
     "output_type": "stream",
     "text": [
      "14:07:39\tBatch 1 of 33 complete\n",
      "14:07:41\tBatch 11 of 33 complete\n",
      "14:07:43\tBatch 21 of 33 complete\n",
      "14:07:45\tBatch 31 of 33 complete\n",
      "done!!\n"
     ]
    }
   ],
   "execution_count": 12
  },
  {
   "metadata": {},
   "cell_type": "markdown",
   "source": [
    "### Protein-Gene Edges\n",
    "Every Edge is a Connection between a Protein and a gene.\n",
    "Interaction type is not defined further.\n",
    "\n",
    "\n",
    "**Cypher Query:**\n",
    "``` \n",
    "MATCH (s:protein{id:'id'})\n",
    "MATCH (s:gene{id:'id'})\n",
    "CREATE (s)-[:CONNECTION]-(t)\n",
    "```\n",
    "\n",
    "**Edge-Types:**\n",
    "* Connection"
   ],
   "id": "1efd755680a75535"
  },
  {
   "metadata": {
    "ExecuteTime": {
     "end_time": "2024-09-20T12:07:58.859935Z",
     "start_time": "2024-09-20T12:07:58.850509Z"
    }
   },
   "cell_type": "code",
   "source": "print(f\"There are {df_edges_protein_gene.shape[0]} Protein-Gene connections\")",
   "id": "58327f2a9ad5e26c",
   "outputs": [
    {
     "name": "stdout",
     "output_type": "stream",
     "text": [
      "There are 101731 Protein-Gene connections\n"
     ]
    }
   ],
   "execution_count": 13
  },
  {
   "metadata": {
    "ExecuteTime": {
     "end_time": "2024-09-20T12:08:23.914033Z",
     "start_time": "2024-09-20T12:08:00.449664Z"
    }
   },
   "cell_type": "code",
   "source": [
    "data = [{'Protein stable ID': row['Protein stable ID'], \n",
    "         'Gene stable ID': row['Gene stable ID']} \n",
    "        for index, row in df_edges_protein_gene.iterrows()]\n",
    "\n",
    "with driver.session() as session:\n",
    "    batch_size = 100000\n",
    "    \n",
    "    for i in range(0, len(data), batch_size):\n",
    "        batch = data[i:i + batch_size]\n",
    "        \n",
    "        query = \"\"\"\n",
    "        UNWIND $batch AS row\n",
    "        MATCH (s:protein{id:row['Protein stable ID']})\n",
    "        MATCH (t:gene{id:row['Gene stable ID']})\n",
    "        CREATE (s)-[:CONNECTION]->(t)\n",
    "        \"\"\"\n",
    "        \n",
    "        session.run(query, batch=batch)\n",
    "        \n",
    "        if i % batch_size == 0:\n",
    "            now = time.strftime(\"%H:%M:%S\", time.localtime())\n",
    "            print(f\"{now}\\tBatch {i // batch_size + 1} of {len(data) // batch_size + 1} complete\")\n",
    "\n",
    "print(\"done!!\")"
   ],
   "id": "6c7f94a58735ccc3",
   "outputs": [
    {
     "name": "stdout",
     "output_type": "stream",
     "text": [
      "14:08:16\tBatch 1 of 2 complete\n",
      "14:08:23\tBatch 2 of 2 complete\n",
      "done!!\n"
     ]
    }
   ],
   "execution_count": 14
  },
  {
   "metadata": {
    "ExecuteTime": {
     "end_time": "2024-09-16T08:18:50.500252Z",
     "start_time": "2024-09-16T08:18:50.495861Z"
    }
   },
   "cell_type": "code",
   "source": [
    "# Measure the time\n",
    "end_time = time.time()\n",
    "\n",
    "print(f\"Time elapsed in seconds:\\t{end_time - start_time}\")\n",
    "print(f\"Time elapsed in minutes:\\t{(end_time - start_time) / 60}\")"
   ],
   "id": "379a83da404dc28e",
   "outputs": [
    {
     "name": "stdout",
     "output_type": "stream",
     "text": [
      "Time elapsed in seconds:\t207.3143174648285\n",
      "Time elapsed in minutes:\t3.4552386244138082\n"
     ]
    }
   ],
   "execution_count": 17
  },
  {
   "cell_type": "markdown",
   "id": "b4afcd13089369b3",
   "metadata": {},
   "source": []
  }
 ],
 "metadata": {
  "kernelspec": {
   "display_name": "Python 3 (ipykernel)",
   "language": "python",
   "name": "python3"
  },
  "language_info": {
   "codemirror_mode": {
    "name": "ipython",
    "version": 3
   },
   "file_extension": ".py",
   "mimetype": "text/x-python",
   "name": "python",
   "nbconvert_exporter": "python",
   "pygments_lexer": "ipython3",
   "version": "3.10.9"
  }
 },
 "nbformat": 4,
 "nbformat_minor": 5
}
