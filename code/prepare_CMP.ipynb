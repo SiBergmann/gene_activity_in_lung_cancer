{
 "cells": [
  {
   "metadata": {
    "ExecuteTime": {
     "end_time": "2024-11-27T14:53:38.389387Z",
     "start_time": "2024-11-27T14:53:38.381678Z"
    }
   },
   "cell_type": "code",
   "source": [
    "import pandas as pd\n",
    "import dataframe_image as dfi"
   ],
   "id": "fbc121e30a2defb3",
   "outputs": [],
   "execution_count": 8
  },
  {
   "metadata": {},
   "cell_type": "markdown",
   "source": [
    "## Model infos for cancer type\n",
    "loaded from Model Annotation → list of all annotated models\n",
    "\n",
    "Needed for filtering `all data` for lung cancer"
   ],
   "id": "7b236dfa41d3952"
  },
  {
   "metadata": {
    "ExecuteTime": {
     "end_time": "2024-11-27T14:53:38.505953Z",
     "start_time": "2024-11-27T14:53:38.408955Z"
    }
   },
   "cell_type": "code",
   "source": [
    "file = \"../import_data/CMP/model_list_20240110.csv\"\n",
    "\n",
    "# load data\n",
    "df_model_info = pd.read_csv(file, delimiter=',', usecols=['model_id', 'tissue', 'cancer_type', 'tissue_status', 'cancer_type_detail'])\n",
    "\n",
    "\n",
    "# filter for lung cancer\n",
    "lung_cancer = ['Small Cell Lung Carcinoma', 'Non-Small Cell Lung Carcinoma', 'Squamous Cell Lung Carcinoma']\n",
    "df_model_info_lung = df_model_info.where(df_model_info[\"cancer_type\"].isin(lung_cancer)).dropna()\n",
    "\n",
    "df_model_info_lung.head(5)"
   ],
   "id": "e949a7a6a1475a15",
   "outputs": [
    {
     "data": {
      "text/plain": [
       "     model_id tissue                    cancer_type tissue_status  \\\n",
       "13  SIDM01387   Lung      Small Cell Lung Carcinoma    Metastasis   \n",
       "18  SIDM00990   Lung  Non-Small Cell Lung Carcinoma    Metastasis   \n",
       "20  SIDM00019   Lung  Non-Small Cell Lung Carcinoma    Metastasis   \n",
       "28  SIDM00046   Lung  Non-Small Cell Lung Carcinoma       Unknown   \n",
       "30  SIDM01069   Lung  Non-Small Cell Lung Carcinoma        Tumour   \n",
       "\n",
       "               cancer_type_detail  \n",
       "13      Small Cell Lung Carcinoma  \n",
       "18  Non-Small Cell Lung Carcinoma  \n",
       "20  Papillary Lung Adenocarcinoma  \n",
       "28            Lung Adenocarcinoma  \n",
       "30            Lung Adenocarcinoma  "
      ],
      "text/html": [
       "<div>\n",
       "<style scoped>\n",
       "    .dataframe tbody tr th:only-of-type {\n",
       "        vertical-align: middle;\n",
       "    }\n",
       "\n",
       "    .dataframe tbody tr th {\n",
       "        vertical-align: top;\n",
       "    }\n",
       "\n",
       "    .dataframe thead th {\n",
       "        text-align: right;\n",
       "    }\n",
       "</style>\n",
       "<table border=\"1\" class=\"dataframe\">\n",
       "  <thead>\n",
       "    <tr style=\"text-align: right;\">\n",
       "      <th></th>\n",
       "      <th>model_id</th>\n",
       "      <th>tissue</th>\n",
       "      <th>cancer_type</th>\n",
       "      <th>tissue_status</th>\n",
       "      <th>cancer_type_detail</th>\n",
       "    </tr>\n",
       "  </thead>\n",
       "  <tbody>\n",
       "    <tr>\n",
       "      <th>13</th>\n",
       "      <td>SIDM01387</td>\n",
       "      <td>Lung</td>\n",
       "      <td>Small Cell Lung Carcinoma</td>\n",
       "      <td>Metastasis</td>\n",
       "      <td>Small Cell Lung Carcinoma</td>\n",
       "    </tr>\n",
       "    <tr>\n",
       "      <th>18</th>\n",
       "      <td>SIDM00990</td>\n",
       "      <td>Lung</td>\n",
       "      <td>Non-Small Cell Lung Carcinoma</td>\n",
       "      <td>Metastasis</td>\n",
       "      <td>Non-Small Cell Lung Carcinoma</td>\n",
       "    </tr>\n",
       "    <tr>\n",
       "      <th>20</th>\n",
       "      <td>SIDM00019</td>\n",
       "      <td>Lung</td>\n",
       "      <td>Non-Small Cell Lung Carcinoma</td>\n",
       "      <td>Metastasis</td>\n",
       "      <td>Papillary Lung Adenocarcinoma</td>\n",
       "    </tr>\n",
       "    <tr>\n",
       "      <th>28</th>\n",
       "      <td>SIDM00046</td>\n",
       "      <td>Lung</td>\n",
       "      <td>Non-Small Cell Lung Carcinoma</td>\n",
       "      <td>Unknown</td>\n",
       "      <td>Lung Adenocarcinoma</td>\n",
       "    </tr>\n",
       "    <tr>\n",
       "      <th>30</th>\n",
       "      <td>SIDM01069</td>\n",
       "      <td>Lung</td>\n",
       "      <td>Non-Small Cell Lung Carcinoma</td>\n",
       "      <td>Tumour</td>\n",
       "      <td>Lung Adenocarcinoma</td>\n",
       "    </tr>\n",
       "  </tbody>\n",
       "</table>\n",
       "</div>"
      ]
     },
     "execution_count": 9,
     "metadata": {},
     "output_type": "execute_result"
    }
   ],
   "execution_count": 9
  },
  {
   "metadata": {
    "ExecuteTime": {
     "end_time": "2024-11-27T14:53:38.595659Z",
     "start_time": "2024-11-27T14:53:38.592070Z"
    }
   },
   "cell_type": "code",
   "source": [
    "# List of model_ids with lung cancer\n",
    "model_ids_lung = df_model_info_lung[\"model_id\"].to_list()"
   ],
   "id": "2f28a35e615c6a9f",
   "outputs": [],
   "execution_count": 10
  },
  {
   "metadata": {},
   "cell_type": "markdown",
   "source": [
    "## Expression data\n",
    "\n",
    "cancerous RNA Seq Data from from different cell models. \n",
    "\n",
    "**columns:**\n",
    "- id\n",
    "- gene_symbol\n",
    "- dataset_id\n",
    "- data_source: Organisation or Project that provided the data\n",
    "- model_id: gezüchtete Zelle / Zelllinie (ist die \"Probe\")\n",
    "- tpm"
   ],
   "id": "8c0a974a08f0a549"
  },
  {
   "metadata": {},
   "cell_type": "markdown",
   "source": [
    "# Data from Cell Modell Passport\n",
    "Link: https://cellmodelpassports.sanger.ac.uk/downloads\n",
    "\n",
    "Expression Data → all RNA Seq processed Data\n",
    "\n",
    "All tissues are cancer tissues. We need to filter for lung cancer.\n",
    "\n",
    "**Output file format:**\n",
    "* id\n",
    "* name\n",
    "* tpm"
   ],
   "id": "c61097af660cd39"
  },
  {
   "metadata": {
    "ExecuteTime": {
     "end_time": "2024-11-27T14:54:40.428373Z",
     "start_time": "2024-11-27T14:53:38.645469Z"
    }
   },
   "cell_type": "code",
   "source": [
    "# read in the data\n",
    "file = \"../import_data/CMP/rnaseq_all_data_20220624.csv\"\n",
    "df_cmp_all = pd.read_csv(file, delimiter=\",\", usecols=[\"gene_id\", \"gene_symbol\", \"model_id\", \"tpm\"])\n",
    "\n",
    "print(\"There are {} rows in the import_data.\".format(df_cmp_all.shape[0]))\n",
    "\n",
    "df_cmp_all.head()"
   ],
   "id": "ed884db44821827d",
   "outputs": [
    {
     "name": "stdout",
     "output_type": "stream",
     "text": [
      "There are 53348469 rows in the import_data.\n"
     ]
    },
    {
     "data": {
      "text/plain": [
       "    model_id    gene_id    tpm gene_symbol\n",
       "0  SIDM01313  SIDG03516  14.41      CASP10\n",
       "1  SIDM01313  SIDG21420   0.64      NBPF10\n",
       "2  SIDM01313  SIDG31799   0.39    RPL17P51\n",
       "3  SIDM01313  SIDG25351   0.00      PPATP2\n",
       "4  SIDM01313  SIDG19863   3.32       MMP28"
      ],
      "text/html": [
       "<div>\n",
       "<style scoped>\n",
       "    .dataframe tbody tr th:only-of-type {\n",
       "        vertical-align: middle;\n",
       "    }\n",
       "\n",
       "    .dataframe tbody tr th {\n",
       "        vertical-align: top;\n",
       "    }\n",
       "\n",
       "    .dataframe thead th {\n",
       "        text-align: right;\n",
       "    }\n",
       "</style>\n",
       "<table border=\"1\" class=\"dataframe\">\n",
       "  <thead>\n",
       "    <tr style=\"text-align: right;\">\n",
       "      <th></th>\n",
       "      <th>model_id</th>\n",
       "      <th>gene_id</th>\n",
       "      <th>tpm</th>\n",
       "      <th>gene_symbol</th>\n",
       "    </tr>\n",
       "  </thead>\n",
       "  <tbody>\n",
       "    <tr>\n",
       "      <th>0</th>\n",
       "      <td>SIDM01313</td>\n",
       "      <td>SIDG03516</td>\n",
       "      <td>14.41</td>\n",
       "      <td>CASP10</td>\n",
       "    </tr>\n",
       "    <tr>\n",
       "      <th>1</th>\n",
       "      <td>SIDM01313</td>\n",
       "      <td>SIDG21420</td>\n",
       "      <td>0.64</td>\n",
       "      <td>NBPF10</td>\n",
       "    </tr>\n",
       "    <tr>\n",
       "      <th>2</th>\n",
       "      <td>SIDM01313</td>\n",
       "      <td>SIDG31799</td>\n",
       "      <td>0.39</td>\n",
       "      <td>RPL17P51</td>\n",
       "    </tr>\n",
       "    <tr>\n",
       "      <th>3</th>\n",
       "      <td>SIDM01313</td>\n",
       "      <td>SIDG25351</td>\n",
       "      <td>0.00</td>\n",
       "      <td>PPATP2</td>\n",
       "    </tr>\n",
       "    <tr>\n",
       "      <th>4</th>\n",
       "      <td>SIDM01313</td>\n",
       "      <td>SIDG19863</td>\n",
       "      <td>3.32</td>\n",
       "      <td>MMP28</td>\n",
       "    </tr>\n",
       "  </tbody>\n",
       "</table>\n",
       "</div>"
      ]
     },
     "execution_count": 11,
     "metadata": {},
     "output_type": "execute_result"
    }
   ],
   "execution_count": 11
  },
  {
   "metadata": {},
   "cell_type": "markdown",
   "source": "### Clean Dataframe",
   "id": "4f4dc1006d9d177c"
  },
  {
   "metadata": {
    "ExecuteTime": {
     "end_time": "2024-11-27T14:54:40.660338Z",
     "start_time": "2024-11-27T14:54:40.641654Z"
    }
   },
   "cell_type": "code",
   "source": "df_cmp_all.rename(columns={\"gene_symbol\": \"gene_name\"}, inplace=True)",
   "id": "3d72528b1f8d56c3",
   "outputs": [],
   "execution_count": 12
  },
  {
   "metadata": {
    "ExecuteTime": {
     "end_time": "2024-11-27T14:54:49.418830Z",
     "start_time": "2024-11-27T14:54:40.817826Z"
    }
   },
   "cell_type": "code",
   "source": [
    "# filter rows with lung cancer model ids\n",
    "df_cmp_all = df_cmp_all.where(df_cmp_all[\"model_id\"].isin(model_ids_lung)).dropna()\n",
    "\n",
    "print(\"There are {} rows with lung cancer data.\".format(df_cmp_all.shape[0]))"
   ],
   "id": "f2624694764ecc04",
   "outputs": [
    {
     "name": "stdout",
     "output_type": "stream",
     "text": [
      "There are 7564389 rows with lung cancer data.\n"
     ]
    }
   ],
   "execution_count": 13
  },
  {
   "metadata": {},
   "cell_type": "markdown",
   "source": "### Analyze Dataset",
   "id": "c7cd133489e07e31"
  },
  {
   "metadata": {
    "ExecuteTime": {
     "end_time": "2024-11-27T14:55:40.283521Z",
     "start_time": "2024-11-27T14:55:38.611831Z"
    }
   },
   "cell_type": "code",
   "source": [
    "# check for missing values\n",
    "missing_values = df_cmp_all.isnull().sum()\n",
    "\n",
    "# TPM Ranges\n",
    "min_tpm = df_cmp_all[\"tpm\"].min()\n",
    "max_tpm = df_cmp_all[\"tpm\"].max()\n",
    "\n",
    "# genes\n",
    "n_genes = df_cmp_all[\"gene_name\"].nunique()\n",
    "\n",
    "# tissues\n",
    "n_tissues = df_cmp_all[\"model_id\"].nunique()\n",
    "df_cmp_all.drop(columns=[\"model_id\"], inplace=True)\n",
    "\n",
    "print(f\"Missing values:\\n\"\n",
    "      f\"{missing_values}\\n\")\n",
    "\n",
    "print(f\"Min TPM: {min_tpm}\")\n",
    "print(f\"Max TPM: {max_tpm}\\n\")\n",
    "\n",
    "print(f\"Number of genes: {n_genes}\")\n",
    "print(f\"Number of tissues: {n_tissues}\")"
   ],
   "id": "19121f7cf4c7c7ed",
   "outputs": [
    {
     "ename": "KeyError",
     "evalue": "'model_id'",
     "output_type": "error",
     "traceback": [
      "\u001B[1;31m---------------------------------------------------------------------------\u001B[0m",
      "\u001B[1;31mKeyError\u001B[0m                                  Traceback (most recent call last)",
      "File \u001B[1;32m~\\anaconda3\\envs\\env_Bachelor_Thesis\\Lib\\site-packages\\pandas\\core\\indexes\\base.py:3802\u001B[0m, in \u001B[0;36mIndex.get_loc\u001B[1;34m(self, key)\u001B[0m\n\u001B[0;32m   3801\u001B[0m \u001B[38;5;28;01mtry\u001B[39;00m:\n\u001B[1;32m-> 3802\u001B[0m     \u001B[38;5;28;01mreturn\u001B[39;00m \u001B[38;5;28mself\u001B[39m\u001B[38;5;241m.\u001B[39m_engine\u001B[38;5;241m.\u001B[39mget_loc(casted_key)\n\u001B[0;32m   3803\u001B[0m \u001B[38;5;28;01mexcept\u001B[39;00m \u001B[38;5;167;01mKeyError\u001B[39;00m \u001B[38;5;28;01mas\u001B[39;00m err:\n",
      "File \u001B[1;32mindex.pyx:153\u001B[0m, in \u001B[0;36mpandas._libs.index.IndexEngine.get_loc\u001B[1;34m()\u001B[0m\n",
      "File \u001B[1;32mindex.pyx:182\u001B[0m, in \u001B[0;36mpandas._libs.index.IndexEngine.get_loc\u001B[1;34m()\u001B[0m\n",
      "File \u001B[1;32mpandas\\\\_libs\\\\hashtable_class_helper.pxi:7081\u001B[0m, in \u001B[0;36mpandas._libs.hashtable.PyObjectHashTable.get_item\u001B[1;34m()\u001B[0m\n",
      "File \u001B[1;32mpandas\\\\_libs\\\\hashtable_class_helper.pxi:7089\u001B[0m, in \u001B[0;36mpandas._libs.hashtable.PyObjectHashTable.get_item\u001B[1;34m()\u001B[0m\n",
      "\u001B[1;31mKeyError\u001B[0m: 'model_id'",
      "\nThe above exception was the direct cause of the following exception:\n",
      "\u001B[1;31mKeyError\u001B[0m                                  Traceback (most recent call last)",
      "Cell \u001B[1;32mIn[15], line 12\u001B[0m\n\u001B[0;32m      9\u001B[0m n_genes \u001B[38;5;241m=\u001B[39m df_cmp_all[\u001B[38;5;124m\"\u001B[39m\u001B[38;5;124mgene_name\u001B[39m\u001B[38;5;124m\"\u001B[39m]\u001B[38;5;241m.\u001B[39mnunique()\n\u001B[0;32m     11\u001B[0m \u001B[38;5;66;03m# tissues\u001B[39;00m\n\u001B[1;32m---> 12\u001B[0m n_tissues \u001B[38;5;241m=\u001B[39m df_cmp_all[\u001B[38;5;124m\"\u001B[39m\u001B[38;5;124mmodel_id\u001B[39m\u001B[38;5;124m\"\u001B[39m]\u001B[38;5;241m.\u001B[39mnunique()\n\u001B[0;32m     13\u001B[0m df_cmp_all\u001B[38;5;241m.\u001B[39mdrop(columns\u001B[38;5;241m=\u001B[39m[\u001B[38;5;124m\"\u001B[39m\u001B[38;5;124mmodel_id\u001B[39m\u001B[38;5;124m\"\u001B[39m], inplace\u001B[38;5;241m=\u001B[39m\u001B[38;5;28;01mTrue\u001B[39;00m)\n\u001B[0;32m     15\u001B[0m \u001B[38;5;28mprint\u001B[39m(\u001B[38;5;124mf\u001B[39m\u001B[38;5;124m\"\u001B[39m\u001B[38;5;124mMissing values:\u001B[39m\u001B[38;5;130;01m\\n\u001B[39;00m\u001B[38;5;124m\"\u001B[39m\n\u001B[0;32m     16\u001B[0m       \u001B[38;5;124mf\u001B[39m\u001B[38;5;124m\"\u001B[39m\u001B[38;5;132;01m{\u001B[39;00mmissing_values\u001B[38;5;132;01m}\u001B[39;00m\u001B[38;5;130;01m\\n\u001B[39;00m\u001B[38;5;124m\"\u001B[39m)\n",
      "File \u001B[1;32m~\\anaconda3\\envs\\env_Bachelor_Thesis\\Lib\\site-packages\\pandas\\core\\frame.py:4090\u001B[0m, in \u001B[0;36mDataFrame.__getitem__\u001B[1;34m(self, key)\u001B[0m\n\u001B[0;32m   4088\u001B[0m \u001B[38;5;28;01mif\u001B[39;00m \u001B[38;5;28mself\u001B[39m\u001B[38;5;241m.\u001B[39mcolumns\u001B[38;5;241m.\u001B[39mnlevels \u001B[38;5;241m>\u001B[39m \u001B[38;5;241m1\u001B[39m:\n\u001B[0;32m   4089\u001B[0m     \u001B[38;5;28;01mreturn\u001B[39;00m \u001B[38;5;28mself\u001B[39m\u001B[38;5;241m.\u001B[39m_getitem_multilevel(key)\n\u001B[1;32m-> 4090\u001B[0m indexer \u001B[38;5;241m=\u001B[39m \u001B[38;5;28mself\u001B[39m\u001B[38;5;241m.\u001B[39mcolumns\u001B[38;5;241m.\u001B[39mget_loc(key)\n\u001B[0;32m   4091\u001B[0m \u001B[38;5;28;01mif\u001B[39;00m is_integer(indexer):\n\u001B[0;32m   4092\u001B[0m     indexer \u001B[38;5;241m=\u001B[39m [indexer]\n",
      "File \u001B[1;32m~\\anaconda3\\envs\\env_Bachelor_Thesis\\Lib\\site-packages\\pandas\\core\\indexes\\base.py:3809\u001B[0m, in \u001B[0;36mIndex.get_loc\u001B[1;34m(self, key)\u001B[0m\n\u001B[0;32m   3804\u001B[0m     \u001B[38;5;28;01mif\u001B[39;00m \u001B[38;5;28misinstance\u001B[39m(casted_key, \u001B[38;5;28mslice\u001B[39m) \u001B[38;5;129;01mor\u001B[39;00m (\n\u001B[0;32m   3805\u001B[0m         \u001B[38;5;28misinstance\u001B[39m(casted_key, abc\u001B[38;5;241m.\u001B[39mIterable)\n\u001B[0;32m   3806\u001B[0m         \u001B[38;5;129;01mand\u001B[39;00m \u001B[38;5;28many\u001B[39m(\u001B[38;5;28misinstance\u001B[39m(x, \u001B[38;5;28mslice\u001B[39m) \u001B[38;5;28;01mfor\u001B[39;00m x \u001B[38;5;129;01min\u001B[39;00m casted_key)\n\u001B[0;32m   3807\u001B[0m     ):\n\u001B[0;32m   3808\u001B[0m         \u001B[38;5;28;01mraise\u001B[39;00m InvalidIndexError(key)\n\u001B[1;32m-> 3809\u001B[0m     \u001B[38;5;28;01mraise\u001B[39;00m \u001B[38;5;167;01mKeyError\u001B[39;00m(key) \u001B[38;5;28;01mfrom\u001B[39;00m \u001B[38;5;21;01merr\u001B[39;00m\n\u001B[0;32m   3810\u001B[0m \u001B[38;5;28;01mexcept\u001B[39;00m \u001B[38;5;167;01mTypeError\u001B[39;00m:\n\u001B[0;32m   3811\u001B[0m     \u001B[38;5;66;03m# If we have a listlike key, _check_indexing_error will raise\u001B[39;00m\n\u001B[0;32m   3812\u001B[0m     \u001B[38;5;66;03m#  InvalidIndexError. Otherwise we fall through and re-raise\u001B[39;00m\n\u001B[0;32m   3813\u001B[0m     \u001B[38;5;66;03m#  the TypeError.\u001B[39;00m\n\u001B[0;32m   3814\u001B[0m     \u001B[38;5;28mself\u001B[39m\u001B[38;5;241m.\u001B[39m_check_indexing_error(key)\n",
      "\u001B[1;31mKeyError\u001B[0m: 'model_id'"
     ]
    }
   ],
   "execution_count": 15
  },
  {
   "metadata": {},
   "cell_type": "markdown",
   "source": [
    "\n",
    "We then merged this file with our CMP data on the gene names to retrieve the ENS IDs for each gene.\n",
    "\n",
    "After merging the data, we found that 3,760 genes had no ENS ID associated with them.\n",
    "Since these genes were likely duplicates or did not exist in the Ensemble file, we removed them from our dataset to ensure consistency and accuracy of our analysis.\n",
    "### Group Data to mean values"
   ],
   "id": "5c2db4873a5476c3"
  },
  {
   "metadata": {
    "ExecuteTime": {
     "end_time": "2024-11-27T14:56:07.891122Z",
     "start_time": "2024-11-27T14:56:06.757505Z"
    }
   },
   "cell_type": "code",
   "source": [
    "df_cmp_group = df_cmp_all.groupby([\"gene_name\", \"gene_id\"]).mean().reset_index()\n",
    "\n",
    "print(\"There are {} rows in the grouped dataset.\".format(df_cmp_group.shape[0]))\n",
    "df_cmp_group"
   ],
   "id": "70d8a4ca5dacc3c",
   "outputs": [
    {
     "name": "stdout",
     "output_type": "stream",
     "text": [
      "There are 37263 rows in the grouped dataset.\n"
     ]
    },
    {
     "data": {
      "text/plain": [
       "      gene_name    gene_id        tpm\n",
       "0          A1BG  SIDG00001   0.827192\n",
       "1      A1BG-AS1  SIDG00002   4.676305\n",
       "2          A1CF  SIDG00003   1.355369\n",
       "3           A2M  SIDG00004   1.669212\n",
       "4       A2M-AS1  SIDG00005   1.033596\n",
       "...         ...        ...        ...\n",
       "37258    ZYG11B  SIDG42471  21.124039\n",
       "37259       ZYX  SIDG42472  99.636946\n",
       "37260     ZYXP1  SIDG42473   0.000000\n",
       "37261     ZZEF1  SIDG42474  17.697980\n",
       "37262      ZZZ3  SIDG42475  26.655271\n",
       "\n",
       "[37263 rows x 3 columns]"
      ],
      "text/html": [
       "<div>\n",
       "<style scoped>\n",
       "    .dataframe tbody tr th:only-of-type {\n",
       "        vertical-align: middle;\n",
       "    }\n",
       "\n",
       "    .dataframe tbody tr th {\n",
       "        vertical-align: top;\n",
       "    }\n",
       "\n",
       "    .dataframe thead th {\n",
       "        text-align: right;\n",
       "    }\n",
       "</style>\n",
       "<table border=\"1\" class=\"dataframe\">\n",
       "  <thead>\n",
       "    <tr style=\"text-align: right;\">\n",
       "      <th></th>\n",
       "      <th>gene_name</th>\n",
       "      <th>gene_id</th>\n",
       "      <th>tpm</th>\n",
       "    </tr>\n",
       "  </thead>\n",
       "  <tbody>\n",
       "    <tr>\n",
       "      <th>0</th>\n",
       "      <td>A1BG</td>\n",
       "      <td>SIDG00001</td>\n",
       "      <td>0.827192</td>\n",
       "    </tr>\n",
       "    <tr>\n",
       "      <th>1</th>\n",
       "      <td>A1BG-AS1</td>\n",
       "      <td>SIDG00002</td>\n",
       "      <td>4.676305</td>\n",
       "    </tr>\n",
       "    <tr>\n",
       "      <th>2</th>\n",
       "      <td>A1CF</td>\n",
       "      <td>SIDG00003</td>\n",
       "      <td>1.355369</td>\n",
       "    </tr>\n",
       "    <tr>\n",
       "      <th>3</th>\n",
       "      <td>A2M</td>\n",
       "      <td>SIDG00004</td>\n",
       "      <td>1.669212</td>\n",
       "    </tr>\n",
       "    <tr>\n",
       "      <th>4</th>\n",
       "      <td>A2M-AS1</td>\n",
       "      <td>SIDG00005</td>\n",
       "      <td>1.033596</td>\n",
       "    </tr>\n",
       "    <tr>\n",
       "      <th>...</th>\n",
       "      <td>...</td>\n",
       "      <td>...</td>\n",
       "      <td>...</td>\n",
       "    </tr>\n",
       "    <tr>\n",
       "      <th>37258</th>\n",
       "      <td>ZYG11B</td>\n",
       "      <td>SIDG42471</td>\n",
       "      <td>21.124039</td>\n",
       "    </tr>\n",
       "    <tr>\n",
       "      <th>37259</th>\n",
       "      <td>ZYX</td>\n",
       "      <td>SIDG42472</td>\n",
       "      <td>99.636946</td>\n",
       "    </tr>\n",
       "    <tr>\n",
       "      <th>37260</th>\n",
       "      <td>ZYXP1</td>\n",
       "      <td>SIDG42473</td>\n",
       "      <td>0.000000</td>\n",
       "    </tr>\n",
       "    <tr>\n",
       "      <th>37261</th>\n",
       "      <td>ZZEF1</td>\n",
       "      <td>SIDG42474</td>\n",
       "      <td>17.697980</td>\n",
       "    </tr>\n",
       "    <tr>\n",
       "      <th>37262</th>\n",
       "      <td>ZZZ3</td>\n",
       "      <td>SIDG42475</td>\n",
       "      <td>26.655271</td>\n",
       "    </tr>\n",
       "  </tbody>\n",
       "</table>\n",
       "<p>37263 rows × 3 columns</p>\n",
       "</div>"
      ]
     },
     "execution_count": 17,
     "metadata": {},
     "output_type": "execute_result"
    }
   ],
   "execution_count": 17
  },
  {
   "metadata": {},
   "cell_type": "markdown",
   "source": [
    "## Ensemble Dataset\n",
    "Downloaded via Biomart\n",
    "\n"
   ],
   "id": "75c60cc04429ffa7"
  },
  {
   "metadata": {
    "ExecuteTime": {
     "end_time": "2024-11-27T14:56:18.616276Z",
     "start_time": "2024-11-27T14:56:18.546339Z"
    }
   },
   "cell_type": "code",
   "source": [
    "df_ensembl = pd.read_csv(\"../import_data/ENSEMBLE/ensemble_gene_id.txt\", delimiter=\"\\t\")\n",
    "df_ensembl.rename(columns={\"gene_symbol\": \"gene_name\"}, inplace=True)\n",
    "\n",
    "# drop rows without gene_symbol\n",
    "df_ensembl.drop(df_ensembl[df_ensembl[\"gene_name\"].isnull()].index, inplace=True)\n",
    "\n",
    "df_ensembl"
   ],
   "id": "feb44ab516036fd3",
   "outputs": [
    {
     "data": {
      "text/plain": [
       "        Gene_stable_ID  gene_name\n",
       "0      ENSG00000210049      MT-TF\n",
       "1      ENSG00000211459    MT-RNR1\n",
       "2      ENSG00000210077      MT-TV\n",
       "3      ENSG00000210082    MT-RNR2\n",
       "4      ENSG00000209082     MT-TL1\n",
       "...                ...        ...\n",
       "70606  ENSG00000232679  LINC01705\n",
       "70607  ENSG00000200033  RNU6-403P\n",
       "70608  ENSG00000228437  LINC02474\n",
       "70609  ENSG00000229463   LYST-AS1\n",
       "70610  ENSG00000229291  LINC02768\n",
       "\n",
       "[48311 rows x 2 columns]"
      ],
      "text/html": [
       "<div>\n",
       "<style scoped>\n",
       "    .dataframe tbody tr th:only-of-type {\n",
       "        vertical-align: middle;\n",
       "    }\n",
       "\n",
       "    .dataframe tbody tr th {\n",
       "        vertical-align: top;\n",
       "    }\n",
       "\n",
       "    .dataframe thead th {\n",
       "        text-align: right;\n",
       "    }\n",
       "</style>\n",
       "<table border=\"1\" class=\"dataframe\">\n",
       "  <thead>\n",
       "    <tr style=\"text-align: right;\">\n",
       "      <th></th>\n",
       "      <th>Gene_stable_ID</th>\n",
       "      <th>gene_name</th>\n",
       "    </tr>\n",
       "  </thead>\n",
       "  <tbody>\n",
       "    <tr>\n",
       "      <th>0</th>\n",
       "      <td>ENSG00000210049</td>\n",
       "      <td>MT-TF</td>\n",
       "    </tr>\n",
       "    <tr>\n",
       "      <th>1</th>\n",
       "      <td>ENSG00000211459</td>\n",
       "      <td>MT-RNR1</td>\n",
       "    </tr>\n",
       "    <tr>\n",
       "      <th>2</th>\n",
       "      <td>ENSG00000210077</td>\n",
       "      <td>MT-TV</td>\n",
       "    </tr>\n",
       "    <tr>\n",
       "      <th>3</th>\n",
       "      <td>ENSG00000210082</td>\n",
       "      <td>MT-RNR2</td>\n",
       "    </tr>\n",
       "    <tr>\n",
       "      <th>4</th>\n",
       "      <td>ENSG00000209082</td>\n",
       "      <td>MT-TL1</td>\n",
       "    </tr>\n",
       "    <tr>\n",
       "      <th>...</th>\n",
       "      <td>...</td>\n",
       "      <td>...</td>\n",
       "    </tr>\n",
       "    <tr>\n",
       "      <th>70606</th>\n",
       "      <td>ENSG00000232679</td>\n",
       "      <td>LINC01705</td>\n",
       "    </tr>\n",
       "    <tr>\n",
       "      <th>70607</th>\n",
       "      <td>ENSG00000200033</td>\n",
       "      <td>RNU6-403P</td>\n",
       "    </tr>\n",
       "    <tr>\n",
       "      <th>70608</th>\n",
       "      <td>ENSG00000228437</td>\n",
       "      <td>LINC02474</td>\n",
       "    </tr>\n",
       "    <tr>\n",
       "      <th>70609</th>\n",
       "      <td>ENSG00000229463</td>\n",
       "      <td>LYST-AS1</td>\n",
       "    </tr>\n",
       "    <tr>\n",
       "      <th>70610</th>\n",
       "      <td>ENSG00000229291</td>\n",
       "      <td>LINC02768</td>\n",
       "    </tr>\n",
       "  </tbody>\n",
       "</table>\n",
       "<p>48311 rows × 2 columns</p>\n",
       "</div>"
      ]
     },
     "execution_count": 18,
     "metadata": {},
     "output_type": "execute_result"
    }
   ],
   "execution_count": 18
  },
  {
   "metadata": {
    "ExecuteTime": {
     "end_time": "2024-11-27T14:56:18.663556Z",
     "start_time": "2024-11-27T14:56:18.651540Z"
    }
   },
   "cell_type": "code",
   "source": [
    "duplicate_names = df_ensembl[\"gene_name\"].duplicated(keep=False).sum()\n",
    "rows = df_ensembl.shape[0]\n",
    "print(f'{duplicate_names} from {rows} do not have a unique gene names in ENS Dataset')"
   ],
   "id": "79719a3b651c065d",
   "outputs": [
    {
     "name": "stdout",
     "output_type": "stream",
     "text": [
      "10605 from 48311 do not have a unique gene names in ENS Dataset\n"
     ]
    }
   ],
   "execution_count": 19
  },
  {
   "metadata": {},
   "cell_type": "markdown",
   "source": [
    "PROBLEM: There are gene names that are not unique.\n",
    "\n",
    "→ If the names are not unique, we cannot merge the data on the gene names with our dataset."
   ],
   "id": "eb3e5c58c0904417"
  },
  {
   "metadata": {
    "ExecuteTime": {
     "end_time": "2024-11-27T14:56:18.738431Z",
     "start_time": "2024-11-27T14:56:18.719984Z"
    }
   },
   "cell_type": "code",
   "source": [
    "# delete all rows with not unique gene names\n",
    "df_ensembl_unique = df_ensembl.drop_duplicates(subset=[\"gene_name\"], keep=False)\n",
    "\n",
    "df_ensembl_unique"
   ],
   "id": "9f864813a950325e",
   "outputs": [
    {
     "data": {
      "text/plain": [
       "        Gene_stable_ID  gene_name\n",
       "0      ENSG00000210049      MT-TF\n",
       "1      ENSG00000211459    MT-RNR1\n",
       "2      ENSG00000210077      MT-TV\n",
       "3      ENSG00000210082    MT-RNR2\n",
       "4      ENSG00000209082     MT-TL1\n",
       "...                ...        ...\n",
       "70606  ENSG00000232679  LINC01705\n",
       "70607  ENSG00000200033  RNU6-403P\n",
       "70608  ENSG00000228437  LINC02474\n",
       "70609  ENSG00000229463   LYST-AS1\n",
       "70610  ENSG00000229291  LINC02768\n",
       "\n",
       "[37706 rows x 2 columns]"
      ],
      "text/html": [
       "<div>\n",
       "<style scoped>\n",
       "    .dataframe tbody tr th:only-of-type {\n",
       "        vertical-align: middle;\n",
       "    }\n",
       "\n",
       "    .dataframe tbody tr th {\n",
       "        vertical-align: top;\n",
       "    }\n",
       "\n",
       "    .dataframe thead th {\n",
       "        text-align: right;\n",
       "    }\n",
       "</style>\n",
       "<table border=\"1\" class=\"dataframe\">\n",
       "  <thead>\n",
       "    <tr style=\"text-align: right;\">\n",
       "      <th></th>\n",
       "      <th>Gene_stable_ID</th>\n",
       "      <th>gene_name</th>\n",
       "    </tr>\n",
       "  </thead>\n",
       "  <tbody>\n",
       "    <tr>\n",
       "      <th>0</th>\n",
       "      <td>ENSG00000210049</td>\n",
       "      <td>MT-TF</td>\n",
       "    </tr>\n",
       "    <tr>\n",
       "      <th>1</th>\n",
       "      <td>ENSG00000211459</td>\n",
       "      <td>MT-RNR1</td>\n",
       "    </tr>\n",
       "    <tr>\n",
       "      <th>2</th>\n",
       "      <td>ENSG00000210077</td>\n",
       "      <td>MT-TV</td>\n",
       "    </tr>\n",
       "    <tr>\n",
       "      <th>3</th>\n",
       "      <td>ENSG00000210082</td>\n",
       "      <td>MT-RNR2</td>\n",
       "    </tr>\n",
       "    <tr>\n",
       "      <th>4</th>\n",
       "      <td>ENSG00000209082</td>\n",
       "      <td>MT-TL1</td>\n",
       "    </tr>\n",
       "    <tr>\n",
       "      <th>...</th>\n",
       "      <td>...</td>\n",
       "      <td>...</td>\n",
       "    </tr>\n",
       "    <tr>\n",
       "      <th>70606</th>\n",
       "      <td>ENSG00000232679</td>\n",
       "      <td>LINC01705</td>\n",
       "    </tr>\n",
       "    <tr>\n",
       "      <th>70607</th>\n",
       "      <td>ENSG00000200033</td>\n",
       "      <td>RNU6-403P</td>\n",
       "    </tr>\n",
       "    <tr>\n",
       "      <th>70608</th>\n",
       "      <td>ENSG00000228437</td>\n",
       "      <td>LINC02474</td>\n",
       "    </tr>\n",
       "    <tr>\n",
       "      <th>70609</th>\n",
       "      <td>ENSG00000229463</td>\n",
       "      <td>LYST-AS1</td>\n",
       "    </tr>\n",
       "    <tr>\n",
       "      <th>70610</th>\n",
       "      <td>ENSG00000229291</td>\n",
       "      <td>LINC02768</td>\n",
       "    </tr>\n",
       "  </tbody>\n",
       "</table>\n",
       "<p>37706 rows × 2 columns</p>\n",
       "</div>"
      ]
     },
     "execution_count": 20,
     "metadata": {},
     "output_type": "execute_result"
    }
   ],
   "execution_count": 20
  },
  {
   "metadata": {},
   "cell_type": "markdown",
   "source": "## Merge Data",
   "id": "c49a278c68a0e917"
  },
  {
   "metadata": {
    "ExecuteTime": {
     "end_time": "2024-11-27T14:56:18.841846Z",
     "start_time": "2024-11-27T14:56:18.804445Z"
    }
   },
   "cell_type": "code",
   "source": [
    "df_cmp_ens = pd.merge(df_cmp_group, df_ensembl_unique, on=\"gene_name\", how=\"left\")\n",
    "df_cmp_ens"
   ],
   "id": "86e0f123518f5f7",
   "outputs": [
    {
     "data": {
      "text/plain": [
       "      gene_name    gene_id        tpm   Gene_stable_ID\n",
       "0          A1BG  SIDG00001   0.827192  ENSG00000121410\n",
       "1      A1BG-AS1  SIDG00002   4.676305  ENSG00000268895\n",
       "2          A1CF  SIDG00003   1.355369  ENSG00000148584\n",
       "3           A2M  SIDG00004   1.669212  ENSG00000175899\n",
       "4       A2M-AS1  SIDG00005   1.033596  ENSG00000245105\n",
       "...         ...        ...        ...              ...\n",
       "37258    ZYG11B  SIDG42471  21.124039  ENSG00000162378\n",
       "37259       ZYX  SIDG42472  99.636946              NaN\n",
       "37260     ZYXP1  SIDG42473   0.000000  ENSG00000274572\n",
       "37261     ZZEF1  SIDG42474  17.697980  ENSG00000074755\n",
       "37262      ZZZ3  SIDG42475  26.655271  ENSG00000036549\n",
       "\n",
       "[37263 rows x 4 columns]"
      ],
      "text/html": [
       "<div>\n",
       "<style scoped>\n",
       "    .dataframe tbody tr th:only-of-type {\n",
       "        vertical-align: middle;\n",
       "    }\n",
       "\n",
       "    .dataframe tbody tr th {\n",
       "        vertical-align: top;\n",
       "    }\n",
       "\n",
       "    .dataframe thead th {\n",
       "        text-align: right;\n",
       "    }\n",
       "</style>\n",
       "<table border=\"1\" class=\"dataframe\">\n",
       "  <thead>\n",
       "    <tr style=\"text-align: right;\">\n",
       "      <th></th>\n",
       "      <th>gene_name</th>\n",
       "      <th>gene_id</th>\n",
       "      <th>tpm</th>\n",
       "      <th>Gene_stable_ID</th>\n",
       "    </tr>\n",
       "  </thead>\n",
       "  <tbody>\n",
       "    <tr>\n",
       "      <th>0</th>\n",
       "      <td>A1BG</td>\n",
       "      <td>SIDG00001</td>\n",
       "      <td>0.827192</td>\n",
       "      <td>ENSG00000121410</td>\n",
       "    </tr>\n",
       "    <tr>\n",
       "      <th>1</th>\n",
       "      <td>A1BG-AS1</td>\n",
       "      <td>SIDG00002</td>\n",
       "      <td>4.676305</td>\n",
       "      <td>ENSG00000268895</td>\n",
       "    </tr>\n",
       "    <tr>\n",
       "      <th>2</th>\n",
       "      <td>A1CF</td>\n",
       "      <td>SIDG00003</td>\n",
       "      <td>1.355369</td>\n",
       "      <td>ENSG00000148584</td>\n",
       "    </tr>\n",
       "    <tr>\n",
       "      <th>3</th>\n",
       "      <td>A2M</td>\n",
       "      <td>SIDG00004</td>\n",
       "      <td>1.669212</td>\n",
       "      <td>ENSG00000175899</td>\n",
       "    </tr>\n",
       "    <tr>\n",
       "      <th>4</th>\n",
       "      <td>A2M-AS1</td>\n",
       "      <td>SIDG00005</td>\n",
       "      <td>1.033596</td>\n",
       "      <td>ENSG00000245105</td>\n",
       "    </tr>\n",
       "    <tr>\n",
       "      <th>...</th>\n",
       "      <td>...</td>\n",
       "      <td>...</td>\n",
       "      <td>...</td>\n",
       "      <td>...</td>\n",
       "    </tr>\n",
       "    <tr>\n",
       "      <th>37258</th>\n",
       "      <td>ZYG11B</td>\n",
       "      <td>SIDG42471</td>\n",
       "      <td>21.124039</td>\n",
       "      <td>ENSG00000162378</td>\n",
       "    </tr>\n",
       "    <tr>\n",
       "      <th>37259</th>\n",
       "      <td>ZYX</td>\n",
       "      <td>SIDG42472</td>\n",
       "      <td>99.636946</td>\n",
       "      <td>NaN</td>\n",
       "    </tr>\n",
       "    <tr>\n",
       "      <th>37260</th>\n",
       "      <td>ZYXP1</td>\n",
       "      <td>SIDG42473</td>\n",
       "      <td>0.000000</td>\n",
       "      <td>ENSG00000274572</td>\n",
       "    </tr>\n",
       "    <tr>\n",
       "      <th>37261</th>\n",
       "      <td>ZZEF1</td>\n",
       "      <td>SIDG42474</td>\n",
       "      <td>17.697980</td>\n",
       "      <td>ENSG00000074755</td>\n",
       "    </tr>\n",
       "    <tr>\n",
       "      <th>37262</th>\n",
       "      <td>ZZZ3</td>\n",
       "      <td>SIDG42475</td>\n",
       "      <td>26.655271</td>\n",
       "      <td>ENSG00000036549</td>\n",
       "    </tr>\n",
       "  </tbody>\n",
       "</table>\n",
       "<p>37263 rows × 4 columns</p>\n",
       "</div>"
      ]
     },
     "execution_count": 21,
     "metadata": {},
     "output_type": "execute_result"
    }
   ],
   "execution_count": 21
  },
  {
   "metadata": {
    "ExecuteTime": {
     "end_time": "2024-11-27T14:56:18.884635Z",
     "start_time": "2024-11-27T14:56:18.871423Z"
    }
   },
   "cell_type": "code",
   "source": [
    "# check Data with missing ENS\n",
    "missing_ens = df_cmp_ens[df_cmp_ens[\"Gene_stable_ID\"].isnull()]\n",
    "\n",
    "print(len(missing_ens), \"/\",len(df_cmp_ens),  \"still have no ENS ID\")\n",
    "missing_ens"
   ],
   "id": "38ad11c60a1c34b4",
   "outputs": [
    {
     "name": "stdout",
     "output_type": "stream",
     "text": [
      "3760 / 37263 still have no ENS ID\n"
     ]
    },
    {
     "data": {
      "text/plain": [
       "         gene_name    gene_id        tpm Gene_stable_ID\n",
       "8            A2MP1  SIDG00009   0.035025            NaN\n",
       "12            AAAS  SIDG00017  46.539015            NaN\n",
       "14          AACSP1  SIDG00020   2.496207            NaN\n",
       "16         AADACL2  SIDG00022   0.035813            NaN\n",
       "17     AADACL2-AS1  SIDG00023   0.550640            NaN\n",
       "...            ...        ...        ...            ...\n",
       "37198          ZP2  SIDG42408   0.042167            NaN\n",
       "37208   ZRANB2-AS2  SIDG42419   0.264926            NaN\n",
       "37219       ZSCAN2  SIDG42425   6.817094            NaN\n",
       "37239       ZSWIM4  SIDG42451  11.950049            NaN\n",
       "37259          ZYX  SIDG42472  99.636946            NaN\n",
       "\n",
       "[3760 rows x 4 columns]"
      ],
      "text/html": [
       "<div>\n",
       "<style scoped>\n",
       "    .dataframe tbody tr th:only-of-type {\n",
       "        vertical-align: middle;\n",
       "    }\n",
       "\n",
       "    .dataframe tbody tr th {\n",
       "        vertical-align: top;\n",
       "    }\n",
       "\n",
       "    .dataframe thead th {\n",
       "        text-align: right;\n",
       "    }\n",
       "</style>\n",
       "<table border=\"1\" class=\"dataframe\">\n",
       "  <thead>\n",
       "    <tr style=\"text-align: right;\">\n",
       "      <th></th>\n",
       "      <th>gene_name</th>\n",
       "      <th>gene_id</th>\n",
       "      <th>tpm</th>\n",
       "      <th>Gene_stable_ID</th>\n",
       "    </tr>\n",
       "  </thead>\n",
       "  <tbody>\n",
       "    <tr>\n",
       "      <th>8</th>\n",
       "      <td>A2MP1</td>\n",
       "      <td>SIDG00009</td>\n",
       "      <td>0.035025</td>\n",
       "      <td>NaN</td>\n",
       "    </tr>\n",
       "    <tr>\n",
       "      <th>12</th>\n",
       "      <td>AAAS</td>\n",
       "      <td>SIDG00017</td>\n",
       "      <td>46.539015</td>\n",
       "      <td>NaN</td>\n",
       "    </tr>\n",
       "    <tr>\n",
       "      <th>14</th>\n",
       "      <td>AACSP1</td>\n",
       "      <td>SIDG00020</td>\n",
       "      <td>2.496207</td>\n",
       "      <td>NaN</td>\n",
       "    </tr>\n",
       "    <tr>\n",
       "      <th>16</th>\n",
       "      <td>AADACL2</td>\n",
       "      <td>SIDG00022</td>\n",
       "      <td>0.035813</td>\n",
       "      <td>NaN</td>\n",
       "    </tr>\n",
       "    <tr>\n",
       "      <th>17</th>\n",
       "      <td>AADACL2-AS1</td>\n",
       "      <td>SIDG00023</td>\n",
       "      <td>0.550640</td>\n",
       "      <td>NaN</td>\n",
       "    </tr>\n",
       "    <tr>\n",
       "      <th>...</th>\n",
       "      <td>...</td>\n",
       "      <td>...</td>\n",
       "      <td>...</td>\n",
       "      <td>...</td>\n",
       "    </tr>\n",
       "    <tr>\n",
       "      <th>37198</th>\n",
       "      <td>ZP2</td>\n",
       "      <td>SIDG42408</td>\n",
       "      <td>0.042167</td>\n",
       "      <td>NaN</td>\n",
       "    </tr>\n",
       "    <tr>\n",
       "      <th>37208</th>\n",
       "      <td>ZRANB2-AS2</td>\n",
       "      <td>SIDG42419</td>\n",
       "      <td>0.264926</td>\n",
       "      <td>NaN</td>\n",
       "    </tr>\n",
       "    <tr>\n",
       "      <th>37219</th>\n",
       "      <td>ZSCAN2</td>\n",
       "      <td>SIDG42425</td>\n",
       "      <td>6.817094</td>\n",
       "      <td>NaN</td>\n",
       "    </tr>\n",
       "    <tr>\n",
       "      <th>37239</th>\n",
       "      <td>ZSWIM4</td>\n",
       "      <td>SIDG42451</td>\n",
       "      <td>11.950049</td>\n",
       "      <td>NaN</td>\n",
       "    </tr>\n",
       "    <tr>\n",
       "      <th>37259</th>\n",
       "      <td>ZYX</td>\n",
       "      <td>SIDG42472</td>\n",
       "      <td>99.636946</td>\n",
       "      <td>NaN</td>\n",
       "    </tr>\n",
       "  </tbody>\n",
       "</table>\n",
       "<p>3760 rows × 4 columns</p>\n",
       "</div>"
      ]
     },
     "execution_count": 22,
     "metadata": {},
     "output_type": "execute_result"
    }
   ],
   "execution_count": 22
  },
  {
   "metadata": {},
   "cell_type": "markdown",
   "source": [
    "TODO: Which of these 3760 genes do not have a ENS ID because of duplcate names and which did not occur from the beginning?\n",
    "\n",
    "→ These genes with no ENS ID could get an ID by looking for ENS name aliases. But this makes tbe duplicate of names even worse.\n",
    "\n",
    "Solution: Since these are only a few gene, we will drop these rows."
   ],
   "id": "2c61b571560e1940"
  },
  {
   "metadata": {
    "ExecuteTime": {
     "end_time": "2024-11-27T14:56:19.000665Z",
     "start_time": "2024-11-27T14:56:18.989919Z"
    }
   },
   "cell_type": "code",
   "source": [
    "# show rows with duplicate names in df_cmp_ens\n",
    "df_cmp_ens[df_cmp_ens[\"gene_name\"].duplicated(keep=False)]"
   ],
   "id": "2ccd81be19e68cd9",
   "outputs": [
    {
     "data": {
      "text/plain": [
       "      gene_name    gene_id       tpm   Gene_stable_ID\n",
       "30136   SEPTIN4  SIDG03156  0.065764  ENSG00000108387\n",
       "30137   SEPTIN4  SIDG34083  1.701675  ENSG00000108387"
      ],
      "text/html": [
       "<div>\n",
       "<style scoped>\n",
       "    .dataframe tbody tr th:only-of-type {\n",
       "        vertical-align: middle;\n",
       "    }\n",
       "\n",
       "    .dataframe tbody tr th {\n",
       "        vertical-align: top;\n",
       "    }\n",
       "\n",
       "    .dataframe thead th {\n",
       "        text-align: right;\n",
       "    }\n",
       "</style>\n",
       "<table border=\"1\" class=\"dataframe\">\n",
       "  <thead>\n",
       "    <tr style=\"text-align: right;\">\n",
       "      <th></th>\n",
       "      <th>gene_name</th>\n",
       "      <th>gene_id</th>\n",
       "      <th>tpm</th>\n",
       "      <th>Gene_stable_ID</th>\n",
       "    </tr>\n",
       "  </thead>\n",
       "  <tbody>\n",
       "    <tr>\n",
       "      <th>30136</th>\n",
       "      <td>SEPTIN4</td>\n",
       "      <td>SIDG03156</td>\n",
       "      <td>0.065764</td>\n",
       "      <td>ENSG00000108387</td>\n",
       "    </tr>\n",
       "    <tr>\n",
       "      <th>30137</th>\n",
       "      <td>SEPTIN4</td>\n",
       "      <td>SIDG34083</td>\n",
       "      <td>1.701675</td>\n",
       "      <td>ENSG00000108387</td>\n",
       "    </tr>\n",
       "  </tbody>\n",
       "</table>\n",
       "</div>"
      ]
     },
     "execution_count": 23,
     "metadata": {},
     "output_type": "execute_result"
    }
   ],
   "execution_count": 23
  },
  {
   "metadata": {},
   "cell_type": "markdown",
   "source": "### Clean up",
   "id": "ab3e2e3ceceb6fcd"
  },
  {
   "metadata": {
    "ExecuteTime": {
     "end_time": "2024-11-27T14:56:19.164668Z",
     "start_time": "2024-11-27T14:56:19.137905Z"
    }
   },
   "cell_type": "code",
   "source": [
    "df_cmp_ens.dropna(subset=[\"Gene_stable_ID\"], inplace=True)\n",
    "df_cmp_ens.rename(columns={\"Gene_stable_ID\": \"Gene ID\", \n",
    "                           \"tpm\":\"cancerous TPM\", \n",
    "                           \"gene_name\": \"Gene Name\" }, inplace=True)\n",
    "\n",
    "# reorder columns\n",
    "df_cmp = df_cmp_ens[['Gene ID', 'Gene Name', 'cancerous TPM']]\n",
    "\n",
    "df_cmp"
   ],
   "id": "d7ebbc994e9fb544",
   "outputs": [
    {
     "data": {
      "text/plain": [
       "               Gene ID Gene Name  cancerous TPM\n",
       "0      ENSG00000121410      A1BG       0.827192\n",
       "1      ENSG00000268895  A1BG-AS1       4.676305\n",
       "2      ENSG00000148584      A1CF       1.355369\n",
       "3      ENSG00000175899       A2M       1.669212\n",
       "4      ENSG00000245105   A2M-AS1       1.033596\n",
       "...                ...       ...            ...\n",
       "37257  ENSG00000232242  ZYG11AP1       0.000887\n",
       "37258  ENSG00000162378    ZYG11B      21.124039\n",
       "37260  ENSG00000274572     ZYXP1       0.000000\n",
       "37261  ENSG00000074755     ZZEF1      17.697980\n",
       "37262  ENSG00000036549      ZZZ3      26.655271\n",
       "\n",
       "[33503 rows x 3 columns]"
      ],
      "text/html": [
       "<div>\n",
       "<style scoped>\n",
       "    .dataframe tbody tr th:only-of-type {\n",
       "        vertical-align: middle;\n",
       "    }\n",
       "\n",
       "    .dataframe tbody tr th {\n",
       "        vertical-align: top;\n",
       "    }\n",
       "\n",
       "    .dataframe thead th {\n",
       "        text-align: right;\n",
       "    }\n",
       "</style>\n",
       "<table border=\"1\" class=\"dataframe\">\n",
       "  <thead>\n",
       "    <tr style=\"text-align: right;\">\n",
       "      <th></th>\n",
       "      <th>Gene ID</th>\n",
       "      <th>Gene Name</th>\n",
       "      <th>cancerous TPM</th>\n",
       "    </tr>\n",
       "  </thead>\n",
       "  <tbody>\n",
       "    <tr>\n",
       "      <th>0</th>\n",
       "      <td>ENSG00000121410</td>\n",
       "      <td>A1BG</td>\n",
       "      <td>0.827192</td>\n",
       "    </tr>\n",
       "    <tr>\n",
       "      <th>1</th>\n",
       "      <td>ENSG00000268895</td>\n",
       "      <td>A1BG-AS1</td>\n",
       "      <td>4.676305</td>\n",
       "    </tr>\n",
       "    <tr>\n",
       "      <th>2</th>\n",
       "      <td>ENSG00000148584</td>\n",
       "      <td>A1CF</td>\n",
       "      <td>1.355369</td>\n",
       "    </tr>\n",
       "    <tr>\n",
       "      <th>3</th>\n",
       "      <td>ENSG00000175899</td>\n",
       "      <td>A2M</td>\n",
       "      <td>1.669212</td>\n",
       "    </tr>\n",
       "    <tr>\n",
       "      <th>4</th>\n",
       "      <td>ENSG00000245105</td>\n",
       "      <td>A2M-AS1</td>\n",
       "      <td>1.033596</td>\n",
       "    </tr>\n",
       "    <tr>\n",
       "      <th>...</th>\n",
       "      <td>...</td>\n",
       "      <td>...</td>\n",
       "      <td>...</td>\n",
       "    </tr>\n",
       "    <tr>\n",
       "      <th>37257</th>\n",
       "      <td>ENSG00000232242</td>\n",
       "      <td>ZYG11AP1</td>\n",
       "      <td>0.000887</td>\n",
       "    </tr>\n",
       "    <tr>\n",
       "      <th>37258</th>\n",
       "      <td>ENSG00000162378</td>\n",
       "      <td>ZYG11B</td>\n",
       "      <td>21.124039</td>\n",
       "    </tr>\n",
       "    <tr>\n",
       "      <th>37260</th>\n",
       "      <td>ENSG00000274572</td>\n",
       "      <td>ZYXP1</td>\n",
       "      <td>0.000000</td>\n",
       "    </tr>\n",
       "    <tr>\n",
       "      <th>37261</th>\n",
       "      <td>ENSG00000074755</td>\n",
       "      <td>ZZEF1</td>\n",
       "      <td>17.697980</td>\n",
       "    </tr>\n",
       "    <tr>\n",
       "      <th>37262</th>\n",
       "      <td>ENSG00000036549</td>\n",
       "      <td>ZZZ3</td>\n",
       "      <td>26.655271</td>\n",
       "    </tr>\n",
       "  </tbody>\n",
       "</table>\n",
       "<p>33503 rows × 3 columns</p>\n",
       "</div>"
      ]
     },
     "execution_count": 24,
     "metadata": {},
     "output_type": "execute_result"
    }
   ],
   "execution_count": 24
  },
  {
   "metadata": {},
   "cell_type": "markdown",
   "source": "### Save Data",
   "id": "f6139e1923b4cce9"
  },
  {
   "metadata": {
    "ExecuteTime": {
     "end_time": "2024-11-27T14:56:19.497782Z",
     "start_time": "2024-11-27T14:56:19.418482Z"
    }
   },
   "cell_type": "code",
   "source": [
    "df_cmp.to_csv(\"../processed_data/CMP_cancer_mean.csv\", index=False)\n",
    "print(f'There are {df_cmp.shape[0]} rows/genes in the saved dataset.')"
   ],
   "id": "97faad750e622768",
   "outputs": [
    {
     "name": "stdout",
     "output_type": "stream",
     "text": [
      "There are 33503 rows/genes in the saved dataset.\n"
     ]
    }
   ],
   "execution_count": 25
  },
  {
   "metadata": {
    "ExecuteTime": {
     "end_time": "2024-11-27T14:56:20.426657Z",
     "start_time": "2024-11-27T14:56:19.615750Z"
    }
   },
   "cell_type": "code",
   "source": "dfi.export(df_cmp.head(5), \"../tex/figures/03_01_CMP_cancer_mean.png\")",
   "id": "a822ffebd2b73fee",
   "outputs": [],
   "execution_count": 26
  }
 ],
 "metadata": {
  "kernelspec": {
   "display_name": "Python 3",
   "language": "python",
   "name": "python3"
  },
  "language_info": {
   "codemirror_mode": {
    "name": "ipython",
    "version": 2
   },
   "file_extension": ".py",
   "mimetype": "text/x-python",
   "name": "python",
   "nbconvert_exporter": "python",
   "pygments_lexer": "ipython2",
   "version": "2.7.6"
  }
 },
 "nbformat": 4,
 "nbformat_minor": 5
}
