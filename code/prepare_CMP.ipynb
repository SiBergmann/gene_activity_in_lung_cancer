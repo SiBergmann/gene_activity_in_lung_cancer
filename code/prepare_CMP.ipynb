{
 "cells": [
  {
   "metadata": {},
   "cell_type": "markdown",
   "source": [
    "# Data from Cell Modell Passport\n",
    "Link: https://cellmodelpassports.sanger.ac.uk/downloads\n",
    "\n",
    "Expression Data → all RNA Seq processed Data\n",
    "\n",
    "All tissues are cancer tissues. We need to filter for lung cancer.\n",
    "\n",
    "**Output file format:**\n",
    "* id\n",
    "* name\n",
    "* tpm"
   ],
   "id": "c61097af660cd39"
  },
  {
   "metadata": {
    "ExecuteTime": {
     "end_time": "2024-10-12T07:43:08.518410Z",
     "start_time": "2024-10-12T07:43:01.381773Z"
    }
   },
   "cell_type": "code",
   "source": "import pandas as pd",
   "id": "fbc121e30a2defb3",
   "outputs": [],
   "execution_count": 1
  },
  {
   "metadata": {},
   "cell_type": "markdown",
   "source": [
    "\n",
    ", a comprehensive resource for studying cancer-related gene expression.\n",
    "\n",
    ", a comprehensive resource for studying cancer-related gene expression.\n",
    "\n",
    ", a comprehensive resource for studying cancer-related gene expression.\n",
    "## Model infos for cancer type\n",
    "loaded from Model Annotation → list of all annotated models\n",
    "\n",
    "Needed for filtering `all data` for lung cancer"
   ],
   "id": "7b236dfa41d3952"
  },
  {
   "metadata": {
    "ExecuteTime": {
     "end_time": "2024-10-12T07:43:08.568753Z",
     "start_time": "2024-10-12T07:43:08.518410Z"
    }
   },
   "cell_type": "code",
   "source": [
    "file = \"../import_data/CMP/model_list_20240110.csv\"\n",
    "\n",
    "# load data\n",
    "df_model_info = pd.read_csv(file, delimiter=',', usecols=['model_id', 'tissue', 'cancer_type', 'tissue_status', 'cancer_type_detail'])\n",
    "\n",
    "\n",
    "# filter for lung cancer\n",
    "lung_cancer = ['Small Cell Lung Carcinoma', 'Non-Small Cell Lung Carcinoma', 'Squamous Cell Lung Carcinoma']\n",
    "df_model_info_lung = df_model_info.where(df_model_info[\"cancer_type\"].isin(lung_cancer)).dropna()\n",
    "\n",
    "df_model_info_lung.head(5)"
   ],
   "id": "e949a7a6a1475a15",
   "outputs": [
    {
     "data": {
      "text/plain": [
       "     model_id tissue                    cancer_type tissue_status  \\\n",
       "13  SIDM01387   Lung      Small Cell Lung Carcinoma    Metastasis   \n",
       "18  SIDM00990   Lung  Non-Small Cell Lung Carcinoma    Metastasis   \n",
       "20  SIDM00019   Lung  Non-Small Cell Lung Carcinoma    Metastasis   \n",
       "28  SIDM00046   Lung  Non-Small Cell Lung Carcinoma       Unknown   \n",
       "30  SIDM01069   Lung  Non-Small Cell Lung Carcinoma        Tumour   \n",
       "\n",
       "               cancer_type_detail  \n",
       "13      Small Cell Lung Carcinoma  \n",
       "18  Non-Small Cell Lung Carcinoma  \n",
       "20  Papillary Lung Adenocarcinoma  \n",
       "28            Lung Adenocarcinoma  \n",
       "30            Lung Adenocarcinoma  "
      ],
      "text/html": [
       "<div>\n",
       "<style scoped>\n",
       "    .dataframe tbody tr th:only-of-type {\n",
       "        vertical-align: middle;\n",
       "    }\n",
       "\n",
       "    .dataframe tbody tr th {\n",
       "        vertical-align: top;\n",
       "    }\n",
       "\n",
       "    .dataframe thead th {\n",
       "        text-align: right;\n",
       "    }\n",
       "</style>\n",
       "<table border=\"1\" class=\"dataframe\">\n",
       "  <thead>\n",
       "    <tr style=\"text-align: right;\">\n",
       "      <th></th>\n",
       "      <th>model_id</th>\n",
       "      <th>tissue</th>\n",
       "      <th>cancer_type</th>\n",
       "      <th>tissue_status</th>\n",
       "      <th>cancer_type_detail</th>\n",
       "    </tr>\n",
       "  </thead>\n",
       "  <tbody>\n",
       "    <tr>\n",
       "      <th>13</th>\n",
       "      <td>SIDM01387</td>\n",
       "      <td>Lung</td>\n",
       "      <td>Small Cell Lung Carcinoma</td>\n",
       "      <td>Metastasis</td>\n",
       "      <td>Small Cell Lung Carcinoma</td>\n",
       "    </tr>\n",
       "    <tr>\n",
       "      <th>18</th>\n",
       "      <td>SIDM00990</td>\n",
       "      <td>Lung</td>\n",
       "      <td>Non-Small Cell Lung Carcinoma</td>\n",
       "      <td>Metastasis</td>\n",
       "      <td>Non-Small Cell Lung Carcinoma</td>\n",
       "    </tr>\n",
       "    <tr>\n",
       "      <th>20</th>\n",
       "      <td>SIDM00019</td>\n",
       "      <td>Lung</td>\n",
       "      <td>Non-Small Cell Lung Carcinoma</td>\n",
       "      <td>Metastasis</td>\n",
       "      <td>Papillary Lung Adenocarcinoma</td>\n",
       "    </tr>\n",
       "    <tr>\n",
       "      <th>28</th>\n",
       "      <td>SIDM00046</td>\n",
       "      <td>Lung</td>\n",
       "      <td>Non-Small Cell Lung Carcinoma</td>\n",
       "      <td>Unknown</td>\n",
       "      <td>Lung Adenocarcinoma</td>\n",
       "    </tr>\n",
       "    <tr>\n",
       "      <th>30</th>\n",
       "      <td>SIDM01069</td>\n",
       "      <td>Lung</td>\n",
       "      <td>Non-Small Cell Lung Carcinoma</td>\n",
       "      <td>Tumour</td>\n",
       "      <td>Lung Adenocarcinoma</td>\n",
       "    </tr>\n",
       "  </tbody>\n",
       "</table>\n",
       "</div>"
      ]
     },
     "execution_count": 2,
     "metadata": {},
     "output_type": "execute_result"
    }
   ],
   "execution_count": 2
  },
  {
   "metadata": {
    "ExecuteTime": {
     "end_time": "2024-10-12T07:43:08.573235Z",
     "start_time": "2024-10-12T07:43:08.568753Z"
    }
   },
   "cell_type": "code",
   "source": [
    "# List of model_ids with lung cancer\n",
    "model_ids_lung = df_model_info_lung[\"model_id\"].to_list()"
   ],
   "id": "2f28a35e615c6a9f",
   "outputs": [],
   "execution_count": 3
  },
  {
   "metadata": {},
   "cell_type": "markdown",
   "source": [
    "## Expression data\n",
    "\n",
    "cancerous RNA Seq Data from from different cell models. \n",
    "\n",
    "**columns:**\n",
    "- id\n",
    "- gene_symbol\n",
    "- dataset_id\n",
    "- data_source: Organisation or Project that provided the data\n",
    "- model_id: gezüchtete Zelle / Zelllinie (ist die \"Probe\")\n",
    "- tpm"
   ],
   "id": "8c0a974a08f0a549"
  },
  {
   "metadata": {
    "ExecuteTime": {
     "end_time": "2024-10-12T07:43:42.112317Z",
     "start_time": "2024-10-12T07:43:08.573235Z"
    }
   },
   "cell_type": "code",
   "source": [
    "# read in the data\n",
    "file = \"../import_data/CMP/rnaseq_all_data_20220624.csv\"\n",
    "df_cmp_all = pd.read_csv(file, delimiter=\",\", usecols=[\"id\", \"gene_symbol\", \"dataset_id\", \"data_source\", \"model_id\", \"tpm\"])\n",
    "\n",
    "print(\"There are {} rows in the import_data.\".format(df_cmp_all.shape[0]))\n",
    "\n",
    "df_cmp_all.head()"
   ],
   "id": "ed884db44821827d",
   "outputs": [
    {
     "name": "stdout",
     "output_type": "stream",
     "text": [
      "There are 53348469 rows in the import_data.\n"
     ]
    },
    {
     "data": {
      "text/plain": [
       "   dataset_id         id   model_id    tpm data_source gene_symbol\n",
       "0          22  133594790  SIDM01313  14.41      Sanger      CASP10\n",
       "1          22  133630300  SIDM01313   0.64      Sanger      NBPF10\n",
       "2          22  133630301  SIDM01313   0.39      Sanger    RPL17P51\n",
       "3          22  133630302  SIDM01313   0.00      Sanger      PPATP2\n",
       "4          22  133630303  SIDM01313   3.32      Sanger       MMP28"
      ],
      "text/html": [
       "<div>\n",
       "<style scoped>\n",
       "    .dataframe tbody tr th:only-of-type {\n",
       "        vertical-align: middle;\n",
       "    }\n",
       "\n",
       "    .dataframe tbody tr th {\n",
       "        vertical-align: top;\n",
       "    }\n",
       "\n",
       "    .dataframe thead th {\n",
       "        text-align: right;\n",
       "    }\n",
       "</style>\n",
       "<table border=\"1\" class=\"dataframe\">\n",
       "  <thead>\n",
       "    <tr style=\"text-align: right;\">\n",
       "      <th></th>\n",
       "      <th>dataset_id</th>\n",
       "      <th>id</th>\n",
       "      <th>model_id</th>\n",
       "      <th>tpm</th>\n",
       "      <th>data_source</th>\n",
       "      <th>gene_symbol</th>\n",
       "    </tr>\n",
       "  </thead>\n",
       "  <tbody>\n",
       "    <tr>\n",
       "      <th>0</th>\n",
       "      <td>22</td>\n",
       "      <td>133594790</td>\n",
       "      <td>SIDM01313</td>\n",
       "      <td>14.41</td>\n",
       "      <td>Sanger</td>\n",
       "      <td>CASP10</td>\n",
       "    </tr>\n",
       "    <tr>\n",
       "      <th>1</th>\n",
       "      <td>22</td>\n",
       "      <td>133630300</td>\n",
       "      <td>SIDM01313</td>\n",
       "      <td>0.64</td>\n",
       "      <td>Sanger</td>\n",
       "      <td>NBPF10</td>\n",
       "    </tr>\n",
       "    <tr>\n",
       "      <th>2</th>\n",
       "      <td>22</td>\n",
       "      <td>133630301</td>\n",
       "      <td>SIDM01313</td>\n",
       "      <td>0.39</td>\n",
       "      <td>Sanger</td>\n",
       "      <td>RPL17P51</td>\n",
       "    </tr>\n",
       "    <tr>\n",
       "      <th>3</th>\n",
       "      <td>22</td>\n",
       "      <td>133630302</td>\n",
       "      <td>SIDM01313</td>\n",
       "      <td>0.00</td>\n",
       "      <td>Sanger</td>\n",
       "      <td>PPATP2</td>\n",
       "    </tr>\n",
       "    <tr>\n",
       "      <th>4</th>\n",
       "      <td>22</td>\n",
       "      <td>133630303</td>\n",
       "      <td>SIDM01313</td>\n",
       "      <td>3.32</td>\n",
       "      <td>Sanger</td>\n",
       "      <td>MMP28</td>\n",
       "    </tr>\n",
       "  </tbody>\n",
       "</table>\n",
       "</div>"
      ]
     },
     "execution_count": 4,
     "metadata": {},
     "output_type": "execute_result"
    }
   ],
   "execution_count": 4
  },
  {
   "metadata": {},
   "cell_type": "markdown",
   "source": "### Clean Dataframe",
   "id": "4f4dc1006d9d177c"
  },
  {
   "metadata": {
    "ExecuteTime": {
     "end_time": "2024-10-12T07:43:43.013361Z",
     "start_time": "2024-10-12T07:43:42.112317Z"
    }
   },
   "cell_type": "code",
   "source": [
    "df_cmp_all.drop(columns=[\"dataset_id\", \"data_source\", \"id\"], inplace=True)\n",
    "df_cmp_all.rename(columns={\"gene_symbol\": \"name\"}, inplace=True)"
   ],
   "id": "3d72528b1f8d56c3",
   "outputs": [],
   "execution_count": 5
  },
  {
   "metadata": {
    "ExecuteTime": {
     "end_time": "2024-10-12T07:43:47.204942Z",
     "start_time": "2024-10-12T07:43:43.013361Z"
    }
   },
   "cell_type": "code",
   "source": [
    "# filter rows with lung cancer model ids\n",
    "df_cmp_all = df_cmp_all.where(df_cmp_all[\"model_id\"].isin(model_ids_lung)).dropna()\n",
    "\n",
    "print(\"There are {} rows with lung cancer data.\".format(df_cmp_all.shape[0]))"
   ],
   "id": "f2624694764ecc04",
   "outputs": [
    {
     "name": "stdout",
     "output_type": "stream",
     "text": [
      "There are 7564389 rows with lung cancer data.\n"
     ]
    }
   ],
   "execution_count": 6
  },
  {
   "metadata": {},
   "cell_type": "markdown",
   "source": "### Analyze Dataset",
   "id": "c7cd133489e07e31"
  },
  {
   "metadata": {
    "ExecuteTime": {
     "end_time": "2024-10-12T07:47:50.898519Z",
     "start_time": "2024-10-12T07:47:49.966599Z"
    }
   },
   "cell_type": "code",
   "source": [
    "# check for missing values\n",
    "missing_values = df_cmp_all.isnull().sum()\n",
    "\n",
    "# TPM Ranges\n",
    "min_tpm = df_cmp_all[\"tpm\"].min()\n",
    "max_tpm = df_cmp_all[\"tpm\"].max()\n",
    "\n",
    "# genes\n",
    "n_genes = df_cmp_all[\"name\"].nunique()\n",
    "\n",
    "# tissues\n",
    "n_tissues = df_cmp_all[\"model_id\"].nunique()\n",
    "\n",
    "print(f\"Missing values:\\n\"\n",
    "      f\"{missing_values}\\n\")\n",
    "\n",
    "print(f\"Min TPM: {min_tpm}\")\n",
    "print(f\"Max TPM: {max_tpm}\\n\")\n",
    "\n",
    "print(f\"Number of genes: {n_genes}\")\n",
    "print(f\"Number of tissues: {n_tissues}\")"
   ],
   "id": "19121f7cf4c7c7ed",
   "outputs": [
    {
     "name": "stdout",
     "output_type": "stream",
     "text": [
      "Missing values:\n",
      "model_id    0\n",
      "tpm         0\n",
      "name        0\n",
      "dtype: int64\n",
      "\n",
      "Min TPM: 0.0\n",
      "Max TPM: 132676.0\n",
      "\n",
      "Number of genes: 37262\n",
      "Number of tissues: 203\n"
     ]
    }
   ],
   "execution_count": 9
  },
  {
   "metadata": {},
   "cell_type": "markdown",
   "source": [
    "\n",
    "We then merged this file with our CMP data on the gene names to retrieve the ENS IDs for each gene.\n",
    "\n",
    "After merging the data, we found that 3,760 genes had no ENS ID associated with them.\n",
    "Since these genes were likely duplicates or did not exist in the Ensemble file, we removed them from our dataset to ensure consistency and accuracy of our analysis.\n",
    "### Group Data to mean values"
   ],
   "id": "5c2db4873a5476c3"
  },
  {
   "metadata": {
    "ExecuteTime": {
     "end_time": "2024-09-12T12:25:16.968240Z",
     "start_time": "2024-09-12T12:25:16.382188Z"
    }
   },
   "cell_type": "code",
   "source": [
    "df_cmp_all.drop(columns=[\"model_id\"], inplace=True)\n",
    "df_cmp_group = df_cmp_all.groupby([\"name\"]).mean().reset_index()\n",
    "\n",
    "print(\"There are {} rows in the grouped dataset.\".format(df_cmp_group.shape[0]))\n",
    "df_cmp_group"
   ],
   "id": "70d8a4ca5dacc3c",
   "outputs": [
    {
     "name": "stdout",
     "output_type": "stream",
     "text": [
      "There are 37262 rows in the grouped dataset.\n"
     ]
    },
    {
     "data": {
      "text/plain": [
       "           name        tpm\n",
       "0          A1BG   0.827192\n",
       "1      A1BG-AS1   4.676305\n",
       "2          A1CF   1.355369\n",
       "3           A2M   1.669212\n",
       "4       A2M-AS1   1.033596\n",
       "...         ...        ...\n",
       "37257    ZYG11B  21.124039\n",
       "37258       ZYX  99.636946\n",
       "37259     ZYXP1   0.000000\n",
       "37260     ZZEF1  17.697980\n",
       "37261      ZZZ3  26.655271\n",
       "\n",
       "[37262 rows x 2 columns]"
      ],
      "text/html": [
       "<div>\n",
       "<style scoped>\n",
       "    .dataframe tbody tr th:only-of-type {\n",
       "        vertical-align: middle;\n",
       "    }\n",
       "\n",
       "    .dataframe tbody tr th {\n",
       "        vertical-align: top;\n",
       "    }\n",
       "\n",
       "    .dataframe thead th {\n",
       "        text-align: right;\n",
       "    }\n",
       "</style>\n",
       "<table border=\"1\" class=\"dataframe\">\n",
       "  <thead>\n",
       "    <tr style=\"text-align: right;\">\n",
       "      <th></th>\n",
       "      <th>name</th>\n",
       "      <th>tpm</th>\n",
       "    </tr>\n",
       "  </thead>\n",
       "  <tbody>\n",
       "    <tr>\n",
       "      <th>0</th>\n",
       "      <td>A1BG</td>\n",
       "      <td>0.827192</td>\n",
       "    </tr>\n",
       "    <tr>\n",
       "      <th>1</th>\n",
       "      <td>A1BG-AS1</td>\n",
       "      <td>4.676305</td>\n",
       "    </tr>\n",
       "    <tr>\n",
       "      <th>2</th>\n",
       "      <td>A1CF</td>\n",
       "      <td>1.355369</td>\n",
       "    </tr>\n",
       "    <tr>\n",
       "      <th>3</th>\n",
       "      <td>A2M</td>\n",
       "      <td>1.669212</td>\n",
       "    </tr>\n",
       "    <tr>\n",
       "      <th>4</th>\n",
       "      <td>A2M-AS1</td>\n",
       "      <td>1.033596</td>\n",
       "    </tr>\n",
       "    <tr>\n",
       "      <th>...</th>\n",
       "      <td>...</td>\n",
       "      <td>...</td>\n",
       "    </tr>\n",
       "    <tr>\n",
       "      <th>37257</th>\n",
       "      <td>ZYG11B</td>\n",
       "      <td>21.124039</td>\n",
       "    </tr>\n",
       "    <tr>\n",
       "      <th>37258</th>\n",
       "      <td>ZYX</td>\n",
       "      <td>99.636946</td>\n",
       "    </tr>\n",
       "    <tr>\n",
       "      <th>37259</th>\n",
       "      <td>ZYXP1</td>\n",
       "      <td>0.000000</td>\n",
       "    </tr>\n",
       "    <tr>\n",
       "      <th>37260</th>\n",
       "      <td>ZZEF1</td>\n",
       "      <td>17.697980</td>\n",
       "    </tr>\n",
       "    <tr>\n",
       "      <th>37261</th>\n",
       "      <td>ZZZ3</td>\n",
       "      <td>26.655271</td>\n",
       "    </tr>\n",
       "  </tbody>\n",
       "</table>\n",
       "<p>37262 rows × 2 columns</p>\n",
       "</div>"
      ]
     },
     "execution_count": 7,
     "metadata": {},
     "output_type": "execute_result"
    }
   ],
   "execution_count": 7
  },
  {
   "metadata": {},
   "cell_type": "markdown",
   "source": [
    "## Ensemble Dataset\n",
    "Downloaded via Biomart\n",
    "\n"
   ],
   "id": "75c60cc04429ffa7"
  },
  {
   "metadata": {
    "ExecuteTime": {
     "end_time": "2024-09-12T12:33:31.104554Z",
     "start_time": "2024-09-12T12:33:31.044692Z"
    }
   },
   "cell_type": "code",
   "source": [
    "df_ensembl = pd.read_csv(\"../import_data/ENSEMBLE/ensemble_gene_id.txt\", delimiter=\"\\t\")\n",
    "df_ensembl.rename(columns={\"gene_symbol\": \"name\"}, inplace=True)\n",
    "\n",
    "# drop rows without gene_symbol\n",
    "df_ensembl.drop(df_ensembl[df_ensembl[\"name\"].isnull()].index, inplace=True)\n",
    "\n",
    "df_ensembl"
   ],
   "id": "feb44ab516036fd3",
   "outputs": [
    {
     "data": {
      "text/plain": [
       "    Gene_stable_ID     name\n",
       "0  ENSG00000210049    MT-TF\n",
       "1  ENSG00000211459  MT-RNR1\n",
       "2  ENSG00000210077    MT-TV\n",
       "3  ENSG00000210082  MT-RNR2\n",
       "4  ENSG00000209082   MT-TL1"
      ],
      "text/html": [
       "<div>\n",
       "<style scoped>\n",
       "    .dataframe tbody tr th:only-of-type {\n",
       "        vertical-align: middle;\n",
       "    }\n",
       "\n",
       "    .dataframe tbody tr th {\n",
       "        vertical-align: top;\n",
       "    }\n",
       "\n",
       "    .dataframe thead th {\n",
       "        text-align: right;\n",
       "    }\n",
       "</style>\n",
       "<table border=\"1\" class=\"dataframe\">\n",
       "  <thead>\n",
       "    <tr style=\"text-align: right;\">\n",
       "      <th></th>\n",
       "      <th>Gene_stable_ID</th>\n",
       "      <th>name</th>\n",
       "    </tr>\n",
       "  </thead>\n",
       "  <tbody>\n",
       "    <tr>\n",
       "      <th>0</th>\n",
       "      <td>ENSG00000210049</td>\n",
       "      <td>MT-TF</td>\n",
       "    </tr>\n",
       "    <tr>\n",
       "      <th>1</th>\n",
       "      <td>ENSG00000211459</td>\n",
       "      <td>MT-RNR1</td>\n",
       "    </tr>\n",
       "    <tr>\n",
       "      <th>2</th>\n",
       "      <td>ENSG00000210077</td>\n",
       "      <td>MT-TV</td>\n",
       "    </tr>\n",
       "    <tr>\n",
       "      <th>3</th>\n",
       "      <td>ENSG00000210082</td>\n",
       "      <td>MT-RNR2</td>\n",
       "    </tr>\n",
       "    <tr>\n",
       "      <th>4</th>\n",
       "      <td>ENSG00000209082</td>\n",
       "      <td>MT-TL1</td>\n",
       "    </tr>\n",
       "  </tbody>\n",
       "</table>\n",
       "</div>"
      ]
     },
     "execution_count": 19,
     "metadata": {},
     "output_type": "execute_result"
    }
   ],
   "execution_count": 19
  },
  {
   "metadata": {
    "ExecuteTime": {
     "end_time": "2024-09-12T12:39:36.258788Z",
     "start_time": "2024-09-12T12:39:36.249547Z"
    }
   },
   "cell_type": "code",
   "source": [
    "duplicate_names = df_ensembl[\"name\"].duplicated(keep=False).sum()\n",
    "rows = df_ensembl.shape[0]\n",
    "print(f'{duplicate_names} from {rows} do not have a unique gene names in ENS Dataset')"
   ],
   "id": "79719a3b651c065d",
   "outputs": [
    {
     "name": "stdout",
     "output_type": "stream",
     "text": [
      "10605 from 48311 do not have a unique gene names in ENS Dataset\n"
     ]
    }
   ],
   "execution_count": 22
  },
  {
   "metadata": {},
   "cell_type": "markdown",
   "source": [
    "PROBLEM: There are gene names that are not unique.\n",
    "\n",
    "→ If the names are not unique, we cannot merge the data on the gene names with our dataset."
   ],
   "id": "eb3e5c58c0904417"
  },
  {
   "metadata": {
    "ExecuteTime": {
     "end_time": "2024-09-12T12:25:17.041764Z",
     "start_time": "2024-09-12T12:25:17.026496Z"
    }
   },
   "cell_type": "code",
   "source": [
    "# delete all rows with not unique gene names\n",
    "df_ensembl_unique = df_ensembl.drop_duplicates(subset=[\"name\"], keep=False)\n",
    "\n",
    "df_ensembl_unique"
   ],
   "id": "9f864813a950325e",
   "outputs": [
    {
     "data": {
      "text/plain": [
       "        Gene_stable_ID       name\n",
       "0      ENSG00000210049      MT-TF\n",
       "1      ENSG00000211459    MT-RNR1\n",
       "2      ENSG00000210077      MT-TV\n",
       "3      ENSG00000210082    MT-RNR2\n",
       "4      ENSG00000209082     MT-TL1\n",
       "...                ...        ...\n",
       "70606  ENSG00000232679  LINC01705\n",
       "70607  ENSG00000200033  RNU6-403P\n",
       "70608  ENSG00000228437  LINC02474\n",
       "70609  ENSG00000229463   LYST-AS1\n",
       "70610  ENSG00000229291  LINC02768\n",
       "\n",
       "[37706 rows x 2 columns]"
      ],
      "text/html": [
       "<div>\n",
       "<style scoped>\n",
       "    .dataframe tbody tr th:only-of-type {\n",
       "        vertical-align: middle;\n",
       "    }\n",
       "\n",
       "    .dataframe tbody tr th {\n",
       "        vertical-align: top;\n",
       "    }\n",
       "\n",
       "    .dataframe thead th {\n",
       "        text-align: right;\n",
       "    }\n",
       "</style>\n",
       "<table border=\"1\" class=\"dataframe\">\n",
       "  <thead>\n",
       "    <tr style=\"text-align: right;\">\n",
       "      <th></th>\n",
       "      <th>Gene_stable_ID</th>\n",
       "      <th>name</th>\n",
       "    </tr>\n",
       "  </thead>\n",
       "  <tbody>\n",
       "    <tr>\n",
       "      <th>0</th>\n",
       "      <td>ENSG00000210049</td>\n",
       "      <td>MT-TF</td>\n",
       "    </tr>\n",
       "    <tr>\n",
       "      <th>1</th>\n",
       "      <td>ENSG00000211459</td>\n",
       "      <td>MT-RNR1</td>\n",
       "    </tr>\n",
       "    <tr>\n",
       "      <th>2</th>\n",
       "      <td>ENSG00000210077</td>\n",
       "      <td>MT-TV</td>\n",
       "    </tr>\n",
       "    <tr>\n",
       "      <th>3</th>\n",
       "      <td>ENSG00000210082</td>\n",
       "      <td>MT-RNR2</td>\n",
       "    </tr>\n",
       "    <tr>\n",
       "      <th>4</th>\n",
       "      <td>ENSG00000209082</td>\n",
       "      <td>MT-TL1</td>\n",
       "    </tr>\n",
       "    <tr>\n",
       "      <th>...</th>\n",
       "      <td>...</td>\n",
       "      <td>...</td>\n",
       "    </tr>\n",
       "    <tr>\n",
       "      <th>70606</th>\n",
       "      <td>ENSG00000232679</td>\n",
       "      <td>LINC01705</td>\n",
       "    </tr>\n",
       "    <tr>\n",
       "      <th>70607</th>\n",
       "      <td>ENSG00000200033</td>\n",
       "      <td>RNU6-403P</td>\n",
       "    </tr>\n",
       "    <tr>\n",
       "      <th>70608</th>\n",
       "      <td>ENSG00000228437</td>\n",
       "      <td>LINC02474</td>\n",
       "    </tr>\n",
       "    <tr>\n",
       "      <th>70609</th>\n",
       "      <td>ENSG00000229463</td>\n",
       "      <td>LYST-AS1</td>\n",
       "    </tr>\n",
       "    <tr>\n",
       "      <th>70610</th>\n",
       "      <td>ENSG00000229291</td>\n",
       "      <td>LINC02768</td>\n",
       "    </tr>\n",
       "  </tbody>\n",
       "</table>\n",
       "<p>37706 rows × 2 columns</p>\n",
       "</div>"
      ]
     },
     "execution_count": 10,
     "metadata": {},
     "output_type": "execute_result"
    }
   ],
   "execution_count": 10
  },
  {
   "metadata": {},
   "cell_type": "markdown",
   "source": "## Merge Data",
   "id": "c49a278c68a0e917"
  },
  {
   "metadata": {
    "ExecuteTime": {
     "end_time": "2024-09-12T12:44:23.946060Z",
     "start_time": "2024-09-12T12:44:23.909664Z"
    }
   },
   "cell_type": "code",
   "source": [
    "df_cmp_ens = pd.merge(df_cmp_group, df_ensembl_unique, on=\"name\", how=\"left\")\n",
    "df_cmp_ens"
   ],
   "id": "86e0f123518f5f7",
   "outputs": [
    {
     "data": {
      "text/plain": [
       "           name        tpm   Gene_stable_ID\n",
       "0          A1BG   0.827192  ENSG00000121410\n",
       "1      A1BG-AS1   4.676305  ENSG00000268895\n",
       "2          A1CF   1.355369  ENSG00000148584\n",
       "3           A2M   1.669212  ENSG00000175899\n",
       "4       A2M-AS1   1.033596  ENSG00000245105\n",
       "...         ...        ...              ...\n",
       "37257    ZYG11B  21.124039  ENSG00000162378\n",
       "37258       ZYX  99.636946              NaN\n",
       "37259     ZYXP1   0.000000  ENSG00000274572\n",
       "37260     ZZEF1  17.697980  ENSG00000074755\n",
       "37261      ZZZ3  26.655271  ENSG00000036549\n",
       "\n",
       "[37262 rows x 3 columns]"
      ],
      "text/html": [
       "<div>\n",
       "<style scoped>\n",
       "    .dataframe tbody tr th:only-of-type {\n",
       "        vertical-align: middle;\n",
       "    }\n",
       "\n",
       "    .dataframe tbody tr th {\n",
       "        vertical-align: top;\n",
       "    }\n",
       "\n",
       "    .dataframe thead th {\n",
       "        text-align: right;\n",
       "    }\n",
       "</style>\n",
       "<table border=\"1\" class=\"dataframe\">\n",
       "  <thead>\n",
       "    <tr style=\"text-align: right;\">\n",
       "      <th></th>\n",
       "      <th>name</th>\n",
       "      <th>tpm</th>\n",
       "      <th>Gene_stable_ID</th>\n",
       "    </tr>\n",
       "  </thead>\n",
       "  <tbody>\n",
       "    <tr>\n",
       "      <th>0</th>\n",
       "      <td>A1BG</td>\n",
       "      <td>0.827192</td>\n",
       "      <td>ENSG00000121410</td>\n",
       "    </tr>\n",
       "    <tr>\n",
       "      <th>1</th>\n",
       "      <td>A1BG-AS1</td>\n",
       "      <td>4.676305</td>\n",
       "      <td>ENSG00000268895</td>\n",
       "    </tr>\n",
       "    <tr>\n",
       "      <th>2</th>\n",
       "      <td>A1CF</td>\n",
       "      <td>1.355369</td>\n",
       "      <td>ENSG00000148584</td>\n",
       "    </tr>\n",
       "    <tr>\n",
       "      <th>3</th>\n",
       "      <td>A2M</td>\n",
       "      <td>1.669212</td>\n",
       "      <td>ENSG00000175899</td>\n",
       "    </tr>\n",
       "    <tr>\n",
       "      <th>4</th>\n",
       "      <td>A2M-AS1</td>\n",
       "      <td>1.033596</td>\n",
       "      <td>ENSG00000245105</td>\n",
       "    </tr>\n",
       "    <tr>\n",
       "      <th>...</th>\n",
       "      <td>...</td>\n",
       "      <td>...</td>\n",
       "      <td>...</td>\n",
       "    </tr>\n",
       "    <tr>\n",
       "      <th>37257</th>\n",
       "      <td>ZYG11B</td>\n",
       "      <td>21.124039</td>\n",
       "      <td>ENSG00000162378</td>\n",
       "    </tr>\n",
       "    <tr>\n",
       "      <th>37258</th>\n",
       "      <td>ZYX</td>\n",
       "      <td>99.636946</td>\n",
       "      <td>NaN</td>\n",
       "    </tr>\n",
       "    <tr>\n",
       "      <th>37259</th>\n",
       "      <td>ZYXP1</td>\n",
       "      <td>0.000000</td>\n",
       "      <td>ENSG00000274572</td>\n",
       "    </tr>\n",
       "    <tr>\n",
       "      <th>37260</th>\n",
       "      <td>ZZEF1</td>\n",
       "      <td>17.697980</td>\n",
       "      <td>ENSG00000074755</td>\n",
       "    </tr>\n",
       "    <tr>\n",
       "      <th>37261</th>\n",
       "      <td>ZZZ3</td>\n",
       "      <td>26.655271</td>\n",
       "      <td>ENSG00000036549</td>\n",
       "    </tr>\n",
       "  </tbody>\n",
       "</table>\n",
       "<p>37262 rows × 3 columns</p>\n",
       "</div>"
      ]
     },
     "execution_count": 24,
     "metadata": {},
     "output_type": "execute_result"
    }
   ],
   "execution_count": 24
  },
  {
   "metadata": {
    "ExecuteTime": {
     "end_time": "2024-09-12T12:44:31.630814Z",
     "start_time": "2024-09-12T12:44:31.618588Z"
    }
   },
   "cell_type": "code",
   "source": [
    "# check Data with missing ENS\n",
    "missing_ens = df_cmp_ens[df_cmp_ens[\"Gene_stable_ID\"].isnull()]\n",
    "\n",
    "print(len(missing_ens), \"/\",len(df_cmp_ens),  \"still have no ENS ID\")\n",
    "missing_ens"
   ],
   "id": "38ad11c60a1c34b4",
   "outputs": [
    {
     "name": "stdout",
     "output_type": "stream",
     "text": [
      "3760 / 37262 still have no ENS ID\n"
     ]
    },
    {
     "data": {
      "text/plain": [
       "              name        tpm Gene_stable_ID\n",
       "8            A2MP1   0.035025            NaN\n",
       "12            AAAS  46.539015            NaN\n",
       "14          AACSP1   2.496207            NaN\n",
       "16         AADACL2   0.035813            NaN\n",
       "17     AADACL2-AS1   0.550640            NaN\n",
       "...            ...        ...            ...\n",
       "37197          ZP2   0.042167            NaN\n",
       "37207   ZRANB2-AS2   0.264926            NaN\n",
       "37218       ZSCAN2   6.817094            NaN\n",
       "37238       ZSWIM4  11.950049            NaN\n",
       "37258          ZYX  99.636946            NaN\n",
       "\n",
       "[3760 rows x 3 columns]"
      ],
      "text/html": [
       "<div>\n",
       "<style scoped>\n",
       "    .dataframe tbody tr th:only-of-type {\n",
       "        vertical-align: middle;\n",
       "    }\n",
       "\n",
       "    .dataframe tbody tr th {\n",
       "        vertical-align: top;\n",
       "    }\n",
       "\n",
       "    .dataframe thead th {\n",
       "        text-align: right;\n",
       "    }\n",
       "</style>\n",
       "<table border=\"1\" class=\"dataframe\">\n",
       "  <thead>\n",
       "    <tr style=\"text-align: right;\">\n",
       "      <th></th>\n",
       "      <th>name</th>\n",
       "      <th>tpm</th>\n",
       "      <th>Gene_stable_ID</th>\n",
       "    </tr>\n",
       "  </thead>\n",
       "  <tbody>\n",
       "    <tr>\n",
       "      <th>8</th>\n",
       "      <td>A2MP1</td>\n",
       "      <td>0.035025</td>\n",
       "      <td>NaN</td>\n",
       "    </tr>\n",
       "    <tr>\n",
       "      <th>12</th>\n",
       "      <td>AAAS</td>\n",
       "      <td>46.539015</td>\n",
       "      <td>NaN</td>\n",
       "    </tr>\n",
       "    <tr>\n",
       "      <th>14</th>\n",
       "      <td>AACSP1</td>\n",
       "      <td>2.496207</td>\n",
       "      <td>NaN</td>\n",
       "    </tr>\n",
       "    <tr>\n",
       "      <th>16</th>\n",
       "      <td>AADACL2</td>\n",
       "      <td>0.035813</td>\n",
       "      <td>NaN</td>\n",
       "    </tr>\n",
       "    <tr>\n",
       "      <th>17</th>\n",
       "      <td>AADACL2-AS1</td>\n",
       "      <td>0.550640</td>\n",
       "      <td>NaN</td>\n",
       "    </tr>\n",
       "    <tr>\n",
       "      <th>...</th>\n",
       "      <td>...</td>\n",
       "      <td>...</td>\n",
       "      <td>...</td>\n",
       "    </tr>\n",
       "    <tr>\n",
       "      <th>37197</th>\n",
       "      <td>ZP2</td>\n",
       "      <td>0.042167</td>\n",
       "      <td>NaN</td>\n",
       "    </tr>\n",
       "    <tr>\n",
       "      <th>37207</th>\n",
       "      <td>ZRANB2-AS2</td>\n",
       "      <td>0.264926</td>\n",
       "      <td>NaN</td>\n",
       "    </tr>\n",
       "    <tr>\n",
       "      <th>37218</th>\n",
       "      <td>ZSCAN2</td>\n",
       "      <td>6.817094</td>\n",
       "      <td>NaN</td>\n",
       "    </tr>\n",
       "    <tr>\n",
       "      <th>37238</th>\n",
       "      <td>ZSWIM4</td>\n",
       "      <td>11.950049</td>\n",
       "      <td>NaN</td>\n",
       "    </tr>\n",
       "    <tr>\n",
       "      <th>37258</th>\n",
       "      <td>ZYX</td>\n",
       "      <td>99.636946</td>\n",
       "      <td>NaN</td>\n",
       "    </tr>\n",
       "  </tbody>\n",
       "</table>\n",
       "<p>3760 rows × 3 columns</p>\n",
       "</div>"
      ]
     },
     "execution_count": 25,
     "metadata": {},
     "output_type": "execute_result"
    }
   ],
   "execution_count": 25
  },
  {
   "metadata": {},
   "cell_type": "markdown",
   "source": [
    "TODO: Which of these 3760 genes do not have a ENS ID because of duplcate names and which did not occur from the beginning?\n",
    "\n",
    "→ These genes with no ENS ID could get an ID by looking for ENS name aliases. But this makes tbe duplicate of names even worse.\n",
    "\n",
    "Solution: Since these are only a few gene, we will drop these rows."
   ],
   "id": "2c61b571560e1940"
  },
  {
   "metadata": {
    "ExecuteTime": {
     "end_time": "2024-09-12T12:44:40.640503Z",
     "start_time": "2024-09-12T12:44:40.632308Z"
    }
   },
   "cell_type": "code",
   "source": [
    "# show rows with duplicate names in df_cmp_ens\n",
    "df_cmp_ens[df_cmp_ens[\"name\"].duplicated(keep=False)]"
   ],
   "id": "2ccd81be19e68cd9",
   "outputs": [
    {
     "data": {
      "text/plain": [
       "Empty DataFrame\n",
       "Columns: [name, tpm, Gene_stable_ID]\n",
       "Index: []"
      ],
      "text/html": [
       "<div>\n",
       "<style scoped>\n",
       "    .dataframe tbody tr th:only-of-type {\n",
       "        vertical-align: middle;\n",
       "    }\n",
       "\n",
       "    .dataframe tbody tr th {\n",
       "        vertical-align: top;\n",
       "    }\n",
       "\n",
       "    .dataframe thead th {\n",
       "        text-align: right;\n",
       "    }\n",
       "</style>\n",
       "<table border=\"1\" class=\"dataframe\">\n",
       "  <thead>\n",
       "    <tr style=\"text-align: right;\">\n",
       "      <th></th>\n",
       "      <th>name</th>\n",
       "      <th>tpm</th>\n",
       "      <th>Gene_stable_ID</th>\n",
       "    </tr>\n",
       "  </thead>\n",
       "  <tbody>\n",
       "  </tbody>\n",
       "</table>\n",
       "</div>"
      ]
     },
     "execution_count": 26,
     "metadata": {},
     "output_type": "execute_result"
    }
   ],
   "execution_count": 26
  },
  {
   "metadata": {},
   "cell_type": "markdown",
   "source": "### Clean up",
   "id": "ab3e2e3ceceb6fcd"
  },
  {
   "metadata": {
    "ExecuteTime": {
     "end_time": "2024-09-12T12:44:43.061956Z",
     "start_time": "2024-09-12T12:44:43.048033Z"
    }
   },
   "cell_type": "code",
   "source": [
    "df_cmp_ens.dropna(subset=[\"Gene_stable_ID\"], inplace=True)\n",
    "df_cmp_ens.rename(columns={\"Gene_stable_ID\": \"id\"}, inplace=True)\n",
    "df_cmp_ens"
   ],
   "id": "d7ebbc994e9fb544",
   "outputs": [
    {
     "data": {
      "text/plain": [
       "           name        tpm               id\n",
       "0          A1BG   0.827192  ENSG00000121410\n",
       "1      A1BG-AS1   4.676305  ENSG00000268895\n",
       "2          A1CF   1.355369  ENSG00000148584\n",
       "3           A2M   1.669212  ENSG00000175899\n",
       "4       A2M-AS1   1.033596  ENSG00000245105\n",
       "...         ...        ...              ...\n",
       "37256  ZYG11AP1   0.000887  ENSG00000232242\n",
       "37257    ZYG11B  21.124039  ENSG00000162378\n",
       "37259     ZYXP1   0.000000  ENSG00000274572\n",
       "37260     ZZEF1  17.697980  ENSG00000074755\n",
       "37261      ZZZ3  26.655271  ENSG00000036549\n",
       "\n",
       "[33502 rows x 3 columns]"
      ],
      "text/html": [
       "<div>\n",
       "<style scoped>\n",
       "    .dataframe tbody tr th:only-of-type {\n",
       "        vertical-align: middle;\n",
       "    }\n",
       "\n",
       "    .dataframe tbody tr th {\n",
       "        vertical-align: top;\n",
       "    }\n",
       "\n",
       "    .dataframe thead th {\n",
       "        text-align: right;\n",
       "    }\n",
       "</style>\n",
       "<table border=\"1\" class=\"dataframe\">\n",
       "  <thead>\n",
       "    <tr style=\"text-align: right;\">\n",
       "      <th></th>\n",
       "      <th>name</th>\n",
       "      <th>tpm</th>\n",
       "      <th>id</th>\n",
       "    </tr>\n",
       "  </thead>\n",
       "  <tbody>\n",
       "    <tr>\n",
       "      <th>0</th>\n",
       "      <td>A1BG</td>\n",
       "      <td>0.827192</td>\n",
       "      <td>ENSG00000121410</td>\n",
       "    </tr>\n",
       "    <tr>\n",
       "      <th>1</th>\n",
       "      <td>A1BG-AS1</td>\n",
       "      <td>4.676305</td>\n",
       "      <td>ENSG00000268895</td>\n",
       "    </tr>\n",
       "    <tr>\n",
       "      <th>2</th>\n",
       "      <td>A1CF</td>\n",
       "      <td>1.355369</td>\n",
       "      <td>ENSG00000148584</td>\n",
       "    </tr>\n",
       "    <tr>\n",
       "      <th>3</th>\n",
       "      <td>A2M</td>\n",
       "      <td>1.669212</td>\n",
       "      <td>ENSG00000175899</td>\n",
       "    </tr>\n",
       "    <tr>\n",
       "      <th>4</th>\n",
       "      <td>A2M-AS1</td>\n",
       "      <td>1.033596</td>\n",
       "      <td>ENSG00000245105</td>\n",
       "    </tr>\n",
       "    <tr>\n",
       "      <th>...</th>\n",
       "      <td>...</td>\n",
       "      <td>...</td>\n",
       "      <td>...</td>\n",
       "    </tr>\n",
       "    <tr>\n",
       "      <th>37256</th>\n",
       "      <td>ZYG11AP1</td>\n",
       "      <td>0.000887</td>\n",
       "      <td>ENSG00000232242</td>\n",
       "    </tr>\n",
       "    <tr>\n",
       "      <th>37257</th>\n",
       "      <td>ZYG11B</td>\n",
       "      <td>21.124039</td>\n",
       "      <td>ENSG00000162378</td>\n",
       "    </tr>\n",
       "    <tr>\n",
       "      <th>37259</th>\n",
       "      <td>ZYXP1</td>\n",
       "      <td>0.000000</td>\n",
       "      <td>ENSG00000274572</td>\n",
       "    </tr>\n",
       "    <tr>\n",
       "      <th>37260</th>\n",
       "      <td>ZZEF1</td>\n",
       "      <td>17.697980</td>\n",
       "      <td>ENSG00000074755</td>\n",
       "    </tr>\n",
       "    <tr>\n",
       "      <th>37261</th>\n",
       "      <td>ZZZ3</td>\n",
       "      <td>26.655271</td>\n",
       "      <td>ENSG00000036549</td>\n",
       "    </tr>\n",
       "  </tbody>\n",
       "</table>\n",
       "<p>33502 rows × 3 columns</p>\n",
       "</div>"
      ]
     },
     "execution_count": 27,
     "metadata": {},
     "output_type": "execute_result"
    }
   ],
   "execution_count": 27
  },
  {
   "metadata": {},
   "cell_type": "markdown",
   "source": "### Save Data",
   "id": "f6139e1923b4cce9"
  },
  {
   "metadata": {
    "ExecuteTime": {
     "end_time": "2024-09-12T12:44:51.436277Z",
     "start_time": "2024-09-12T12:44:51.388920Z"
    }
   },
   "cell_type": "code",
   "source": [
    "df_cmp_ens.to_csv(\"../processed_data/CMP_cancer_mean.csv\", index=False)\n",
    "print(f'There are {df_cmp_ens.shape[0]} rows/genes in the saved dataset.')"
   ],
   "id": "97faad750e622768",
   "outputs": [
    {
     "name": "stdout",
     "output_type": "stream",
     "text": [
      "There are 33502 rows/genes in the saved dataset.\n"
     ]
    }
   ],
   "execution_count": 28
  },
  {
   "metadata": {
    "ExecuteTime": {
     "end_time": "2024-09-12T12:25:17.170605Z",
     "start_time": "2024-09-12T12:25:17.166501Z"
    }
   },
   "cell_type": "code",
   "source": "",
   "id": "a822ffebd2b73fee",
   "outputs": [],
   "execution_count": 14
  }
 ],
 "metadata": {
  "kernelspec": {
   "display_name": "Python 3",
   "language": "python",
   "name": "python3"
  },
  "language_info": {
   "codemirror_mode": {
    "name": "ipython",
    "version": 2
   },
   "file_extension": ".py",
   "mimetype": "text/x-python",
   "name": "python",
   "nbconvert_exporter": "python",
   "pygments_lexer": "ipython2",
   "version": "2.7.6"
  }
 },
 "nbformat": 4,
 "nbformat_minor": 5
}
