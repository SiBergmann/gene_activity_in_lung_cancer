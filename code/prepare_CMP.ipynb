{
 "cells": [
  {
   "metadata": {
    "ExecuteTime": {
     "end_time": "2024-10-23T08:59:22.954501Z",
     "start_time": "2024-10-23T08:59:22.942509Z"
    }
   },
   "cell_type": "code",
   "source": [
    "import pandas as pd\n",
    "import dataframe_image as dfi"
   ],
   "id": "fbc121e30a2defb3",
   "outputs": [],
   "execution_count": 39
  },
  {
   "metadata": {},
   "cell_type": "markdown",
   "source": [
    "## Model infos for cancer type\n",
    "loaded from Model Annotation → list of all annotated models\n",
    "\n",
    "Needed for filtering `all data` for lung cancer"
   ],
   "id": "7b236dfa41d3952"
  },
  {
   "metadata": {
    "ExecuteTime": {
     "end_time": "2024-10-23T08:59:23.131358Z",
     "start_time": "2024-10-23T08:59:23.082213Z"
    }
   },
   "cell_type": "code",
   "source": [
    "file = \"../import_data/CMP/model_list_20240110.csv\"\n",
    "\n",
    "# load data\n",
    "df_model_info = pd.read_csv(file, delimiter=',', usecols=['model_id', 'tissue', 'cancer_type', 'tissue_status', 'cancer_type_detail'])\n",
    "\n",
    "\n",
    "# filter for lung cancer\n",
    "lung_cancer = ['Small Cell Lung Carcinoma', 'Non-Small Cell Lung Carcinoma', 'Squamous Cell Lung Carcinoma']\n",
    "df_model_info_lung = df_model_info.where(df_model_info[\"cancer_type\"].isin(lung_cancer)).dropna()\n",
    "\n",
    "df_model_info_lung.head(5)"
   ],
   "id": "e949a7a6a1475a15",
   "outputs": [
    {
     "data": {
      "text/plain": [
       "     model_id tissue                    cancer_type tissue_status  \\\n",
       "13  SIDM01387   Lung      Small Cell Lung Carcinoma    Metastasis   \n",
       "18  SIDM00990   Lung  Non-Small Cell Lung Carcinoma    Metastasis   \n",
       "20  SIDM00019   Lung  Non-Small Cell Lung Carcinoma    Metastasis   \n",
       "28  SIDM00046   Lung  Non-Small Cell Lung Carcinoma       Unknown   \n",
       "30  SIDM01069   Lung  Non-Small Cell Lung Carcinoma        Tumour   \n",
       "\n",
       "               cancer_type_detail  \n",
       "13      Small Cell Lung Carcinoma  \n",
       "18  Non-Small Cell Lung Carcinoma  \n",
       "20  Papillary Lung Adenocarcinoma  \n",
       "28            Lung Adenocarcinoma  \n",
       "30            Lung Adenocarcinoma  "
      ],
      "text/html": [
       "<div>\n",
       "<style scoped>\n",
       "    .dataframe tbody tr th:only-of-type {\n",
       "        vertical-align: middle;\n",
       "    }\n",
       "\n",
       "    .dataframe tbody tr th {\n",
       "        vertical-align: top;\n",
       "    }\n",
       "\n",
       "    .dataframe thead th {\n",
       "        text-align: right;\n",
       "    }\n",
       "</style>\n",
       "<table border=\"1\" class=\"dataframe\">\n",
       "  <thead>\n",
       "    <tr style=\"text-align: right;\">\n",
       "      <th></th>\n",
       "      <th>model_id</th>\n",
       "      <th>tissue</th>\n",
       "      <th>cancer_type</th>\n",
       "      <th>tissue_status</th>\n",
       "      <th>cancer_type_detail</th>\n",
       "    </tr>\n",
       "  </thead>\n",
       "  <tbody>\n",
       "    <tr>\n",
       "      <th>13</th>\n",
       "      <td>SIDM01387</td>\n",
       "      <td>Lung</td>\n",
       "      <td>Small Cell Lung Carcinoma</td>\n",
       "      <td>Metastasis</td>\n",
       "      <td>Small Cell Lung Carcinoma</td>\n",
       "    </tr>\n",
       "    <tr>\n",
       "      <th>18</th>\n",
       "      <td>SIDM00990</td>\n",
       "      <td>Lung</td>\n",
       "      <td>Non-Small Cell Lung Carcinoma</td>\n",
       "      <td>Metastasis</td>\n",
       "      <td>Non-Small Cell Lung Carcinoma</td>\n",
       "    </tr>\n",
       "    <tr>\n",
       "      <th>20</th>\n",
       "      <td>SIDM00019</td>\n",
       "      <td>Lung</td>\n",
       "      <td>Non-Small Cell Lung Carcinoma</td>\n",
       "      <td>Metastasis</td>\n",
       "      <td>Papillary Lung Adenocarcinoma</td>\n",
       "    </tr>\n",
       "    <tr>\n",
       "      <th>28</th>\n",
       "      <td>SIDM00046</td>\n",
       "      <td>Lung</td>\n",
       "      <td>Non-Small Cell Lung Carcinoma</td>\n",
       "      <td>Unknown</td>\n",
       "      <td>Lung Adenocarcinoma</td>\n",
       "    </tr>\n",
       "    <tr>\n",
       "      <th>30</th>\n",
       "      <td>SIDM01069</td>\n",
       "      <td>Lung</td>\n",
       "      <td>Non-Small Cell Lung Carcinoma</td>\n",
       "      <td>Tumour</td>\n",
       "      <td>Lung Adenocarcinoma</td>\n",
       "    </tr>\n",
       "  </tbody>\n",
       "</table>\n",
       "</div>"
      ]
     },
     "execution_count": 40,
     "metadata": {},
     "output_type": "execute_result"
    }
   ],
   "execution_count": 40
  },
  {
   "metadata": {
    "ExecuteTime": {
     "end_time": "2024-10-23T08:59:23.144741Z",
     "start_time": "2024-10-23T08:59:23.132276Z"
    }
   },
   "cell_type": "code",
   "source": [
    "# List of model_ids with lung cancer\n",
    "model_ids_lung = df_model_info_lung[\"model_id\"].to_list()"
   ],
   "id": "2f28a35e615c6a9f",
   "outputs": [],
   "execution_count": 41
  },
  {
   "metadata": {},
   "cell_type": "markdown",
   "source": [
    "## Expression data\n",
    "\n",
    "cancerous RNA Seq Data from from different cell models. \n",
    "\n",
    "**columns:**\n",
    "- id\n",
    "- gene_symbol\n",
    "- dataset_id\n",
    "- data_source: Organisation or Project that provided the data\n",
    "- model_id: gezüchtete Zelle / Zelllinie (ist die \"Probe\")\n",
    "- tpm"
   ],
   "id": "8c0a974a08f0a549"
  },
  {
   "metadata": {
    "ExecuteTime": {
     "end_time": "2024-10-23T09:00:35.251129Z",
     "start_time": "2024-10-23T08:59:23.145753Z"
    }
   },
   "cell_type": "code",
   "source": [
    "# read in the data\n",
    "file = \"../import_data/CMP/rnaseq_all_data_20220624.csv\"\n",
    "df_cmp_all = pd.read_csv(file, delimiter=\",\", usecols=[\"id\", \"gene_symbol\", \"dataset_id\", \"data_source\", \"model_id\", \"tpm\"])\n",
    "\n",
    "print(\"There are {} rows in the import_data.\".format(df_cmp_all.shape[0]))\n",
    "\n",
    "df_cmp_all.head()"
   ],
   "id": "ed884db44821827d",
   "outputs": [
    {
     "name": "stdout",
     "output_type": "stream",
     "text": [
      "There are 53348469 rows in the import_data.\n"
     ]
    },
    {
     "data": {
      "text/plain": [
       "   dataset_id         id   model_id    tpm data_source gene_symbol\n",
       "0          22  133594790  SIDM01313  14.41      Sanger      CASP10\n",
       "1          22  133630300  SIDM01313   0.64      Sanger      NBPF10\n",
       "2          22  133630301  SIDM01313   0.39      Sanger    RPL17P51\n",
       "3          22  133630302  SIDM01313   0.00      Sanger      PPATP2\n",
       "4          22  133630303  SIDM01313   3.32      Sanger       MMP28"
      ],
      "text/html": [
       "<div>\n",
       "<style scoped>\n",
       "    .dataframe tbody tr th:only-of-type {\n",
       "        vertical-align: middle;\n",
       "    }\n",
       "\n",
       "    .dataframe tbody tr th {\n",
       "        vertical-align: top;\n",
       "    }\n",
       "\n",
       "    .dataframe thead th {\n",
       "        text-align: right;\n",
       "    }\n",
       "</style>\n",
       "<table border=\"1\" class=\"dataframe\">\n",
       "  <thead>\n",
       "    <tr style=\"text-align: right;\">\n",
       "      <th></th>\n",
       "      <th>dataset_id</th>\n",
       "      <th>id</th>\n",
       "      <th>model_id</th>\n",
       "      <th>tpm</th>\n",
       "      <th>data_source</th>\n",
       "      <th>gene_symbol</th>\n",
       "    </tr>\n",
       "  </thead>\n",
       "  <tbody>\n",
       "    <tr>\n",
       "      <th>0</th>\n",
       "      <td>22</td>\n",
       "      <td>133594790</td>\n",
       "      <td>SIDM01313</td>\n",
       "      <td>14.41</td>\n",
       "      <td>Sanger</td>\n",
       "      <td>CASP10</td>\n",
       "    </tr>\n",
       "    <tr>\n",
       "      <th>1</th>\n",
       "      <td>22</td>\n",
       "      <td>133630300</td>\n",
       "      <td>SIDM01313</td>\n",
       "      <td>0.64</td>\n",
       "      <td>Sanger</td>\n",
       "      <td>NBPF10</td>\n",
       "    </tr>\n",
       "    <tr>\n",
       "      <th>2</th>\n",
       "      <td>22</td>\n",
       "      <td>133630301</td>\n",
       "      <td>SIDM01313</td>\n",
       "      <td>0.39</td>\n",
       "      <td>Sanger</td>\n",
       "      <td>RPL17P51</td>\n",
       "    </tr>\n",
       "    <tr>\n",
       "      <th>3</th>\n",
       "      <td>22</td>\n",
       "      <td>133630302</td>\n",
       "      <td>SIDM01313</td>\n",
       "      <td>0.00</td>\n",
       "      <td>Sanger</td>\n",
       "      <td>PPATP2</td>\n",
       "    </tr>\n",
       "    <tr>\n",
       "      <th>4</th>\n",
       "      <td>22</td>\n",
       "      <td>133630303</td>\n",
       "      <td>SIDM01313</td>\n",
       "      <td>3.32</td>\n",
       "      <td>Sanger</td>\n",
       "      <td>MMP28</td>\n",
       "    </tr>\n",
       "  </tbody>\n",
       "</table>\n",
       "</div>"
      ]
     },
     "execution_count": 42,
     "metadata": {},
     "output_type": "execute_result"
    }
   ],
   "execution_count": 42
  },
  {
   "metadata": {},
   "cell_type": "markdown",
   "source": [
    "# Data from Cell Modell Passport\n",
    "Link: https://cellmodelpassports.sanger.ac.uk/downloads\n",
    "\n",
    "Expression Data → all RNA Seq processed Data\n",
    "\n",
    "All tissues are cancer tissues. We need to filter for lung cancer.\n",
    "\n",
    "**Output file format:**\n",
    "* id\n",
    "* name\n",
    "* tpm"
   ],
   "id": "c61097af660cd39"
  },
  {
   "metadata": {},
   "cell_type": "markdown",
   "source": "### Clean Dataframe",
   "id": "4f4dc1006d9d177c"
  },
  {
   "metadata": {
    "ExecuteTime": {
     "end_time": "2024-10-23T09:00:36.892847Z",
     "start_time": "2024-10-23T09:00:35.251129Z"
    }
   },
   "cell_type": "code",
   "source": [
    "df_cmp_all.drop(columns=[\"dataset_id\", \"data_source\", \"id\"], inplace=True)\n",
    "df_cmp_all.rename(columns={\"gene_symbol\": \"gene_name\"}, inplace=True)"
   ],
   "id": "3d72528b1f8d56c3",
   "outputs": [],
   "execution_count": 43
  },
  {
   "metadata": {
    "ExecuteTime": {
     "end_time": "2024-10-23T09:00:45.571927Z",
     "start_time": "2024-10-23T09:00:36.896870Z"
    }
   },
   "cell_type": "code",
   "source": [
    "# filter rows with lung cancer model ids\n",
    "df_cmp_all = df_cmp_all.where(df_cmp_all[\"model_id\"].isin(model_ids_lung)).dropna()\n",
    "\n",
    "print(\"There are {} rows with lung cancer data.\".format(df_cmp_all.shape[0]))"
   ],
   "id": "f2624694764ecc04",
   "outputs": [
    {
     "name": "stdout",
     "output_type": "stream",
     "text": [
      "There are 7564389 rows with lung cancer data.\n"
     ]
    }
   ],
   "execution_count": 44
  },
  {
   "metadata": {},
   "cell_type": "markdown",
   "source": "### Analyze Dataset",
   "id": "c7cd133489e07e31"
  },
  {
   "metadata": {
    "ExecuteTime": {
     "end_time": "2024-10-23T09:00:47.194712Z",
     "start_time": "2024-10-23T09:00:45.573936Z"
    }
   },
   "cell_type": "code",
   "source": [
    "# check for missing values\n",
    "missing_values = df_cmp_all.isnull().sum()\n",
    "\n",
    "# TPM Ranges\n",
    "min_tpm = df_cmp_all[\"tpm\"].min()\n",
    "max_tpm = df_cmp_all[\"tpm\"].max()\n",
    "\n",
    "# genes\n",
    "n_genes = df_cmp_all[\"gene_name\"].nunique()\n",
    "\n",
    "# tissues\n",
    "n_tissues = df_cmp_all[\"model_id\"].nunique()\n",
    "\n",
    "print(f\"Missing values:\\n\"\n",
    "      f\"{missing_values}\\n\")\n",
    "\n",
    "print(f\"Min TPM: {min_tpm}\")\n",
    "print(f\"Max TPM: {max_tpm}\\n\")\n",
    "\n",
    "print(f\"Number of genes: {n_genes}\")\n",
    "print(f\"Number of tissues: {n_tissues}\")"
   ],
   "id": "19121f7cf4c7c7ed",
   "outputs": [
    {
     "name": "stdout",
     "output_type": "stream",
     "text": [
      "Missing values:\n",
      "model_id     0\n",
      "tpm          0\n",
      "gene_name    0\n",
      "dtype: int64\n",
      "\n",
      "Min TPM: 0.0\n",
      "Max TPM: 132676.0\n",
      "\n",
      "Number of genes: 37262\n",
      "Number of tissues: 203\n"
     ]
    }
   ],
   "execution_count": 45
  },
  {
   "metadata": {},
   "cell_type": "markdown",
   "source": [
    "\n",
    "We then merged this file with our CMP data on the gene names to retrieve the ENS IDs for each gene.\n",
    "\n",
    "After merging the data, we found that 3,760 genes had no ENS ID associated with them.\n",
    "Since these genes were likely duplicates or did not exist in the Ensemble file, we removed them from our dataset to ensure consistency and accuracy of our analysis.\n",
    "### Group Data to mean values"
   ],
   "id": "5c2db4873a5476c3"
  },
  {
   "metadata": {
    "ExecuteTime": {
     "end_time": "2024-10-23T09:00:48.260176Z",
     "start_time": "2024-10-23T09:00:47.194712Z"
    }
   },
   "cell_type": "code",
   "source": [
    "df_cmp_all.drop(columns=[\"model_id\"], inplace=True)\n",
    "df_cmp_group = df_cmp_all.groupby([\"gene_name\"]).mean().reset_index()\n",
    "\n",
    "print(\"There are {} rows in the grouped dataset.\".format(df_cmp_group.shape[0]))\n",
    "df_cmp_group"
   ],
   "id": "70d8a4ca5dacc3c",
   "outputs": [
    {
     "name": "stdout",
     "output_type": "stream",
     "text": [
      "There are 37262 rows in the grouped dataset.\n"
     ]
    },
    {
     "data": {
      "text/plain": [
       "      gene_name        tpm\n",
       "0          A1BG   0.827192\n",
       "1      A1BG-AS1   4.676305\n",
       "2          A1CF   1.355369\n",
       "3           A2M   1.669212\n",
       "4       A2M-AS1   1.033596\n",
       "...         ...        ...\n",
       "37257    ZYG11B  21.124039\n",
       "37258       ZYX  99.636946\n",
       "37259     ZYXP1   0.000000\n",
       "37260     ZZEF1  17.697980\n",
       "37261      ZZZ3  26.655271\n",
       "\n",
       "[37262 rows x 2 columns]"
      ],
      "text/html": [
       "<div>\n",
       "<style scoped>\n",
       "    .dataframe tbody tr th:only-of-type {\n",
       "        vertical-align: middle;\n",
       "    }\n",
       "\n",
       "    .dataframe tbody tr th {\n",
       "        vertical-align: top;\n",
       "    }\n",
       "\n",
       "    .dataframe thead th {\n",
       "        text-align: right;\n",
       "    }\n",
       "</style>\n",
       "<table border=\"1\" class=\"dataframe\">\n",
       "  <thead>\n",
       "    <tr style=\"text-align: right;\">\n",
       "      <th></th>\n",
       "      <th>gene_name</th>\n",
       "      <th>tpm</th>\n",
       "    </tr>\n",
       "  </thead>\n",
       "  <tbody>\n",
       "    <tr>\n",
       "      <th>0</th>\n",
       "      <td>A1BG</td>\n",
       "      <td>0.827192</td>\n",
       "    </tr>\n",
       "    <tr>\n",
       "      <th>1</th>\n",
       "      <td>A1BG-AS1</td>\n",
       "      <td>4.676305</td>\n",
       "    </tr>\n",
       "    <tr>\n",
       "      <th>2</th>\n",
       "      <td>A1CF</td>\n",
       "      <td>1.355369</td>\n",
       "    </tr>\n",
       "    <tr>\n",
       "      <th>3</th>\n",
       "      <td>A2M</td>\n",
       "      <td>1.669212</td>\n",
       "    </tr>\n",
       "    <tr>\n",
       "      <th>4</th>\n",
       "      <td>A2M-AS1</td>\n",
       "      <td>1.033596</td>\n",
       "    </tr>\n",
       "    <tr>\n",
       "      <th>...</th>\n",
       "      <td>...</td>\n",
       "      <td>...</td>\n",
       "    </tr>\n",
       "    <tr>\n",
       "      <th>37257</th>\n",
       "      <td>ZYG11B</td>\n",
       "      <td>21.124039</td>\n",
       "    </tr>\n",
       "    <tr>\n",
       "      <th>37258</th>\n",
       "      <td>ZYX</td>\n",
       "      <td>99.636946</td>\n",
       "    </tr>\n",
       "    <tr>\n",
       "      <th>37259</th>\n",
       "      <td>ZYXP1</td>\n",
       "      <td>0.000000</td>\n",
       "    </tr>\n",
       "    <tr>\n",
       "      <th>37260</th>\n",
       "      <td>ZZEF1</td>\n",
       "      <td>17.697980</td>\n",
       "    </tr>\n",
       "    <tr>\n",
       "      <th>37261</th>\n",
       "      <td>ZZZ3</td>\n",
       "      <td>26.655271</td>\n",
       "    </tr>\n",
       "  </tbody>\n",
       "</table>\n",
       "<p>37262 rows × 2 columns</p>\n",
       "</div>"
      ]
     },
     "execution_count": 46,
     "metadata": {},
     "output_type": "execute_result"
    }
   ],
   "execution_count": 46
  },
  {
   "metadata": {},
   "cell_type": "markdown",
   "source": [
    "## Ensemble Dataset\n",
    "Downloaded via Biomart\n",
    "\n"
   ],
   "id": "75c60cc04429ffa7"
  },
  {
   "metadata": {
    "ExecuteTime": {
     "end_time": "2024-10-23T09:00:48.374735Z",
     "start_time": "2024-10-23T09:00:48.260176Z"
    }
   },
   "cell_type": "code",
   "source": [
    "df_ensembl = pd.read_csv(\"../import_data/ENSEMBLE/ensemble_gene_id.txt\", delimiter=\"\\t\")\n",
    "df_ensembl.rename(columns={\"gene_symbol\": \"gene_name\"}, inplace=True)\n",
    "\n",
    "# drop rows without gene_symbol\n",
    "df_ensembl.drop(df_ensembl[df_ensembl[\"gene_name\"].isnull()].index, inplace=True)\n",
    "\n",
    "df_ensembl"
   ],
   "id": "feb44ab516036fd3",
   "outputs": [
    {
     "data": {
      "text/plain": [
       "        Gene_stable_ID  gene_name\n",
       "0      ENSG00000210049      MT-TF\n",
       "1      ENSG00000211459    MT-RNR1\n",
       "2      ENSG00000210077      MT-TV\n",
       "3      ENSG00000210082    MT-RNR2\n",
       "4      ENSG00000209082     MT-TL1\n",
       "...                ...        ...\n",
       "70606  ENSG00000232679  LINC01705\n",
       "70607  ENSG00000200033  RNU6-403P\n",
       "70608  ENSG00000228437  LINC02474\n",
       "70609  ENSG00000229463   LYST-AS1\n",
       "70610  ENSG00000229291  LINC02768\n",
       "\n",
       "[48311 rows x 2 columns]"
      ],
      "text/html": [
       "<div>\n",
       "<style scoped>\n",
       "    .dataframe tbody tr th:only-of-type {\n",
       "        vertical-align: middle;\n",
       "    }\n",
       "\n",
       "    .dataframe tbody tr th {\n",
       "        vertical-align: top;\n",
       "    }\n",
       "\n",
       "    .dataframe thead th {\n",
       "        text-align: right;\n",
       "    }\n",
       "</style>\n",
       "<table border=\"1\" class=\"dataframe\">\n",
       "  <thead>\n",
       "    <tr style=\"text-align: right;\">\n",
       "      <th></th>\n",
       "      <th>Gene_stable_ID</th>\n",
       "      <th>gene_name</th>\n",
       "    </tr>\n",
       "  </thead>\n",
       "  <tbody>\n",
       "    <tr>\n",
       "      <th>0</th>\n",
       "      <td>ENSG00000210049</td>\n",
       "      <td>MT-TF</td>\n",
       "    </tr>\n",
       "    <tr>\n",
       "      <th>1</th>\n",
       "      <td>ENSG00000211459</td>\n",
       "      <td>MT-RNR1</td>\n",
       "    </tr>\n",
       "    <tr>\n",
       "      <th>2</th>\n",
       "      <td>ENSG00000210077</td>\n",
       "      <td>MT-TV</td>\n",
       "    </tr>\n",
       "    <tr>\n",
       "      <th>3</th>\n",
       "      <td>ENSG00000210082</td>\n",
       "      <td>MT-RNR2</td>\n",
       "    </tr>\n",
       "    <tr>\n",
       "      <th>4</th>\n",
       "      <td>ENSG00000209082</td>\n",
       "      <td>MT-TL1</td>\n",
       "    </tr>\n",
       "    <tr>\n",
       "      <th>...</th>\n",
       "      <td>...</td>\n",
       "      <td>...</td>\n",
       "    </tr>\n",
       "    <tr>\n",
       "      <th>70606</th>\n",
       "      <td>ENSG00000232679</td>\n",
       "      <td>LINC01705</td>\n",
       "    </tr>\n",
       "    <tr>\n",
       "      <th>70607</th>\n",
       "      <td>ENSG00000200033</td>\n",
       "      <td>RNU6-403P</td>\n",
       "    </tr>\n",
       "    <tr>\n",
       "      <th>70608</th>\n",
       "      <td>ENSG00000228437</td>\n",
       "      <td>LINC02474</td>\n",
       "    </tr>\n",
       "    <tr>\n",
       "      <th>70609</th>\n",
       "      <td>ENSG00000229463</td>\n",
       "      <td>LYST-AS1</td>\n",
       "    </tr>\n",
       "    <tr>\n",
       "      <th>70610</th>\n",
       "      <td>ENSG00000229291</td>\n",
       "      <td>LINC02768</td>\n",
       "    </tr>\n",
       "  </tbody>\n",
       "</table>\n",
       "<p>48311 rows × 2 columns</p>\n",
       "</div>"
      ]
     },
     "execution_count": 47,
     "metadata": {},
     "output_type": "execute_result"
    }
   ],
   "execution_count": 47
  },
  {
   "metadata": {
    "ExecuteTime": {
     "end_time": "2024-10-23T09:00:48.393892Z",
     "start_time": "2024-10-23T09:00:48.377747Z"
    }
   },
   "cell_type": "code",
   "source": [
    "duplicate_names = df_ensembl[\"gene_name\"].duplicated(keep=False).sum()\n",
    "rows = df_ensembl.shape[0]\n",
    "print(f'{duplicate_names} from {rows} do not have a unique gene names in ENS Dataset')"
   ],
   "id": "79719a3b651c065d",
   "outputs": [
    {
     "name": "stdout",
     "output_type": "stream",
     "text": [
      "10605 from 48311 do not have a unique gene names in ENS Dataset\n"
     ]
    }
   ],
   "execution_count": 48
  },
  {
   "metadata": {},
   "cell_type": "markdown",
   "source": [
    "PROBLEM: There are gene names that are not unique.\n",
    "\n",
    "→ If the names are not unique, we cannot merge the data on the gene names with our dataset."
   ],
   "id": "eb3e5c58c0904417"
  },
  {
   "metadata": {
    "ExecuteTime": {
     "end_time": "2024-10-23T09:00:48.420094Z",
     "start_time": "2024-10-23T09:00:48.393892Z"
    }
   },
   "cell_type": "code",
   "source": [
    "# delete all rows with not unique gene names\n",
    "df_ensembl_unique = df_ensembl.drop_duplicates(subset=[\"gene_name\"], keep=False)\n",
    "\n",
    "df_ensembl_unique"
   ],
   "id": "9f864813a950325e",
   "outputs": [
    {
     "data": {
      "text/plain": [
       "        Gene_stable_ID  gene_name\n",
       "0      ENSG00000210049      MT-TF\n",
       "1      ENSG00000211459    MT-RNR1\n",
       "2      ENSG00000210077      MT-TV\n",
       "3      ENSG00000210082    MT-RNR2\n",
       "4      ENSG00000209082     MT-TL1\n",
       "...                ...        ...\n",
       "70606  ENSG00000232679  LINC01705\n",
       "70607  ENSG00000200033  RNU6-403P\n",
       "70608  ENSG00000228437  LINC02474\n",
       "70609  ENSG00000229463   LYST-AS1\n",
       "70610  ENSG00000229291  LINC02768\n",
       "\n",
       "[37706 rows x 2 columns]"
      ],
      "text/html": [
       "<div>\n",
       "<style scoped>\n",
       "    .dataframe tbody tr th:only-of-type {\n",
       "        vertical-align: middle;\n",
       "    }\n",
       "\n",
       "    .dataframe tbody tr th {\n",
       "        vertical-align: top;\n",
       "    }\n",
       "\n",
       "    .dataframe thead th {\n",
       "        text-align: right;\n",
       "    }\n",
       "</style>\n",
       "<table border=\"1\" class=\"dataframe\">\n",
       "  <thead>\n",
       "    <tr style=\"text-align: right;\">\n",
       "      <th></th>\n",
       "      <th>Gene_stable_ID</th>\n",
       "      <th>gene_name</th>\n",
       "    </tr>\n",
       "  </thead>\n",
       "  <tbody>\n",
       "    <tr>\n",
       "      <th>0</th>\n",
       "      <td>ENSG00000210049</td>\n",
       "      <td>MT-TF</td>\n",
       "    </tr>\n",
       "    <tr>\n",
       "      <th>1</th>\n",
       "      <td>ENSG00000211459</td>\n",
       "      <td>MT-RNR1</td>\n",
       "    </tr>\n",
       "    <tr>\n",
       "      <th>2</th>\n",
       "      <td>ENSG00000210077</td>\n",
       "      <td>MT-TV</td>\n",
       "    </tr>\n",
       "    <tr>\n",
       "      <th>3</th>\n",
       "      <td>ENSG00000210082</td>\n",
       "      <td>MT-RNR2</td>\n",
       "    </tr>\n",
       "    <tr>\n",
       "      <th>4</th>\n",
       "      <td>ENSG00000209082</td>\n",
       "      <td>MT-TL1</td>\n",
       "    </tr>\n",
       "    <tr>\n",
       "      <th>...</th>\n",
       "      <td>...</td>\n",
       "      <td>...</td>\n",
       "    </tr>\n",
       "    <tr>\n",
       "      <th>70606</th>\n",
       "      <td>ENSG00000232679</td>\n",
       "      <td>LINC01705</td>\n",
       "    </tr>\n",
       "    <tr>\n",
       "      <th>70607</th>\n",
       "      <td>ENSG00000200033</td>\n",
       "      <td>RNU6-403P</td>\n",
       "    </tr>\n",
       "    <tr>\n",
       "      <th>70608</th>\n",
       "      <td>ENSG00000228437</td>\n",
       "      <td>LINC02474</td>\n",
       "    </tr>\n",
       "    <tr>\n",
       "      <th>70609</th>\n",
       "      <td>ENSG00000229463</td>\n",
       "      <td>LYST-AS1</td>\n",
       "    </tr>\n",
       "    <tr>\n",
       "      <th>70610</th>\n",
       "      <td>ENSG00000229291</td>\n",
       "      <td>LINC02768</td>\n",
       "    </tr>\n",
       "  </tbody>\n",
       "</table>\n",
       "<p>37706 rows × 2 columns</p>\n",
       "</div>"
      ]
     },
     "execution_count": 49,
     "metadata": {},
     "output_type": "execute_result"
    }
   ],
   "execution_count": 49
  },
  {
   "metadata": {},
   "cell_type": "markdown",
   "source": "## Merge Data",
   "id": "c49a278c68a0e917"
  },
  {
   "metadata": {
    "ExecuteTime": {
     "end_time": "2024-10-23T09:00:48.484402Z",
     "start_time": "2024-10-23T09:00:48.420094Z"
    }
   },
   "cell_type": "code",
   "source": [
    "df_cmp_ens = pd.merge(df_cmp_group, df_ensembl_unique, on=\"gene_name\", how=\"left\")\n",
    "df_cmp_ens"
   ],
   "id": "86e0f123518f5f7",
   "outputs": [
    {
     "data": {
      "text/plain": [
       "      gene_name        tpm   Gene_stable_ID\n",
       "0          A1BG   0.827192  ENSG00000121410\n",
       "1      A1BG-AS1   4.676305  ENSG00000268895\n",
       "2          A1CF   1.355369  ENSG00000148584\n",
       "3           A2M   1.669212  ENSG00000175899\n",
       "4       A2M-AS1   1.033596  ENSG00000245105\n",
       "...         ...        ...              ...\n",
       "37257    ZYG11B  21.124039  ENSG00000162378\n",
       "37258       ZYX  99.636946              NaN\n",
       "37259     ZYXP1   0.000000  ENSG00000274572\n",
       "37260     ZZEF1  17.697980  ENSG00000074755\n",
       "37261      ZZZ3  26.655271  ENSG00000036549\n",
       "\n",
       "[37262 rows x 3 columns]"
      ],
      "text/html": [
       "<div>\n",
       "<style scoped>\n",
       "    .dataframe tbody tr th:only-of-type {\n",
       "        vertical-align: middle;\n",
       "    }\n",
       "\n",
       "    .dataframe tbody tr th {\n",
       "        vertical-align: top;\n",
       "    }\n",
       "\n",
       "    .dataframe thead th {\n",
       "        text-align: right;\n",
       "    }\n",
       "</style>\n",
       "<table border=\"1\" class=\"dataframe\">\n",
       "  <thead>\n",
       "    <tr style=\"text-align: right;\">\n",
       "      <th></th>\n",
       "      <th>gene_name</th>\n",
       "      <th>tpm</th>\n",
       "      <th>Gene_stable_ID</th>\n",
       "    </tr>\n",
       "  </thead>\n",
       "  <tbody>\n",
       "    <tr>\n",
       "      <th>0</th>\n",
       "      <td>A1BG</td>\n",
       "      <td>0.827192</td>\n",
       "      <td>ENSG00000121410</td>\n",
       "    </tr>\n",
       "    <tr>\n",
       "      <th>1</th>\n",
       "      <td>A1BG-AS1</td>\n",
       "      <td>4.676305</td>\n",
       "      <td>ENSG00000268895</td>\n",
       "    </tr>\n",
       "    <tr>\n",
       "      <th>2</th>\n",
       "      <td>A1CF</td>\n",
       "      <td>1.355369</td>\n",
       "      <td>ENSG00000148584</td>\n",
       "    </tr>\n",
       "    <tr>\n",
       "      <th>3</th>\n",
       "      <td>A2M</td>\n",
       "      <td>1.669212</td>\n",
       "      <td>ENSG00000175899</td>\n",
       "    </tr>\n",
       "    <tr>\n",
       "      <th>4</th>\n",
       "      <td>A2M-AS1</td>\n",
       "      <td>1.033596</td>\n",
       "      <td>ENSG00000245105</td>\n",
       "    </tr>\n",
       "    <tr>\n",
       "      <th>...</th>\n",
       "      <td>...</td>\n",
       "      <td>...</td>\n",
       "      <td>...</td>\n",
       "    </tr>\n",
       "    <tr>\n",
       "      <th>37257</th>\n",
       "      <td>ZYG11B</td>\n",
       "      <td>21.124039</td>\n",
       "      <td>ENSG00000162378</td>\n",
       "    </tr>\n",
       "    <tr>\n",
       "      <th>37258</th>\n",
       "      <td>ZYX</td>\n",
       "      <td>99.636946</td>\n",
       "      <td>NaN</td>\n",
       "    </tr>\n",
       "    <tr>\n",
       "      <th>37259</th>\n",
       "      <td>ZYXP1</td>\n",
       "      <td>0.000000</td>\n",
       "      <td>ENSG00000274572</td>\n",
       "    </tr>\n",
       "    <tr>\n",
       "      <th>37260</th>\n",
       "      <td>ZZEF1</td>\n",
       "      <td>17.697980</td>\n",
       "      <td>ENSG00000074755</td>\n",
       "    </tr>\n",
       "    <tr>\n",
       "      <th>37261</th>\n",
       "      <td>ZZZ3</td>\n",
       "      <td>26.655271</td>\n",
       "      <td>ENSG00000036549</td>\n",
       "    </tr>\n",
       "  </tbody>\n",
       "</table>\n",
       "<p>37262 rows × 3 columns</p>\n",
       "</div>"
      ]
     },
     "execution_count": 50,
     "metadata": {},
     "output_type": "execute_result"
    }
   ],
   "execution_count": 50
  },
  {
   "metadata": {
    "ExecuteTime": {
     "end_time": "2024-10-23T09:00:48.506130Z",
     "start_time": "2024-10-23T09:00:48.484402Z"
    }
   },
   "cell_type": "code",
   "source": [
    "# check Data with missing ENS\n",
    "missing_ens = df_cmp_ens[df_cmp_ens[\"Gene_stable_ID\"].isnull()]\n",
    "\n",
    "print(len(missing_ens), \"/\",len(df_cmp_ens),  \"still have no ENS ID\")\n",
    "missing_ens"
   ],
   "id": "38ad11c60a1c34b4",
   "outputs": [
    {
     "name": "stdout",
     "output_type": "stream",
     "text": [
      "3760 / 37262 still have no ENS ID\n"
     ]
    },
    {
     "data": {
      "text/plain": [
       "         gene_name        tpm Gene_stable_ID\n",
       "8            A2MP1   0.035025            NaN\n",
       "12            AAAS  46.539015            NaN\n",
       "14          AACSP1   2.496207            NaN\n",
       "16         AADACL2   0.035813            NaN\n",
       "17     AADACL2-AS1   0.550640            NaN\n",
       "...            ...        ...            ...\n",
       "37197          ZP2   0.042167            NaN\n",
       "37207   ZRANB2-AS2   0.264926            NaN\n",
       "37218       ZSCAN2   6.817094            NaN\n",
       "37238       ZSWIM4  11.950049            NaN\n",
       "37258          ZYX  99.636946            NaN\n",
       "\n",
       "[3760 rows x 3 columns]"
      ],
      "text/html": [
       "<div>\n",
       "<style scoped>\n",
       "    .dataframe tbody tr th:only-of-type {\n",
       "        vertical-align: middle;\n",
       "    }\n",
       "\n",
       "    .dataframe tbody tr th {\n",
       "        vertical-align: top;\n",
       "    }\n",
       "\n",
       "    .dataframe thead th {\n",
       "        text-align: right;\n",
       "    }\n",
       "</style>\n",
       "<table border=\"1\" class=\"dataframe\">\n",
       "  <thead>\n",
       "    <tr style=\"text-align: right;\">\n",
       "      <th></th>\n",
       "      <th>gene_name</th>\n",
       "      <th>tpm</th>\n",
       "      <th>Gene_stable_ID</th>\n",
       "    </tr>\n",
       "  </thead>\n",
       "  <tbody>\n",
       "    <tr>\n",
       "      <th>8</th>\n",
       "      <td>A2MP1</td>\n",
       "      <td>0.035025</td>\n",
       "      <td>NaN</td>\n",
       "    </tr>\n",
       "    <tr>\n",
       "      <th>12</th>\n",
       "      <td>AAAS</td>\n",
       "      <td>46.539015</td>\n",
       "      <td>NaN</td>\n",
       "    </tr>\n",
       "    <tr>\n",
       "      <th>14</th>\n",
       "      <td>AACSP1</td>\n",
       "      <td>2.496207</td>\n",
       "      <td>NaN</td>\n",
       "    </tr>\n",
       "    <tr>\n",
       "      <th>16</th>\n",
       "      <td>AADACL2</td>\n",
       "      <td>0.035813</td>\n",
       "      <td>NaN</td>\n",
       "    </tr>\n",
       "    <tr>\n",
       "      <th>17</th>\n",
       "      <td>AADACL2-AS1</td>\n",
       "      <td>0.550640</td>\n",
       "      <td>NaN</td>\n",
       "    </tr>\n",
       "    <tr>\n",
       "      <th>...</th>\n",
       "      <td>...</td>\n",
       "      <td>...</td>\n",
       "      <td>...</td>\n",
       "    </tr>\n",
       "    <tr>\n",
       "      <th>37197</th>\n",
       "      <td>ZP2</td>\n",
       "      <td>0.042167</td>\n",
       "      <td>NaN</td>\n",
       "    </tr>\n",
       "    <tr>\n",
       "      <th>37207</th>\n",
       "      <td>ZRANB2-AS2</td>\n",
       "      <td>0.264926</td>\n",
       "      <td>NaN</td>\n",
       "    </tr>\n",
       "    <tr>\n",
       "      <th>37218</th>\n",
       "      <td>ZSCAN2</td>\n",
       "      <td>6.817094</td>\n",
       "      <td>NaN</td>\n",
       "    </tr>\n",
       "    <tr>\n",
       "      <th>37238</th>\n",
       "      <td>ZSWIM4</td>\n",
       "      <td>11.950049</td>\n",
       "      <td>NaN</td>\n",
       "    </tr>\n",
       "    <tr>\n",
       "      <th>37258</th>\n",
       "      <td>ZYX</td>\n",
       "      <td>99.636946</td>\n",
       "      <td>NaN</td>\n",
       "    </tr>\n",
       "  </tbody>\n",
       "</table>\n",
       "<p>3760 rows × 3 columns</p>\n",
       "</div>"
      ]
     },
     "execution_count": 51,
     "metadata": {},
     "output_type": "execute_result"
    }
   ],
   "execution_count": 51
  },
  {
   "metadata": {},
   "cell_type": "markdown",
   "source": [
    "TODO: Which of these 3760 genes do not have a ENS ID because of duplcate names and which did not occur from the beginning?\n",
    "\n",
    "→ These genes with no ENS ID could get an ID by looking for ENS name aliases. But this makes tbe duplicate of names even worse.\n",
    "\n",
    "Solution: Since these are only a few gene, we will drop these rows."
   ],
   "id": "2c61b571560e1940"
  },
  {
   "metadata": {
    "ExecuteTime": {
     "end_time": "2024-10-23T09:00:48.526618Z",
     "start_time": "2024-10-23T09:00:48.506130Z"
    }
   },
   "cell_type": "code",
   "source": [
    "# show rows with duplicate names in df_cmp_ens\n",
    "df_cmp_ens[df_cmp_ens[\"gene_name\"].duplicated(keep=False)]"
   ],
   "id": "2ccd81be19e68cd9",
   "outputs": [
    {
     "data": {
      "text/plain": [
       "Empty DataFrame\n",
       "Columns: [gene_name, tpm, Gene_stable_ID]\n",
       "Index: []"
      ],
      "text/html": [
       "<div>\n",
       "<style scoped>\n",
       "    .dataframe tbody tr th:only-of-type {\n",
       "        vertical-align: middle;\n",
       "    }\n",
       "\n",
       "    .dataframe tbody tr th {\n",
       "        vertical-align: top;\n",
       "    }\n",
       "\n",
       "    .dataframe thead th {\n",
       "        text-align: right;\n",
       "    }\n",
       "</style>\n",
       "<table border=\"1\" class=\"dataframe\">\n",
       "  <thead>\n",
       "    <tr style=\"text-align: right;\">\n",
       "      <th></th>\n",
       "      <th>gene_name</th>\n",
       "      <th>tpm</th>\n",
       "      <th>Gene_stable_ID</th>\n",
       "    </tr>\n",
       "  </thead>\n",
       "  <tbody>\n",
       "  </tbody>\n",
       "</table>\n",
       "</div>"
      ]
     },
     "execution_count": 52,
     "metadata": {},
     "output_type": "execute_result"
    }
   ],
   "execution_count": 52
  },
  {
   "metadata": {},
   "cell_type": "markdown",
   "source": "### Clean up",
   "id": "ab3e2e3ceceb6fcd"
  },
  {
   "metadata": {
    "ExecuteTime": {
     "end_time": "2024-10-24T09:53:55.061624Z",
     "start_time": "2024-10-24T09:53:54.924947Z"
    }
   },
   "cell_type": "code",
   "source": [
    "df_cmp_ens.dropna(subset=[\"Gene_stable_ID\"], inplace=True)\n",
    "df_cmp_ens.rename(columns={\"Gene_stable_ID\": \"Gene ID\", \n",
    "                           \"tpm\":\"cancerous TPM\", \n",
    "                           \"gene_name\": \"Gene Name\" }, inplace=True)\n",
    "\n",
    "# reorder columns\n",
    "df_cmp = df_cmp_ens[['Gene ID', 'Gene Name', 'cancerous TPM']]\n",
    "\n",
    "df_cmp"
   ],
   "id": "d7ebbc994e9fb544",
   "outputs": [
    {
     "ename": "KeyError",
     "evalue": "['Gene_stable_ID']",
     "output_type": "error",
     "traceback": [
      "\u001B[1;31m---------------------------------------------------------------------------\u001B[0m",
      "\u001B[1;31mKeyError\u001B[0m                                  Traceback (most recent call last)",
      "\u001B[1;32m~\\AppData\\Local\\Temp\\ipykernel_18220\\281575389.py\u001B[0m in \u001B[0;36m?\u001B[1;34m()\u001B[0m\n\u001B[1;32m----> 1\u001B[1;33m \u001B[0mdf_cmp_ens\u001B[0m\u001B[1;33m.\u001B[0m\u001B[0mdropna\u001B[0m\u001B[1;33m(\u001B[0m\u001B[0msubset\u001B[0m\u001B[1;33m=\u001B[0m\u001B[1;33m[\u001B[0m\u001B[1;34m\"Gene_stable_ID\"\u001B[0m\u001B[1;33m]\u001B[0m\u001B[1;33m,\u001B[0m \u001B[0minplace\u001B[0m\u001B[1;33m=\u001B[0m\u001B[1;32mTrue\u001B[0m\u001B[1;33m)\u001B[0m\u001B[1;33m\u001B[0m\u001B[1;33m\u001B[0m\u001B[0m\n\u001B[0m\u001B[0;32m      2\u001B[0m df_cmp_ens.rename(columns={\"Gene_stable_ID\": \"Gene ID\", \n\u001B[0;32m      3\u001B[0m                            \u001B[1;34m\"tpm\"\u001B[0m\u001B[1;33m:\u001B[0m\u001B[1;34m\"cancerous TPM\"\u001B[0m\u001B[1;33m,\u001B[0m\u001B[1;33m\u001B[0m\u001B[1;33m\u001B[0m\u001B[0m\n\u001B[0;32m      4\u001B[0m                            \"gene_name\": \"Gene Name\" }, inplace=True)\n",
      "\u001B[1;32m~\\anaconda3\\envs\\env_Bachelor_Thesis\\Lib\\site-packages\\pandas\\core\\frame.py\u001B[0m in \u001B[0;36m?\u001B[1;34m(self, axis, how, thresh, subset, inplace, ignore_index)\u001B[0m\n\u001B[0;32m   6650\u001B[0m             \u001B[0max\u001B[0m \u001B[1;33m=\u001B[0m \u001B[0mself\u001B[0m\u001B[1;33m.\u001B[0m\u001B[0m_get_axis\u001B[0m\u001B[1;33m(\u001B[0m\u001B[0magg_axis\u001B[0m\u001B[1;33m)\u001B[0m\u001B[1;33m\u001B[0m\u001B[1;33m\u001B[0m\u001B[0m\n\u001B[0;32m   6651\u001B[0m             \u001B[0mindices\u001B[0m \u001B[1;33m=\u001B[0m \u001B[0max\u001B[0m\u001B[1;33m.\u001B[0m\u001B[0mget_indexer_for\u001B[0m\u001B[1;33m(\u001B[0m\u001B[0msubset\u001B[0m\u001B[1;33m)\u001B[0m\u001B[1;33m\u001B[0m\u001B[1;33m\u001B[0m\u001B[0m\n\u001B[0;32m   6652\u001B[0m             \u001B[0mcheck\u001B[0m \u001B[1;33m=\u001B[0m \u001B[0mindices\u001B[0m \u001B[1;33m==\u001B[0m \u001B[1;33m-\u001B[0m\u001B[1;36m1\u001B[0m\u001B[1;33m\u001B[0m\u001B[1;33m\u001B[0m\u001B[0m\n\u001B[0;32m   6653\u001B[0m             \u001B[1;32mif\u001B[0m \u001B[0mcheck\u001B[0m\u001B[1;33m.\u001B[0m\u001B[0many\u001B[0m\u001B[1;33m(\u001B[0m\u001B[1;33m)\u001B[0m\u001B[1;33m:\u001B[0m\u001B[1;33m\u001B[0m\u001B[1;33m\u001B[0m\u001B[0m\n\u001B[1;32m-> 6654\u001B[1;33m                 \u001B[1;32mraise\u001B[0m \u001B[0mKeyError\u001B[0m\u001B[1;33m(\u001B[0m\u001B[0mnp\u001B[0m\u001B[1;33m.\u001B[0m\u001B[0marray\u001B[0m\u001B[1;33m(\u001B[0m\u001B[0msubset\u001B[0m\u001B[1;33m)\u001B[0m\u001B[1;33m[\u001B[0m\u001B[0mcheck\u001B[0m\u001B[1;33m]\u001B[0m\u001B[1;33m.\u001B[0m\u001B[0mtolist\u001B[0m\u001B[1;33m(\u001B[0m\u001B[1;33m)\u001B[0m\u001B[1;33m)\u001B[0m\u001B[1;33m\u001B[0m\u001B[1;33m\u001B[0m\u001B[0m\n\u001B[0m\u001B[0;32m   6655\u001B[0m             \u001B[0magg_obj\u001B[0m \u001B[1;33m=\u001B[0m \u001B[0mself\u001B[0m\u001B[1;33m.\u001B[0m\u001B[0mtake\u001B[0m\u001B[1;33m(\u001B[0m\u001B[0mindices\u001B[0m\u001B[1;33m,\u001B[0m \u001B[0maxis\u001B[0m\u001B[1;33m=\u001B[0m\u001B[0magg_axis\u001B[0m\u001B[1;33m)\u001B[0m\u001B[1;33m\u001B[0m\u001B[1;33m\u001B[0m\u001B[0m\n\u001B[0;32m   6656\u001B[0m \u001B[1;33m\u001B[0m\u001B[0m\n\u001B[0;32m   6657\u001B[0m         \u001B[1;32mif\u001B[0m \u001B[0mthresh\u001B[0m \u001B[1;32mis\u001B[0m \u001B[1;32mnot\u001B[0m \u001B[0mlib\u001B[0m\u001B[1;33m.\u001B[0m\u001B[0mno_default\u001B[0m\u001B[1;33m:\u001B[0m\u001B[1;33m\u001B[0m\u001B[1;33m\u001B[0m\u001B[0m\n",
      "\u001B[1;31mKeyError\u001B[0m: ['Gene_stable_ID']"
     ]
    }
   ],
   "execution_count": 56
  },
  {
   "metadata": {},
   "cell_type": "markdown",
   "source": "### Save Data",
   "id": "f6139e1923b4cce9"
  },
  {
   "metadata": {
    "ExecuteTime": {
     "end_time": "2024-10-24T09:53:56.560439Z",
     "start_time": "2024-10-24T09:53:56.461861Z"
    }
   },
   "cell_type": "code",
   "source": [
    "df_cmp.to_csv(\"../processed_data/CMP_cancer_mean.csv\", index=False)\n",
    "print(f'There are {df_cmp.shape[0]} rows/genes in the saved dataset.')"
   ],
   "id": "97faad750e622768",
   "outputs": [
    {
     "name": "stdout",
     "output_type": "stream",
     "text": [
      "There are 33502 rows/genes in the saved dataset.\n"
     ]
    }
   ],
   "execution_count": 57
  },
  {
   "metadata": {
    "ExecuteTime": {
     "end_time": "2024-10-24T09:53:59.718575Z",
     "start_time": "2024-10-24T09:53:57.126547Z"
    }
   },
   "cell_type": "code",
   "source": "dfi.export(df_cmp.head(5), \"../tex/figures/03_01_CMP_cancer_mean.png\")",
   "id": "a822ffebd2b73fee",
   "outputs": [],
   "execution_count": 58
  },
  {
   "metadata": {},
   "cell_type": "code",
   "outputs": [],
   "execution_count": null,
   "source": "",
   "id": "bcbf601169823c08"
  }
 ],
 "metadata": {
  "kernelspec": {
   "display_name": "Python 3",
   "language": "python",
   "name": "python3"
  },
  "language_info": {
   "codemirror_mode": {
    "name": "ipython",
    "version": 2
   },
   "file_extension": ".py",
   "mimetype": "text/x-python",
   "name": "python",
   "nbconvert_exporter": "python",
   "pygments_lexer": "ipython2",
   "version": "2.7.6"
  }
 },
 "nbformat": 4,
 "nbformat_minor": 5
}
