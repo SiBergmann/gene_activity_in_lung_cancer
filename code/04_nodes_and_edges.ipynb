{
 "cells": [
  {
   "metadata": {
    "ExecuteTime": {
     "end_time": "2024-12-31T20:04:03.326256Z",
     "start_time": "2024-12-31T20:04:03.322198Z"
    }
   },
   "cell_type": "code",
   "source": [
    "import pandas as pd\n",
    "import dataframe_image as dfi\n",
    "import os\n",
    "import urllib.request\n",
    "import gzip"
   ],
   "id": "de17c831ebfe57de",
   "outputs": [],
   "execution_count": 10
  },
  {
   "metadata": {},
   "cell_type": "markdown",
   "source": "## Import data",
   "id": "46927e43fe43848a"
  },
  {
   "metadata": {
    "ExecuteTime": {
     "end_time": "2024-12-31T19:54:50.385254Z",
     "start_time": "2024-12-31T19:54:50.358124Z"
    }
   },
   "cell_type": "code",
   "source": "df_nodes_genes = pd.read_csv('../processed_data/nodes_genes.csv')",
   "id": "initial_id",
   "outputs": [],
   "execution_count": 4
  },
  {
   "metadata": {},
   "cell_type": "markdown",
   "source": [
    "# Edges: Protein-Gene Connection\n",
    "File from: https://www.ensembl.org/biomart/martview/\n",
    "\n",
    "Ensembl Genes 112 > Human Genes (GRCh38.p14)\n",
    "\n",
    "Protein - Gene Connections have these information:\n",
    "* Gene ID\n",
    "* Protein ID"
   ],
   "id": "6c33380c3ec9d25c"
  },
  {
   "metadata": {
    "ExecuteTime": {
     "end_time": "2024-12-31T19:54:53.238658Z",
     "start_time": "2024-12-31T19:54:53.157067Z"
    }
   },
   "cell_type": "code",
   "source": [
    "df_edges_protein_gene = pd.read_csv('../import_data/ENSEMBLE/biomart_gene_protein.txt',  sep='\\t')\n",
    "df_edges_protein_gene.rename(columns={'Gene stable ID': 'Gene ID', 'Protein stable ID': 'Protein ID'}, inplace=True)\n",
    "\n",
    "print(f\"There are {len(df_edges_protein_gene)} rows in the imported dataset.\")"
   ],
   "id": "76e44ce6b8e9d423",
   "outputs": [
    {
     "name": "stdout",
     "output_type": "stream",
     "text": [
      "There are 185330 rows in the imported dataset.\n"
     ]
    }
   ],
   "execution_count": 5
  },
  {
   "metadata": {
    "ExecuteTime": {
     "end_time": "2024-12-31T19:54:56.601549Z",
     "start_time": "2024-12-31T19:54:56.572048Z"
    }
   },
   "cell_type": "code",
   "source": [
    "# drop genes without gene or protein\n",
    "df_edges_protein_gene.dropna(inplace=True)\n",
    "\n",
    "# filter for genes in nodes\n",
    "df_edges_protein_gene = df_edges_protein_gene[df_edges_protein_gene['Gene ID'].isin(df_nodes_genes['Gene ID'])]\n",
    "\n",
    "\n",
    "print(f\"There are {len(df_edges_protein_gene)} rows in the filtered dataset.\")\n",
    "df_edges_protein_gene.head(10)"
   ],
   "id": "a36caeb96100b45",
   "outputs": [
    {
     "name": "stdout",
     "output_type": "stream",
     "text": [
      "There are 101731 rows in the filtered dataset.\n"
     ]
    },
    {
     "data": {
      "text/plain": [
       "            Gene ID       Protein ID\n",
       "5   ENSG00000198888  ENSP00000354687\n",
       "9   ENSG00000198763  ENSP00000355046\n",
       "15  ENSG00000198804  ENSP00000354499\n",
       "18  ENSG00000198712  ENSP00000354876\n",
       "20  ENSG00000228253  ENSP00000355265\n",
       "21  ENSG00000198899  ENSP00000354632\n",
       "22  ENSG00000198938  ENSP00000354982\n",
       "24  ENSG00000198840  ENSP00000355206\n",
       "26  ENSG00000212907  ENSP00000354728\n",
       "27  ENSG00000198886  ENSP00000354961"
      ],
      "text/html": [
       "<div>\n",
       "<style scoped>\n",
       "    .dataframe tbody tr th:only-of-type {\n",
       "        vertical-align: middle;\n",
       "    }\n",
       "\n",
       "    .dataframe tbody tr th {\n",
       "        vertical-align: top;\n",
       "    }\n",
       "\n",
       "    .dataframe thead th {\n",
       "        text-align: right;\n",
       "    }\n",
       "</style>\n",
       "<table border=\"1\" class=\"dataframe\">\n",
       "  <thead>\n",
       "    <tr style=\"text-align: right;\">\n",
       "      <th></th>\n",
       "      <th>Gene ID</th>\n",
       "      <th>Protein ID</th>\n",
       "    </tr>\n",
       "  </thead>\n",
       "  <tbody>\n",
       "    <tr>\n",
       "      <th>5</th>\n",
       "      <td>ENSG00000198888</td>\n",
       "      <td>ENSP00000354687</td>\n",
       "    </tr>\n",
       "    <tr>\n",
       "      <th>9</th>\n",
       "      <td>ENSG00000198763</td>\n",
       "      <td>ENSP00000355046</td>\n",
       "    </tr>\n",
       "    <tr>\n",
       "      <th>15</th>\n",
       "      <td>ENSG00000198804</td>\n",
       "      <td>ENSP00000354499</td>\n",
       "    </tr>\n",
       "    <tr>\n",
       "      <th>18</th>\n",
       "      <td>ENSG00000198712</td>\n",
       "      <td>ENSP00000354876</td>\n",
       "    </tr>\n",
       "    <tr>\n",
       "      <th>20</th>\n",
       "      <td>ENSG00000228253</td>\n",
       "      <td>ENSP00000355265</td>\n",
       "    </tr>\n",
       "    <tr>\n",
       "      <th>21</th>\n",
       "      <td>ENSG00000198899</td>\n",
       "      <td>ENSP00000354632</td>\n",
       "    </tr>\n",
       "    <tr>\n",
       "      <th>22</th>\n",
       "      <td>ENSG00000198938</td>\n",
       "      <td>ENSP00000354982</td>\n",
       "    </tr>\n",
       "    <tr>\n",
       "      <th>24</th>\n",
       "      <td>ENSG00000198840</td>\n",
       "      <td>ENSP00000355206</td>\n",
       "    </tr>\n",
       "    <tr>\n",
       "      <th>26</th>\n",
       "      <td>ENSG00000212907</td>\n",
       "      <td>ENSP00000354728</td>\n",
       "    </tr>\n",
       "    <tr>\n",
       "      <th>27</th>\n",
       "      <td>ENSG00000198886</td>\n",
       "      <td>ENSP00000354961</td>\n",
       "    </tr>\n",
       "  </tbody>\n",
       "</table>\n",
       "</div>"
      ]
     },
     "execution_count": 6,
     "metadata": {},
     "output_type": "execute_result"
    }
   ],
   "execution_count": 6
  },
  {
   "metadata": {},
   "cell_type": "markdown",
   "source": [
    "# Edges: Protein-Protein Interaction\n",
    "loaded from STRING database\n",
    "\n",
    "Protein - Protein Interaction have these information:\n",
    "* left Protein ID\n",
    "* right Protein ID"
   ],
   "id": "554d37780ad5e73f"
  },
  {
   "metadata": {
    "ExecuteTime": {
     "end_time": "2024-12-31T20:04:09.351112Z",
     "start_time": "2024-12-31T20:04:05.898572Z"
    }
   },
   "cell_type": "code",
   "source": [
    "# download STRING dataset\n",
    "url_string = \"https://stringdb-downloads.org/download/protein.links.full.v12.0/9606.protein.links.full.v12.0.txt.gz\"\n",
    "\n",
    "zip_file_name = \"../import_data/STRING/protein.links.full.v12.0.txt.gz\"\n",
    "\n",
    "file_name = \"../import_data/STRING/protein.links.full.v12.0.txt\"\n",
    "\n",
    "os.makedirs(\"../import_data/STRING\", exist_ok=True)\n",
    "\n",
    "if not os.path.exists(zip_file_name):\n",
    "    urllib.request.urlretrieve(url_string, zip_file_name)\n",
    "\n",
    "if not os.path.exists(file_name):\n",
    "    with gzip.open(zip_file_name, 'rb') as f_in:\n",
    "        with open(file_name, 'wb') as f_out:\n",
    "            f_out.write(f_in.read())"
   ],
   "id": "4286d1118df315e2",
   "outputs": [],
   "execution_count": 11
  },
  {
   "metadata": {
    "ExecuteTime": {
     "end_time": "2024-12-20T14:01:22.889214Z",
     "start_time": "2024-12-20T14:00:48.513207Z"
    }
   },
   "cell_type": "code",
   "source": [
    "df_edges_protein = pd.read_csv(file_name, sep=' ', usecols=[0, 1])\n",
    "\n",
    "print('Length of STRING Links Dataset: ', len(df_edges_protein))\n",
    "\n",
    "df_edges_protein.rename(columns={'protein1': 'left Protein ID', 'protein2': 'right Protein ID'}, inplace=True)\n",
    "\n",
    "df_edges_protein['left Protein ID'] = df_edges_protein['left Protein ID'].apply(lambda x: x.split('.')[1])\n",
    "df_edges_protein['right Protein ID'] = df_edges_protein['right Protein ID'].apply(lambda x: x.split('.')[1])\n",
    "\n",
    "print(f\"There are {len(df_edges_protein)} rows in the dataset.\")\n",
    "df_edges_protein.head()"
   ],
   "id": "681c60eea90ce9c2",
   "outputs": [
    {
     "name": "stdout",
     "output_type": "stream",
     "text": [
      "Length of STRING Links Dataset:  13715404\n",
      "There are 13715404 rows in the dataset.\n"
     ]
    },
    {
     "data": {
      "text/plain": [
       "   left Protein ID right Protein ID\n",
       "0  ENSP00000000233  ENSP00000356607\n",
       "1  ENSP00000000233  ENSP00000427567\n",
       "2  ENSP00000000233  ENSP00000253413\n",
       "3  ENSP00000000233  ENSP00000493357\n",
       "4  ENSP00000000233  ENSP00000324127"
      ],
      "text/html": [
       "<div>\n",
       "<style scoped>\n",
       "    .dataframe tbody tr th:only-of-type {\n",
       "        vertical-align: middle;\n",
       "    }\n",
       "\n",
       "    .dataframe tbody tr th {\n",
       "        vertical-align: top;\n",
       "    }\n",
       "\n",
       "    .dataframe thead th {\n",
       "        text-align: right;\n",
       "    }\n",
       "</style>\n",
       "<table border=\"1\" class=\"dataframe\">\n",
       "  <thead>\n",
       "    <tr style=\"text-align: right;\">\n",
       "      <th></th>\n",
       "      <th>left Protein ID</th>\n",
       "      <th>right Protein ID</th>\n",
       "    </tr>\n",
       "  </thead>\n",
       "  <tbody>\n",
       "    <tr>\n",
       "      <th>0</th>\n",
       "      <td>ENSP00000000233</td>\n",
       "      <td>ENSP00000356607</td>\n",
       "    </tr>\n",
       "    <tr>\n",
       "      <th>1</th>\n",
       "      <td>ENSP00000000233</td>\n",
       "      <td>ENSP00000427567</td>\n",
       "    </tr>\n",
       "    <tr>\n",
       "      <th>2</th>\n",
       "      <td>ENSP00000000233</td>\n",
       "      <td>ENSP00000253413</td>\n",
       "    </tr>\n",
       "    <tr>\n",
       "      <th>3</th>\n",
       "      <td>ENSP00000000233</td>\n",
       "      <td>ENSP00000493357</td>\n",
       "    </tr>\n",
       "    <tr>\n",
       "      <th>4</th>\n",
       "      <td>ENSP00000000233</td>\n",
       "      <td>ENSP00000324127</td>\n",
       "    </tr>\n",
       "  </tbody>\n",
       "</table>\n",
       "</div>"
      ]
     },
     "execution_count": 5,
     "metadata": {},
     "output_type": "execute_result"
    }
   ],
   "execution_count": 5
  },
  {
   "metadata": {},
   "cell_type": "markdown",
   "source": [
    "### Filter for Proteins from Nodes\n",
    "Leads to only direct connections between proteins that are connected to genes\n",
    "\n",
    "→ Gene - Protein - Protein - Gene\n",
    "\n",
    "\n",
    "But we also want to include proteins that are not connected to a gene\n",
    "\n",
    "→ Gene - Protein - $Protein$ - Protein - Gene\n"
   ],
   "id": "6f5da69f4a5fd07c"
  },
  {
   "metadata": {
    "ExecuteTime": {
     "end_time": "2024-12-20T14:01:23.043598Z",
     "start_time": "2024-12-20T14:01:23.025314Z"
    }
   },
   "cell_type": "code",
   "source": [
    "\"\"\"df_edges_protein = df_edges_protein[df_edges_protein['protein1'].isin(df_nodes_protein)]\n",
    "df_edges_protein = df_edges_protein[df_edges_protein['protein2'].isin(df_nodes_protein)]\n",
    "\n",
    "df_edges_protein\"\"\""
   ],
   "id": "aa6bcf4d543622cc",
   "outputs": [
    {
     "data": {
      "text/plain": [
       "\"df_edges_protein = df_edges_protein[df_edges_protein['protein1'].isin(df_nodes_protein)]\\ndf_edges_protein = df_edges_protein[df_edges_protein['protein2'].isin(df_nodes_protein)]\\n\\ndf_edges_protein\""
      ]
     },
     "execution_count": 6,
     "metadata": {},
     "output_type": "execute_result"
    }
   ],
   "execution_count": 6
  },
  {
   "metadata": {
    "ExecuteTime": {
     "end_time": "2024-12-20T14:01:27.390795Z",
     "start_time": "2024-12-20T14:01:23.685886Z"
    }
   },
   "cell_type": "code",
   "source": [
    "# number of edges per gene\n",
    "import matplotlib.pyplot as plt\n",
    "edge_per_gene = df_edges_protein.groupby('left Protein ID').count().sort_values('right Protein ID', ascending=False)\n",
    "\n",
    "# hist plot\n",
    "plt.figure(figsize=(10, 5))\n",
    "plt.hist(edge_per_gene['right Protein ID'], bins=100)\n",
    "plt.xlabel('Number of Edges')\n",
    "\n",
    "plt.show()"
   ],
   "id": "23068bf228110ffb",
   "outputs": [
    {
     "data": {
      "text/plain": [
       "<Figure size 1000x500 with 1 Axes>"
      ],
      "image/png": "[encoded data removed]"
     },
     "metadata": {},
     "output_type": "display_data"
    }
   ],
   "execution_count": 7
  },
  {
   "metadata": {},
   "cell_type": "markdown",
   "source": [
    "# Nodes: Protein\n",
    "Protein Nodes have these information:\n",
    "* Protein ID\n"
   ],
   "id": "4d154f07da1daba6"
  },
  {
   "metadata": {
    "ExecuteTime": {
     "end_time": "2024-12-20T14:01:27.519695Z",
     "start_time": "2024-12-20T14:01:27.472082Z"
    }
   },
   "cell_type": "code",
   "source": [
    "# Proteins that are connected to genes\n",
    "df_nodes_protein1 = df_edges_protein_gene.copy()\n",
    "df_nodes_protein1 = df_nodes_protein1['Protein ID']\n",
    "\n",
    "df_nodes_protein1 = df_nodes_protein1.drop_duplicates().reset_index(drop=True)\n",
    "\n",
    "df_nodes_protein1"
   ],
   "id": "3eb0422fe2814828",
   "outputs": [
    {
     "data": {
      "text/plain": [
       "0         ENSP00000354687\n",
       "1         ENSP00000355046\n",
       "2         ENSP00000354499\n",
       "3         ENSP00000354876\n",
       "4         ENSP00000355265\n",
       "               ...       \n",
       "101726    ENSP00000373370\n",
       "101727    ENSP00000355866\n",
       "101728    ENSP00000483812\n",
       "101729    ENSP00000482935\n",
       "101730    ENSP00000480008\n",
       "Name: Protein ID, Length: 101731, dtype: object"
      ]
     },
     "execution_count": 8,
     "metadata": {},
     "output_type": "execute_result"
    }
   ],
   "execution_count": 8
  },
  {
   "metadata": {
    "ExecuteTime": {
     "end_time": "2024-12-20T14:01:35.292403Z",
     "start_time": "2024-12-20T14:01:27.631887Z"
    }
   },
   "cell_type": "code",
   "source": [
    "# proteins that are connected to other proteins\n",
    "df_nodes_protein2 = pd.concat([df_edges_protein['left Protein ID'], df_edges_protein['right Protein ID']], ignore_index=True)\n",
    "df_nodes_protein2 = df_nodes_protein2.drop_duplicates().reset_index(drop=True)\n",
    "df_nodes_protein2.rename('Protein ID', inplace=True)\n",
    "\n",
    "df_nodes_protein2"
   ],
   "id": "83f1c44a4d5937d7",
   "outputs": [
    {
     "data": {
      "text/plain": [
       "0        ENSP00000000233\n",
       "1        ENSP00000000412\n",
       "2        ENSP00000001008\n",
       "3        ENSP00000001146\n",
       "4        ENSP00000002125\n",
       "              ...       \n",
       "19617    ENSP00000501254\n",
       "19618    ENSP00000501259\n",
       "19619    ENSP00000501265\n",
       "19620    ENSP00000501277\n",
       "19621    ENSP00000501317\n",
       "Name: Protein ID, Length: 19622, dtype: object"
      ]
     },
     "execution_count": 9,
     "metadata": {},
     "output_type": "execute_result"
    }
   ],
   "execution_count": 9
  },
  {
   "metadata": {
    "ExecuteTime": {
     "end_time": "2024-12-20T14:01:35.474230Z",
     "start_time": "2024-12-20T14:01:35.419265Z"
    }
   },
   "cell_type": "code",
   "source": [
    "# combine both\n",
    "df_nodes_protein = pd.concat([df_nodes_protein1, df_nodes_protein2], ignore_index=True)\n",
    "df_nodes_protein = df_nodes_protein.drop_duplicates()\n",
    "\n",
    "df_nodes_protein"
   ],
   "id": "de0d073c44bf740a",
   "outputs": [
    {
     "data": {
      "text/plain": [
       "0         ENSP00000354687\n",
       "1         ENSP00000355046\n",
       "2         ENSP00000354499\n",
       "3         ENSP00000354876\n",
       "4         ENSP00000355265\n",
       "               ...       \n",
       "121335    ENSP00000501085\n",
       "121336    ENSP00000501088\n",
       "121337    ENSP00000501092\n",
       "121339    ENSP00000501111\n",
       "121352    ENSP00000501317\n",
       "Name: Protein ID, Length: 104235, dtype: object"
      ]
     },
     "execution_count": 10,
     "metadata": {},
     "output_type": "execute_result"
    }
   ],
   "execution_count": 10
  },
  {
   "metadata": {},
   "cell_type": "markdown",
   "source": "# Export Data",
   "id": "a7c449732d96a18c"
  },
  {
   "metadata": {
    "ExecuteTime": {
     "end_time": "2024-12-20T14:02:02.071375Z",
     "start_time": "2024-12-20T14:01:35.726626Z"
    }
   },
   "cell_type": "code",
   "source": [
    "df_nodes_protein.to_csv('../processed_data/nodes_protein.csv', index=False)\n",
    "df_edges_protein.to_csv('../processed_data/edges_protein.csv', index=False)\n",
    "df_edges_protein_gene.to_csv('../processed_data/edges_protein_gene.csv', index=False)"
   ],
   "id": "3643344b702567c5",
   "outputs": [],
   "execution_count": 11
  },
  {
   "metadata": {
    "ExecuteTime": {
     "end_time": "2024-12-20T14:02:02.289201Z",
     "start_time": "2024-12-20T14:02:02.281642Z"
    }
   },
   "cell_type": "code",
   "source": [
    "print(f\"There are {len(df_nodes_protein)} Protein Nodes\")\n",
    "print(f\"There are {len(df_edges_protein)} Protein-Protein Edges\")\n",
    "print(f\"There are {len(df_edges_protein_gene)} Protein-Gene Edges\")"
   ],
   "id": "1d8c26ed7555f723",
   "outputs": [
    {
     "name": "stdout",
     "output_type": "stream",
     "text": [
      "There are 104235 Protein Nodes\n",
      "There are 13715404 Protein-Protein Edges\n",
      "There are 101731 Protein-Gene Edges\n"
     ]
    }
   ],
   "execution_count": 12
  },
  {
   "metadata": {
    "ExecuteTime": {
     "end_time": "2024-12-20T14:02:07.389372Z",
     "start_time": "2024-12-20T14:02:02.360092Z"
    }
   },
   "cell_type": "code",
   "source": [
    "df_edges_protein_plot = df_edges_protein.reset_index(drop=True)\n",
    "df_edges_protein_gene_plot = df_edges_protein_gene.reset_index(drop=True)\n",
    "df_nodes_protein_plot = df_nodes_protein.reset_index(drop=True)\n",
    "\n",
    "df_nodes_protein_plot\n",
    "# lib cant plot single columns"
   ],
   "id": "4a719b5ae1f90dba",
   "outputs": [
    {
     "data": {
      "text/plain": [
       "0         ENSP00000354687\n",
       "1         ENSP00000355046\n",
       "2         ENSP00000354499\n",
       "3         ENSP00000354876\n",
       "4         ENSP00000355265\n",
       "               ...       \n",
       "104230    ENSP00000501085\n",
       "104231    ENSP00000501088\n",
       "104232    ENSP00000501092\n",
       "104233    ENSP00000501111\n",
       "104234    ENSP00000501317\n",
       "Name: Protein ID, Length: 104235, dtype: object"
      ]
     },
     "execution_count": 13,
     "metadata": {},
     "output_type": "execute_result"
    }
   ],
   "execution_count": 13
  },
  {
   "metadata": {
    "ExecuteTime": {
     "end_time": "2024-12-31T16:54:12.888317Z",
     "start_time": "2024-12-31T16:54:11.353035Z"
    }
   },
   "cell_type": "code",
   "source": [
    "dfi.export(df_edges_protein_plot.head(5), '../tex/figures/03_02_protein_edges.png')\n",
    "dfi.export(df_edges_protein_gene_plot.head(5), '../tex/figures/03_02_gene_protein_edges.png')\n",
    "dfi.export(df_nodes_protein_plot.head(5), '../tex/figures/03_02_protein_nodes.png')"
   ],
   "id": "468846d3d61aa5b7",
   "outputs": [
    {
     "ename": "NameError",
     "evalue": "name 'dfi' is not defined",
     "output_type": "error",
     "traceback": [
      "\u001B[1;31m---------------------------------------------------------------------------\u001B[0m",
      "\u001B[1;31mNameError\u001B[0m                                 Traceback (most recent call last)",
      "Cell \u001B[1;32mIn[1], line 1\u001B[0m\n\u001B[1;32m----> 1\u001B[0m dfi\u001B[38;5;241m.\u001B[39mexport(df_edges_protein_plot\u001B[38;5;241m.\u001B[39mhead(\u001B[38;5;241m5\u001B[39m), \u001B[38;5;124m'\u001B[39m\u001B[38;5;124m../tex/figures/03_02_protein_edges.png\u001B[39m\u001B[38;5;124m'\u001B[39m)\n\u001B[0;32m      2\u001B[0m dfi\u001B[38;5;241m.\u001B[39mexport(df_edges_protein_gene_plot\u001B[38;5;241m.\u001B[39mhead(\u001B[38;5;241m5\u001B[39m), \u001B[38;5;124m'\u001B[39m\u001B[38;5;124m../tex/figures/03_02_gene_protein_edges.png\u001B[39m\u001B[38;5;124m'\u001B[39m)\n\u001B[0;32m      3\u001B[0m dfi\u001B[38;5;241m.\u001B[39mexport(df_nodes_protein_plot\u001B[38;5;241m.\u001B[39mhead(\u001B[38;5;241m5\u001B[39m), \u001B[38;5;124m'\u001B[39m\u001B[38;5;124m../tex/figures/03_02_protein_nodes.png\u001B[39m\u001B[38;5;124m'\u001B[39m)\n",
      "\u001B[1;31mNameError\u001B[0m: name 'dfi' is not defined"
     ]
    }
   ],
   "execution_count": 1
  }
 ],
 "metadata": {
  "kernelspec": {
   "display_name": "Python 3",
   "language": "python",
   "name": "python3"
  },
  "language_info": {
   "codemirror_mode": {
    "name": "ipython",
    "version": 2
   },
   "file_extension": ".py",
   "mimetype": "text/x-python",
   "name": "python",
   "nbconvert_exporter": "python",
   "pygments_lexer": "ipython2",
   "version": "2.7.6"
  }
 },
 "nbformat": 4,
 "nbformat_minor": 5
}
