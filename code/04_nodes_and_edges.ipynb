{
 "cells": [
  {
   "metadata": {},
   "cell_type": "code",
   "source": [
    "import pandas as pd\n",
    "import dataframe_image as dfi\n",
    "import os\n",
    "import urllib.request\n",
    "import gzip"
   ],
   "id": "de17c831ebfe57de",
   "outputs": [],
   "execution_count": null
  },
  {
   "metadata": {},
   "cell_type": "markdown",
   "source": "## Import data",
   "id": "46927e43fe43848a"
  },
  {
   "metadata": {},
   "cell_type": "code",
   "source": "df_nodes_genes = pd.read_csv('../processed_data/nodes_genes.csv')",
   "id": "initial_id",
   "outputs": [],
   "execution_count": null
  },
  {
   "metadata": {},
   "cell_type": "markdown",
   "source": [
    "# Edges: Protein-Gene Connection\n",
    "File from: https://www.ensembl.org/biomart/martview/\n",
    "\n",
    "Ensembl Genes 112 > Human Genes (GRCh38.p14)\n",
    "\n",
    "Protein - Gene Connections have these information:\n",
    "* Gene ID\n",
    "* Protein ID"
   ],
   "id": "6c33380c3ec9d25c"
  },
  {
   "metadata": {},
   "cell_type": "code",
   "source": [
    "df_edges_protein_gene = pd.read_csv('../import_data/ENSEMBLE/biomart_gene_protein.txt',  sep='\\t')\n",
    "df_edges_protein_gene.rename(columns={'Gene stable ID': 'Gene ID', 'Protein stable ID': 'Protein ID'}, inplace=True)\n",
    "\n",
    "print(f\"There are {len(df_edges_protein_gene)} rows in the imported dataset.\")"
   ],
   "id": "76e44ce6b8e9d423",
   "outputs": [],
   "execution_count": null
  },
  {
   "metadata": {},
   "cell_type": "code",
   "source": [
    "# drop genes without gene or protein\n",
    "df_edges_protein_gene.dropna(inplace=True)\n",
    "\n",
    "# filter for genes in nodes\n",
    "df_edges_protein_gene = df_edges_protein_gene[df_edges_protein_gene['Gene ID'].isin(df_nodes_genes['Gene ID'])]\n",
    "\n",
    "\n",
    "print(f\"There are {len(df_edges_protein_gene)} rows in the filtered dataset.\")\n",
    "df_edges_protein_gene.head(10)"
   ],
   "id": "a36caeb96100b45",
   "outputs": [],
   "execution_count": null
  },
  {
   "metadata": {},
   "cell_type": "markdown",
   "source": [
    "# Edges: Protein-Protein Interaction\n",
    "loaded from STRING database\n",
    "\n",
    "Protein - Protein Interaction have these information:\n",
    "* left Protein ID\n",
    "* right Protein ID"
   ],
   "id": "554d37780ad5e73f"
  },
  {
   "metadata": {},
   "cell_type": "code",
   "source": [
    "# download STRING dataset\n",
    "url_string = \"https://stringdb-downloads.org/download/protein.links.full.v12.0/9606.protein.links.full.v12.0.txt.gz\"\n",
    "\n",
    "zip_file_name = \"../import_data/STRING/protein.links.full.v12.0.txt.gz\"\n",
    "\n",
    "file_name = \"../import_data/STRING/protein.links.full.v12.0.txt\"\n",
    "\n",
    "os.makedirs(\"../import_data/STRING\", exist_ok=True)\n",
    "\n",
    "if not os.path.exists(zip_file_name):\n",
    "    urllib.request.urlretrieve(url_string, zip_file_name)\n",
    "\n",
    "if not os.path.exists(file_name):\n",
    "    with gzip.open(zip_file_name, 'rb') as f_in:\n",
    "        with open(file_name, 'wb') as f_out:\n",
    "            f_out.write(f_in.read())"
   ],
   "id": "4286d1118df315e2",
   "outputs": [],
   "execution_count": null
  },
  {
   "metadata": {},
   "cell_type": "code",
   "source": [
    "df_edges_protein = pd.read_csv(file_name, sep=' ', usecols=[0, 1])\n",
    "\n",
    "print('Length of STRING Links Dataset: ', len(df_edges_protein))\n",
    "\n",
    "df_edges_protein.rename(columns={'protein1': 'left Protein ID', 'protein2': 'right Protein ID'}, inplace=True)\n",
    "\n",
    "df_edges_protein['left Protein ID'] = df_edges_protein['left Protein ID'].apply(lambda x: x.split('.')[1])\n",
    "df_edges_protein['right Protein ID'] = df_edges_protein['right Protein ID'].apply(lambda x: x.split('.')[1])\n",
    "\n",
    "print(f\"There are {len(df_edges_protein)} rows in the dataset.\")\n",
    "df_edges_protein.head()"
   ],
   "id": "681c60eea90ce9c2",
   "outputs": [],
   "execution_count": null
  },
  {
   "metadata": {},
   "cell_type": "markdown",
   "source": [
    "### Filter for Proteins from Nodes\n",
    "Leads to only direct connections between proteins that are connected to genes\n",
    "\n",
    "→ Gene - Protein - Protein - Gene\n",
    "\n",
    "\n",
    "But we also want to include proteins that are not connected to a gene\n",
    "\n",
    "→ Gene - Protein - $Protein$ - Protein - Gene\n"
   ],
   "id": "6f5da69f4a5fd07c"
  },
  {
   "metadata": {},
   "cell_type": "code",
   "source": [
    "\"\"\"df_edges_protein = df_edges_protein[df_edges_protein['protein1'].isin(df_nodes_protein)]\n",
    "df_edges_protein = df_edges_protein[df_edges_protein['protein2'].isin(df_nodes_protein)]\n",
    "\n",
    "df_edges_protein\"\"\""
   ],
   "id": "aa6bcf4d543622cc",
   "outputs": [],
   "execution_count": null
  },
  {
   "metadata": {},
   "cell_type": "code",
   "source": [
    "# number of edges per gene\n",
    "import matplotlib.pyplot as plt\n",
    "edge_per_gene = df_edges_protein.groupby('left Protein ID').count().sort_values('right Protein ID', ascending=False)\n",
    "\n",
    "# hist plot\n",
    "plt.figure(figsize=(10, 5))\n",
    "plt.hist(edge_per_gene['right Protein ID'], bins=100)\n",
    "plt.xlabel('Number of Edges')\n",
    "\n",
    "plt.show()"
   ],
   "id": "23068bf228110ffb",
   "outputs": [],
   "execution_count": null
  },
  {
   "metadata": {},
   "cell_type": "markdown",
   "source": [
    "# Nodes: Protein\n",
    "Protein Nodes have these information:\n",
    "* Protein ID\n"
   ],
   "id": "4d154f07da1daba6"
  },
  {
   "metadata": {},
   "cell_type": "code",
   "source": [
    "# Proteins that are connected to genes\n",
    "df_nodes_protein1 = df_edges_protein_gene.copy()\n",
    "df_nodes_protein1 = df_nodes_protein1['Protein ID']\n",
    "\n",
    "df_nodes_protein1 = df_nodes_protein1.drop_duplicates().reset_index(drop=True)\n",
    "\n",
    "df_nodes_protein1"
   ],
   "id": "3eb0422fe2814828",
   "outputs": [],
   "execution_count": null
  },
  {
   "metadata": {},
   "cell_type": "code",
   "source": [
    "# proteins that are connected to other proteins\n",
    "df_nodes_protein2 = pd.concat([df_edges_protein['left Protein ID'], df_edges_protein['right Protein ID']], ignore_index=True)\n",
    "df_nodes_protein2 = df_nodes_protein2.drop_duplicates().reset_index(drop=True)\n",
    "df_nodes_protein2.rename('Protein ID', inplace=True)\n",
    "\n",
    "df_nodes_protein2"
   ],
   "id": "83f1c44a4d5937d7",
   "outputs": [],
   "execution_count": null
  },
  {
   "metadata": {},
   "cell_type": "code",
   "source": [
    "# combine both\n",
    "df_nodes_protein = pd.concat([df_nodes_protein1, df_nodes_protein2], ignore_index=True)\n",
    "df_nodes_protein = df_nodes_protein.drop_duplicates()\n",
    "\n",
    "df_nodes_protein"
   ],
   "id": "de0d073c44bf740a",
   "outputs": [],
   "execution_count": null
  },
  {
   "metadata": {},
   "cell_type": "markdown",
   "source": "# Export Data",
   "id": "a7c449732d96a18c"
  },
  {
   "metadata": {},
   "cell_type": "code",
   "source": [
    "df_nodes_protein.to_csv('../processed_data/nodes_protein.csv', index=False)\n",
    "df_edges_protein.to_csv('../processed_data/edges_protein.csv', index=False)\n",
    "df_edges_protein_gene.to_csv('../processed_data/edges_protein_gene.csv', index=False)"
   ],
   "id": "3643344b702567c5",
   "outputs": [],
   "execution_count": null
  },
  {
   "metadata": {},
   "cell_type": "code",
   "source": [
    "print(f\"There are {len(df_nodes_protein)} Protein Nodes\")\n",
    "print(f\"There are {len(df_edges_protein)} Protein-Protein Edges\")\n",
    "print(f\"There are {len(df_edges_protein_gene)} Protein-Gene Edges\")"
   ],
   "id": "1d8c26ed7555f723",
   "outputs": [],
   "execution_count": null
  },
  {
   "metadata": {},
   "cell_type": "code",
   "source": [
    "df_edges_protein_plot = df_edges_protein.reset_index(drop=True)\n",
    "df_edges_protein_gene_plot = df_edges_protein_gene.reset_index(drop=True)\n",
    "df_nodes_protein_plot = df_nodes_protein.reset_index(drop=True)\n",
    "\n",
    "df_nodes_protein_plot\n",
    "# lib cant plot single columns"
   ],
   "id": "4a719b5ae1f90dba",
   "outputs": [],
   "execution_count": null
  },
  {
   "metadata": {},
   "cell_type": "code",
   "source": [
    "dfi.export(df_edges_protein_plot.head(5), '../tex/figures/03_02_protein_edges.png')\n",
    "dfi.export(df_edges_protein_gene_plot.head(5), '../tex/figures/03_02_gene_protein_edges.png')"
   ],
   "id": "468846d3d61aa5b7",
   "outputs": [],
   "execution_count": null
  }
 ],
 "metadata": {
  "kernelspec": {
   "display_name": "Python 3",
   "language": "python",
   "name": "python3"
  },
  "language_info": {
   "codemirror_mode": {
    "name": "ipython",
    "version": 2
   },
   "file_extension": ".py",
   "mimetype": "text/x-python",
   "name": "python",
   "nbconvert_exporter": "python",
   "pygments_lexer": "ipython2",
   "version": "2.7.6"
  }
 },
 "nbformat": 4,
 "nbformat_minor": 5
}
