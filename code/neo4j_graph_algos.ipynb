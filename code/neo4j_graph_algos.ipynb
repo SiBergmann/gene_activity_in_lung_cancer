{
 "cells": [
  {
   "cell_type": "code",
   "id": "initial_id",
   "metadata": {
    "collapsed": true
   },
   "source": [
    "import config\n",
    "import time\n",
    "\n",
    "import pandas as pd\n",
    "import matplotlib.pyplot as plt\n",
    "import dataframe_image as dfi\n",
    "\n",
    "from neo4j import GraphDatabase"
   ],
   "outputs": [],
   "execution_count": 4
  },
  {
   "metadata": {
    "ExecuteTime": {
     "end_time": "2024-12-16T09:19:47.353704Z",
     "start_time": "2024-12-16T09:19:46.195929Z"
    }
   },
   "cell_type": "code",
   "source": [
    "# set up connection\n",
    "driver = GraphDatabase.driver(config.uri, auth=(config.user, config.password), encrypted=False)\n",
    "\n",
    "# Check if connection did work\n",
    "def check_connectivity(driver):\n",
    "    try:\n",
    "        with driver.session() as session:\n",
    "            result = session.run(\"RETURN 1 as result\")\n",
    "            record = result.single()\n",
    "            if record and record[\"result\"] == 1:\n",
    "                return True\n",
    "            else:\n",
    "                print('False')\n",
    "                return False\n",
    "    except Exception as e:\n",
    "        return False\n",
    "\n",
    "\n",
    "if check_connectivity(driver):\n",
    "    print(\"Verbindung erfolgreich hergestellt.\")\n",
    "else:\n",
    "    print(\"Fehler bei der Verbindungsherstellung.\")"
   ],
   "id": "f2e75094ebca1d4e",
   "outputs": [
    {
     "name": "stdout",
     "output_type": "stream",
     "text": [
      "Verbindung erfolgreich hergestellt.\n"
     ]
    }
   ],
   "execution_count": 5
  },
  {
   "metadata": {},
   "cell_type": "markdown",
   "source": [
    "# Graph Database Algorithm\n",
    "\n",
    "## Projection"
   ],
   "id": "65ed7860f618b828"
  },
  {
   "metadata": {
    "ExecuteTime": {
     "end_time": "2024-12-16T09:19:50.563413Z",
     "start_time": "2024-12-16T09:19:47.368420Z"
    }
   },
   "cell_type": "code",
   "source": [
    "def drop_projection() -> None:\n",
    "    \"\"\"\n",
    "    Drop the projection of the graph.\n",
    "    \"\"\"\n",
    "    with driver.session() as session:\n",
    "        drop_projection_query = \"CALL gds.graph.drop('gene_protein_graph')\"\n",
    "        \n",
    "        session.run(drop_projection_query)\n",
    "        print(\"Projection dropped.\")\n",
    "\n",
    "def create_projection() -> None:\n",
    "    \"\"\"\n",
    "    Create a projection of the graph for the gene and protein nodes.\n",
    "    \"\"\"\n",
    "    with driver.session() as session:\n",
    "        projection_query = \"\"\"\n",
    "        CALL gds.graph.project(\n",
    "            'gene_protein_graph',\n",
    "            {\n",
    "                gene: {\n",
    "                    label: 'gene'\n",
    "                },\n",
    "                protein: {\n",
    "                    label: 'protein'\n",
    "                }\n",
    "            },\n",
    "            {\n",
    "                interaction: {\n",
    "                    type: 'interaction',\n",
    "                    orientation: 'UNDIRECTED'\n",
    "                },\n",
    "                connection: {\n",
    "                    type: 'connection',\n",
    "                    orientation: 'UNDIRECTED'\n",
    "                }\n",
    "            }\n",
    "        )\n",
    "        \"\"\"\n",
    "        \n",
    "        session.run(projection_query)\n",
    "        print(\"Graph projection created.\")\n",
    "\n",
    "# drop_projection()\n",
    "create_projection()"
   ],
   "id": "a6b379c512c6b5ac",
   "outputs": [
    {
     "name": "stdout",
     "output_type": "stream",
     "text": [
      "Graph projection created.\n"
     ]
    }
   ],
   "execution_count": 6
  },
  {
   "metadata": {},
   "cell_type": "markdown",
   "source": "## Helper Functions",
   "id": "789c726a43338394"
  },
  {
   "metadata": {
    "ExecuteTime": {
     "end_time": "2024-12-16T09:19:50.582136Z",
     "start_time": "2024-12-16T09:19:50.576601Z"
    }
   },
   "cell_type": "code",
   "source": [
    "def drop_protein_nodes(df) -> pd.DataFrame:\n",
    "    \"\"\"\n",
    "    Drop the protein nodes from the dataframe.\n",
    "    :param df: The dataframe with the protein nodes.\n",
    "    \"\"\"\n",
    "    return df[~df[\"Gene_ID\"].str.contains(\"ENSP\")]"
   ],
   "id": "159d9de4972191ae",
   "outputs": [],
   "execution_count": 7
  },
  {
   "metadata": {},
   "cell_type": "markdown",
   "source": "## Pagerank",
   "id": "f20f9f0c02d7ed4d"
  },
  {
   "metadata": {
    "ExecuteTime": {
     "end_time": "2024-12-16T09:19:56.986266Z",
     "start_time": "2024-12-16T09:19:50.593664Z"
    }
   },
   "cell_type": "code",
   "source": [
    "def run_pagerank() -> pd.DataFrame:\n",
    "    \"\"\"\n",
    "    Pagerank algorithm performed on the genes.\n",
    "    :return: \n",
    "    \"\"\"\n",
    "    with driver.session() as session:\n",
    "        query = \"\"\"\n",
    "        CALL gds.pageRank.stream('gene_protein_graph')\n",
    "        YIELD nodeId, score\n",
    "        RETURN gds.util.asNode(nodeId).id AS Gene_ID,\n",
    "               gds.util.asNode(nodeId).gene_name AS Gene_Name,\n",
    "               score, \n",
    "               gds.util.asNode(nodeId).Δ_TPM AS Δ_TPM,\n",
    "               gds.util.asNode(nodeId).Δ_TPM_relevant AS Δ_TPM_relevant\n",
    "        ORDER BY score DESC\n",
    "        \"\"\"\n",
    "    \n",
    "        result = session.run(query)\n",
    "        \n",
    "        df_results = pd.DataFrame([dict(record) for record in result], columns=result.keys())\n",
    "        df_results = drop_protein_nodes(df_results)\n",
    "        \n",
    "        df_results[\"score\"] = df_results[\"score\"].round(3)\n",
    "    \n",
    "        return df_results\n",
    "\n",
    "start = time.time()\n",
    "\n",
    "df_pagerank = run_pagerank()\n",
    "\n",
    "end = time.time()\n",
    "print(f\"Time taken: {round(end - start, 0)} seconds.\")"
   ],
   "id": "d5b59a6317fc5c3c",
   "outputs": [
    {
     "name": "stdout",
     "output_type": "stream",
     "text": [
      "Time taken: 6.0 seconds.\n"
     ]
    }
   ],
   "execution_count": 8
  },
  {
   "metadata": {
    "ExecuteTime": {
     "end_time": "2024-12-16T09:19:57.095764Z",
     "start_time": "2024-12-16T09:19:57.045325Z"
    }
   },
   "cell_type": "code",
   "source": [
    "print(\"Only genes nodes:\")\n",
    "df_pagerank.head(100)"
   ],
   "id": "14b09ce8c1cd8f56",
   "outputs": [
    {
     "name": "stdout",
     "output_type": "stream",
     "text": [
      "Only genes nodes:\n"
     ]
    },
    {
     "data": {
      "text/plain": [
       "             Gene_ID Gene_Name   score     Δ_TPM Δ_TPM_relevant\n",
       "0    ENSG00000109339    MAPK10  67.209 -0.051677          False\n",
       "1    ENSG00000115392     FANCL  40.200  0.149585          False\n",
       "2    ENSG00000107862      GBF1  37.993  0.034794          False\n",
       "3    ENSG00000145362      ANK2  36.668 -0.025229          False\n",
       "4    ENSG00000121940     CLCC1  34.903  0.028258          False\n",
       "..               ...       ...     ...       ...            ...\n",
       "101  ENSG00000103034     NDRG4  16.373 -0.128267          False\n",
       "102  ENSG00000103811      CTSH  16.373 -0.056641          False\n",
       "103  ENSG00000173230    GOLGB1  16.373  0.031236          False\n",
       "104  ENSG00000146282     RARS2  16.373  0.079608          False\n",
       "105  ENSG00000168214      RBPJ  16.372  0.038719          False\n",
       "\n",
       "[100 rows x 5 columns]"
      ],
      "text/html": [
       "<div>\n",
       "<style scoped>\n",
       "    .dataframe tbody tr th:only-of-type {\n",
       "        vertical-align: middle;\n",
       "    }\n",
       "\n",
       "    .dataframe tbody tr th {\n",
       "        vertical-align: top;\n",
       "    }\n",
       "\n",
       "    .dataframe thead th {\n",
       "        text-align: right;\n",
       "    }\n",
       "</style>\n",
       "<table border=\"1\" class=\"dataframe\">\n",
       "  <thead>\n",
       "    <tr style=\"text-align: right;\">\n",
       "      <th></th>\n",
       "      <th>Gene_ID</th>\n",
       "      <th>Gene_Name</th>\n",
       "      <th>score</th>\n",
       "      <th>Δ_TPM</th>\n",
       "      <th>Δ_TPM_relevant</th>\n",
       "    </tr>\n",
       "  </thead>\n",
       "  <tbody>\n",
       "    <tr>\n",
       "      <th>0</th>\n",
       "      <td>ENSG00000109339</td>\n",
       "      <td>MAPK10</td>\n",
       "      <td>67.209</td>\n",
       "      <td>-0.051677</td>\n",
       "      <td>False</td>\n",
       "    </tr>\n",
       "    <tr>\n",
       "      <th>1</th>\n",
       "      <td>ENSG00000115392</td>\n",
       "      <td>FANCL</td>\n",
       "      <td>40.200</td>\n",
       "      <td>0.149585</td>\n",
       "      <td>False</td>\n",
       "    </tr>\n",
       "    <tr>\n",
       "      <th>2</th>\n",
       "      <td>ENSG00000107862</td>\n",
       "      <td>GBF1</td>\n",
       "      <td>37.993</td>\n",
       "      <td>0.034794</td>\n",
       "      <td>False</td>\n",
       "    </tr>\n",
       "    <tr>\n",
       "      <th>3</th>\n",
       "      <td>ENSG00000145362</td>\n",
       "      <td>ANK2</td>\n",
       "      <td>36.668</td>\n",
       "      <td>-0.025229</td>\n",
       "      <td>False</td>\n",
       "    </tr>\n",
       "    <tr>\n",
       "      <th>4</th>\n",
       "      <td>ENSG00000121940</td>\n",
       "      <td>CLCC1</td>\n",
       "      <td>34.903</td>\n",
       "      <td>0.028258</td>\n",
       "      <td>False</td>\n",
       "    </tr>\n",
       "    <tr>\n",
       "      <th>...</th>\n",
       "      <td>...</td>\n",
       "      <td>...</td>\n",
       "      <td>...</td>\n",
       "      <td>...</td>\n",
       "      <td>...</td>\n",
       "    </tr>\n",
       "    <tr>\n",
       "      <th>101</th>\n",
       "      <td>ENSG00000103034</td>\n",
       "      <td>NDRG4</td>\n",
       "      <td>16.373</td>\n",
       "      <td>-0.128267</td>\n",
       "      <td>False</td>\n",
       "    </tr>\n",
       "    <tr>\n",
       "      <th>102</th>\n",
       "      <td>ENSG00000103811</td>\n",
       "      <td>CTSH</td>\n",
       "      <td>16.373</td>\n",
       "      <td>-0.056641</td>\n",
       "      <td>False</td>\n",
       "    </tr>\n",
       "    <tr>\n",
       "      <th>103</th>\n",
       "      <td>ENSG00000173230</td>\n",
       "      <td>GOLGB1</td>\n",
       "      <td>16.373</td>\n",
       "      <td>0.031236</td>\n",
       "      <td>False</td>\n",
       "    </tr>\n",
       "    <tr>\n",
       "      <th>104</th>\n",
       "      <td>ENSG00000146282</td>\n",
       "      <td>RARS2</td>\n",
       "      <td>16.373</td>\n",
       "      <td>0.079608</td>\n",
       "      <td>False</td>\n",
       "    </tr>\n",
       "    <tr>\n",
       "      <th>105</th>\n",
       "      <td>ENSG00000168214</td>\n",
       "      <td>RBPJ</td>\n",
       "      <td>16.372</td>\n",
       "      <td>0.038719</td>\n",
       "      <td>False</td>\n",
       "    </tr>\n",
       "  </tbody>\n",
       "</table>\n",
       "<p>100 rows × 5 columns</p>\n",
       "</div>"
      ]
     },
     "execution_count": 9,
     "metadata": {},
     "output_type": "execute_result"
    }
   ],
   "execution_count": 9
  },
  {
   "metadata": {
    "ExecuteTime": {
     "end_time": "2024-12-16T09:19:58.099023Z",
     "start_time": "2024-12-16T09:19:57.136897Z"
    }
   },
   "cell_type": "code",
   "source": [
    "plt.hist(df_pagerank[\"score\"], bins=100)\n",
    "plt.xlabel(\"Pagerank Score\")\n",
    "plt.ylabel(\"Frequency\")\n",
    "plt.title(\"Histogram of Pagerank Scores for Genes\")\n",
    "\n",
    "plt.savefig('../tex/figures/03_03_hist_pagerank.png')\n",
    "plt.show()"
   ],
   "id": "8a9d3e6679bcb2ef",
   "outputs": [
    {
     "data": {
      "text/plain": [
       "<Figure size 640x480 with 1 Axes>"
      ],
      "image/png": "[encoded data removed]"
     },
     "metadata": {},
     "output_type": "display_data"
    }
   ],
   "execution_count": 10
  },
  {
   "metadata": {},
   "cell_type": "markdown",
   "source": "### Relevant Genes",
   "id": "6884dcd91f14d533"
  },
  {
   "metadata": {
    "ExecuteTime": {
     "end_time": "2024-12-16T09:19:59.003354Z",
     "start_time": "2024-12-16T09:19:58.132085Z"
    }
   },
   "cell_type": "code",
   "source": [
    "print(\"Only genes with cancer active nodes:\")\n",
    "df_pagerank_relevant = df_pagerank.where(df_pagerank[\"Δ_TPM_relevant\"] == True).dropna()\n",
    "\n",
    "# save the dataframe as an image\n",
    "dfi.export(df_pagerank_relevant.reset_index(drop=True).head(10), '../tex/figures/03_03_df_pagerank_relevant.png')\n",
    "\n",
    "df_pagerank_relevant.head(10)"
   ],
   "id": "bbb47d3b81360b70",
   "outputs": [
    {
     "name": "stdout",
     "output_type": "stream",
     "text": [
      "Only genes with cancer active nodes:\n",
      "generate html\n"
     ]
    },
    {
     "data": {
      "text/plain": [
       "             Gene_ID Gene_Name   score     Δ_TPM Δ_TPM_relevant\n",
       "22   ENSG00000165795     NDRG2  25.635 -0.317776           True\n",
       "57   ENSG00000161249      DMKN  19.901 -0.203997           True\n",
       "76   ENSG00000092529     CAPN3  18.136 -0.310797           True\n",
       "157  ENSG00000157103    SLC6A1  14.170 -0.267816           True\n",
       "170  ENSG00000110436    SLC1A2  13.729 -0.233129           True\n",
       "189  ENSG00000012048     BRCA1  13.289  0.214719           True\n",
       "196  ENSG00000022267      FHL1  12.850 -0.217644           True\n",
       "206  ENSG00000197971       MBP  12.849 -0.296146           True\n",
       "284  ENSG00000049540       ELN  11.119 -0.246766           True\n",
       "291  ENSG00000172995    ARPP21  11.090 -0.201848           True"
      ],
      "text/html": [
       "<div>\n",
       "<style scoped>\n",
       "    .dataframe tbody tr th:only-of-type {\n",
       "        vertical-align: middle;\n",
       "    }\n",
       "\n",
       "    .dataframe tbody tr th {\n",
       "        vertical-align: top;\n",
       "    }\n",
       "\n",
       "    .dataframe thead th {\n",
       "        text-align: right;\n",
       "    }\n",
       "</style>\n",
       "<table border=\"1\" class=\"dataframe\">\n",
       "  <thead>\n",
       "    <tr style=\"text-align: right;\">\n",
       "      <th></th>\n",
       "      <th>Gene_ID</th>\n",
       "      <th>Gene_Name</th>\n",
       "      <th>score</th>\n",
       "      <th>Δ_TPM</th>\n",
       "      <th>Δ_TPM_relevant</th>\n",
       "    </tr>\n",
       "  </thead>\n",
       "  <tbody>\n",
       "    <tr>\n",
       "      <th>22</th>\n",
       "      <td>ENSG00000165795</td>\n",
       "      <td>NDRG2</td>\n",
       "      <td>25.635</td>\n",
       "      <td>-0.317776</td>\n",
       "      <td>True</td>\n",
       "    </tr>\n",
       "    <tr>\n",
       "      <th>57</th>\n",
       "      <td>ENSG00000161249</td>\n",
       "      <td>DMKN</td>\n",
       "      <td>19.901</td>\n",
       "      <td>-0.203997</td>\n",
       "      <td>True</td>\n",
       "    </tr>\n",
       "    <tr>\n",
       "      <th>76</th>\n",
       "      <td>ENSG00000092529</td>\n",
       "      <td>CAPN3</td>\n",
       "      <td>18.136</td>\n",
       "      <td>-0.310797</td>\n",
       "      <td>True</td>\n",
       "    </tr>\n",
       "    <tr>\n",
       "      <th>157</th>\n",
       "      <td>ENSG00000157103</td>\n",
       "      <td>SLC6A1</td>\n",
       "      <td>14.170</td>\n",
       "      <td>-0.267816</td>\n",
       "      <td>True</td>\n",
       "    </tr>\n",
       "    <tr>\n",
       "      <th>170</th>\n",
       "      <td>ENSG00000110436</td>\n",
       "      <td>SLC1A2</td>\n",
       "      <td>13.729</td>\n",
       "      <td>-0.233129</td>\n",
       "      <td>True</td>\n",
       "    </tr>\n",
       "    <tr>\n",
       "      <th>189</th>\n",
       "      <td>ENSG00000012048</td>\n",
       "      <td>BRCA1</td>\n",
       "      <td>13.289</td>\n",
       "      <td>0.214719</td>\n",
       "      <td>True</td>\n",
       "    </tr>\n",
       "    <tr>\n",
       "      <th>196</th>\n",
       "      <td>ENSG00000022267</td>\n",
       "      <td>FHL1</td>\n",
       "      <td>12.850</td>\n",
       "      <td>-0.217644</td>\n",
       "      <td>True</td>\n",
       "    </tr>\n",
       "    <tr>\n",
       "      <th>206</th>\n",
       "      <td>ENSG00000197971</td>\n",
       "      <td>MBP</td>\n",
       "      <td>12.849</td>\n",
       "      <td>-0.296146</td>\n",
       "      <td>True</td>\n",
       "    </tr>\n",
       "    <tr>\n",
       "      <th>284</th>\n",
       "      <td>ENSG00000049540</td>\n",
       "      <td>ELN</td>\n",
       "      <td>11.119</td>\n",
       "      <td>-0.246766</td>\n",
       "      <td>True</td>\n",
       "    </tr>\n",
       "    <tr>\n",
       "      <th>291</th>\n",
       "      <td>ENSG00000172995</td>\n",
       "      <td>ARPP21</td>\n",
       "      <td>11.090</td>\n",
       "      <td>-0.201848</td>\n",
       "      <td>True</td>\n",
       "    </tr>\n",
       "  </tbody>\n",
       "</table>\n",
       "</div>"
      ]
     },
     "execution_count": 11,
     "metadata": {},
     "output_type": "execute_result"
    }
   ],
   "execution_count": 11
  },
  {
   "metadata": {
    "ExecuteTime": {
     "end_time": "2024-12-16T09:19:59.230089Z",
     "start_time": "2024-12-16T09:19:59.045313Z"
    }
   },
   "cell_type": "code",
   "source": [
    "plt.hist(df_pagerank_relevant[\"score\"], bins=100)\n",
    "plt.xlabel(\"Pagerank Score\")\n",
    "plt.ylabel(\"Frequency\")\n",
    "plt.title(\"Histogram of Pagerank Scores for relevant Genes\")\n",
    "\n",
    "plt.savefig('../tex/figures/03_03_hist_pagerank_relevant.png')\n",
    "plt.show()"
   ],
   "id": "35f20886a73d675",
   "outputs": [
    {
     "data": {
      "text/plain": [
       "<Figure size 640x480 with 1 Axes>"
      ],
      "image/png": "[encoded data removed]"
     },
     "metadata": {},
     "output_type": "display_data"
    }
   ],
   "execution_count": 12
  },
  {
   "metadata": {
    "ExecuteTime": {
     "end_time": "2024-12-16T09:35:55.489734Z",
     "start_time": "2024-12-16T09:35:55.479972Z"
    }
   },
   "cell_type": "code",
   "source": [
    "# lowest Pagerank score - gene with a single protein\n",
    "lowest = df_pagerank_relevant[df_pagerank_relevant[\"score\"] == 0.151]\n",
    "print(f\"From the {df_pagerank_relevant.shape[0]} relevant genes, {lowest.shape[0]} have a minimum pagerank score of 0.151.\")\n",
    "\n",
    "lowest"
   ],
   "id": "ce2074940bc01e85",
   "outputs": [
    {
     "name": "stdout",
     "output_type": "stream",
     "text": [
      "From the 1033 relevant genes, 155 have a minimum pagerank score of 0.151.\n"
     ]
    },
    {
     "data": {
      "text/plain": [
       "                Gene_ID Gene_Name  score     Δ_TPM Δ_TPM_relevant\n",
       "120280  ENSG00000118245      TNP1  0.151 -0.480377           True\n",
       "120288  ENSG00000254726     MEX3A  0.151  0.300823           True\n",
       "120309  ENSG00000186193    SAPCD2  0.151  0.263108           True\n",
       "120310  ENSG00000186009     ATP4B  0.151 -0.244448           True\n",
       "120318  ENSG00000148965      SAA4  0.151 -0.241782           True\n",
       "...                 ...       ...    ...       ...            ...\n",
       "121830  ENSG00000115008      IL1A  0.151  0.220975           True\n",
       "121836  ENSG00000198830     HMGN2  0.151  0.219837           True\n",
       "121841  ENSG00000101412      E2F1  0.151  0.278975           True\n",
       "121846  ENSG00000254772     EEF1G  0.151 -0.647684           True\n",
       "121853  ENSG00000173110     HSPA6  0.151 -0.241151           True\n",
       "\n",
       "[155 rows x 5 columns]"
      ],
      "text/html": [
       "<div>\n",
       "<style scoped>\n",
       "    .dataframe tbody tr th:only-of-type {\n",
       "        vertical-align: middle;\n",
       "    }\n",
       "\n",
       "    .dataframe tbody tr th {\n",
       "        vertical-align: top;\n",
       "    }\n",
       "\n",
       "    .dataframe thead th {\n",
       "        text-align: right;\n",
       "    }\n",
       "</style>\n",
       "<table border=\"1\" class=\"dataframe\">\n",
       "  <thead>\n",
       "    <tr style=\"text-align: right;\">\n",
       "      <th></th>\n",
       "      <th>Gene_ID</th>\n",
       "      <th>Gene_Name</th>\n",
       "      <th>score</th>\n",
       "      <th>Δ_TPM</th>\n",
       "      <th>Δ_TPM_relevant</th>\n",
       "    </tr>\n",
       "  </thead>\n",
       "  <tbody>\n",
       "    <tr>\n",
       "      <th>120280</th>\n",
       "      <td>ENSG00000118245</td>\n",
       "      <td>TNP1</td>\n",
       "      <td>0.151</td>\n",
       "      <td>-0.480377</td>\n",
       "      <td>True</td>\n",
       "    </tr>\n",
       "    <tr>\n",
       "      <th>120288</th>\n",
       "      <td>ENSG00000254726</td>\n",
       "      <td>MEX3A</td>\n",
       "      <td>0.151</td>\n",
       "      <td>0.300823</td>\n",
       "      <td>True</td>\n",
       "    </tr>\n",
       "    <tr>\n",
       "      <th>120309</th>\n",
       "      <td>ENSG00000186193</td>\n",
       "      <td>SAPCD2</td>\n",
       "      <td>0.151</td>\n",
       "      <td>0.263108</td>\n",
       "      <td>True</td>\n",
       "    </tr>\n",
       "    <tr>\n",
       "      <th>120310</th>\n",
       "      <td>ENSG00000186009</td>\n",
       "      <td>ATP4B</td>\n",
       "      <td>0.151</td>\n",
       "      <td>-0.244448</td>\n",
       "      <td>True</td>\n",
       "    </tr>\n",
       "    <tr>\n",
       "      <th>120318</th>\n",
       "      <td>ENSG00000148965</td>\n",
       "      <td>SAA4</td>\n",
       "      <td>0.151</td>\n",
       "      <td>-0.241782</td>\n",
       "      <td>True</td>\n",
       "    </tr>\n",
       "    <tr>\n",
       "      <th>...</th>\n",
       "      <td>...</td>\n",
       "      <td>...</td>\n",
       "      <td>...</td>\n",
       "      <td>...</td>\n",
       "      <td>...</td>\n",
       "    </tr>\n",
       "    <tr>\n",
       "      <th>121830</th>\n",
       "      <td>ENSG00000115008</td>\n",
       "      <td>IL1A</td>\n",
       "      <td>0.151</td>\n",
       "      <td>0.220975</td>\n",
       "      <td>True</td>\n",
       "    </tr>\n",
       "    <tr>\n",
       "      <th>121836</th>\n",
       "      <td>ENSG00000198830</td>\n",
       "      <td>HMGN2</td>\n",
       "      <td>0.151</td>\n",
       "      <td>0.219837</td>\n",
       "      <td>True</td>\n",
       "    </tr>\n",
       "    <tr>\n",
       "      <th>121841</th>\n",
       "      <td>ENSG00000101412</td>\n",
       "      <td>E2F1</td>\n",
       "      <td>0.151</td>\n",
       "      <td>0.278975</td>\n",
       "      <td>True</td>\n",
       "    </tr>\n",
       "    <tr>\n",
       "      <th>121846</th>\n",
       "      <td>ENSG00000254772</td>\n",
       "      <td>EEF1G</td>\n",
       "      <td>0.151</td>\n",
       "      <td>-0.647684</td>\n",
       "      <td>True</td>\n",
       "    </tr>\n",
       "    <tr>\n",
       "      <th>121853</th>\n",
       "      <td>ENSG00000173110</td>\n",
       "      <td>HSPA6</td>\n",
       "      <td>0.151</td>\n",
       "      <td>-0.241151</td>\n",
       "      <td>True</td>\n",
       "    </tr>\n",
       "  </tbody>\n",
       "</table>\n",
       "<p>155 rows × 5 columns</p>\n",
       "</div>"
      ]
     },
     "execution_count": 16,
     "metadata": {},
     "output_type": "execute_result"
    }
   ],
   "execution_count": 16
  },
  {
   "metadata": {
    "ExecuteTime": {
     "end_time": "2024-12-16T09:48:39.012919Z",
     "start_time": "2024-12-16T09:48:38.997918Z"
    }
   },
   "cell_type": "code",
   "source": [
    "# EGFR, KRAS, MET, LKB1 = STK11 , BRAF, PIK3CA, ALK, RET, ROS1\n",
    "cancer_known_genes = [\"ALK\", \"BRAF\", \"EGFR\", \"KRAS\", \"MET\", \"PIK3CA\", \"RET\", \"ROS1\", \"STK11\"]\n",
    "\n",
    "\n",
    "df_pagerank[df_pagerank[\"Gene_Name\"].isin(cancer_known_genes)].sort_values(\"Gene_Name\").reset_index(drop=True)"
   ],
   "id": "1bc46e32b225c5a4",
   "outputs": [
    {
     "data": {
      "text/plain": [
       "           Gene_ID Gene_Name  score     Δ_TPM Δ_TPM_relevant\n",
       "0  ENSG00000171094       ALK  1.560  0.042775          False\n",
       "1  ENSG00000157764      BRAF  4.093  0.038695          False\n",
       "2  ENSG00000146648      EGFR  2.386  0.097984          False\n",
       "3  ENSG00000133703      KRAS  4.959  0.104333          False\n",
       "4  ENSG00000105976       MET  1.969  0.265047           True\n",
       "5  ENSG00000121879    PIK3CA  1.969  0.034747          False\n",
       "6  ENSG00000165731       RET  4.093  0.113269          False\n",
       "7  ENSG00000047936      ROS1  0.783  0.059812          False\n",
       "8  ENSG00000118046     STK11  4.525 -0.026488          False"
      ],
      "text/html": [
       "<div>\n",
       "<style scoped>\n",
       "    .dataframe tbody tr th:only-of-type {\n",
       "        vertical-align: middle;\n",
       "    }\n",
       "\n",
       "    .dataframe tbody tr th {\n",
       "        vertical-align: top;\n",
       "    }\n",
       "\n",
       "    .dataframe thead th {\n",
       "        text-align: right;\n",
       "    }\n",
       "</style>\n",
       "<table border=\"1\" class=\"dataframe\">\n",
       "  <thead>\n",
       "    <tr style=\"text-align: right;\">\n",
       "      <th></th>\n",
       "      <th>Gene_ID</th>\n",
       "      <th>Gene_Name</th>\n",
       "      <th>score</th>\n",
       "      <th>Δ_TPM</th>\n",
       "      <th>Δ_TPM_relevant</th>\n",
       "    </tr>\n",
       "  </thead>\n",
       "  <tbody>\n",
       "    <tr>\n",
       "      <th>0</th>\n",
       "      <td>ENSG00000171094</td>\n",
       "      <td>ALK</td>\n",
       "      <td>1.560</td>\n",
       "      <td>0.042775</td>\n",
       "      <td>False</td>\n",
       "    </tr>\n",
       "    <tr>\n",
       "      <th>1</th>\n",
       "      <td>ENSG00000157764</td>\n",
       "      <td>BRAF</td>\n",
       "      <td>4.093</td>\n",
       "      <td>0.038695</td>\n",
       "      <td>False</td>\n",
       "    </tr>\n",
       "    <tr>\n",
       "      <th>2</th>\n",
       "      <td>ENSG00000146648</td>\n",
       "      <td>EGFR</td>\n",
       "      <td>2.386</td>\n",
       "      <td>0.097984</td>\n",
       "      <td>False</td>\n",
       "    </tr>\n",
       "    <tr>\n",
       "      <th>3</th>\n",
       "      <td>ENSG00000133703</td>\n",
       "      <td>KRAS</td>\n",
       "      <td>4.959</td>\n",
       "      <td>0.104333</td>\n",
       "      <td>False</td>\n",
       "    </tr>\n",
       "    <tr>\n",
       "      <th>4</th>\n",
       "      <td>ENSG00000105976</td>\n",
       "      <td>MET</td>\n",
       "      <td>1.969</td>\n",
       "      <td>0.265047</td>\n",
       "      <td>True</td>\n",
       "    </tr>\n",
       "    <tr>\n",
       "      <th>5</th>\n",
       "      <td>ENSG00000121879</td>\n",
       "      <td>PIK3CA</td>\n",
       "      <td>1.969</td>\n",
       "      <td>0.034747</td>\n",
       "      <td>False</td>\n",
       "    </tr>\n",
       "    <tr>\n",
       "      <th>6</th>\n",
       "      <td>ENSG00000165731</td>\n",
       "      <td>RET</td>\n",
       "      <td>4.093</td>\n",
       "      <td>0.113269</td>\n",
       "      <td>False</td>\n",
       "    </tr>\n",
       "    <tr>\n",
       "      <th>7</th>\n",
       "      <td>ENSG00000047936</td>\n",
       "      <td>ROS1</td>\n",
       "      <td>0.783</td>\n",
       "      <td>0.059812</td>\n",
       "      <td>False</td>\n",
       "    </tr>\n",
       "    <tr>\n",
       "      <th>8</th>\n",
       "      <td>ENSG00000118046</td>\n",
       "      <td>STK11</td>\n",
       "      <td>4.525</td>\n",
       "      <td>-0.026488</td>\n",
       "      <td>False</td>\n",
       "    </tr>\n",
       "  </tbody>\n",
       "</table>\n",
       "</div>"
      ]
     },
     "execution_count": 21,
     "metadata": {},
     "output_type": "execute_result"
    }
   ],
   "execution_count": 21
  }
 ],
 "metadata": {
  "kernelspec": {
   "display_name": "Python 3",
   "language": "python",
   "name": "python3"
  },
  "language_info": {
   "codemirror_mode": {
    "name": "ipython",
    "version": 2
   },
   "file_extension": ".py",
   "mimetype": "text/x-python",
   "name": "python",
   "nbconvert_exporter": "python",
   "pygments_lexer": "ipython2",
   "version": "2.7.6"
  }
 },
 "nbformat": 4,
 "nbformat_minor": 5
}
