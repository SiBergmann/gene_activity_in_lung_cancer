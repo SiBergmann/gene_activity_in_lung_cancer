{
 "cells": [
  {
   "cell_type": "code",
   "id": "initial_id",
   "metadata": {
    "collapsed": true,
    "ExecuteTime": {
     "end_time": "2024-09-20T12:10:31.397446Z",
     "start_time": "2024-09-20T12:10:31.390890Z"
    }
   },
   "source": [
    "import config\n",
    "import time\n",
    "\n",
    "import pandas as pd\n",
    "\n",
    "from neo4j import GraphDatabase\n"
   ],
   "outputs": [],
   "execution_count": 6
  },
  {
   "metadata": {
    "ExecuteTime": {
     "end_time": "2024-09-20T12:10:31.469845Z",
     "start_time": "2024-09-20T12:10:31.434602Z"
    }
   },
   "cell_type": "code",
   "source": [
    "# set up connection\n",
    "driver = GraphDatabase.driver(config.uri, auth=(config.user, config.password), encrypted=False)\n",
    "\n",
    "# Check if connection did work\n",
    "def check_connectivity(driver):\n",
    "    try:\n",
    "        with driver.session() as session:\n",
    "            result = session.run(\"RETURN 1 as result\")\n",
    "            record = result.single()\n",
    "            if record and record[\"result\"] == 1:\n",
    "                return True\n",
    "            else:\n",
    "                print('False')\n",
    "                return False\n",
    "    except Exception as e:\n",
    "        return False\n",
    "\n",
    "\n",
    "if check_connectivity(driver):\n",
    "    print(\"Verbindung erfolgreich hergestellt.\")\n",
    "else:\n",
    "    print(\"Fehler bei der Verbindungsherstellung.\")"
   ],
   "id": "f2e75094ebca1d4e",
   "outputs": [
    {
     "name": "stdout",
     "output_type": "stream",
     "text": [
      "Verbindung erfolgreich hergestellt.\n"
     ]
    }
   ],
   "execution_count": 7
  },
  {
   "metadata": {},
   "cell_type": "markdown",
   "source": [
    "# Graph Database Algorithm\n",
    "\n",
    "## Projection"
   ],
   "id": "65ed7860f618b828"
  },
  {
   "metadata": {
    "ExecuteTime": {
     "end_time": "2024-09-20T12:10:31.491108Z",
     "start_time": "2024-09-20T12:10:31.473710Z"
    }
   },
   "cell_type": "code",
   "source": [
    "def drop_projection() -> None:\n",
    "    \"\"\"\n",
    "    Drop the projection of the graph.\n",
    "    \"\"\"\n",
    "    with driver.session() as session:\n",
    "        drop_projection_query = \"CALL gds.graph.drop('gene_protein_graph')\"\n",
    "        \n",
    "        session.run(drop_projection_query)\n",
    "        print(\"Projection dropped.\")\n",
    "\n",
    "def create_projection() -> None:\n",
    "    \"\"\"\n",
    "    Create a projection of the graph for the gene and protein nodes.\n",
    "    \"\"\"\n",
    "    with driver.session() as session:\n",
    "        projection_query = \"\"\"\n",
    "        CALL gds.graph.project(\n",
    "            'gene_protein_graph',\n",
    "            {\n",
    "                gene: {\n",
    "                    label: 'gene'\n",
    "                },\n",
    "                protein: {\n",
    "                    label: 'protein'\n",
    "                }\n",
    "            },\n",
    "            {\n",
    "                INTERACTS: {\n",
    "                    type: 'INTERACTS',\n",
    "                    orientation: 'UNDIRECTED'\n",
    "                },\n",
    "                CONNECTION: {\n",
    "                    type: 'CONNECTION',\n",
    "                    orientation: 'UNDIRECTED'\n",
    "                }\n",
    "            }\n",
    "        )\n",
    "        \"\"\"\n",
    "        \n",
    "        session.run(projection_query)\n",
    "        print(\"Graph projection created.\")\n",
    "\n",
    "# drop_projection()\n",
    "create_projection()"
   ],
   "id": "a6b379c512c6b5ac",
   "outputs": [
    {
     "name": "stdout",
     "output_type": "stream",
     "text": [
      "Graph projection created.\n"
     ]
    }
   ],
   "execution_count": 8
  },
  {
   "metadata": {},
   "cell_type": "markdown",
   "source": "## Helper Functions",
   "id": "789c726a43338394"
  },
  {
   "metadata": {
    "ExecuteTime": {
     "end_time": "2024-09-20T12:10:31.537508Z",
     "start_time": "2024-09-20T12:10:31.523118Z"
    }
   },
   "cell_type": "code",
   "source": [
    "def drop_protein_nodes(df) -> pd.DataFrame:\n",
    "    \"\"\"\n",
    "    Drop the protein nodes from the dataframe.\n",
    "    :param df: The dataframe with the protein nodes.\n",
    "    \"\"\"\n",
    "    return df[~df[\"node\"].str.contains(\"ENSP\")]\n",
    "    \n",
    "    "
   ],
   "id": "159d9de4972191ae",
   "outputs": [],
   "execution_count": 9
  },
  {
   "metadata": {},
   "cell_type": "markdown",
   "source": "## Pagerank",
   "id": "f20f9f0c02d7ed4d"
  },
  {
   "metadata": {
    "ExecuteTime": {
     "end_time": "2024-09-20T12:10:45.689343Z",
     "start_time": "2024-09-20T12:10:31.549521Z"
    }
   },
   "cell_type": "code",
   "source": [
    "def run_pagerank() -> pd.DataFrame:\n",
    "    \"\"\"\n",
    "    Pagerank algorithm performed on the genes.\n",
    "    :return: \n",
    "    \"\"\"\n",
    "    with driver.session() as session:\n",
    "        query = \"\"\"\n",
    "        CALL gds.pageRank.stream('gene_protein_graph')\n",
    "        YIELD nodeId, score\n",
    "        RETURN gds.util.asNode(nodeId).id AS node, \n",
    "               gds.util.asNode(nodeId).gene_name AS gene_name ,\n",
    "               score, \n",
    "               gds.util.asNode(nodeId).delta_tpm AS delta_tpm,\n",
    "               gds.util.asNode(nodeId).delta_tpm_relevant AS delta_tpm_relevant\n",
    "        ORDER BY score DESC\n",
    "        \"\"\"\n",
    "    \n",
    "        result = session.run(query)\n",
    "        \n",
    "        df_results = pd.DataFrame([dict(record) for record in result], columns=result.keys())\n",
    "    \n",
    "        return df_results\n",
    "\n",
    "start = time.time()\n",
    "\n",
    "df_pagerank = run_pagerank()\n",
    "\n",
    "end = time.time()\n",
    "print(f\"Time taken: {end - start} seconds.\")\n"
   ],
   "id": "d5b59a6317fc5c3c",
   "outputs": [
    {
     "name": "stdout",
     "output_type": "stream",
     "text": [
      "Time taken: 14.1323881149292 seconds.\n"
     ]
    }
   ],
   "execution_count": 10
  },
  {
   "metadata": {
    "ExecuteTime": {
     "end_time": "2024-09-20T12:10:45.792814Z",
     "start_time": "2024-09-20T12:10:45.693361Z"
    }
   },
   "cell_type": "code",
   "source": [
    "df_pagerank_genes = drop_protein_nodes(df_pagerank)\n",
    "\n",
    "df_pagerank_genes"
   ],
   "id": "14b09ce8c1cd8f56",
   "outputs": [
    {
     "data": {
      "text/plain": [
       "                   node   gene_name      score  delta_tpm delta_tpm_relevant\n",
       "0       ENSG00000109339      MAPK10  67.208894  -0.051677              False\n",
       "1       ENSG00000115392       FANCL  40.200986   0.149585              False\n",
       "2       ENSG00000107862        GBF1  37.993365   0.034794              False\n",
       "3       ENSG00000145362        ANK2  36.668287  -0.025229              False\n",
       "4       ENSG00000121940       CLCC1  34.903938   0.028258              False\n",
       "...                 ...         ...        ...        ...                ...\n",
       "134591  ENSG00000231258    ZSWIM5P2   0.150000   0.003669              False\n",
       "134592  ENSG00000248958    ZSWIM5P3   0.150000   0.000919              False\n",
       "134593  ENSG00000272589  ZSWIM8-AS1   0.150000  -0.143595              False\n",
       "134594  ENSG00000232242    ZYG11AP1   0.150000   0.000026              False\n",
       "134595  ENSG00000274572       ZYXP1   0.150000  -0.000010              False\n",
       "\n",
       "[32865 rows x 5 columns]"
      ],
      "text/html": [
       "<div>\n",
       "<style scoped>\n",
       "    .dataframe tbody tr th:only-of-type {\n",
       "        vertical-align: middle;\n",
       "    }\n",
       "\n",
       "    .dataframe tbody tr th {\n",
       "        vertical-align: top;\n",
       "    }\n",
       "\n",
       "    .dataframe thead th {\n",
       "        text-align: right;\n",
       "    }\n",
       "</style>\n",
       "<table border=\"1\" class=\"dataframe\">\n",
       "  <thead>\n",
       "    <tr style=\"text-align: right;\">\n",
       "      <th></th>\n",
       "      <th>node</th>\n",
       "      <th>gene_name</th>\n",
       "      <th>score</th>\n",
       "      <th>delta_tpm</th>\n",
       "      <th>delta_tpm_relevant</th>\n",
       "    </tr>\n",
       "  </thead>\n",
       "  <tbody>\n",
       "    <tr>\n",
       "      <th>0</th>\n",
       "      <td>ENSG00000109339</td>\n",
       "      <td>MAPK10</td>\n",
       "      <td>67.208894</td>\n",
       "      <td>-0.051677</td>\n",
       "      <td>False</td>\n",
       "    </tr>\n",
       "    <tr>\n",
       "      <th>1</th>\n",
       "      <td>ENSG00000115392</td>\n",
       "      <td>FANCL</td>\n",
       "      <td>40.200986</td>\n",
       "      <td>0.149585</td>\n",
       "      <td>False</td>\n",
       "    </tr>\n",
       "    <tr>\n",
       "      <th>2</th>\n",
       "      <td>ENSG00000107862</td>\n",
       "      <td>GBF1</td>\n",
       "      <td>37.993365</td>\n",
       "      <td>0.034794</td>\n",
       "      <td>False</td>\n",
       "    </tr>\n",
       "    <tr>\n",
       "      <th>3</th>\n",
       "      <td>ENSG00000145362</td>\n",
       "      <td>ANK2</td>\n",
       "      <td>36.668287</td>\n",
       "      <td>-0.025229</td>\n",
       "      <td>False</td>\n",
       "    </tr>\n",
       "    <tr>\n",
       "      <th>4</th>\n",
       "      <td>ENSG00000121940</td>\n",
       "      <td>CLCC1</td>\n",
       "      <td>34.903938</td>\n",
       "      <td>0.028258</td>\n",
       "      <td>False</td>\n",
       "    </tr>\n",
       "    <tr>\n",
       "      <th>...</th>\n",
       "      <td>...</td>\n",
       "      <td>...</td>\n",
       "      <td>...</td>\n",
       "      <td>...</td>\n",
       "      <td>...</td>\n",
       "    </tr>\n",
       "    <tr>\n",
       "      <th>134591</th>\n",
       "      <td>ENSG00000231258</td>\n",
       "      <td>ZSWIM5P2</td>\n",
       "      <td>0.150000</td>\n",
       "      <td>0.003669</td>\n",
       "      <td>False</td>\n",
       "    </tr>\n",
       "    <tr>\n",
       "      <th>134592</th>\n",
       "      <td>ENSG00000248958</td>\n",
       "      <td>ZSWIM5P3</td>\n",
       "      <td>0.150000</td>\n",
       "      <td>0.000919</td>\n",
       "      <td>False</td>\n",
       "    </tr>\n",
       "    <tr>\n",
       "      <th>134593</th>\n",
       "      <td>ENSG00000272589</td>\n",
       "      <td>ZSWIM8-AS1</td>\n",
       "      <td>0.150000</td>\n",
       "      <td>-0.143595</td>\n",
       "      <td>False</td>\n",
       "    </tr>\n",
       "    <tr>\n",
       "      <th>134594</th>\n",
       "      <td>ENSG00000232242</td>\n",
       "      <td>ZYG11AP1</td>\n",
       "      <td>0.150000</td>\n",
       "      <td>0.000026</td>\n",
       "      <td>False</td>\n",
       "    </tr>\n",
       "    <tr>\n",
       "      <th>134595</th>\n",
       "      <td>ENSG00000274572</td>\n",
       "      <td>ZYXP1</td>\n",
       "      <td>0.150000</td>\n",
       "      <td>-0.000010</td>\n",
       "      <td>False</td>\n",
       "    </tr>\n",
       "  </tbody>\n",
       "</table>\n",
       "<p>32865 rows × 5 columns</p>\n",
       "</div>"
      ]
     },
     "execution_count": 11,
     "metadata": {},
     "output_type": "execute_result"
    }
   ],
   "execution_count": 11
  },
  {
   "metadata": {
    "ExecuteTime": {
     "end_time": "2024-09-20T12:12:25.702303Z",
     "start_time": "2024-09-20T12:12:25.665336Z"
    }
   },
   "cell_type": "code",
   "source": [
    "print(\"Only genes with cancer active nodes:\")\n",
    "df_pagerank_genes.where(df_pagerank_genes[\"delta_tpm_relevant\"] == True).dropna()"
   ],
   "id": "bbb47d3b81360b70",
   "outputs": [
    {
     "name": "stdout",
     "output_type": "stream",
     "text": [
      "Only genes with cancer active nodes:\n"
     ]
    },
    {
     "data": {
      "text/plain": [
       "                   node  gene_name      score  delta_tpm delta_tpm_relevant\n",
       "23      ENSG00000165795      NDRG2  25.635548  -0.317776               True\n",
       "28      ENSG00000124155       PIGT  24.312624   0.203909               True\n",
       "33      ENSG00000100749       VRK1  23.428624   0.185753               True\n",
       "42      ENSG00000154556     SORBS2  22.106196  -0.171024               True\n",
       "58      ENSG00000161249       DMKN  19.901639  -0.203997               True\n",
       "...                 ...        ...        ...        ...                ...\n",
       "133939  ENSG00000227473     TSSK5P   0.150000   0.221577               True\n",
       "134075  ENSG00000233966    UBE2SP1   0.150000   0.244352               True\n",
       "134113  ENSG00000214049       UCA1   0.150000   0.300731               True\n",
       "134116  ENSG00000249348   UGDH-AS1   0.150000   0.237982               True\n",
       "134458  ENSG00000251003  ZFPM2-AS1   0.150000   0.180679               True\n",
       "\n",
       "[1978 rows x 5 columns]"
      ],
      "text/html": [
       "<div>\n",
       "<style scoped>\n",
       "    .dataframe tbody tr th:only-of-type {\n",
       "        vertical-align: middle;\n",
       "    }\n",
       "\n",
       "    .dataframe tbody tr th {\n",
       "        vertical-align: top;\n",
       "    }\n",
       "\n",
       "    .dataframe thead th {\n",
       "        text-align: right;\n",
       "    }\n",
       "</style>\n",
       "<table border=\"1\" class=\"dataframe\">\n",
       "  <thead>\n",
       "    <tr style=\"text-align: right;\">\n",
       "      <th></th>\n",
       "      <th>node</th>\n",
       "      <th>gene_name</th>\n",
       "      <th>score</th>\n",
       "      <th>delta_tpm</th>\n",
       "      <th>delta_tpm_relevant</th>\n",
       "    </tr>\n",
       "  </thead>\n",
       "  <tbody>\n",
       "    <tr>\n",
       "      <th>23</th>\n",
       "      <td>ENSG00000165795</td>\n",
       "      <td>NDRG2</td>\n",
       "      <td>25.635548</td>\n",
       "      <td>-0.317776</td>\n",
       "      <td>True</td>\n",
       "    </tr>\n",
       "    <tr>\n",
       "      <th>28</th>\n",
       "      <td>ENSG00000124155</td>\n",
       "      <td>PIGT</td>\n",
       "      <td>24.312624</td>\n",
       "      <td>0.203909</td>\n",
       "      <td>True</td>\n",
       "    </tr>\n",
       "    <tr>\n",
       "      <th>33</th>\n",
       "      <td>ENSG00000100749</td>\n",
       "      <td>VRK1</td>\n",
       "      <td>23.428624</td>\n",
       "      <td>0.185753</td>\n",
       "      <td>True</td>\n",
       "    </tr>\n",
       "    <tr>\n",
       "      <th>42</th>\n",
       "      <td>ENSG00000154556</td>\n",
       "      <td>SORBS2</td>\n",
       "      <td>22.106196</td>\n",
       "      <td>-0.171024</td>\n",
       "      <td>True</td>\n",
       "    </tr>\n",
       "    <tr>\n",
       "      <th>58</th>\n",
       "      <td>ENSG00000161249</td>\n",
       "      <td>DMKN</td>\n",
       "      <td>19.901639</td>\n",
       "      <td>-0.203997</td>\n",
       "      <td>True</td>\n",
       "    </tr>\n",
       "    <tr>\n",
       "      <th>...</th>\n",
       "      <td>...</td>\n",
       "      <td>...</td>\n",
       "      <td>...</td>\n",
       "      <td>...</td>\n",
       "      <td>...</td>\n",
       "    </tr>\n",
       "    <tr>\n",
       "      <th>133939</th>\n",
       "      <td>ENSG00000227473</td>\n",
       "      <td>TSSK5P</td>\n",
       "      <td>0.150000</td>\n",
       "      <td>0.221577</td>\n",
       "      <td>True</td>\n",
       "    </tr>\n",
       "    <tr>\n",
       "      <th>134075</th>\n",
       "      <td>ENSG00000233966</td>\n",
       "      <td>UBE2SP1</td>\n",
       "      <td>0.150000</td>\n",
       "      <td>0.244352</td>\n",
       "      <td>True</td>\n",
       "    </tr>\n",
       "    <tr>\n",
       "      <th>134113</th>\n",
       "      <td>ENSG00000214049</td>\n",
       "      <td>UCA1</td>\n",
       "      <td>0.150000</td>\n",
       "      <td>0.300731</td>\n",
       "      <td>True</td>\n",
       "    </tr>\n",
       "    <tr>\n",
       "      <th>134116</th>\n",
       "      <td>ENSG00000249348</td>\n",
       "      <td>UGDH-AS1</td>\n",
       "      <td>0.150000</td>\n",
       "      <td>0.237982</td>\n",
       "      <td>True</td>\n",
       "    </tr>\n",
       "    <tr>\n",
       "      <th>134458</th>\n",
       "      <td>ENSG00000251003</td>\n",
       "      <td>ZFPM2-AS1</td>\n",
       "      <td>0.150000</td>\n",
       "      <td>0.180679</td>\n",
       "      <td>True</td>\n",
       "    </tr>\n",
       "  </tbody>\n",
       "</table>\n",
       "<p>1978 rows × 5 columns</p>\n",
       "</div>"
      ]
     },
     "execution_count": 13,
     "metadata": {},
     "output_type": "execute_result"
    }
   ],
   "execution_count": 13
  },
  {
   "metadata": {
    "ExecuteTime": {
     "end_time": "2024-09-20T12:12:28.632713Z",
     "start_time": "2024-09-20T12:12:27.126930Z"
    }
   },
   "cell_type": "code",
   "source": [
    "import matplotlib.pyplot as plt\n",
    "\n",
    "plt.hist(df_pagerank_genes[\"score\"], bins=50, color='blue', alpha=0.7)"
   ],
   "id": "35f20886a73d675",
   "outputs": [
    {
     "data": {
      "text/plain": [
       "(array([2.4973e+04, 4.4630e+03, 1.4610e+03, 7.3300e+02, 4.3600e+02,\n",
       "        2.7800e+02, 1.5400e+02, 9.5000e+01, 5.9000e+01, 5.1000e+01,\n",
       "        3.5000e+01, 2.6000e+01, 1.9000e+01, 1.8000e+01, 1.0000e+01,\n",
       "        7.0000e+00, 1.0000e+01, 8.0000e+00, 6.0000e+00, 5.0000e+00,\n",
       "        4.0000e+00, 3.0000e+00, 1.0000e+00, 2.0000e+00, 3.0000e+00,\n",
       "        1.0000e+00, 0.0000e+00, 1.0000e+00, 1.0000e+00, 1.0000e+00,\n",
       "        0.0000e+00, 0.0000e+00, 0.0000e+00, 0.0000e+00, 0.0000e+00,\n",
       "        0.0000e+00, 0.0000e+00, 0.0000e+00, 0.0000e+00, 0.0000e+00,\n",
       "        0.0000e+00, 0.0000e+00, 0.0000e+00, 0.0000e+00, 0.0000e+00,\n",
       "        0.0000e+00, 0.0000e+00, 0.0000e+00, 0.0000e+00, 1.0000e+00]),\n",
       " array([ 0.15      ,  1.49117789,  2.83235578,  4.17353366,  5.51471155,\n",
       "         6.85588944,  8.19706733,  9.53824522, 10.87942311, 12.22060099,\n",
       "        13.56177888, 14.90295677, 16.24413466, 17.58531255, 18.92649043,\n",
       "        20.26766832, 21.60884621, 22.9500241 , 24.29120199, 25.63237987,\n",
       "        26.97355776, 28.31473565, 29.65591354, 30.99709143, 32.33826932,\n",
       "        33.6794472 , 35.02062509, 36.36180298, 37.70298087, 39.04415876,\n",
       "        40.38533664, 41.72651453, 43.06769242, 44.40887031, 45.7500482 ,\n",
       "        47.09122609, 48.43240397, 49.77358186, 51.11475975, 52.45593764,\n",
       "        53.79711553, 55.13829341, 56.4794713 , 57.82064919, 59.16182708,\n",
       "        60.50300497, 61.84418286, 63.18536074, 64.52653863, 65.86771652,\n",
       "        67.20889441]),\n",
       " <BarContainer object of 50 artists>)"
      ]
     },
     "execution_count": 14,
     "metadata": {},
     "output_type": "execute_result"
    },
    {
     "data": {
      "text/plain": [
       "<Figure size 640x480 with 1 Axes>"
      ],
      "image/png": "[encoded data removed]"
     },
     "metadata": {},
     "output_type": "display_data"
    }
   ],
   "execution_count": 14
  },
  {
   "metadata": {},
   "cell_type": "markdown",
   "source": [
    "## Clustering\n",
    "### Community Detection\n",
    "Louvain algorithm"
   ],
   "id": "7e56737b2e4e9b28"
  },
  {
   "metadata": {
    "ExecuteTime": {
     "end_time": "2024-09-16T09:57:00.877663Z",
     "start_time": "2024-09-16T09:55:55.997841Z"
    }
   },
   "cell_type": "code",
   "source": [
    "def run_louvain() -> pd.DataFrame:\n",
    "    with driver.session() as session:\n",
    "        query = \"\"\"\n",
    "        CALL gds.louvain.stream('gene_protein_graph')\n",
    "        YIELD nodeId, communityId\n",
    "        RETURN gds.util.asNode(nodeId).id AS node, \n",
    "               gds.util.asNode(nodeId).gene_name AS gene_name,\n",
    "               communityId,\n",
    "               gds.util.asNode(nodeId).delta_tpm AS delta_tpm,\n",
    "               gds.util.asNode(nodeId).cancer_active AS cancer_active\n",
    "        ORDER BY communityId\n",
    "        \"\"\"\n",
    "    \n",
    "        result = session.run(query)\n",
    "        \n",
    "        df_results = pd.DataFrame([dict(record) for record in result], columns=result.keys())\n",
    "        df_results = drop_protein_nodes(df_results)\n",
    "    \n",
    "        return df_results\n",
    "    \n",
    "df_louvain = run_louvain()"
   ],
   "id": "5affd2d3eab33984",
   "outputs": [],
   "execution_count": 8
  },
  {
   "metadata": {
    "ExecuteTime": {
     "end_time": "2024-09-16T09:57:00.903041Z",
     "start_time": "2024-09-16T09:57:00.877663Z"
    }
   },
   "cell_type": "code",
   "source": "df_louvain",
   "id": "f07c01aeadfb94d",
   "outputs": [
    {
     "data": {
      "text/plain": [
       "                   node gene_name  communityId  delta_tpm cancer_active\n",
       "40      ENSG00000163141     BNIPL         6459   0.187086          True\n",
       "41      ENSG00000163632   C3orf49         6459   0.022181         False\n",
       "42      ENSG00000180483   DEFB119         6459   0.198103          True\n",
       "43      ENSG00000170486     KRT72         6459   0.131959         False\n",
       "44      ENSG00000170423     KRT78         6459   0.263989          True\n",
       "...                 ...       ...          ...        ...           ...\n",
       "134584  ENSG00000070476      ZXDC       134589   0.018771         False\n",
       "134585  ENSG00000232242  ZYG11AP1       134591   0.000026         False\n",
       "134586  ENSG00000274572     ZYXP1       134593   0.000010         False\n",
       "134591  ENSG00000074755     ZZEF1       134594   0.004983         False\n",
       "134595  ENSG00000036549      ZZZ3       134595   0.094435         False\n",
       "\n",
       "[32865 rows x 5 columns]"
      ],
      "text/html": [
       "<div>\n",
       "<style scoped>\n",
       "    .dataframe tbody tr th:only-of-type {\n",
       "        vertical-align: middle;\n",
       "    }\n",
       "\n",
       "    .dataframe tbody tr th {\n",
       "        vertical-align: top;\n",
       "    }\n",
       "\n",
       "    .dataframe thead th {\n",
       "        text-align: right;\n",
       "    }\n",
       "</style>\n",
       "<table border=\"1\" class=\"dataframe\">\n",
       "  <thead>\n",
       "    <tr style=\"text-align: right;\">\n",
       "      <th></th>\n",
       "      <th>node</th>\n",
       "      <th>gene_name</th>\n",
       "      <th>communityId</th>\n",
       "      <th>delta_tpm</th>\n",
       "      <th>cancer_active</th>\n",
       "    </tr>\n",
       "  </thead>\n",
       "  <tbody>\n",
       "    <tr>\n",
       "      <th>40</th>\n",
       "      <td>ENSG00000163141</td>\n",
       "      <td>BNIPL</td>\n",
       "      <td>6459</td>\n",
       "      <td>0.187086</td>\n",
       "      <td>True</td>\n",
       "    </tr>\n",
       "    <tr>\n",
       "      <th>41</th>\n",
       "      <td>ENSG00000163632</td>\n",
       "      <td>C3orf49</td>\n",
       "      <td>6459</td>\n",
       "      <td>0.022181</td>\n",
       "      <td>False</td>\n",
       "    </tr>\n",
       "    <tr>\n",
       "      <th>42</th>\n",
       "      <td>ENSG00000180483</td>\n",
       "      <td>DEFB119</td>\n",
       "      <td>6459</td>\n",
       "      <td>0.198103</td>\n",
       "      <td>True</td>\n",
       "    </tr>\n",
       "    <tr>\n",
       "      <th>43</th>\n",
       "      <td>ENSG00000170486</td>\n",
       "      <td>KRT72</td>\n",
       "      <td>6459</td>\n",
       "      <td>0.131959</td>\n",
       "      <td>False</td>\n",
       "    </tr>\n",
       "    <tr>\n",
       "      <th>44</th>\n",
       "      <td>ENSG00000170423</td>\n",
       "      <td>KRT78</td>\n",
       "      <td>6459</td>\n",
       "      <td>0.263989</td>\n",
       "      <td>True</td>\n",
       "    </tr>\n",
       "    <tr>\n",
       "      <th>...</th>\n",
       "      <td>...</td>\n",
       "      <td>...</td>\n",
       "      <td>...</td>\n",
       "      <td>...</td>\n",
       "      <td>...</td>\n",
       "    </tr>\n",
       "    <tr>\n",
       "      <th>134584</th>\n",
       "      <td>ENSG00000070476</td>\n",
       "      <td>ZXDC</td>\n",
       "      <td>134589</td>\n",
       "      <td>0.018771</td>\n",
       "      <td>False</td>\n",
       "    </tr>\n",
       "    <tr>\n",
       "      <th>134585</th>\n",
       "      <td>ENSG00000232242</td>\n",
       "      <td>ZYG11AP1</td>\n",
       "      <td>134591</td>\n",
       "      <td>0.000026</td>\n",
       "      <td>False</td>\n",
       "    </tr>\n",
       "    <tr>\n",
       "      <th>134586</th>\n",
       "      <td>ENSG00000274572</td>\n",
       "      <td>ZYXP1</td>\n",
       "      <td>134593</td>\n",
       "      <td>0.000010</td>\n",
       "      <td>False</td>\n",
       "    </tr>\n",
       "    <tr>\n",
       "      <th>134591</th>\n",
       "      <td>ENSG00000074755</td>\n",
       "      <td>ZZEF1</td>\n",
       "      <td>134594</td>\n",
       "      <td>0.004983</td>\n",
       "      <td>False</td>\n",
       "    </tr>\n",
       "    <tr>\n",
       "      <th>134595</th>\n",
       "      <td>ENSG00000036549</td>\n",
       "      <td>ZZZ3</td>\n",
       "      <td>134595</td>\n",
       "      <td>0.094435</td>\n",
       "      <td>False</td>\n",
       "    </tr>\n",
       "  </tbody>\n",
       "</table>\n",
       "<p>32865 rows × 5 columns</p>\n",
       "</div>"
      ]
     },
     "execution_count": 9,
     "metadata": {},
     "output_type": "execute_result"
    }
   ],
   "execution_count": 9
  },
  {
   "metadata": {
    "ExecuteTime": {
     "end_time": "2024-09-16T09:57:00.945875Z",
     "start_time": "2024-09-16T09:57:00.903041Z"
    }
   },
   "cell_type": "code",
   "source": [
    "# number of communities\n",
    "print(f'Number of communities: {df_louvain[\"communityId\"].nunique()}')\n",
    "df_louvain[\"communityId\"].nunique()\n",
    "\n",
    "# number of communities with cancer active\n",
    "ca_comm = df_louvain.where(df_louvain[\"cancer_active\"] == True).dropna()[\"communityId\"]\n",
    "print(f'Number of communities with cancer active: {ca_comm.nunique()}')"
   ],
   "id": "7b4a2502e2a0ab13",
   "outputs": [
    {
     "name": "stdout",
     "output_type": "stream",
     "text": [
      "Number of communities: 24167\n",
      "Number of communities with cancer active: 799\n"
     ]
    }
   ],
   "execution_count": 10
  },
  {
   "metadata": {
    "ExecuteTime": {
     "end_time": "2024-09-16T09:57:01.015958Z",
     "start_time": "2024-09-16T09:57:00.946987Z"
    }
   },
   "cell_type": "code",
   "source": [
    "# Dataframe only with communities that have cancer active nodes\n",
    "df_louvain_ca = df_louvain.where(df_louvain[\"communityId\"].isin(ca_comm)).dropna()\n",
    "\n",
    "# group by communityId and count the number of cancer active nodes and the total number of nodes\n",
    "df_louvain_ca_agg = df_louvain_ca.groupby(\"communityId\").agg({\"cancer_active\": \"sum\", \"node\": \"count\"}).sort_values(\"cancer_active\", ascending=False)\n",
    "df_louvain_ca_agg = df_louvain_ca_agg.where(df_louvain_ca_agg[\"node\"] > 1).dropna()\n",
    "df_louvain_ca_agg[\"ratio\"] = df_louvain_ca_agg[\"cancer_active\"] / df_louvain_ca_agg[\"node\"]\n",
    "\n",
    "print(\"Communities with cancer active nodes:\")\n",
    "df_louvain_ca_agg"
   ],
   "id": "ae814dc03fabde2c",
   "outputs": [
    {
     "name": "stdout",
     "output_type": "stream",
     "text": [
      "Communites with cancer active nodes:\n"
     ]
    },
    {
     "data": {
      "text/plain": [
       "            cancer_active    node     ratio\n",
       "communityId                                \n",
       "12319.0               315  1922.0  0.163892\n",
       "78668.0               118   551.0  0.214156\n",
       "70573.0                90  1952.0  0.046107\n",
       "99577.0                87  1063.0  0.081844\n",
       "49359.0                82  1705.0  0.048094\n",
       "19475.0                65   968.0  0.067149\n",
       "16914.0                17   528.0  0.032197\n",
       "6459.0                  6    15.0       0.4"
      ],
      "text/html": [
       "<div>\n",
       "<style scoped>\n",
       "    .dataframe tbody tr th:only-of-type {\n",
       "        vertical-align: middle;\n",
       "    }\n",
       "\n",
       "    .dataframe tbody tr th {\n",
       "        vertical-align: top;\n",
       "    }\n",
       "\n",
       "    .dataframe thead th {\n",
       "        text-align: right;\n",
       "    }\n",
       "</style>\n",
       "<table border=\"1\" class=\"dataframe\">\n",
       "  <thead>\n",
       "    <tr style=\"text-align: right;\">\n",
       "      <th></th>\n",
       "      <th>cancer_active</th>\n",
       "      <th>node</th>\n",
       "      <th>ratio</th>\n",
       "    </tr>\n",
       "    <tr>\n",
       "      <th>communityId</th>\n",
       "      <th></th>\n",
       "      <th></th>\n",
       "      <th></th>\n",
       "    </tr>\n",
       "  </thead>\n",
       "  <tbody>\n",
       "    <tr>\n",
       "      <th>12319.0</th>\n",
       "      <td>315</td>\n",
       "      <td>1922.0</td>\n",
       "      <td>0.163892</td>\n",
       "    </tr>\n",
       "    <tr>\n",
       "      <th>78668.0</th>\n",
       "      <td>118</td>\n",
       "      <td>551.0</td>\n",
       "      <td>0.214156</td>\n",
       "    </tr>\n",
       "    <tr>\n",
       "      <th>70573.0</th>\n",
       "      <td>90</td>\n",
       "      <td>1952.0</td>\n",
       "      <td>0.046107</td>\n",
       "    </tr>\n",
       "    <tr>\n",
       "      <th>99577.0</th>\n",
       "      <td>87</td>\n",
       "      <td>1063.0</td>\n",
       "      <td>0.081844</td>\n",
       "    </tr>\n",
       "    <tr>\n",
       "      <th>49359.0</th>\n",
       "      <td>82</td>\n",
       "      <td>1705.0</td>\n",
       "      <td>0.048094</td>\n",
       "    </tr>\n",
       "    <tr>\n",
       "      <th>19475.0</th>\n",
       "      <td>65</td>\n",
       "      <td>968.0</td>\n",
       "      <td>0.067149</td>\n",
       "    </tr>\n",
       "    <tr>\n",
       "      <th>16914.0</th>\n",
       "      <td>17</td>\n",
       "      <td>528.0</td>\n",
       "      <td>0.032197</td>\n",
       "    </tr>\n",
       "    <tr>\n",
       "      <th>6459.0</th>\n",
       "      <td>6</td>\n",
       "      <td>15.0</td>\n",
       "      <td>0.4</td>\n",
       "    </tr>\n",
       "  </tbody>\n",
       "</table>\n",
       "</div>"
      ]
     },
     "execution_count": 11,
     "metadata": {},
     "output_type": "execute_result"
    }
   ],
   "execution_count": 11
  },
  {
   "metadata": {
    "ExecuteTime": {
     "end_time": "2024-09-16T09:57:01.024625Z",
     "start_time": "2024-09-16T09:57:01.015958Z"
    }
   },
   "cell_type": "code",
   "source": "# TODO And now?",
   "id": "a563c4dde8a447ad",
   "outputs": [],
   "execution_count": 12
  },
  {
   "metadata": {},
   "cell_type": "markdown",
   "source": "### KNN",
   "id": "85a88aeb15268eb0"
  },
  {
   "metadata": {},
   "cell_type": "code",
   "outputs": [],
   "execution_count": null,
   "source": [
    "def run_knn() -> pd.DataFrame:\n",
    "    with driver.session() as session:\n",
    "        query = \"\"\"\n",
    "        CALL gds.knn.stream('gene_protein_graph')\n",
    "        YIELD nodeId, otherNodeId, weight\n",
    "        RETURN gds.util.asNode(nodeId).id AS node, \n",
    "               gds.util.asNode(nodeId).gene_name AS gene_name,\n",
    "               gds.util.asNode(otherNodeId).id AS other_node,\n",
    "               gds.util.asNode(otherNodeId).gene_name AS other_gene_name,\n",
    "               weight\n",
    "        \"\"\"\n",
    "        \n",
    "        query = \"\"\"\n",
    "        CALL gds.louvain.stream('gene_protein_graph')\n",
    "        YIELD nodeId, communityId\n",
    "        RETURN gds.util.asNode(nodeId).id AS node, \n",
    "               gds.util.asNode(nodeId).gene_name AS gene_name,\n",
    "               communityId,\n",
    "               gds.util.asNode(nodeId).delta_tpm AS delta_tpm,\n",
    "               gds.util.asNode(nodeId).cancer_active AS cancer_active\n",
    "        ORDER BY communityId\n",
    "        \"\"\"\n",
    "    \n",
    "        result = session.run(query)\n",
    "    \n",
    "        return df_knn\n",
    "    \n",
    "df_knn = run_knn()"
   ],
   "id": "adeab378ae601db9"
  }
 ],
 "metadata": {
  "kernelspec": {
   "display_name": "Python 3",
   "language": "python",
   "name": "python3"
  },
  "language_info": {
   "codemirror_mode": {
    "name": "ipython",
    "version": 2
   },
   "file_extension": ".py",
   "mimetype": "text/x-python",
   "name": "python",
   "nbconvert_exporter": "python",
   "pygments_lexer": "ipython2",
   "version": "2.7.6"
  }
 },
 "nbformat": 4,
 "nbformat_minor": 5
}
