{
 "cells": [
  {
   "cell_type": "markdown",
   "id": "a9e4df532ebdb1ce",
   "metadata": {},
   "source": "# Creation of the Neo4J Database\n"
  },
  {
   "cell_type": "code",
   "id": "d014d2dfde80ed9a",
   "metadata": {
    "ExecuteTime": {
     "end_time": "2024-11-27T15:03:35.424874Z",
     "start_time": "2024-11-27T15:03:35.412973Z"
    }
   },
   "source": [
    "import config\n",
    "import time\n",
    "\n",
    "import pandas as pd\n",
    "\n",
    "from neo4j import GraphDatabase"
   ],
   "outputs": [],
   "execution_count": 6
  },
  {
   "cell_type": "code",
   "id": "initial_id",
   "metadata": {
    "collapsed": true,
    "ExecuteTime": {
     "end_time": "2024-11-27T15:03:36.767785Z",
     "start_time": "2024-11-27T15:03:35.460177Z"
    }
   },
   "source": [
    "# set up connection\n",
    "driver = GraphDatabase.driver(config.uri, auth=(config.user, config.password), encrypted=False)\n",
    "\n",
    "# Check if connection did work\n",
    "def check_connectivity(driver):\n",
    "    try:\n",
    "        with driver.session() as session:\n",
    "            result = session.run(\"RETURN 1 as result\")\n",
    "            record = result.single()\n",
    "            if record and record[\"result\"] == 1:\n",
    "                return True\n",
    "            else:\n",
    "                print('False')\n",
    "                return False\n",
    "    except Exception as e:\n",
    "        return False\n",
    "\n",
    "\n",
    "if check_connectivity(driver):\n",
    "    print(\"Verbindung erfolgreich hergestellt.\")\n",
    "else:\n",
    "    print(\"Fehler bei der Verbindungsherstellung.\")"
   ],
   "outputs": [
    {
     "name": "stdout",
     "output_type": "stream",
     "text": [
      "Verbindung erfolgreich hergestellt.\n"
     ]
    }
   ],
   "execution_count": 7
  },
  {
   "metadata": {},
   "cell_type": "markdown",
   "source": [
    "## Indexing of Database\n",
    "### Delete Database Edges and Nodes"
   ],
   "id": "65291455aad80233"
  },
  {
   "metadata": {
    "ExecuteTime": {
     "end_time": "2024-11-27T15:03:36.779323Z",
     "start_time": "2024-11-27T15:03:36.772220Z"
    }
   },
   "cell_type": "code",
   "source": [
    "# Delete Nodes for Genes\n",
    "def delete_gene_nodes(batch_size = 10000):\n",
    "    with driver.session() as session:\n",
    "        result = session.run(\"MATCH (n:gene) RETURN n.id AS id\")\n",
    "        node_ids = [record[\"id\"] for record in result]\n",
    "    \n",
    "        for i in range(0, len(node_ids), batch_size):\n",
    "            batch = node_ids[i:i + batch_size]\n",
    "            session.run(\"\"\"\n",
    "            UNWIND $batch AS id\n",
    "            MATCH (n:gene {id: id})\n",
    "            DETACH DELETE n\n",
    "            \"\"\", batch=batch)\n",
    "    \n",
    "            now = time.strftime(\"%H:%M:%S\", time.localtime())\n",
    "            print(f\"{now}\\tBatch {i // batch_size + 1} of {len(node_ids) // batch_size + 1} complete\")\n",
    "            \n",
    "# To delete everything:delete the docker container\n",
    "# docker rm container-number -v"
   ],
   "id": "6c42bee86bbc8e8f",
   "outputs": [],
   "execution_count": 8
  },
  {
   "metadata": {
    "ExecuteTime": {
     "end_time": "2024-11-27T15:03:36.812721Z",
     "start_time": "2024-11-27T15:03:36.806261Z"
    }
   },
   "cell_type": "code",
   "source": [
    "\"\"\"## DELETES Nodes and Edges\n",
    "delete_gene_nodes()\n",
    "print(\"Delete Gene Nodes done.\")\"\"\""
   ],
   "id": "effd126bce9508e8",
   "outputs": [
    {
     "data": {
      "text/plain": [
       "'## DELETES Nodes and Edges\\ndelete_gene_nodes()\\nprint(\"Delete Gene Nodes done.\")'"
      ]
     },
     "execution_count": 9,
     "metadata": {},
     "output_type": "execute_result"
    }
   ],
   "execution_count": 9
  },
  {
   "metadata": {},
   "cell_type": "markdown",
   "source": "## Load Data as Dataframes\n",
   "id": "f0d27a6898bbfc13"
  },
  {
   "metadata": {
    "ExecuteTime": {
     "end_time": "2024-11-27T15:03:40.319208Z",
     "start_time": "2024-11-27T15:03:36.818882Z"
    }
   },
   "cell_type": "code",
   "source": [
    "df_nodes_gene = pd.read_csv('../processed_data/nodes_genes.csv')\n",
    "df_nodes_protein = pd.read_csv('../processed_data/nodes_protein.csv')\n",
    "\n",
    "df_edges_protein = pd.read_csv('../processed_data/edges_protein.csv')\n",
    "df_edges_protein_gene = pd.read_csv('../processed_data/edges_protein_gene.csv')"
   ],
   "id": "f0702306a3a88cd2",
   "outputs": [],
   "execution_count": 10
  },
  {
   "metadata": {
    "ExecuteTime": {
     "end_time": "2024-11-27T15:03:40.335264Z",
     "start_time": "2024-11-27T15:03:40.330197Z"
    }
   },
   "cell_type": "code",
   "source": [
    "# Measure the time\n",
    "start_time = time.time()"
   ],
   "id": "305ffce5c7d65436",
   "outputs": [],
   "execution_count": 11
  },
  {
   "metadata": {},
   "cell_type": "markdown",
   "source": [
    "## Proteins\n",
    "### Protein Nodes\n",
    "\n",
    "**CYPHER QUERY:**\n",
    "```\n",
    "CREATE (p:protein {id: 'Protein stable ID'})\n",
    "```\n",
    "\n",
    "**Node-Types:**\n",
    "* protein\n",
    "\t\n",
    "\n",
    "**Node-Properties:**\n",
    "* id"
   ],
   "id": "35581a1d9aa56ca2"
  },
  {
   "metadata": {
    "ExecuteTime": {
     "end_time": "2024-11-27T15:03:40.451672Z",
     "start_time": "2024-11-27T15:03:40.346622Z"
    }
   },
   "cell_type": "code",
   "source": [
    "with driver.session() as session:\n",
    "    query = \"\"\"CREATE INDEX IF NOT EXISTS FOR (p:protein) ON (p.id)\"\"\"\n",
    "    \n",
    "    session.run(query)"
   ],
   "id": "cc9b28294d0d356f",
   "outputs": [],
   "execution_count": 12
  },
  {
   "metadata": {
    "ExecuteTime": {
     "end_time": "2024-11-27T15:03:40.469822Z",
     "start_time": "2024-11-27T15:03:40.462773Z"
    }
   },
   "cell_type": "code",
   "source": "print(f\"There are {df_nodes_protein.shape[0]} Protein nodes\")",
   "id": "8eb9bde9549f1c59",
   "outputs": [
    {
     "name": "stdout",
     "output_type": "stream",
     "text": [
      "There are 104235 Protein nodes\n"
     ]
    }
   ],
   "execution_count": 13
  },
  {
   "metadata": {
    "ExecuteTime": {
     "end_time": "2024-11-27T15:03:46.555821Z",
     "start_time": "2024-11-27T15:03:40.482336Z"
    }
   },
   "cell_type": "code",
   "source": [
    "data = [{'id': row['Protein ID']} for index, row in df_nodes_protein.iterrows()]\n",
    "\n",
    "with driver.session() as session:\n",
    "    batch_size = 500\n",
    "    for i in range(0, len(data), batch_size):\n",
    "        batch = data[i:i + batch_size]\n",
    "\n",
    "        query = \"\"\"\n",
    "        UNWIND $batch AS row\n",
    "        CREATE (p:protein {id: row.id})\n",
    "        \"\"\"\n",
    "\n",
    "        # Batch als Parameter übergeben\n",
    "        session.run(query, batch=batch)\n",
    "\n",
    "        if i % 50000 == 0:\n",
    "            now = time.strftime(\"%H:%M:%S\", time.localtime())\n",
    "            print(f\"{now}\\tBatch {i // batch_size + 1} of {len(data) // batch_size + 1} complete\")\n",
    "\n",
    "print(\"done!!\")"
   ],
   "id": "67b22713a9c622b1",
   "outputs": [
    {
     "name": "stdout",
     "output_type": "stream",
     "text": [
      "16:03:42\tBatch 1 of 209 complete\n",
      "16:03:44\tBatch 101 of 209 complete\n",
      "16:03:46\tBatch 201 of 209 complete\n",
      "done!!\n"
     ]
    }
   ],
   "execution_count": 14
  },
  {
   "metadata": {},
   "cell_type": "markdown",
   "source": [
    "### Protein-Protein Edges\n",
    "Every Edge is a Interaction between two Proteins.\n",
    "Interaction type is not defined further.\n",
    "\n",
    "\n",
    "**Cypher Query:**\n",
    "``` \n",
    "MATCH (s:protein{id:'protein1'})\n",
    "MATCH (s:protein{id:'protein2'})\n",
    "CREATE (s)-[:interaction]->(t)\n",
    "```"
   ],
   "id": "db69752a7762c120"
  },
  {
   "metadata": {
    "ExecuteTime": {
     "end_time": "2024-11-27T15:03:47.475050Z",
     "start_time": "2024-11-27T15:03:47.467851Z"
    }
   },
   "cell_type": "code",
   "source": "print(f\"There are {df_edges_protein.shape[0]} Protein-Protein Interactions\")",
   "id": "b72836bcfe6b3728",
   "outputs": [
    {
     "name": "stdout",
     "output_type": "stream",
     "text": [
      "There are 13715404 Protein-Protein Interactions\n"
     ]
    }
   ],
   "execution_count": 15
  },
  {
   "metadata": {
    "ExecuteTime": {
     "end_time": "2024-11-27T15:09:06.088892Z",
     "start_time": "2024-11-27T15:03:47.504693Z"
    }
   },
   "cell_type": "code",
   "source": [
    "protein1 = df_edges_protein['left Protein ID'].tolist()\n",
    "protein2 = df_edges_protein['right Protein ID'].tolist()\n",
    "data = list(zip(protein1, protein2))\n",
    "\n",
    "\n",
    "with driver.session() as session:\n",
    "    batch_size = 1000000\n",
    "\n",
    "    \n",
    "    for i in range(0, len(data), batch_size):\n",
    "        batch = data[i:i + batch_size]\n",
    "\n",
    "        query = \"\"\"\n",
    "        UNWIND $batch AS row\n",
    "        MATCH (s:protein{id:row[0]})\n",
    "        MATCH (t:protein{id:row[1]})\n",
    "        CREATE (s)-[:interaction]->(t)\n",
    "        \"\"\"\n",
    "\n",
    "        session.run(query, batch=batch)\n",
    "\n",
    "        if i % batch_size == 0:\n",
    "            now = time.strftime(\"%H:%M:%S\", time.localtime())\n",
    "            print(f\"{now}\\tBatch {i // batch_size + 1} of {len(data) // batch_size + 1} complete\")\n",
    "    \n",
    "print(\"done!!\")"
   ],
   "id": "5aba74b9efe2dde3",
   "outputs": [
    {
     "name": "stdout",
     "output_type": "stream",
     "text": [
      "16:04:05\tBatch 1 of 14 complete\n",
      "16:04:23\tBatch 2 of 14 complete\n",
      "16:04:41\tBatch 3 of 14 complete\n",
      "16:05:01\tBatch 4 of 14 complete\n",
      "16:05:23\tBatch 5 of 14 complete\n",
      "16:05:44\tBatch 6 of 14 complete\n",
      "16:06:14\tBatch 7 of 14 complete\n",
      "16:06:34\tBatch 8 of 14 complete\n",
      "16:06:57\tBatch 9 of 14 complete\n",
      "16:07:20\tBatch 10 of 14 complete\n",
      "16:07:45\tBatch 11 of 14 complete\n",
      "16:08:09\tBatch 12 of 14 complete\n",
      "16:08:28\tBatch 13 of 14 complete\n",
      "16:08:56\tBatch 14 of 14 complete\n",
      "done!!\n"
     ]
    }
   ],
   "execution_count": 16
  },
  {
   "metadata": {},
   "cell_type": "markdown",
   "source": [
    "## Genes\n",
    "### Gene Nodes\n",
    "\n",
    "**CYPHER QUERY:**\n",
    "```\n",
    "CREATE (p:gene: { \n",
    "    id: Gene ID,\n",
    "    gene_name: Gene Name,\n",
    "    norm_healthy_TPM: norm healthy TPM,\n",
    "    norm_cancer_tpm: norm cancer TPM,\n",
    "    Δ_TPM: Δ TPM,\n",
    "    Δ_type: Δ type,\n",
    "    z_score: z score,\n",
    "    Δ_TPM_relevant: Δ TPM relevant})\n",
    "```\n",
    "\n",
    "**Node-Types:**\n",
    "* gene\n",
    "\t\n",
    "\n",
    "**Node-Properties:**\n",
    "* Gene ID\n",
    "* Gene Name\n",
    "* norm healthy TPM\n",
    "* norm cancer TPM\n",
    "* Δ TPM\n",
    "* Δ type\n",
    "* z score\n",
    "* Δ TPM relevant\n"
   ],
   "id": "50e8355fafa75b52"
  },
  {
   "metadata": {
    "ExecuteTime": {
     "end_time": "2024-11-27T15:09:07.209175Z",
     "start_time": "2024-11-27T15:09:06.357253Z"
    }
   },
   "cell_type": "code",
   "source": [
    "with driver.session() as session:\n",
    "    query = \"\"\"CREATE INDEX IF NOT EXISTS FOR (p:gene) ON (p.id)\"\"\"\n",
    "    \n",
    "    session.run(query)"
   ],
   "id": "91a0b969c602c821",
   "outputs": [],
   "execution_count": 17
  },
  {
   "metadata": {
    "ExecuteTime": {
     "end_time": "2024-11-27T15:09:07.237444Z",
     "start_time": "2024-11-27T15:09:07.218347Z"
    }
   },
   "cell_type": "code",
   "source": "print(f\"There are {df_nodes_gene.shape[0]} Gene nodes\")",
   "id": "7bea719dd353607c",
   "outputs": [
    {
     "name": "stdout",
     "output_type": "stream",
     "text": [
      "There are 17627 Gene nodes\n"
     ]
    }
   ],
   "execution_count": 18
  },
  {
   "metadata": {
    "ExecuteTime": {
     "end_time": "2024-11-27T15:09:17.452800Z",
     "start_time": "2024-11-27T15:09:12.271656Z"
    }
   },
   "cell_type": "code",
   "source": [
    "data = [{'id': row['Gene ID'], \n",
    "         'gene_name': row['Gene Name'],\n",
    "         'norm_healthy_TPM': row['norm healthy TPM'],\n",
    "         'norm_cancerous_TPM': row['norm cancerous TPM'],\n",
    "         'Δ_TPM': row['Δ TPM'],\n",
    "         'Δ_type': row['Δ type'],\n",
    "         'z_score': row['z score'],\n",
    "         'Δ_TPM_relevant': row['Δ TPM relevant']} \n",
    "        for index, row in df_nodes_gene.iterrows()]\n",
    "\n",
    "with driver.session() as session:\n",
    "    batch_size = 1000\n",
    "    \n",
    "    for i in range(0, len(data), batch_size):\n",
    "        batch = data[i:i + batch_size]\n",
    "        \n",
    "        query = \"\"\"\n",
    "        UNWIND $batch AS row\n",
    "        CREATE (p:gene {\n",
    "            id: row.id, \n",
    "            gene_name: row.gene_name,\n",
    "            norm_healthy_tpm: row.norm_healthy_tpm,\n",
    "            norm_cancerous_tpm: row.norm_cancerous_tpm,\n",
    "            Δ_TPM: row.Δ_TPM,\n",
    "            Δ_type: row.Δ_type,\n",
    "            z_score: row.z_score,\n",
    "            Δ_TPM_relevant: row.Δ_TPM_relevant})\n",
    "        \"\"\"\n",
    "        \n",
    "        session.run(query, batch=batch)\n",
    "            \n",
    "        if i % 10000 == 0:\n",
    "            now = time.strftime(\"%H:%M:%S\", time.localtime())\n",
    "            print(f\"{now}\\tBatch {i // batch_size + 1} of {len(data) // batch_size + 1} complete\")\n",
    "            \n",
    "print(\"done!!\")"
   ],
   "id": "a8e21fd54aa7165f",
   "outputs": [
    {
     "name": "stdout",
     "output_type": "stream",
     "text": [
      "16:09:15\tBatch 1 of 18 complete\n",
      "16:09:16\tBatch 11 of 18 complete\n",
      "done!!\n"
     ]
    }
   ],
   "execution_count": 19
  },
  {
   "metadata": {},
   "cell_type": "markdown",
   "source": [
    "### Protein-Gene Edges\n",
    "Every Edge is a Connection between a Protein and a gene.\n",
    "Interaction type is not defined further.\n",
    "\n",
    "\n",
    "**Cypher Query:**\n",
    "``` \n",
    "MATCH (s:protein{id:'id'})\n",
    "MATCH (s:gene{id:'id'})\n",
    "CREATE (s)-[:connection]-(t)\n",
    "```\n"
   ],
   "id": "1efd755680a75535"
  },
  {
   "metadata": {
    "ExecuteTime": {
     "end_time": "2024-11-27T15:09:17.484824Z",
     "start_time": "2024-11-27T15:09:17.469976Z"
    }
   },
   "cell_type": "code",
   "source": "print(f\"There are {df_edges_protein_gene.shape[0]} Protein-Gene connections\")",
   "id": "58327f2a9ad5e26c",
   "outputs": [
    {
     "name": "stdout",
     "output_type": "stream",
     "text": [
      "There are 101731 Protein-Gene connections\n"
     ]
    }
   ],
   "execution_count": 20
  },
  {
   "metadata": {
    "ExecuteTime": {
     "end_time": "2024-11-27T15:09:22.922795Z",
     "start_time": "2024-11-27T15:09:17.518735Z"
    }
   },
   "cell_type": "code",
   "source": [
    "data = [{'Protein ID': row['Protein ID'], \n",
    "         'Gene ID': row['Gene ID']} \n",
    "        for index, row in df_edges_protein_gene.iterrows()]\n",
    "\n",
    "with driver.session() as session:\n",
    "    batch_size = 100000\n",
    "    \n",
    "    for i in range(0, len(data), batch_size):\n",
    "        batch = data[i:i + batch_size]\n",
    "        \n",
    "        query = \"\"\"\n",
    "        UNWIND $batch AS row\n",
    "        MATCH (s:protein{id:row['Protein ID']})\n",
    "        MATCH (t:gene{id:row['Gene ID']})\n",
    "        CREATE (s)-[:connection]->(t)\n",
    "        \"\"\"\n",
    "        \n",
    "        session.run(query, batch=batch)\n",
    "        \n",
    "        if i % batch_size == 0:\n",
    "            now = time.strftime(\"%H:%M:%S\", time.localtime())\n",
    "            print(f\"{now}\\tBatch {i // batch_size + 1} of {len(data) // batch_size + 1} complete\")\n",
    "\n",
    "print(\"done!!\")"
   ],
   "id": "6c7f94a58735ccc3",
   "outputs": [
    {
     "name": "stdout",
     "output_type": "stream",
     "text": [
      "16:09:21\tBatch 1 of 2 complete\n",
      "16:09:22\tBatch 2 of 2 complete\n",
      "done!!\n"
     ]
    }
   ],
   "execution_count": 21
  },
  {
   "metadata": {
    "ExecuteTime": {
     "end_time": "2024-11-27T15:09:22.961078Z",
     "start_time": "2024-11-27T15:09:22.946009Z"
    }
   },
   "cell_type": "code",
   "source": [
    "# Measure the time\n",
    "end_time = time.time()\n",
    "\n",
    "print(f\"Time elapsed in seconds:\\t{end_time - start_time}\")\n",
    "print(f\"Time elapsed in minutes:\\t{(end_time - start_time) / 60}\")"
   ],
   "id": "379a83da404dc28e",
   "outputs": [
    {
     "name": "stdout",
     "output_type": "stream",
     "text": [
      "Time elapsed in seconds:\t342.6218113899231\n",
      "Time elapsed in minutes:\t5.710363523165385\n"
     ]
    }
   ],
   "execution_count": 22
  }
 ],
 "metadata": {
  "kernelspec": {
   "display_name": "Python 3 (ipykernel)",
   "language": "python",
   "name": "python3"
  },
  "language_info": {
   "codemirror_mode": {
    "name": "ipython",
    "version": 3
   },
   "file_extension": ".py",
   "mimetype": "text/x-python",
   "name": "python",
   "nbconvert_exporter": "python",
   "pygments_lexer": "ipython3",
   "version": "3.10.9"
  }
 },
 "nbformat": 4,
 "nbformat_minor": 5
}
