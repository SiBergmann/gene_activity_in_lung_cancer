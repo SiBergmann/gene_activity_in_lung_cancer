{
 "cells": [
  {
   "metadata": {},
   "cell_type": "code",
   "source": [
    "import pandas as pd\n",
    "import numpy as np\n",
    "import matplotlib.pyplot as plt\n",
    "from scipy.stats import zscore"
   ],
   "id": "73b37dc9fcba222c",
   "outputs": [],
   "execution_count": null
  },
  {
   "metadata": {},
   "cell_type": "markdown",
   "source": [
    "# Gene Nodes\n",
    "\n",
    "Putting together the Information for the nodes and save them as a csv file.\n",
    "\n",
    "Gene Nodes have the following information:\n",
    "- Gene ID\n",
    "- Gene Name\n",
    "- TPM value for lung cancer\n",
    "- TPM value for healthy lung tissue\n",
    "- TMP difference between cancer and healthy tissue"
   ],
   "id": "46927e43fe43848a"
  },
  {
   "metadata": {},
   "cell_type": "code",
   "source": [
    "df_gtex = pd.read_csv('../processed_data/GTEX_healthy_mean.csv', usecols=['Gene ID', 'healthy TPM'])\n",
    "df_cmp = pd.read_csv('../processed_data/CMP_cancer_mean.csv')\n",
    "\n",
    "df_protein_gene = pd.read_csv('../import_data/ENSEMBLE/biomart_gene_protein.txt',  sep='\\t')\n",
    "\n",
    "plt.figure(figsize=(20, 5))"
   ],
   "id": "initial_id",
   "outputs": [],
   "execution_count": null
  },
  {
   "metadata": {},
   "cell_type": "markdown",
   "source": "## List of genes that have a gene-protein connection",
   "id": "d09725213b9e1191"
  },
  {
   "metadata": {},
   "cell_type": "code",
   "source": [
    "df_protein_gene = df_protein_gene[df_protein_gene['Protein stable ID'].notna()]\n",
    "protein_genes = df_protein_gene['Gene stable ID'].unique()\n",
    "\n",
    "len(protein_genes)"
   ],
   "id": "62d4a091b53760cb",
   "outputs": [],
   "execution_count": null
  },
  {
   "metadata": {},
   "cell_type": "markdown",
   "source": "## Merge CMP (cancer) and GTEx (healthy) dataset",
   "id": "f3bc42b1e8dd575f"
  },
  {
   "metadata": {},
   "cell_type": "code",
   "source": [
    "df_nodes_cancer = df_cmp.copy()\n",
    "df_nodes_healthy = df_gtex.copy()\n",
    "\n",
    "df_nodes_genes = df_nodes_cancer.merge(df_nodes_healthy, on='Gene ID', how='inner')\n",
    "\n",
    "# filter out those without gene-protein connection\n",
    "df_nodes_genes = df_nodes_genes[df_nodes_genes['Gene ID'].isin(protein_genes)]\n",
    "\n",
    "print(f\"There are {df_nodes_genes.shape[0]} rows in the merged dataset. All have a healthy and a cancer TPM value.\")\n",
    "\n",
    "df_nodes_genes"
   ],
   "id": "aea44d6e056078d1",
   "outputs": [],
   "execution_count": null
  },
  {
   "metadata": {},
   "cell_type": "markdown",
   "source": [
    "## Normalize TPM Values\n",
    "TPM values are normalized to a range between 0 and 1 to make them easier comparable."
   ],
   "id": "34eb8285d56af98"
  },
  {
   "metadata": {},
   "cell_type": "code",
   "source": [
    "# logarithmic scaling with normalization [0, 1]\n",
    "def log_norm(column, min_tpm, max_tpm):\n",
    "    column_log = np.log1p(column)\n",
    "    \n",
    "    min_log = np.log1p(min_tpm)\n",
    "    max_log = np.log1p(max_tpm)\n",
    "    \n",
    "    column = (column_log - min_log) / (max_log - min_log)\n",
    "    return column"
   ],
   "id": "3d228c9eac522cba",
   "outputs": [],
   "execution_count": null
  },
  {
   "metadata": {},
   "cell_type": "code",
   "source": [
    "# Min\n",
    "print(f\"Min healthy TPM:\\t{df_nodes_genes['healthy TPM'].min().round(3)}\")\n",
    "print(f\"Min cancerous TPM:\\t{df_nodes_genes['cancerous TPM'].min().round(3)}\\n\")\n",
    "\n",
    "# Max\n",
    "print(f\"Max healthy TPM:\\t{df_nodes_genes['healthy TPM'].max().round(3)}\")\n",
    "print(f\"Max cancerous TPM:\\t{df_nodes_genes['cancerous TPM'].max().round(3)}\")"
   ],
   "id": "9a52be6530859a4a",
   "outputs": [],
   "execution_count": null
  },
  {
   "metadata": {},
   "cell_type": "code",
   "source": [
    "# min and max over two datasets\n",
    "min_tpm = min(df_nodes_genes['healthy TPM'].min(), \n",
    "              df_nodes_genes['cancerous TPM'].min()\n",
    "              )\n",
    "max_tpm = max(df_nodes_genes['healthy TPM'].max(), \n",
    "              df_nodes_genes['cancerous TPM'].max()\n",
    "              ) \n",
    "\n",
    "# perform log normalization\n",
    "df_nodes_genes['norm healthy TPM'] = log_norm(df_nodes_genes['healthy TPM'], min_tpm, max_tpm)\n",
    "df_nodes_genes['norm cancerous TPM'] = log_norm(df_nodes_genes['cancerous TPM'], min_tpm, max_tpm)"
   ],
   "id": "4b9ee6a1fc8e408d",
   "outputs": [],
   "execution_count": null
  },
  {
   "metadata": {},
   "cell_type": "code",
   "source": [
    "# norm healthy tpm\n",
    "plt.hist(df_nodes_genes['norm healthy TPM'], bins=100)\n",
    "plt.title('Histogram of normalized healthy TPM values')\n",
    "plt.xlabel('normalized TPM values')\n",
    "plt.ylabel('Frequency')\n",
    "\n",
    "plt.savefig('../tex/figures/03_02_normalized_gtex_tpm.png')\n",
    "plt.show()"
   ],
   "id": "a8e2b3b69ab02a08",
   "outputs": [],
   "execution_count": null
  },
  {
   "metadata": {},
   "cell_type": "code",
   "source": [
    "# norm cmp tpm\n",
    "plt.hist(df_nodes_genes['norm cancerous TPM'], bins=100)\n",
    "plt.title('Histogram of normalized cancerous TPM values')\n",
    "plt.xlabel('normalized TPM values')\n",
    "plt.ylabel('Frequency')\n",
    "\n",
    "plt.savefig('../tex/figures/03_02_normalized_cmp_tpm.png')\n",
    "plt.show()"
   ],
   "id": "5f218d61f59f29e7",
   "outputs": [],
   "execution_count": null
  },
  {
   "metadata": {},
   "cell_type": "code",
   "source": [
    "df_nodes_genes.drop(columns=['healthy TPM', 'cancerous TPM'], inplace=True)\n",
    "df_nodes_genes"
   ],
   "id": "6070eb584bf75997",
   "outputs": [],
   "execution_count": null
  },
  {
   "metadata": {},
   "cell_type": "markdown",
   "source": [
    "## Calculate `Δ TPM`\n",
    "\n",
    "value of the difference between the normalized cancerous tpm and normalized healthy tpm"
   ],
   "id": "7262c9cfab841860"
  },
  {
   "metadata": {},
   "cell_type": "code",
   "source": [
    "df_nodes_genes['Δ TPM'] = df_nodes_genes['norm cancerous TPM'] - df_nodes_genes['norm healthy TPM']\n",
    "df_nodes_genes['Δ type'] = np.where(df_nodes_genes['Δ TPM'] > 0, 'increase', 'decrease')\n",
    "\n",
    "df_nodes_genes"
   ],
   "id": "9907c87d13cbaab4",
   "outputs": [],
   "execution_count": null
  },
  {
   "metadata": {},
   "cell_type": "code",
   "source": [
    "plt.hist(df_nodes_genes['Δ TPM'], bins=100)\n",
    "plt.title('Histogram of Δ TPM')\n",
    "plt.xlabel('Δ TPM Values')\n",
    "plt.ylabel('Frequency')\n",
    "\n",
    "plt.savefig('../tex/figures/03_02_delta_tpm.png')\n",
    "plt.show()"
   ],
   "id": "247d0e18920f773f",
   "outputs": [],
   "execution_count": null
  },
  {
   "metadata": {},
   "cell_type": "code",
   "source": [
    "min_delta = df_nodes_genes['Δ TPM'].min()\n",
    "max_delta = df_nodes_genes['Δ TPM'].max()\n",
    "\n",
    "print(\"Minimum Δ TPM value: {:.3f}\".format(min_delta))\n",
    "print(\"Maximum Δ TPM value: {:.3f}\".format(max_delta))\n",
    "\n",
    "# % of delta type distribution\n",
    "print(\"\\n\")\n",
    "print(round(df_nodes_genes['Δ type'].value_counts(normalize=True), 2))"
   ],
   "id": "2c213092b0949430",
   "outputs": [],
   "execution_count": null
  },
  {
   "metadata": {},
   "cell_type": "markdown",
   "source": [
    "## Calculate `Δ TPM relevant` with z score\n",
    "Add a column that indicates if the change in the gene activity is relevant between cancer and healthy tissue.\n",
    "\n",
    "\n",
    "Z Score of the Δ TPM values is calculated and used to determine if the gene is relevant for cancer.\n",
    "This z score means how many standard deviations the Δ tpm value is away from the mean.\n"
   ],
   "id": "7a1d70cf376f8fef"
  },
  {
   "metadata": {},
   "cell_type": "code",
   "source": [
    "df_nodes_genes['z score'] = zscore(df_nodes_genes['Δ TPM'])\n",
    "\n",
    "# 1.96 for the highest 5% and the lowest 5% of the normal distribution\n",
    "z_threshold = 1.96\n",
    "df_nodes_genes['Δ TPM relevant'] = df_nodes_genes['z score'].abs() > z_threshold\n",
    "df_nodes_genes['z score'] = df_nodes_genes['z score'].round(3)\n",
    "\n",
    "df_nodes_genes"
   ],
   "id": "e758354910fabe5d",
   "outputs": [],
   "execution_count": null
  },
  {
   "metadata": {},
   "cell_type": "code",
   "source": [
    "print(\"There are {} genes that have a significant change in gene activity.\".format(df_nodes_genes['Δ TPM relevant'].sum()))\n",
    "\n",
    "# highest value with delta tpm relevant == true and value < 0\n",
    "relevant_genes = df_nodes_genes[(df_nodes_genes['Δ TPM relevant'] == True)]\n",
    "\n",
    "min_significant = relevant_genes[relevant_genes['Δ TPM'] < 0]['Δ TPM'].max()\n",
    "max_significant = relevant_genes[relevant_genes['Δ TPM'] > 0]['Δ TPM'].min()\n",
    "\n",
    "print(f\"Minimum negative Δ TPM value for a significant change is: {min_significant:.3f}\")\n",
    "print(f\"Maximum positive Δ TPM value for a significant change is: {max_significant:.3f}\")\n"
   ],
   "id": "a1de54e0cf8d8655",
   "outputs": [],
   "execution_count": null
  },
  {
   "metadata": {},
   "cell_type": "markdown",
   "source": "## Save",
   "id": "a7c449732d96a18c"
  },
  {
   "metadata": {},
   "cell_type": "code",
   "source": "df_nodes_genes.to_csv('../processed_data/nodes_genes.csv', index=False)",
   "id": "3643344b702567c5",
   "outputs": [],
   "execution_count": null
  },
  {
   "metadata": {},
   "cell_type": "code",
   "source": "print(f\"There are {df_nodes_genes.shape[0]} rows as gene nodes.\")",
   "id": "49277d4df228ae59",
   "outputs": [],
   "execution_count": null
  },
  {
   "metadata": {},
   "cell_type": "code",
   "source": [
    "import dataframe_image as dfi\n",
    "df_nodes_genes_plot = df_nodes_genes.copy()\n",
    "df_nodes_genes_plot = df_nodes_genes_plot.reset_index(drop=True)\n",
    "\n",
    "dfi.export(df_nodes_genes_plot.head(5), '../tex/figures/03_02_gene_nodes.png')"
   ],
   "id": "f9a0116747c933e9",
   "outputs": [],
   "execution_count": null
  }
 ],
 "metadata": {
  "kernelspec": {
   "display_name": "Python 3",
   "language": "python",
   "name": "python3"
  },
  "language_info": {
   "codemirror_mode": {
    "name": "ipython",
    "version": 2
   },
   "file_extension": ".py",
   "mimetype": "text/x-python",
   "name": "python",
   "nbconvert_exporter": "python",
   "pygments_lexer": "ipython2",
   "version": "2.7.6"
  }
 },
 "nbformat": 4,
 "nbformat_minor": 5
}
