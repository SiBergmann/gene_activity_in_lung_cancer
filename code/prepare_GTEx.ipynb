{
 "cells": [
  {
   "metadata": {},
   "cell_type": "markdown",
   "source": [
    "# Data from GTEx\n",
    "Link: https://www.gtexportal.org/home/downloads/adult-gtex/bulk_tissue_expression\n",
    "\n",
    "\n",
    "**Bulk-Tissue-Expression:**\n",
    "\n",
    "Contains the gene expression in *healthy* tissue samples from adults. For each gene, the transcription value for each tissue is listed.\n",
    "\n",
    "**Output file format:**\n",
    "* id\n",
    "* sum\n",
    "* count\n",
    "* tpm"
   ],
   "id": "c61097af660cd39"
  },
  {
   "metadata": {},
   "cell_type": "markdown",
   "source": [
    "## Load Data and melt down to long format\n",
    "→ takes 20 minutes with 3000 rows per chunk\n",
    "\n",
    "The format of the input file is a column per tissue.\n",
    "We load the data in chunks and melt it down to a long format with columns for the gene name, tissue and TPM value.\n"
   ],
   "id": "888769a39c83248e"
  },
  {
   "metadata": {
    "ExecuteTime": {
     "end_time": "2024-10-09T14:44:40.006202Z",
     "start_time": "2024-10-09T14:44:37.678222Z"
    }
   },
   "cell_type": "code",
   "source": [
    "import pandas as pd\n",
    "import gc\n",
    "import time"
   ],
   "id": "518bd896c871130",
   "outputs": [],
   "execution_count": 1
  },
  {
   "metadata": {
    "ExecuteTime": {
     "end_time": "2024-10-09T14:44:40.034882Z",
     "start_time": "2024-10-09T14:44:40.006202Z"
    }
   },
   "cell_type": "code",
   "source": [
    "file = \"../import_data/GTEx/GTEx_Analysis_2017-06-05_v8_RNASeQCv1.1.9_gene_tpm.gct\"\n",
    "output_file = \"../processed_data/GTEX_healthy.csv\"\n",
    "\n",
    "\n",
    "# Initialize an output file and overwrite if already exists\n",
    "with open(output_file, 'w') as f_out:\n",
    "    f_out.write(\"Name,Tissue,TPM\\n\")"
   ],
   "id": "e18b15c73e9b52a9",
   "outputs": [],
   "execution_count": 2
  },
  {
   "metadata": {
    "ExecuteTime": {
     "end_time": "2024-10-09T14:46:27.641596Z",
     "start_time": "2024-10-09T14:46:27.629574Z"
    }
   },
   "cell_type": "code",
   "source": [
    "# Function to analyze the dataset\n",
    "def dataset_analysis(df):\n",
    "    global missing_values, min_tpm, max_tpm\n",
    "    \n",
    "    missing_values =+ df.isnull().sum()\n",
    "     \n",
    "    if df['TPM'].min() < min_tpm:\n",
    "        min_tpm = df['TPM'].min()\n",
    "        \n",
    "    if df['TPM'].max() > max_tpm:\n",
    "        max_tpm = df['TPM'].max()"
   ],
   "id": "1af4b9f2c4443152",
   "outputs": [],
   "execution_count": 6
  },
  {
   "metadata": {},
   "cell_type": "markdown",
   "source": [
    "NOTE: \n",
    "2000 chunks\n",
    "\n",
    "3000 chunk = 60 sec → 1000 chunk = 20 sec\n",
    "\n",
    "4000 chunk = 85 sec → 1000 chunk = 21 sec"
   ],
   "id": "729d0776620a621a"
  },
  {
   "metadata": {
    "ExecuteTime": {
     "end_time": "2024-10-09T15:15:13.014423Z",
     "start_time": "2024-10-09T14:52:03.411516Z"
    }
   },
   "cell_type": "code",
   "source": [
    "missing_values = 0\n",
    "min_tpm = float('+inf')\n",
    "max_tpm = float('-inf')\n",
    "\n",
    "chunksize = 2000\n",
    "\n",
    "with pd.read_csv(file, delimiter=\"\\t\", skiprows=2, chunksize=chunksize) as reader:\n",
    "    counter = 0\n",
    "    outputrows = 0\n",
    "\n",
    "    for df_chunk in reader:\n",
    "        start_time = time.time() \n",
    "        df_melt = pd.melt(df_chunk, id_vars=['Name', 'Description'], var_name='Tissue', value_name='TPM', ignore_index=True)\n",
    "        df_melt = df_melt.drop(columns=['Description'])\n",
    "        \n",
    "        df_melt[\"TPM\"] = df_melt[\"TPM\"].astype(float)\n",
    "        outputrows += df_melt.shape[0]\n",
    "        \n",
    "        dataset_analysis(df_melt)\n",
    "        \n",
    "        df_melt.to_csv(output_file, mode='a', header=False, index=False)\n",
    "        \n",
    "        # Clear memory\n",
    "        del df_melt\n",
    "        gc.collect()\n",
    "        \n",
    "        end_time = time.time()\n",
    "        duration = end_time - start_time        \n",
    "        print(f\"{counter} / 56200 processed in {duration:.2f} seconds\")\n",
    "        \n",
    "        counter += chunksize\n",
    "        \n",
    "print(f\"Output file contains {outputrows} rows\")"
   ],
   "id": "a56f88bb71eb16f4",
   "outputs": [
    {
     "name": "stdout",
     "output_type": "stream",
     "text": [
      "0 / 56200 processed in 51.26 seconds\n",
      "2000 / 56200 processed in 41.12 seconds\n",
      "4000 / 56200 processed in 41.12 seconds\n",
      "6000 / 56200 processed in 39.70 seconds\n",
      "8000 / 56200 processed in 39.81 seconds\n",
      "10000 / 56200 processed in 41.38 seconds\n",
      "12000 / 56200 processed in 39.29 seconds\n",
      "14000 / 56200 processed in 40.43 seconds\n",
      "16000 / 56200 processed in 45.23 seconds\n",
      "18000 / 56200 processed in 40.21 seconds\n",
      "20000 / 56200 processed in 39.65 seconds\n",
      "22000 / 56200 processed in 39.84 seconds\n",
      "24000 / 56200 processed in 39.33 seconds\n",
      "26000 / 56200 processed in 39.97 seconds\n",
      "28000 / 56200 processed in 49.78 seconds\n",
      "30000 / 56200 processed in 46.26 seconds\n",
      "32000 / 56200 processed in 50.40 seconds\n",
      "34000 / 56200 processed in 50.00 seconds\n",
      "36000 / 56200 processed in 46.89 seconds\n",
      "38000 / 56200 processed in 39.84 seconds\n",
      "40000 / 56200 processed in 41.31 seconds\n",
      "42000 / 56200 processed in 40.85 seconds\n",
      "44000 / 56200 processed in 40.89 seconds\n",
      "46000 / 56200 processed in 40.19 seconds\n",
      "48000 / 56200 processed in 41.12 seconds\n",
      "50000 / 56200 processed in 41.16 seconds\n",
      "52000 / 56200 processed in 40.48 seconds\n",
      "54000 / 56200 processed in 39.87 seconds\n",
      "56000 / 56200 processed in 4.29 seconds\n",
      "Output file contains 976868400 rows\n"
     ]
    }
   ],
   "execution_count": 9
  },
  {
   "metadata": {},
   "cell_type": "markdown",
   "source": "### Analyze the dataset",
   "id": "b0a9862eeef3957e"
  },
  {
   "metadata": {
    "ExecuteTime": {
     "end_time": "2024-10-09T17:35:25.382692Z",
     "start_time": "2024-10-09T17:35:25.364244Z"
    }
   },
   "cell_type": "code",
   "source": [
    "print(f\"Missing values:\\n\"\n",
    "      f\"{missing_values}\\n\")\n",
    "print(f\"Min TPM: {min_tpm}\")\n",
    "print(f\"Max TPM: {max_tpm}\")"
   ],
   "id": "f69b10e5a76aeea1",
   "outputs": [
    {
     "name": "stdout",
     "output_type": "stream",
     "text": [
      "Missing values:\n",
      "Name      0\n",
      "Tissue    0\n",
      "TPM       0\n",
      "dtype: int64\n",
      "\n",
      "Min TPM: 0.0\n",
      "Max TPM: 747400.0\n"
     ]
    }
   ],
   "execution_count": 12
  },
  {
   "metadata": {},
   "cell_type": "markdown",
   "source": "## Save grouped data",
   "id": "3fd646174a512c"
  },
  {
   "metadata": {
    "ExecuteTime": {
     "end_time": "2024-09-11T13:09:18.705497Z",
     "start_time": "2024-09-11T13:02:52.326015Z"
    }
   },
   "cell_type": "code",
   "source": [
    "file = \"../processed_data/GTEX_healthy.csv\"\n",
    "output_file = \"../processed_data/GTEX_healthy_temp.csv\"\n",
    "\n",
    "chunksize = 200000000\n",
    "\n",
    "# Initialize output file and overwrite if already exists\n",
    "with open(output_file, 'w') as f_out:\n",
    "    f_out.write(\"Name,sum,count\\n\")\n",
    "    \n",
    "with (pd.read_csv(file, chunksize=chunksize) as reader):\n",
    "    for df_chunk in reader:\n",
    "        start_time = time.time()\n",
    "        df_mean = df_chunk.drop(columns=[\"Tissue\"])\n",
    "        df_mean = df_mean.groupby('Name').agg(['sum','count'])\n",
    "        df_mean.to_csv(output_file, mode='a', header=False, index=True)\n",
    "        print(f\"{df_mean.shape[0]} rows processed in {duration:.2f} seconds\")\n",
    "              \n",
    "        del df_mean\n",
    "        gc.collect()\n",
    "        \n",
    "        end_time = time.time()\n",
    "        duration = end_time - start_time"
   ],
   "id": "78ba3d08379b4dfa",
   "outputs": [
    {
     "name": "stdout",
     "output_type": "stream",
     "text": [
      "12000 rows processed in 5.04 seconds\n",
      "15000 rows processed in 15.53 seconds\n",
      "15000 rows processed in 14.15 seconds\n",
      "15000 rows processed in 14.34 seconds\n",
      "11200 rows processed in 13.95 seconds\n"
     ]
    }
   ],
   "execution_count": 26
  },
  {
   "metadata": {},
   "cell_type": "markdown",
   "source": "## Load Temp file to calculate mean TPM ",
   "id": "5f81dfabf6b26900"
  },
  {
   "metadata": {
    "ExecuteTime": {
     "end_time": "2024-09-11T13:23:14.446696Z",
     "start_time": "2024-09-11T13:23:14.397258Z"
    }
   },
   "cell_type": "code",
   "source": [
    "df_mean = pd.read_csv(\"../processed_data/GTEX_healthy_temp.csv\")\n",
    "df_mean.rename(columns={'Name':'id'}, inplace=True)\n",
    "df_mean['id'] = df_mean['id'].str.split('.').str[0]\n",
    "\n",
    "df_mean"
   ],
   "id": "32643736f566c7ea",
   "outputs": [
    {
     "data": {
      "text/plain": [
       "                     Name           sum  count\n",
       "0      ENSG00000000457.13  1.012564e+05  17382\n",
       "1      ENSG00000000460.16  4.129176e+04  17382\n",
       "2      ENSG00000000938.12  7.962391e+05  17382\n",
       "3      ENSG00000000971.15  1.488672e+06  17382\n",
       "4      ENSG00000001460.17  5.044793e+04  17382\n",
       "...                   ...           ...    ...\n",
       "68195   ENSG00000284550.1  5.448620e+01  17382\n",
       "68196   ENSG00000284553.1  5.785420e+01  11446\n",
       "68197   ENSG00000284564.1  8.892744e+03  11445\n",
       "68198   ENSG00000284574.1  3.219920e+03  11445\n",
       "68199   ENSG00000284595.1  4.897970e+03  11445\n",
       "\n",
       "[68200 rows x 3 columns]"
      ],
      "text/html": [
       "<div>\n",
       "<style scoped>\n",
       "    .dataframe tbody tr th:only-of-type {\n",
       "        vertical-align: middle;\n",
       "    }\n",
       "\n",
       "    .dataframe tbody tr th {\n",
       "        vertical-align: top;\n",
       "    }\n",
       "\n",
       "    .dataframe thead th {\n",
       "        text-align: right;\n",
       "    }\n",
       "</style>\n",
       "<table border=\"1\" class=\"dataframe\">\n",
       "  <thead>\n",
       "    <tr style=\"text-align: right;\">\n",
       "      <th></th>\n",
       "      <th>Name</th>\n",
       "      <th>sum</th>\n",
       "      <th>count</th>\n",
       "    </tr>\n",
       "  </thead>\n",
       "  <tbody>\n",
       "    <tr>\n",
       "      <th>0</th>\n",
       "      <td>ENSG00000000457.13</td>\n",
       "      <td>1.012564e+05</td>\n",
       "      <td>17382</td>\n",
       "    </tr>\n",
       "    <tr>\n",
       "      <th>1</th>\n",
       "      <td>ENSG00000000460.16</td>\n",
       "      <td>4.129176e+04</td>\n",
       "      <td>17382</td>\n",
       "    </tr>\n",
       "    <tr>\n",
       "      <th>2</th>\n",
       "      <td>ENSG00000000938.12</td>\n",
       "      <td>7.962391e+05</td>\n",
       "      <td>17382</td>\n",
       "    </tr>\n",
       "    <tr>\n",
       "      <th>3</th>\n",
       "      <td>ENSG00000000971.15</td>\n",
       "      <td>1.488672e+06</td>\n",
       "      <td>17382</td>\n",
       "    </tr>\n",
       "    <tr>\n",
       "      <th>4</th>\n",
       "      <td>ENSG00000001460.17</td>\n",
       "      <td>5.044793e+04</td>\n",
       "      <td>17382</td>\n",
       "    </tr>\n",
       "    <tr>\n",
       "      <th>...</th>\n",
       "      <td>...</td>\n",
       "      <td>...</td>\n",
       "      <td>...</td>\n",
       "    </tr>\n",
       "    <tr>\n",
       "      <th>68195</th>\n",
       "      <td>ENSG00000284550.1</td>\n",
       "      <td>5.448620e+01</td>\n",
       "      <td>17382</td>\n",
       "    </tr>\n",
       "    <tr>\n",
       "      <th>68196</th>\n",
       "      <td>ENSG00000284553.1</td>\n",
       "      <td>5.785420e+01</td>\n",
       "      <td>11446</td>\n",
       "    </tr>\n",
       "    <tr>\n",
       "      <th>68197</th>\n",
       "      <td>ENSG00000284564.1</td>\n",
       "      <td>8.892744e+03</td>\n",
       "      <td>11445</td>\n",
       "    </tr>\n",
       "    <tr>\n",
       "      <th>68198</th>\n",
       "      <td>ENSG00000284574.1</td>\n",
       "      <td>3.219920e+03</td>\n",
       "      <td>11445</td>\n",
       "    </tr>\n",
       "    <tr>\n",
       "      <th>68199</th>\n",
       "      <td>ENSG00000284595.1</td>\n",
       "      <td>4.897970e+03</td>\n",
       "      <td>11445</td>\n",
       "    </tr>\n",
       "  </tbody>\n",
       "</table>\n",
       "<p>68200 rows × 3 columns</p>\n",
       "</div>"
      ]
     },
     "execution_count": 4,
     "metadata": {},
     "output_type": "execute_result"
    }
   ],
   "execution_count": 4
  },
  {
   "metadata": {},
   "cell_type": "markdown",
   "source": "",
   "id": "dc81960a9af7cd04"
  },
  {
   "metadata": {
    "ExecuteTime": {
     "end_time": "2024-09-11T13:19:20.134990Z",
     "start_time": "2024-09-11T13:19:20.026249Z"
    }
   },
   "cell_type": "code",
   "source": [
    "# group again to combine split gene chunks \n",
    "df_mean = df_mean.groupby('id').sum()\n",
    "df_mean['tpm'] = df_mean['sum']/df_mean['count']\n",
    "df_mean"
   ],
   "id": "378927de3130d521",
   "outputs": [
    {
     "data": {
      "text/plain": [
       "                           sum  count\n",
       "id                                   \n",
       "ENSG00000000003  274030.408120  17382\n",
       "ENSG00000000005   62036.191561  17382\n",
       "ENSG00000000419  841623.549500  17382\n",
       "ENSG00000000457  101256.444200  17382\n",
       "ENSG00000000460   41291.764070  17382\n",
       "...                        ...    ...\n",
       "ENSG00000284592      27.276690  17382\n",
       "ENSG00000284594      88.438900  17382\n",
       "ENSG00000284595    7720.422600  17382\n",
       "ENSG00000284596     158.655000  17382\n",
       "ENSG00000284600    5818.659996  17382\n",
       "\n",
       "[56156 rows x 2 columns]"
      ],
      "text/html": [
       "<div>\n",
       "<style scoped>\n",
       "    .dataframe tbody tr th:only-of-type {\n",
       "        vertical-align: middle;\n",
       "    }\n",
       "\n",
       "    .dataframe tbody tr th {\n",
       "        vertical-align: top;\n",
       "    }\n",
       "\n",
       "    .dataframe thead th {\n",
       "        text-align: right;\n",
       "    }\n",
       "</style>\n",
       "<table border=\"1\" class=\"dataframe\">\n",
       "  <thead>\n",
       "    <tr style=\"text-align: right;\">\n",
       "      <th></th>\n",
       "      <th>sum</th>\n",
       "      <th>count</th>\n",
       "    </tr>\n",
       "    <tr>\n",
       "      <th>id</th>\n",
       "      <th></th>\n",
       "      <th></th>\n",
       "    </tr>\n",
       "  </thead>\n",
       "  <tbody>\n",
       "    <tr>\n",
       "      <th>ENSG00000000003</th>\n",
       "      <td>274030.408120</td>\n",
       "      <td>17382</td>\n",
       "    </tr>\n",
       "    <tr>\n",
       "      <th>ENSG00000000005</th>\n",
       "      <td>62036.191561</td>\n",
       "      <td>17382</td>\n",
       "    </tr>\n",
       "    <tr>\n",
       "      <th>ENSG00000000419</th>\n",
       "      <td>841623.549500</td>\n",
       "      <td>17382</td>\n",
       "    </tr>\n",
       "    <tr>\n",
       "      <th>ENSG00000000457</th>\n",
       "      <td>101256.444200</td>\n",
       "      <td>17382</td>\n",
       "    </tr>\n",
       "    <tr>\n",
       "      <th>ENSG00000000460</th>\n",
       "      <td>41291.764070</td>\n",
       "      <td>17382</td>\n",
       "    </tr>\n",
       "    <tr>\n",
       "      <th>...</th>\n",
       "      <td>...</td>\n",
       "      <td>...</td>\n",
       "    </tr>\n",
       "    <tr>\n",
       "      <th>ENSG00000284592</th>\n",
       "      <td>27.276690</td>\n",
       "      <td>17382</td>\n",
       "    </tr>\n",
       "    <tr>\n",
       "      <th>ENSG00000284594</th>\n",
       "      <td>88.438900</td>\n",
       "      <td>17382</td>\n",
       "    </tr>\n",
       "    <tr>\n",
       "      <th>ENSG00000284595</th>\n",
       "      <td>7720.422600</td>\n",
       "      <td>17382</td>\n",
       "    </tr>\n",
       "    <tr>\n",
       "      <th>ENSG00000284596</th>\n",
       "      <td>158.655000</td>\n",
       "      <td>17382</td>\n",
       "    </tr>\n",
       "    <tr>\n",
       "      <th>ENSG00000284600</th>\n",
       "      <td>5818.659996</td>\n",
       "      <td>17382</td>\n",
       "    </tr>\n",
       "  </tbody>\n",
       "</table>\n",
       "<p>56156 rows × 2 columns</p>\n",
       "</div>"
      ]
     },
     "execution_count": 41,
     "metadata": {},
     "output_type": "execute_result"
    }
   ],
   "execution_count": 41
  },
  {
   "metadata": {},
   "cell_type": "markdown",
   "source": "## Save final file",
   "id": "37c954afab5aab4a"
  },
  {
   "metadata": {
    "ExecuteTime": {
     "end_time": "2024-09-11T13:21:09.993083Z",
     "start_time": "2024-09-11T13:21:09.898080Z"
    }
   },
   "cell_type": "code",
   "source": [
    "df_mean = df_mean.drop(columns=['sum', 'count'])\n",
    "df_mean.to_csv(\"../processed_data/GTEX_healthy_mean.csv\")\n",
    "print(f'There are {df_mean.shape[0]} genes in the final file')"
   ],
   "id": "848869f23fb845ec",
   "outputs": [],
   "execution_count": 44
  }
 ],
 "metadata": {
  "kernelspec": {
   "display_name": "Python 3",
   "language": "python",
   "name": "python3"
  },
  "language_info": {
   "codemirror_mode": {
    "name": "ipython",
    "version": 2
   },
   "file_extension": ".py",
   "mimetype": "text/x-python",
   "name": "python",
   "nbconvert_exporter": "python",
   "pygments_lexer": "ipython2",
   "version": "2.7.6"
  }
 },
 "nbformat": 4,
 "nbformat_minor": 5
}
