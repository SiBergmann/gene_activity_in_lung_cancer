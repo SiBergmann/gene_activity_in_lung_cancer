{
 "cells": [
  {
   "metadata": {},
   "cell_type": "markdown",
   "source": [
    "# Data from GTEx\n",
    "Link: https://www.gtexportal.org/home/downloads/adult-gtex/bulk_tissue_expression\n",
    "\n",
    "\n",
    "**Bulk-Tissue-Expression:**\n",
    "\n",
    "Contains the gene expression in *healthy* tissue samples from adults. For each gene, the transcription value for each tissue is listed.\n",
    "\n",
    "**Output file format:**\n",
    "* id\n",
    "* sum\n",
    "* count\n",
    "* tpm"
   ],
   "id": "c61097af660cd39"
  },
  {
   "metadata": {},
   "cell_type": "markdown",
   "source": [
    "## Load Data and melt down to long format\n",
    "→ takes 20 minutes with 3000 rows per chunk\n",
    "\n",
    "The format of the input file is a column per tissue.\n",
    "We load the data in chunks and melt it down to a long format with columns for the gene name, tissue and TPM value.\n"
   ],
   "id": "888769a39c83248e"
  },
  {
   "metadata": {
    "ExecuteTime": {
     "end_time": "2024-09-11T13:23:11.282091Z",
     "start_time": "2024-09-11T13:23:10.640175Z"
    }
   },
   "cell_type": "code",
   "source": [
    "import pandas as pd\n",
    "import gc\n",
    "import time"
   ],
   "id": "518bd896c871130",
   "outputs": [],
   "execution_count": 3
  },
  {
   "metadata": {
    "ExecuteTime": {
     "end_time": "2024-09-11T12:02:47.567773Z",
     "start_time": "2024-09-11T12:02:47.174517Z"
    }
   },
   "cell_type": "code",
   "source": [
    "file = \"../import_data/GTEx/GTEx_Analysis_2017-06-05_v8_RNASeQCv1.1.9_gene_tpm.gct\"\n",
    "output_file = \"../processed_data/GTEX_healthy.csv\"\n",
    "\n",
    "chunksize = 3000\n",
    "counter = 0\n",
    "outputrows = 0\n",
    "\n",
    "# Initialize output file and overwrite if already exists\n",
    "with open(output_file, 'w') as f_out:\n",
    "    f_out.write(\"Name,Tissue,TPM\\n\")"
   ],
   "id": "e18b15c73e9b52a9",
   "outputs": [],
   "execution_count": 8
  },
  {
   "metadata": {
    "ExecuteTime": {
     "end_time": "2024-09-11T12:23:48.121253Z",
     "start_time": "2024-09-11T12:02:47.570297Z"
    }
   },
   "cell_type": "code",
   "source": [
    "with pd.read_csv(file, delimiter=\"\\t\", skiprows=2, chunksize=chunksize) as reader:\n",
    "    for df_chunk in reader:\n",
    "        start_time = time.time() \n",
    "        df_melt = pd.melt(df_chunk, id_vars=['Name', 'Description'], var_name='Tissue', value_name='TPM', ignore_index=True)\n",
    "        df_melt = df_melt.drop(columns=['Description'])\n",
    "        \n",
    "        df_melt[\"TPM\"] = df_melt[\"TPM\"].astype(float)\n",
    "        outputrows += df_melt.shape[0]\n",
    "        \n",
    "        df_melt.to_csv(output_file, mode='a', header=False, index=False)\n",
    "        \n",
    "        # Clear memory\n",
    "        del df_melt\n",
    "        gc.collect()\n",
    "        \n",
    "        end_time = time.time()\n",
    "        duration = end_time - start_time        \n",
    "        print(f\"{counter} / 56200 processed in {duration:.2f} seconds\")\n",
    "        \n",
    "        counter += chunksize\n",
    "        \n",
    "print(f\"Output file contains {outputrows} rows\")"
   ],
   "id": "a56f88bb71eb16f4",
   "outputs": [
    {
     "name": "stdout",
     "output_type": "stream",
     "text": [
      "0 / 56200 processed in 57.51 seconds\n",
      "3000 / 56200 processed in 56.86 seconds\n",
      "6000 / 56200 processed in 56.90 seconds\n",
      "9000 / 56200 processed in 57.67 seconds\n",
      "12000 / 56200 processed in 55.18 seconds\n",
      "15000 / 56200 processed in 56.85 seconds\n",
      "18000 / 56200 processed in 56.51 seconds\n",
      "21000 / 56200 processed in 56.90 seconds\n",
      "24000 / 56200 processed in 56.48 seconds\n",
      "27000 / 56200 processed in 58.43 seconds\n",
      "30000 / 56200 processed in 56.59 seconds\n",
      "33000 / 56200 processed in 57.32 seconds\n",
      "36000 / 56200 processed in 56.87 seconds\n",
      "39000 / 56200 processed in 59.52 seconds\n",
      "42000 / 56200 processed in 58.75 seconds\n",
      "45000 / 56200 processed in 60.45 seconds\n",
      "48000 / 56200 processed in 57.53 seconds\n",
      "51000 / 56200 processed in 57.14 seconds\n",
      "54000 / 56200 processed in 41.80 seconds\n",
      "Output file contains 976868400 rows\n"
     ]
    }
   ],
   "execution_count": 9
  },
  {
   "metadata": {},
   "cell_type": "markdown",
   "source": [
    "## Save grouped data\n",
    "→ takes 6 Minutes with 10 ** 8 rows per chunk"
   ],
   "id": "3fd646174a512c"
  },
  {
   "metadata": {
    "ExecuteTime": {
     "end_time": "2024-09-11T13:09:18.705497Z",
     "start_time": "2024-09-11T13:02:52.326015Z"
    }
   },
   "cell_type": "code",
   "source": [
    "file = \"../processed_data/GTEX_healthy.csv\"\n",
    "output_file = \"../processed_data/GTEX_healthy_temp.csv\"\n",
    "\n",
    "chunksize = 200000000\n",
    "\n",
    "# Initialize output file and overwrite if already exists\n",
    "with open(output_file, 'w') as f_out:\n",
    "    f_out.write(\"Name,sum,count\\n\")\n",
    "    \n",
    "with (pd.read_csv(file, chunksize=chunksize) as reader):\n",
    "    for df_chunk in reader:\n",
    "        start_time = time.time()\n",
    "        df_mean = df_chunk.drop(columns=[\"Tissue\"])\n",
    "        df_mean = df_mean.groupby('Name').agg(['sum','count'])\n",
    "        df_mean.to_csv(output_file, mode='a', header=False, index=True)\n",
    "        print(f\"{df_mean.shape[0]} rows processed in {duration:.2f} seconds\")\n",
    "              \n",
    "        del df_mean\n",
    "        gc.collect()\n",
    "        \n",
    "        end_time = time.time()\n",
    "        duration = end_time - start_time"
   ],
   "id": "78ba3d08379b4dfa",
   "outputs": [
    {
     "name": "stdout",
     "output_type": "stream",
     "text": [
      "12000 rows processed in 5.04 seconds\n",
      "15000 rows processed in 15.53 seconds\n",
      "15000 rows processed in 14.15 seconds\n",
      "15000 rows processed in 14.34 seconds\n",
      "11200 rows processed in 13.95 seconds\n"
     ]
    }
   ],
   "execution_count": 26
  },
  {
   "metadata": {},
   "cell_type": "markdown",
   "source": "## Load Temp file to calculate mean TPM ",
   "id": "5f81dfabf6b26900"
  },
  {
   "metadata": {
    "ExecuteTime": {
     "end_time": "2024-09-11T13:23:14.446696Z",
     "start_time": "2024-09-11T13:23:14.397258Z"
    }
   },
   "cell_type": "code",
   "source": "df_mean = pd.read_csv(\"../processed_data/GTEX_healthy_temp.csv\")",
   "id": "32643736f566c7ea",
   "outputs": [
    {
     "data": {
      "text/plain": [
       "                     Name           sum  count\n",
       "0      ENSG00000000457.13  1.012564e+05  17382\n",
       "1      ENSG00000000460.16  4.129176e+04  17382\n",
       "2      ENSG00000000938.12  7.962391e+05  17382\n",
       "3      ENSG00000000971.15  1.488672e+06  17382\n",
       "4      ENSG00000001460.17  5.044793e+04  17382\n",
       "...                   ...           ...    ...\n",
       "68195   ENSG00000284550.1  5.448620e+01  17382\n",
       "68196   ENSG00000284553.1  5.785420e+01  11446\n",
       "68197   ENSG00000284564.1  8.892744e+03  11445\n",
       "68198   ENSG00000284574.1  3.219920e+03  11445\n",
       "68199   ENSG00000284595.1  4.897970e+03  11445\n",
       "\n",
       "[68200 rows x 3 columns]"
      ],
      "text/html": [
       "<div>\n",
       "<style scoped>\n",
       "    .dataframe tbody tr th:only-of-type {\n",
       "        vertical-align: middle;\n",
       "    }\n",
       "\n",
       "    .dataframe tbody tr th {\n",
       "        vertical-align: top;\n",
       "    }\n",
       "\n",
       "    .dataframe thead th {\n",
       "        text-align: right;\n",
       "    }\n",
       "</style>\n",
       "<table border=\"1\" class=\"dataframe\">\n",
       "  <thead>\n",
       "    <tr style=\"text-align: right;\">\n",
       "      <th></th>\n",
       "      <th>Name</th>\n",
       "      <th>sum</th>\n",
       "      <th>count</th>\n",
       "    </tr>\n",
       "  </thead>\n",
       "  <tbody>\n",
       "    <tr>\n",
       "      <th>0</th>\n",
       "      <td>ENSG00000000457.13</td>\n",
       "      <td>1.012564e+05</td>\n",
       "      <td>17382</td>\n",
       "    </tr>\n",
       "    <tr>\n",
       "      <th>1</th>\n",
       "      <td>ENSG00000000460.16</td>\n",
       "      <td>4.129176e+04</td>\n",
       "      <td>17382</td>\n",
       "    </tr>\n",
       "    <tr>\n",
       "      <th>2</th>\n",
       "      <td>ENSG00000000938.12</td>\n",
       "      <td>7.962391e+05</td>\n",
       "      <td>17382</td>\n",
       "    </tr>\n",
       "    <tr>\n",
       "      <th>3</th>\n",
       "      <td>ENSG00000000971.15</td>\n",
       "      <td>1.488672e+06</td>\n",
       "      <td>17382</td>\n",
       "    </tr>\n",
       "    <tr>\n",
       "      <th>4</th>\n",
       "      <td>ENSG00000001460.17</td>\n",
       "      <td>5.044793e+04</td>\n",
       "      <td>17382</td>\n",
       "    </tr>\n",
       "    <tr>\n",
       "      <th>...</th>\n",
       "      <td>...</td>\n",
       "      <td>...</td>\n",
       "      <td>...</td>\n",
       "    </tr>\n",
       "    <tr>\n",
       "      <th>68195</th>\n",
       "      <td>ENSG00000284550.1</td>\n",
       "      <td>5.448620e+01</td>\n",
       "      <td>17382</td>\n",
       "    </tr>\n",
       "    <tr>\n",
       "      <th>68196</th>\n",
       "      <td>ENSG00000284553.1</td>\n",
       "      <td>5.785420e+01</td>\n",
       "      <td>11446</td>\n",
       "    </tr>\n",
       "    <tr>\n",
       "      <th>68197</th>\n",
       "      <td>ENSG00000284564.1</td>\n",
       "      <td>8.892744e+03</td>\n",
       "      <td>11445</td>\n",
       "    </tr>\n",
       "    <tr>\n",
       "      <th>68198</th>\n",
       "      <td>ENSG00000284574.1</td>\n",
       "      <td>3.219920e+03</td>\n",
       "      <td>11445</td>\n",
       "    </tr>\n",
       "    <tr>\n",
       "      <th>68199</th>\n",
       "      <td>ENSG00000284595.1</td>\n",
       "      <td>4.897970e+03</td>\n",
       "      <td>11445</td>\n",
       "    </tr>\n",
       "  </tbody>\n",
       "</table>\n",
       "<p>68200 rows × 3 columns</p>\n",
       "</div>"
      ]
     },
     "execution_count": 4,
     "metadata": {},
     "output_type": "execute_result"
    }
   ],
   "execution_count": 4
  },
  {
   "metadata": {
    "ExecuteTime": {
     "end_time": "2024-09-11T13:19:20.134990Z",
     "start_time": "2024-09-11T13:19:20.026249Z"
    }
   },
   "cell_type": "code",
   "source": [
    "df_mean.rename(columns={'Name':'id'}, inplace=True)\n",
    "df_mean['id'] = df_mean['id'].str.split('.').str[0]\n",
    "df_mean = df_mean.groupby('id').sum()\n",
    "df_mean"
   ],
   "id": "378927de3130d521",
   "outputs": [
    {
     "data": {
      "text/plain": [
       "                           sum  count\n",
       "id                                   \n",
       "ENSG00000000003  274030.408120  17382\n",
       "ENSG00000000005   62036.191561  17382\n",
       "ENSG00000000419  841623.549500  17382\n",
       "ENSG00000000457  101256.444200  17382\n",
       "ENSG00000000460   41291.764070  17382\n",
       "...                        ...    ...\n",
       "ENSG00000284592      27.276690  17382\n",
       "ENSG00000284594      88.438900  17382\n",
       "ENSG00000284595    7720.422600  17382\n",
       "ENSG00000284596     158.655000  17382\n",
       "ENSG00000284600    5818.659996  17382\n",
       "\n",
       "[56156 rows x 2 columns]"
      ],
      "text/html": [
       "<div>\n",
       "<style scoped>\n",
       "    .dataframe tbody tr th:only-of-type {\n",
       "        vertical-align: middle;\n",
       "    }\n",
       "\n",
       "    .dataframe tbody tr th {\n",
       "        vertical-align: top;\n",
       "    }\n",
       "\n",
       "    .dataframe thead th {\n",
       "        text-align: right;\n",
       "    }\n",
       "</style>\n",
       "<table border=\"1\" class=\"dataframe\">\n",
       "  <thead>\n",
       "    <tr style=\"text-align: right;\">\n",
       "      <th></th>\n",
       "      <th>sum</th>\n",
       "      <th>count</th>\n",
       "    </tr>\n",
       "    <tr>\n",
       "      <th>id</th>\n",
       "      <th></th>\n",
       "      <th></th>\n",
       "    </tr>\n",
       "  </thead>\n",
       "  <tbody>\n",
       "    <tr>\n",
       "      <th>ENSG00000000003</th>\n",
       "      <td>274030.408120</td>\n",
       "      <td>17382</td>\n",
       "    </tr>\n",
       "    <tr>\n",
       "      <th>ENSG00000000005</th>\n",
       "      <td>62036.191561</td>\n",
       "      <td>17382</td>\n",
       "    </tr>\n",
       "    <tr>\n",
       "      <th>ENSG00000000419</th>\n",
       "      <td>841623.549500</td>\n",
       "      <td>17382</td>\n",
       "    </tr>\n",
       "    <tr>\n",
       "      <th>ENSG00000000457</th>\n",
       "      <td>101256.444200</td>\n",
       "      <td>17382</td>\n",
       "    </tr>\n",
       "    <tr>\n",
       "      <th>ENSG00000000460</th>\n",
       "      <td>41291.764070</td>\n",
       "      <td>17382</td>\n",
       "    </tr>\n",
       "    <tr>\n",
       "      <th>...</th>\n",
       "      <td>...</td>\n",
       "      <td>...</td>\n",
       "    </tr>\n",
       "    <tr>\n",
       "      <th>ENSG00000284592</th>\n",
       "      <td>27.276690</td>\n",
       "      <td>17382</td>\n",
       "    </tr>\n",
       "    <tr>\n",
       "      <th>ENSG00000284594</th>\n",
       "      <td>88.438900</td>\n",
       "      <td>17382</td>\n",
       "    </tr>\n",
       "    <tr>\n",
       "      <th>ENSG00000284595</th>\n",
       "      <td>7720.422600</td>\n",
       "      <td>17382</td>\n",
       "    </tr>\n",
       "    <tr>\n",
       "      <th>ENSG00000284596</th>\n",
       "      <td>158.655000</td>\n",
       "      <td>17382</td>\n",
       "    </tr>\n",
       "    <tr>\n",
       "      <th>ENSG00000284600</th>\n",
       "      <td>5818.659996</td>\n",
       "      <td>17382</td>\n",
       "    </tr>\n",
       "  </tbody>\n",
       "</table>\n",
       "<p>56156 rows × 2 columns</p>\n",
       "</div>"
      ]
     },
     "execution_count": 41,
     "metadata": {},
     "output_type": "execute_result"
    }
   ],
   "execution_count": 41
  },
  {
   "metadata": {
    "ExecuteTime": {
     "end_time": "2024-09-11T13:19:32.109335Z",
     "start_time": "2024-09-11T13:19:32.100623Z"
    }
   },
   "cell_type": "code",
   "source": [
    "df_mean['tpm'] = df_mean['sum']/df_mean['count']\n",
    "df_mean = df_mean.drop(columns=['sum', 'count'])"
   ],
   "id": "e76725807a4dcd86",
   "outputs": [
    {
     "data": {
      "text/plain": [
       "                       tpm\n",
       "id                        \n",
       "ENSG00000000003  15.765183\n",
       "ENSG00000000005   3.568990\n",
       "ENSG00000000419  48.419258\n",
       "ENSG00000000457   5.825362\n",
       "ENSG00000000460   2.375547\n",
       "...                    ...\n",
       "ENSG00000284592   0.001569\n",
       "ENSG00000284594   0.005088\n",
       "ENSG00000284595   0.444162\n",
       "ENSG00000284596   0.009128\n",
       "ENSG00000284600   0.334752\n",
       "\n",
       "[56156 rows x 1 columns]"
      ],
      "text/html": [
       "<div>\n",
       "<style scoped>\n",
       "    .dataframe tbody tr th:only-of-type {\n",
       "        vertical-align: middle;\n",
       "    }\n",
       "\n",
       "    .dataframe tbody tr th {\n",
       "        vertical-align: top;\n",
       "    }\n",
       "\n",
       "    .dataframe thead th {\n",
       "        text-align: right;\n",
       "    }\n",
       "</style>\n",
       "<table border=\"1\" class=\"dataframe\">\n",
       "  <thead>\n",
       "    <tr style=\"text-align: right;\">\n",
       "      <th></th>\n",
       "      <th>tpm</th>\n",
       "    </tr>\n",
       "    <tr>\n",
       "      <th>id</th>\n",
       "      <th></th>\n",
       "    </tr>\n",
       "  </thead>\n",
       "  <tbody>\n",
       "    <tr>\n",
       "      <th>ENSG00000000003</th>\n",
       "      <td>15.765183</td>\n",
       "    </tr>\n",
       "    <tr>\n",
       "      <th>ENSG00000000005</th>\n",
       "      <td>3.568990</td>\n",
       "    </tr>\n",
       "    <tr>\n",
       "      <th>ENSG00000000419</th>\n",
       "      <td>48.419258</td>\n",
       "    </tr>\n",
       "    <tr>\n",
       "      <th>ENSG00000000457</th>\n",
       "      <td>5.825362</td>\n",
       "    </tr>\n",
       "    <tr>\n",
       "      <th>ENSG00000000460</th>\n",
       "      <td>2.375547</td>\n",
       "    </tr>\n",
       "    <tr>\n",
       "      <th>...</th>\n",
       "      <td>...</td>\n",
       "    </tr>\n",
       "    <tr>\n",
       "      <th>ENSG00000284592</th>\n",
       "      <td>0.001569</td>\n",
       "    </tr>\n",
       "    <tr>\n",
       "      <th>ENSG00000284594</th>\n",
       "      <td>0.005088</td>\n",
       "    </tr>\n",
       "    <tr>\n",
       "      <th>ENSG00000284595</th>\n",
       "      <td>0.444162</td>\n",
       "    </tr>\n",
       "    <tr>\n",
       "      <th>ENSG00000284596</th>\n",
       "      <td>0.009128</td>\n",
       "    </tr>\n",
       "    <tr>\n",
       "      <th>ENSG00000284600</th>\n",
       "      <td>0.334752</td>\n",
       "    </tr>\n",
       "  </tbody>\n",
       "</table>\n",
       "<p>56156 rows × 1 columns</p>\n",
       "</div>"
      ]
     },
     "execution_count": 42,
     "metadata": {},
     "output_type": "execute_result"
    }
   ],
   "execution_count": 42
  },
  {
   "metadata": {},
   "cell_type": "markdown",
   "source": "## Save final file",
   "id": "37c954afab5aab4a"
  },
  {
   "metadata": {
    "ExecuteTime": {
     "end_time": "2024-09-11T13:21:09.993083Z",
     "start_time": "2024-09-11T13:21:09.898080Z"
    }
   },
   "cell_type": "code",
   "source": [
    "df_mean.to_csv(\"../processed_data/GTEX_healthy_mean.csv\")\n",
    "print(f'There are {df_mean.shape[0]} genes in the final file')"
   ],
   "id": "848869f23fb845ec",
   "outputs": [],
   "execution_count": 44
  }
 ],
 "metadata": {
  "kernelspec": {
   "display_name": "Python 3",
   "language": "python",
   "name": "python3"
  },
  "language_info": {
   "codemirror_mode": {
    "name": "ipython",
    "version": 2
   },
   "file_extension": ".py",
   "mimetype": "text/x-python",
   "name": "python",
   "nbconvert_exporter": "python",
   "pygments_lexer": "ipython2",
   "version": "2.7.6"
  }
 },
 "nbformat": 4,
 "nbformat_minor": 5
}
